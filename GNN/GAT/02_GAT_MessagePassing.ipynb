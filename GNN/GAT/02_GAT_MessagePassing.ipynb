{
 "cells": [
  {
   "cell_type": "markdown",
   "id": "f39c5072",
   "metadata": {},
   "source": [
    "#  Graph attention networks (GAT) implementation\n",
    "- https://www.youtube.com/watch?v=A-yKQamf2Fc [Understanding Graph Attention Networks]\n",
    "- https://www.youtube.com/watch?v=CwsPoa7z2c8 [Pytorch Geometric tutorial: Graph attention networks (GAT) implementation]\n",
    "- https://github.com/AntonioLonga/PytorchGeometricTutorial/blob/main/Tutorial3/Tutorial3.ipynb\n",
    "- https://github.com/rish-16/pytorch-graphdl/blob/main/gat/layers.py\n",
    "- https://github.com/rish-16/gin-attn-conv-pytorch/blob/main/gin_attn_pytorch/gin_attn_conv.py\n",
    "- https://arxiv.org/abs/1710.10903"
   ]
  },
  {
   "cell_type": "code",
   "execution_count": 139,
   "id": "cc10487c",
   "metadata": {},
   "outputs": [],
   "source": [
    "import torch\n",
    "from torch import nn as tnn \n",
    "from torch_geometric import nn as gnn\n",
    "from torch_geometric.utils import add_self_loops, degree, softmax\n",
    "from torch_scatter import scatter\n",
    "from torch_geometric.data import Data\n",
    "from loguru import logger"
   ]
  },
  {
   "cell_type": "code",
   "execution_count": 9,
   "id": "9377f252",
   "metadata": {},
   "outputs": [],
   "source": [
    "import networkx as nx\n",
    "import numpy as np\n",
    "import matplotlib.pyplot as plt"
   ]
  },
  {
   "cell_type": "code",
   "execution_count": 8,
   "id": "75540b89",
   "metadata": {},
   "outputs": [
    {
     "data": {
      "text/plain": [
       "Data(x=[3, 1], edge_index=[2, 4])"
      ]
     },
     "execution_count": 8,
     "metadata": {},
     "output_type": "execute_result"
    }
   ],
   "source": [
    "edge_index = torch.tensor([[0, 1],\n",
    "                           [1, 0],\n",
    "                           [1, 2],\n",
    "                           [2, 1]], dtype=torch.long)\n",
    "x = torch.tensor([[-1], [0], [1]], dtype=torch.float)\n",
    "\n",
    "data = Data(x=x, edge_index=edge_index.t().contiguous())\n",
    "data"
   ]
  },
  {
   "cell_type": "code",
   "execution_count": 12,
   "id": "3661f27f",
   "metadata": {},
   "outputs": [
    {
     "data": {
      "image/png": "[encoded data removed]",
      "text/plain": [
       "<Figure size 432x288 with 1 Axes>"
      ]
     },
     "metadata": {},
     "output_type": "display_data"
    }
   ],
   "source": [
    "edges = edge_index.numpy()\n",
    "\n",
    "G = nx.Graph()\n",
    "G.add_edges_from(edges)\n",
    "nx.draw_networkx(G, with_labels=False, node_size=20)"
   ]
  },
  {
   "cell_type": "markdown",
   "id": "c9c3dfa9",
   "metadata": {},
   "source": [
    "## Dummy GAT Layer\n",
    "- Was possible due to following resources\n",
    "    - https://pytorch-geometric.readthedocs.io/en/latest/_modules/torch_geometric/nn/conv/gat_conv.html#GATConv"
   ]
  },
  {
   "cell_type": "code",
   "execution_count": 216,
   "id": "ffd60233",
   "metadata": {},
   "outputs": [],
   "source": [
    "class DummyGATLayer(gnn.MessagePassing):\n",
    "    def __init__(self, in_channels=2, out_channels=4):\n",
    "        super().__init__(aggr='add')\n",
    "        \n",
    "        self.linear1 = tnn.Linear(in_features=in_channels, out_features=out_channels)\n",
    "        self.attn_linear = tnn.Linear(in_features=2*out_channels, out_features=1)\n",
    "        \n",
    "        self.leaky_relu = tnn.LeakyReLU(negative_slope=0.2)\n",
    "        \n",
    "    def forward(self, x , edge_index, edge_attrs=None):\n",
    "        \n",
    "        edge_index, _  = add_self_loops(edge_index, num_nodes=x.shape[0])\n",
    "        h = self.linear1(x)\n",
    "        logger.info(f\"|after linear layer {h.shape}|\") \n",
    "\n",
    "        out = self.propagate(edge_index, x=x, h=h)\n",
    "        # the propagate calls \n",
    "           # - message\n",
    "           # - aggregate\n",
    "           # - update\n",
    "        return out\n",
    "    \n",
    "    def message(self, h_i, h_j, edge_index, index):\n",
    "        \n",
    "#         src_node_idx, dst_node_idx = edge_index\n",
    "#         logger.info(src_node_idx)\n",
    "#         logger.info(dst_node_idx)\n",
    "\n",
    "#         logger.info(x_i.shape)\n",
    "#         logger.info(x_j.shape)\n",
    "        logger.info(\"*\"*50)\n",
    "        logger.info(h_i.shape)\n",
    "        logger.info(h_j.shape)\n",
    "        \n",
    "        # Here we Concat the src node embeds and dst node embeds/features\n",
    "        cat = torch.cat([h_i, h_j], dim=1) # [7, 4]\n",
    "        \n",
    "        logger.info(\"Concat\" + \"*\"*50)\n",
    "        logger.info(cat.shape)\n",
    "#         logger.info(cat)\n",
    "        \n",
    "#         now need to pass this concat feature to the feed-forward layer to get attention score\n",
    "        e_j = self.attn_linear(cat)   # [7, 1]\n",
    "        logger.info(\"e_J\" + \"*\"*50)\n",
    "        logger.info(e_j)\n",
    "        logger.info(e_j.shape) \n",
    "        \n",
    "        logger.info(f\"Node index passed {index}\") # dst node idx\n",
    "        alphas = softmax(self.leaky_relu(e_j), index=index) # performs softmax with the neighbouring nodes.\n",
    "        logger.info(alphas.shape)\n",
    "        logger.info(f\"Attention coefficient are : {alphas}\")\n",
    "        # lets check if the sum is 1 or not for each nodes\n",
    "        sum_of_node_attn_score = scatter(alphas, index, dim=0, reduce='sum')\n",
    "        logger.info(f\"Sum are : {sum_of_node_attn_score}\")\n",
    "        logger.info(\"*\"*50)\n",
    "       \n",
    "            \n",
    "        msg = alphas * h_j\n",
    "        logger.info(msg.shape)\n",
    "        logger.info(msg)\n",
    "        logger.info(\"*\"*50)\n",
    "\n",
    "        return msg\n",
    "        \n",
    "    def update(self, aggr_out, x):\n",
    "        logger.info(x)\n",
    "        logger.info(aggr_out)\n",
    "        return aggr_out\n",
    "\n",
    "# class DummyGATLayer(gnn.MessagePassing):\n",
    "#     def __init__(self, in_channels=1, out_channels=2):\n",
    "#         super().__init__(aggr='add')\n",
    "        \n",
    "#         self.linear1 = tnn.Linear(in_features=in_channels, out_features=out_channels)\n",
    "#         self.attn_linear = tnn.Linear(in_features=2*out_channels, out_features=1)\n",
    "        \n",
    "#         self.leaky_relu = tnn.LeakyReLU(negative_slope=0.2)\n",
    "        \n",
    "#     def forward(self, x , edge_index, edge_attrs=None):\n",
    "        \n",
    "#         edge_index, _  = add_self_loops(edge_index, num_nodes=x.shape[0])\n",
    "#         h = self.linear1(x)\n",
    "#         out = self.propagate(edge_index, x=x, h=h)\n",
    "#         return out\n",
    "    \n",
    "#     def message(self, h_i, h_j, edge_index, index):\n",
    "                \n",
    "#         # Here we Concat the src node embeds and dst node embeds/features\n",
    "#         cat = torch.cat([h_i, h_j], dim=1) # [num_nodes, 2 * out_channels]\n",
    "               \n",
    "#         # now need to pass this concat feature to the feed-forward layer to get attention score\n",
    "#         e_j = self.attn_linear(cat) # [num_nodes, 1]\n",
    "#         alphas = softmax(self.leaky_relu(e_j), index=index) # performs softmax with the neighboring nodes.       \n",
    "            \n",
    "#         msg = alphas * h_j\n",
    "\n",
    "#         return msg"
   ]
  },
  {
   "cell_type": "code",
   "execution_count": 217,
   "id": "a49c7d47",
   "metadata": {},
   "outputs": [],
   "source": [
    "torch.manual_seed(42)\n",
    "dummy_gat = DummyGATLayer(in_channels=1, out_channels=2)"
   ]
  },
  {
   "cell_type": "code",
   "execution_count": 218,
   "id": "4257e3ea",
   "metadata": {},
   "outputs": [
    {
     "name": "stderr",
     "output_type": "stream",
     "text": [
      "2022-03-08 01:19:37.609 | INFO     | __main__:forward:14 - |after linear layer torch.Size([3, 2])|\n",
      "2022-03-08 01:19:37.611 | INFO     | __main__:message:31 - **************************************************\n",
      "2022-03-08 01:19:37.611 | INFO     | __main__:message:32 - torch.Size([7, 2])\n",
      "2022-03-08 01:19:37.612 | INFO     | __main__:message:33 - torch.Size([7, 2])\n",
      "2022-03-08 01:19:37.612 | INFO     | __main__:message:38 - Concat**************************************************\n",
      "2022-03-08 01:19:37.613 | INFO     | __main__:message:39 - torch.Size([7, 4])\n",
      "2022-03-08 01:19:37.614 | INFO     | __main__:message:44 - e_J**************************************************\n",
      "2022-03-08 01:19:37.614 | INFO     | __main__:message:45 - tensor([[0.8283],\n",
      "        [0.8859],\n",
      "        [0.8859],\n",
      "        [0.9435],\n",
      "        [0.8283],\n",
      "        [0.8859],\n",
      "        [0.9435]], grad_fn=<AddmmBackward>)\n",
      "2022-03-08 01:19:37.616 | INFO     | __main__:message:46 - torch.Size([7, 1])\n",
      "2022-03-08 01:19:37.618 | INFO     | __main__:message:48 - Node index passed tensor([1, 0, 2, 1, 0, 1, 2])\n",
      "2022-03-08 01:19:37.619 | INFO     | __main__:message:50 - torch.Size([7, 1])\n",
      "2022-03-08 01:19:37.622 | INFO     | __main__:message:51 - Attention coefficient are : tensor([[0.3143],\n",
      "        [0.5144],\n",
      "        [0.4856],\n",
      "        [0.3527],\n",
      "        [0.4856],\n",
      "        [0.3330],\n",
      "        [0.5144]], grad_fn=<DifferentiableGraphBackward>)\n",
      "2022-03-08 01:19:37.628 | INFO     | __main__:message:54 - Sum are : tensor([[1.],\n",
      "        [1.],\n",
      "        [1.]], grad_fn=<ScatterAddBackward>)\n",
      "2022-03-08 01:19:37.629 | INFO     | __main__:message:55 - **************************************************\n",
      "2022-03-08 01:19:37.631 | INFO     | __main__:message:59 - torch.Size([7, 2])\n",
      "2022-03-08 01:19:37.633 | INFO     | __main__:message:60 - tensor([[-0.3139,  0.0279],\n",
      "        [-0.1205,  0.4725],\n",
      "        [-0.1138,  0.4461],\n",
      "        [ 0.1870,  0.6168],\n",
      "        [-0.4850,  0.0430],\n",
      "        [-0.0780,  0.3059],\n",
      "        [ 0.2728,  0.8995]], grad_fn=<MulBackward0>)\n",
      "2022-03-08 01:19:37.636 | INFO     | __main__:message:61 - **************************************************\n",
      "2022-03-08 01:19:37.639 | INFO     | __main__:update:66 - tensor([[-1.],\n",
      "        [ 0.],\n",
      "        [ 1.]])\n",
      "2022-03-08 01:19:37.641 | INFO     | __main__:update:67 - tensor([[-0.6055,  0.5156],\n",
      "        [-0.2049,  0.9505],\n",
      "        [ 0.1590,  1.3456]], grad_fn=<ScatterAddBackward>)\n"
     ]
    },
    {
     "data": {
      "text/plain": [
       "tensor([[-0.6055,  0.5156],\n",
       "        [-0.2049,  0.9505],\n",
       "        [ 0.1590,  1.3456]], grad_fn=<ScatterAddBackward>)"
      ]
     },
     "execution_count": 218,
     "metadata": {},
     "output_type": "execute_result"
    }
   ],
   "source": [
    "dummy_gat(data.x, data.edge_index)"
   ]
  },
  {
   "cell_type": "code",
   "execution_count": 215,
   "id": "ea650fa3",
   "metadata": {},
   "outputs": [
    {
     "name": "stdout",
     "output_type": "stream",
     "text": [
      "tensor([[ 0.1206, -0.1111],\n",
      "        [-0.0583,  0.0537],\n",
      "        [-0.1619,  0.1491]], grad_fn=<AsStridedBackward>)\n"
     ]
    },
    {
     "data": {
      "text/plain": [
       "tensor([[0.3252, 0.0464],\n",
       "        [0.9134, 0.1730],\n",
       "        [1.2485, 0.2452]], grad_fn=<ScatterAddBackward>)"
      ]
     },
     "execution_count": 215,
     "metadata": {},
     "output_type": "execute_result"
    }
   ],
   "source": [
    "torch.manual_seed(42)\n",
    "\n",
    "\n",
    "gat_pyg = gnn.GATConv(1, 2)\n",
    "\n",
    "print(gat_pyg(data.x, data.edge_index))\n",
    "\n",
    "dummy_gat = DummyGATLayer(in_channels=1, out_channels=2)\n",
    "dummy_gat(data.x, data.edge_index)"
   ]
  }
 ],
 "metadata": {
  "kernelspec": {
   "display_name": "Python 3 (ipykernel)",
   "language": "python",
   "name": "python3"
  },
  "language_info": {
   "codemirror_mode": {
    "name": "ipython",
    "version": 3
   },
   "file_extension": ".py",
   "mimetype": "text/x-python",
   "name": "python",
   "nbconvert_exporter": "python",
   "pygments_lexer": "ipython3",
   "version": "3.8.5"
  }
 },
 "nbformat": 4,
 "nbformat_minor": 5
}
