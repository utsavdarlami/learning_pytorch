{
 "cells": [
  {
   "cell_type": "markdown",
   "id": "bigger-pastor",
   "metadata": {},
   "source": [
    "# Einsum\n",
    "\n",
    "## Resources \n",
    "\n",
    "### Article\n",
    "- In depth https://obilaniu6266h16.wordpress.com/2016/02/04/einstein-summation-in-numpy/\n",
    "- For pytorch - https://rockt.github.io/2018/04/30/einsum\n",
    "\n",
    "### Video\n",
    "- https://www.youtube.com/watch?v=pkVwUVEHmfI&list=PLhhyoLH6IjfxeoooqP9rhU3HJIAVAJ3Vz&index=31"
   ]
  },
  {
   "cell_type": "markdown",
   "id": "ambient-assist",
   "metadata": {},
   "source": [
    "### Notes\n",
    "\n",
    "\n",
    "- **Free indices** are the indices used in the output specification. They are associated with the outer for-loops.\n",
    "    \n",
    "- **Summation indices** are all other indices: those that appear in the argument specifications but not in the output specification. They are so called because they are summed out when computing the output tensor. They are associated with the inner for-loops.\n",
    "\n",
    "***Free indices*** *are those used to iterate over every output element, while **summation indices** are those used to compute and sum over the product terms required.*    1301060001724923\n"
   ]
  },
  {
   "cell_type": "code",
   "execution_count": 2,
   "id": "fifteen-minneapolis",
   "metadata": {},
   "outputs": [
    {
     "data": {
      "text/plain": [
       "'1.7.1'"
      ]
     },
     "execution_count": 2,
     "metadata": {},
     "output_type": "execute_result"
    }
   ],
   "source": [
    "import torch\n",
    "torch.__version__"
   ]
  },
  {
   "cell_type": "code",
   "execution_count": 12,
   "id": "vietnamese-paraguay",
   "metadata": {},
   "outputs": [
    {
     "data": {
      "text/plain": [
       "tensor([[3, 4, 5],\n",
       "        [6, 7, 8]])"
      ]
     },
     "execution_count": 12,
     "metadata": {},
     "output_type": "execute_result"
    }
   ],
   "source": [
    "a = torch.arange(3,9).reshape(2,3)\n",
    "a"
   ]
  },
  {
   "cell_type": "code",
   "execution_count": 14,
   "id": "genetic-mouth",
   "metadata": {},
   "outputs": [
    {
     "data": {
      "text/plain": [
       "tensor([ 9, 11, 13])"
      ]
     },
     "execution_count": 14,
     "metadata": {},
     "output_type": "execute_result"
    }
   ],
   "source": [
    "row_sum = torch.einsum(\"ij->j\",a)\n",
    "row_sum"
   ]
  },
  {
   "cell_type": "code",
   "execution_count": 15,
   "id": "exact-ancient",
   "metadata": {},
   "outputs": [
    {
     "data": {
      "text/plain": [
       "tensor([12, 21])"
      ]
     },
     "execution_count": 15,
     "metadata": {},
     "output_type": "execute_result"
    }
   ],
   "source": [
    "col_sum = torch.einsum(\"ij->i\",a)\n",
    "col_sum"
   ]
  }
 ],
 "metadata": {
  "kernelspec": {
   "display_name": "Python 3",
   "language": "python",
   "name": "python3"
  },
  "language_info": {
   "codemirror_mode": {
    "name": "ipython",
    "version": 3
   },
   "file_extension": ".py",
   "mimetype": "text/x-python",
   "name": "python",
   "nbconvert_exporter": "python",
   "pygments_lexer": "ipython3",
   "version": "3.8.5"
  }
 },
 "nbformat": 4,
 "nbformat_minor": 5
}
