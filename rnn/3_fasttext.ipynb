{
  "nbformat": 4,
  "nbformat_minor": 0,
  "metadata": {
    "kernelspec": {
      "display_name": "Python 3",
      "language": "python",
      "name": "python3"
    },
    "language_info": {
      "codemirror_mode": {
        "name": "ipython",
        "version": 3
      },
      "file_extension": ".py",
      "mimetype": "text/x-python",
      "name": "python",
      "nbconvert_exporter": "python",
      "pygments_lexer": "ipython3",
      "version": "3.8.5"
    },
    "colab": {
      "name": "3_fasttext.ipynb",
      "provenance": [],
      "collapsed_sections": []
    },
    "accelerator": "GPU",
    "widgets": {
      "application/vnd.jupyter.widget-state+json": {
        "a6f7cd6a88504c4cb8cdaae0efe6f748": {
          "model_module": "@jupyter-widgets/controls",
          "model_name": "HBoxModel",
          "state": {
            "_view_name": "HBoxView",
            "_dom_classes": [],
            "_model_name": "HBoxModel",
            "_view_module": "@jupyter-widgets/controls",
            "_model_module_version": "1.5.0",
            "_view_count": null,
            "_view_module_version": "1.5.0",
            "box_style": "",
            "layout": "IPY_MODEL_f922e150b20542e4b524971e95ed6409",
            "_model_module": "@jupyter-widgets/controls",
            "children": [
              "IPY_MODEL_c88107bf353442b492d453340940579d",
              "IPY_MODEL_e2f5cf03fb3d438d89d4e27872e18821"
            ]
          }
        },
        "f922e150b20542e4b524971e95ed6409": {
          "model_module": "@jupyter-widgets/base",
          "model_name": "LayoutModel",
          "state": {
            "_view_name": "LayoutView",
            "grid_template_rows": null,
            "right": null,
            "justify_content": null,
            "_view_module": "@jupyter-widgets/base",
            "overflow": null,
            "_model_module_version": "1.2.0",
            "_view_count": null,
            "flex_flow": null,
            "width": null,
            "min_width": null,
            "border": null,
            "align_items": null,
            "bottom": null,
            "_model_module": "@jupyter-widgets/base",
            "top": null,
            "grid_column": null,
            "overflow_y": null,
            "overflow_x": null,
            "grid_auto_flow": null,
            "grid_area": null,
            "grid_template_columns": null,
            "flex": null,
            "_model_name": "LayoutModel",
            "justify_items": null,
            "grid_row": null,
            "max_height": null,
            "align_content": null,
            "visibility": null,
            "align_self": null,
            "height": null,
            "min_height": null,
            "padding": null,
            "grid_auto_rows": null,
            "grid_gap": null,
            "max_width": null,
            "order": null,
            "_view_module_version": "1.2.0",
            "grid_template_areas": null,
            "object_position": null,
            "object_fit": null,
            "grid_auto_columns": null,
            "margin": null,
            "display": null,
            "left": null
          }
        },
        "c88107bf353442b492d453340940579d": {
          "model_module": "@jupyter-widgets/controls",
          "model_name": "FloatProgressModel",
          "state": {
            "_view_name": "ProgressView",
            "style": "IPY_MODEL_4d5eec2eba834c9f90ff35cff5e8d7c5",
            "_dom_classes": [],
            "description": "Epoch [1/5]: 100%",
            "_model_name": "FloatProgressModel",
            "bar_style": "success",
            "max": 633,
            "_view_module": "@jupyter-widgets/controls",
            "_model_module_version": "1.5.0",
            "value": 633,
            "_view_count": null,
            "_view_module_version": "1.5.0",
            "orientation": "horizontal",
            "min": 0,
            "description_tooltip": null,
            "_model_module": "@jupyter-widgets/controls",
            "layout": "IPY_MODEL_7f9088c75c1b4cbe96a6c219dd8cb63f"
          }
        },
        "e2f5cf03fb3d438d89d4e27872e18821": {
          "model_module": "@jupyter-widgets/controls",
          "model_name": "HTMLModel",
          "state": {
            "_view_name": "HTMLView",
            "style": "IPY_MODEL_587e7a69b0984b1ca1f22f5977c0ac36",
            "_dom_classes": [],
            "description": "",
            "_model_name": "HTMLModel",
            "placeholder": "​",
            "_view_module": "@jupyter-widgets/controls",
            "_model_module_version": "1.5.0",
            "value": " 633/633 [02:47&lt;00:00,  3.78it/s, loss=0.319, train_acc=0.859, val_acc=0.897, val_loss=0.257]",
            "_view_count": null,
            "_view_module_version": "1.5.0",
            "description_tooltip": null,
            "_model_module": "@jupyter-widgets/controls",
            "layout": "IPY_MODEL_646f0747dd5c40848013fed8f090bb11"
          }
        },
        "4d5eec2eba834c9f90ff35cff5e8d7c5": {
          "model_module": "@jupyter-widgets/controls",
          "model_name": "ProgressStyleModel",
          "state": {
            "_view_name": "StyleView",
            "_model_name": "ProgressStyleModel",
            "description_width": "initial",
            "_view_module": "@jupyter-widgets/base",
            "_model_module_version": "1.5.0",
            "_view_count": null,
            "_view_module_version": "1.2.0",
            "bar_color": null,
            "_model_module": "@jupyter-widgets/controls"
          }
        },
        "7f9088c75c1b4cbe96a6c219dd8cb63f": {
          "model_module": "@jupyter-widgets/base",
          "model_name": "LayoutModel",
          "state": {
            "_view_name": "LayoutView",
            "grid_template_rows": null,
            "right": null,
            "justify_content": null,
            "_view_module": "@jupyter-widgets/base",
            "overflow": null,
            "_model_module_version": "1.2.0",
            "_view_count": null,
            "flex_flow": null,
            "width": null,
            "min_width": null,
            "border": null,
            "align_items": null,
            "bottom": null,
            "_model_module": "@jupyter-widgets/base",
            "top": null,
            "grid_column": null,
            "overflow_y": null,
            "overflow_x": null,
            "grid_auto_flow": null,
            "grid_area": null,
            "grid_template_columns": null,
            "flex": null,
            "_model_name": "LayoutModel",
            "justify_items": null,
            "grid_row": null,
            "max_height": null,
            "align_content": null,
            "visibility": null,
            "align_self": null,
            "height": null,
            "min_height": null,
            "padding": null,
            "grid_auto_rows": null,
            "grid_gap": null,
            "max_width": null,
            "order": null,
            "_view_module_version": "1.2.0",
            "grid_template_areas": null,
            "object_position": null,
            "object_fit": null,
            "grid_auto_columns": null,
            "margin": null,
            "display": null,
            "left": null
          }
        },
        "587e7a69b0984b1ca1f22f5977c0ac36": {
          "model_module": "@jupyter-widgets/controls",
          "model_name": "DescriptionStyleModel",
          "state": {
            "_view_name": "StyleView",
            "_model_name": "DescriptionStyleModel",
            "description_width": "",
            "_view_module": "@jupyter-widgets/base",
            "_model_module_version": "1.5.0",
            "_view_count": null,
            "_view_module_version": "1.2.0",
            "_model_module": "@jupyter-widgets/controls"
          }
        },
        "646f0747dd5c40848013fed8f090bb11": {
          "model_module": "@jupyter-widgets/base",
          "model_name": "LayoutModel",
          "state": {
            "_view_name": "LayoutView",
            "grid_template_rows": null,
            "right": null,
            "justify_content": null,
            "_view_module": "@jupyter-widgets/base",
            "overflow": null,
            "_model_module_version": "1.2.0",
            "_view_count": null,
            "flex_flow": null,
            "width": null,
            "min_width": null,
            "border": null,
            "align_items": null,
            "bottom": null,
            "_model_module": "@jupyter-widgets/base",
            "top": null,
            "grid_column": null,
            "overflow_y": null,
            "overflow_x": null,
            "grid_auto_flow": null,
            "grid_area": null,
            "grid_template_columns": null,
            "flex": null,
            "_model_name": "LayoutModel",
            "justify_items": null,
            "grid_row": null,
            "max_height": null,
            "align_content": null,
            "visibility": null,
            "align_self": null,
            "height": null,
            "min_height": null,
            "padding": null,
            "grid_auto_rows": null,
            "grid_gap": null,
            "max_width": null,
            "order": null,
            "_view_module_version": "1.2.0",
            "grid_template_areas": null,
            "object_position": null,
            "object_fit": null,
            "grid_auto_columns": null,
            "margin": null,
            "display": null,
            "left": null
          }
        },
        "73e4714c0efd468085481b6022e7ef60": {
          "model_module": "@jupyter-widgets/controls",
          "model_name": "HBoxModel",
          "state": {
            "_view_name": "HBoxView",
            "_dom_classes": [],
            "_model_name": "HBoxModel",
            "_view_module": "@jupyter-widgets/controls",
            "_model_module_version": "1.5.0",
            "_view_count": null,
            "_view_module_version": "1.5.0",
            "box_style": "",
            "layout": "IPY_MODEL_5320c20334454cedb32c6aa8e5a329bb",
            "_model_module": "@jupyter-widgets/controls",
            "children": [
              "IPY_MODEL_8004fd69de31458d84fb53833aa16d79",
              "IPY_MODEL_c28415ee26244e07b5aa86b1ae0b196f"
            ]
          }
        },
        "5320c20334454cedb32c6aa8e5a329bb": {
          "model_module": "@jupyter-widgets/base",
          "model_name": "LayoutModel",
          "state": {
            "_view_name": "LayoutView",
            "grid_template_rows": null,
            "right": null,
            "justify_content": null,
            "_view_module": "@jupyter-widgets/base",
            "overflow": null,
            "_model_module_version": "1.2.0",
            "_view_count": null,
            "flex_flow": null,
            "width": null,
            "min_width": null,
            "border": null,
            "align_items": null,
            "bottom": null,
            "_model_module": "@jupyter-widgets/base",
            "top": null,
            "grid_column": null,
            "overflow_y": null,
            "overflow_x": null,
            "grid_auto_flow": null,
            "grid_area": null,
            "grid_template_columns": null,
            "flex": null,
            "_model_name": "LayoutModel",
            "justify_items": null,
            "grid_row": null,
            "max_height": null,
            "align_content": null,
            "visibility": null,
            "align_self": null,
            "height": null,
            "min_height": null,
            "padding": null,
            "grid_auto_rows": null,
            "grid_gap": null,
            "max_width": null,
            "order": null,
            "_view_module_version": "1.2.0",
            "grid_template_areas": null,
            "object_position": null,
            "object_fit": null,
            "grid_auto_columns": null,
            "margin": null,
            "display": null,
            "left": null
          }
        },
        "8004fd69de31458d84fb53833aa16d79": {
          "model_module": "@jupyter-widgets/controls",
          "model_name": "FloatProgressModel",
          "state": {
            "_view_name": "ProgressView",
            "style": "IPY_MODEL_268a7b679d0748feb348c07ca4b57ffc",
            "_dom_classes": [],
            "description": "Epoch [2/5]: 100%",
            "_model_name": "FloatProgressModel",
            "bar_style": "success",
            "max": 633,
            "_view_module": "@jupyter-widgets/controls",
            "_model_module_version": "1.5.0",
            "value": 633,
            "_view_count": null,
            "_view_module_version": "1.5.0",
            "orientation": "horizontal",
            "min": 0,
            "description_tooltip": null,
            "_model_module": "@jupyter-widgets/controls",
            "layout": "IPY_MODEL_f6c6adf1c9b14870841fb243a7c7e4e6"
          }
        },
        "c28415ee26244e07b5aa86b1ae0b196f": {
          "model_module": "@jupyter-widgets/controls",
          "model_name": "HTMLModel",
          "state": {
            "_view_name": "HTMLView",
            "style": "IPY_MODEL_8666bbfbd2e442a485dba790280692da",
            "_dom_classes": [],
            "description": "",
            "_model_name": "HTMLModel",
            "placeholder": "​",
            "_view_module": "@jupyter-widgets/controls",
            "_model_module_version": "1.5.0",
            "value": " 633/633 [00:21&lt;00:00, 29.88it/s, loss=0.116, train_acc=0.969, val_acc=0.907, val_loss=0.234]",
            "_view_count": null,
            "_view_module_version": "1.5.0",
            "description_tooltip": null,
            "_model_module": "@jupyter-widgets/controls",
            "layout": "IPY_MODEL_10c2c64ab6d441eb98a1011fd2dc0594"
          }
        },
        "268a7b679d0748feb348c07ca4b57ffc": {
          "model_module": "@jupyter-widgets/controls",
          "model_name": "ProgressStyleModel",
          "state": {
            "_view_name": "StyleView",
            "_model_name": "ProgressStyleModel",
            "description_width": "initial",
            "_view_module": "@jupyter-widgets/base",
            "_model_module_version": "1.5.0",
            "_view_count": null,
            "_view_module_version": "1.2.0",
            "bar_color": null,
            "_model_module": "@jupyter-widgets/controls"
          }
        },
        "f6c6adf1c9b14870841fb243a7c7e4e6": {
          "model_module": "@jupyter-widgets/base",
          "model_name": "LayoutModel",
          "state": {
            "_view_name": "LayoutView",
            "grid_template_rows": null,
            "right": null,
            "justify_content": null,
            "_view_module": "@jupyter-widgets/base",
            "overflow": null,
            "_model_module_version": "1.2.0",
            "_view_count": null,
            "flex_flow": null,
            "width": null,
            "min_width": null,
            "border": null,
            "align_items": null,
            "bottom": null,
            "_model_module": "@jupyter-widgets/base",
            "top": null,
            "grid_column": null,
            "overflow_y": null,
            "overflow_x": null,
            "grid_auto_flow": null,
            "grid_area": null,
            "grid_template_columns": null,
            "flex": null,
            "_model_name": "LayoutModel",
            "justify_items": null,
            "grid_row": null,
            "max_height": null,
            "align_content": null,
            "visibility": null,
            "align_self": null,
            "height": null,
            "min_height": null,
            "padding": null,
            "grid_auto_rows": null,
            "grid_gap": null,
            "max_width": null,
            "order": null,
            "_view_module_version": "1.2.0",
            "grid_template_areas": null,
            "object_position": null,
            "object_fit": null,
            "grid_auto_columns": null,
            "margin": null,
            "display": null,
            "left": null
          }
        },
        "8666bbfbd2e442a485dba790280692da": {
          "model_module": "@jupyter-widgets/controls",
          "model_name": "DescriptionStyleModel",
          "state": {
            "_view_name": "StyleView",
            "_model_name": "DescriptionStyleModel",
            "description_width": "",
            "_view_module": "@jupyter-widgets/base",
            "_model_module_version": "1.5.0",
            "_view_count": null,
            "_view_module_version": "1.2.0",
            "_model_module": "@jupyter-widgets/controls"
          }
        },
        "10c2c64ab6d441eb98a1011fd2dc0594": {
          "model_module": "@jupyter-widgets/base",
          "model_name": "LayoutModel",
          "state": {
            "_view_name": "LayoutView",
            "grid_template_rows": null,
            "right": null,
            "justify_content": null,
            "_view_module": "@jupyter-widgets/base",
            "overflow": null,
            "_model_module_version": "1.2.0",
            "_view_count": null,
            "flex_flow": null,
            "width": null,
            "min_width": null,
            "border": null,
            "align_items": null,
            "bottom": null,
            "_model_module": "@jupyter-widgets/base",
            "top": null,
            "grid_column": null,
            "overflow_y": null,
            "overflow_x": null,
            "grid_auto_flow": null,
            "grid_area": null,
            "grid_template_columns": null,
            "flex": null,
            "_model_name": "LayoutModel",
            "justify_items": null,
            "grid_row": null,
            "max_height": null,
            "align_content": null,
            "visibility": null,
            "align_self": null,
            "height": null,
            "min_height": null,
            "padding": null,
            "grid_auto_rows": null,
            "grid_gap": null,
            "max_width": null,
            "order": null,
            "_view_module_version": "1.2.0",
            "grid_template_areas": null,
            "object_position": null,
            "object_fit": null,
            "grid_auto_columns": null,
            "margin": null,
            "display": null,
            "left": null
          }
        },
        "c370271c5af4436db511def6fa5ce460": {
          "model_module": "@jupyter-widgets/controls",
          "model_name": "HBoxModel",
          "state": {
            "_view_name": "HBoxView",
            "_dom_classes": [],
            "_model_name": "HBoxModel",
            "_view_module": "@jupyter-widgets/controls",
            "_model_module_version": "1.5.0",
            "_view_count": null,
            "_view_module_version": "1.5.0",
            "box_style": "",
            "layout": "IPY_MODEL_0d43245d6d4b4940a66189080f48686b",
            "_model_module": "@jupyter-widgets/controls",
            "children": [
              "IPY_MODEL_46bdf6fcc18043e38f26bf442582d8b6",
              "IPY_MODEL_c07fce7dd69247d49c6427288a12eae8"
            ]
          }
        },
        "0d43245d6d4b4940a66189080f48686b": {
          "model_module": "@jupyter-widgets/base",
          "model_name": "LayoutModel",
          "state": {
            "_view_name": "LayoutView",
            "grid_template_rows": null,
            "right": null,
            "justify_content": null,
            "_view_module": "@jupyter-widgets/base",
            "overflow": null,
            "_model_module_version": "1.2.0",
            "_view_count": null,
            "flex_flow": null,
            "width": null,
            "min_width": null,
            "border": null,
            "align_items": null,
            "bottom": null,
            "_model_module": "@jupyter-widgets/base",
            "top": null,
            "grid_column": null,
            "overflow_y": null,
            "overflow_x": null,
            "grid_auto_flow": null,
            "grid_area": null,
            "grid_template_columns": null,
            "flex": null,
            "_model_name": "LayoutModel",
            "justify_items": null,
            "grid_row": null,
            "max_height": null,
            "align_content": null,
            "visibility": null,
            "align_self": null,
            "height": null,
            "min_height": null,
            "padding": null,
            "grid_auto_rows": null,
            "grid_gap": null,
            "max_width": null,
            "order": null,
            "_view_module_version": "1.2.0",
            "grid_template_areas": null,
            "object_position": null,
            "object_fit": null,
            "grid_auto_columns": null,
            "margin": null,
            "display": null,
            "left": null
          }
        },
        "46bdf6fcc18043e38f26bf442582d8b6": {
          "model_module": "@jupyter-widgets/controls",
          "model_name": "FloatProgressModel",
          "state": {
            "_view_name": "ProgressView",
            "style": "IPY_MODEL_d4a2d1d25bc14687b3d71bcee9c456e2",
            "_dom_classes": [],
            "description": "Epoch [3/5]: 100%",
            "_model_name": "FloatProgressModel",
            "bar_style": "success",
            "max": 633,
            "_view_module": "@jupyter-widgets/controls",
            "_model_module_version": "1.5.0",
            "value": 633,
            "_view_count": null,
            "_view_module_version": "1.5.0",
            "orientation": "horizontal",
            "min": 0,
            "description_tooltip": null,
            "_model_module": "@jupyter-widgets/controls",
            "layout": "IPY_MODEL_9387048085c340e18836bca276be8dd9"
          }
        },
        "c07fce7dd69247d49c6427288a12eae8": {
          "model_module": "@jupyter-widgets/controls",
          "model_name": "HTMLModel",
          "state": {
            "_view_name": "HTMLView",
            "style": "IPY_MODEL_1355f9595d0541dcacbf957391886d68",
            "_dom_classes": [],
            "description": "",
            "_model_name": "HTMLModel",
            "placeholder": "​",
            "_view_module": "@jupyter-widgets/controls",
            "_model_module_version": "1.5.0",
            "value": " 633/633 [02:19&lt;00:00,  4.54it/s, loss=0.226, train_acc=0.938, val_acc=0.907, val_loss=0.251]",
            "_view_count": null,
            "_view_module_version": "1.5.0",
            "description_tooltip": null,
            "_model_module": "@jupyter-widgets/controls",
            "layout": "IPY_MODEL_e6c03eaf9cdc47f8ab1a64e1dca47e94"
          }
        },
        "d4a2d1d25bc14687b3d71bcee9c456e2": {
          "model_module": "@jupyter-widgets/controls",
          "model_name": "ProgressStyleModel",
          "state": {
            "_view_name": "StyleView",
            "_model_name": "ProgressStyleModel",
            "description_width": "initial",
            "_view_module": "@jupyter-widgets/base",
            "_model_module_version": "1.5.0",
            "_view_count": null,
            "_view_module_version": "1.2.0",
            "bar_color": null,
            "_model_module": "@jupyter-widgets/controls"
          }
        },
        "9387048085c340e18836bca276be8dd9": {
          "model_module": "@jupyter-widgets/base",
          "model_name": "LayoutModel",
          "state": {
            "_view_name": "LayoutView",
            "grid_template_rows": null,
            "right": null,
            "justify_content": null,
            "_view_module": "@jupyter-widgets/base",
            "overflow": null,
            "_model_module_version": "1.2.0",
            "_view_count": null,
            "flex_flow": null,
            "width": null,
            "min_width": null,
            "border": null,
            "align_items": null,
            "bottom": null,
            "_model_module": "@jupyter-widgets/base",
            "top": null,
            "grid_column": null,
            "overflow_y": null,
            "overflow_x": null,
            "grid_auto_flow": null,
            "grid_area": null,
            "grid_template_columns": null,
            "flex": null,
            "_model_name": "LayoutModel",
            "justify_items": null,
            "grid_row": null,
            "max_height": null,
            "align_content": null,
            "visibility": null,
            "align_self": null,
            "height": null,
            "min_height": null,
            "padding": null,
            "grid_auto_rows": null,
            "grid_gap": null,
            "max_width": null,
            "order": null,
            "_view_module_version": "1.2.0",
            "grid_template_areas": null,
            "object_position": null,
            "object_fit": null,
            "grid_auto_columns": null,
            "margin": null,
            "display": null,
            "left": null
          }
        },
        "1355f9595d0541dcacbf957391886d68": {
          "model_module": "@jupyter-widgets/controls",
          "model_name": "DescriptionStyleModel",
          "state": {
            "_view_name": "StyleView",
            "_model_name": "DescriptionStyleModel",
            "description_width": "",
            "_view_module": "@jupyter-widgets/base",
            "_model_module_version": "1.5.0",
            "_view_count": null,
            "_view_module_version": "1.2.0",
            "_model_module": "@jupyter-widgets/controls"
          }
        },
        "e6c03eaf9cdc47f8ab1a64e1dca47e94": {
          "model_module": "@jupyter-widgets/base",
          "model_name": "LayoutModel",
          "state": {
            "_view_name": "LayoutView",
            "grid_template_rows": null,
            "right": null,
            "justify_content": null,
            "_view_module": "@jupyter-widgets/base",
            "overflow": null,
            "_model_module_version": "1.2.0",
            "_view_count": null,
            "flex_flow": null,
            "width": null,
            "min_width": null,
            "border": null,
            "align_items": null,
            "bottom": null,
            "_model_module": "@jupyter-widgets/base",
            "top": null,
            "grid_column": null,
            "overflow_y": null,
            "overflow_x": null,
            "grid_auto_flow": null,
            "grid_area": null,
            "grid_template_columns": null,
            "flex": null,
            "_model_name": "LayoutModel",
            "justify_items": null,
            "grid_row": null,
            "max_height": null,
            "align_content": null,
            "visibility": null,
            "align_self": null,
            "height": null,
            "min_height": null,
            "padding": null,
            "grid_auto_rows": null,
            "grid_gap": null,
            "max_width": null,
            "order": null,
            "_view_module_version": "1.2.0",
            "grid_template_areas": null,
            "object_position": null,
            "object_fit": null,
            "grid_auto_columns": null,
            "margin": null,
            "display": null,
            "left": null
          }
        },
        "c8248881ea124993bbf0e80cc3a6cab2": {
          "model_module": "@jupyter-widgets/controls",
          "model_name": "HBoxModel",
          "state": {
            "_view_name": "HBoxView",
            "_dom_classes": [],
            "_model_name": "HBoxModel",
            "_view_module": "@jupyter-widgets/controls",
            "_model_module_version": "1.5.0",
            "_view_count": null,
            "_view_module_version": "1.5.0",
            "box_style": "",
            "layout": "IPY_MODEL_786032a74a3846039df7171d06862922",
            "_model_module": "@jupyter-widgets/controls",
            "children": [
              "IPY_MODEL_0673e5b9268a446c8fee7b91f4708cd9",
              "IPY_MODEL_6697c3259be74846b7e777261f41912b"
            ]
          }
        },
        "786032a74a3846039df7171d06862922": {
          "model_module": "@jupyter-widgets/base",
          "model_name": "LayoutModel",
          "state": {
            "_view_name": "LayoutView",
            "grid_template_rows": null,
            "right": null,
            "justify_content": null,
            "_view_module": "@jupyter-widgets/base",
            "overflow": null,
            "_model_module_version": "1.2.0",
            "_view_count": null,
            "flex_flow": null,
            "width": null,
            "min_width": null,
            "border": null,
            "align_items": null,
            "bottom": null,
            "_model_module": "@jupyter-widgets/base",
            "top": null,
            "grid_column": null,
            "overflow_y": null,
            "overflow_x": null,
            "grid_auto_flow": null,
            "grid_area": null,
            "grid_template_columns": null,
            "flex": null,
            "_model_name": "LayoutModel",
            "justify_items": null,
            "grid_row": null,
            "max_height": null,
            "align_content": null,
            "visibility": null,
            "align_self": null,
            "height": null,
            "min_height": null,
            "padding": null,
            "grid_auto_rows": null,
            "grid_gap": null,
            "max_width": null,
            "order": null,
            "_view_module_version": "1.2.0",
            "grid_template_areas": null,
            "object_position": null,
            "object_fit": null,
            "grid_auto_columns": null,
            "margin": null,
            "display": null,
            "left": null
          }
        },
        "0673e5b9268a446c8fee7b91f4708cd9": {
          "model_module": "@jupyter-widgets/controls",
          "model_name": "FloatProgressModel",
          "state": {
            "_view_name": "ProgressView",
            "style": "IPY_MODEL_79939e443c6c4161a4e288b55b036f64",
            "_dom_classes": [],
            "description": "Epoch [4/5]: 100%",
            "_model_name": "FloatProgressModel",
            "bar_style": "success",
            "max": 633,
            "_view_module": "@jupyter-widgets/controls",
            "_model_module_version": "1.5.0",
            "value": 633,
            "_view_count": null,
            "_view_module_version": "1.5.0",
            "orientation": "horizontal",
            "min": 0,
            "description_tooltip": null,
            "_model_module": "@jupyter-widgets/controls",
            "layout": "IPY_MODEL_58bfdb28eb6b4981b6bebfb2a99804b4"
          }
        },
        "6697c3259be74846b7e777261f41912b": {
          "model_module": "@jupyter-widgets/controls",
          "model_name": "HTMLModel",
          "state": {
            "_view_name": "HTMLView",
            "style": "IPY_MODEL_ba050868f34f4dbf8ada0106c0dc662c",
            "_dom_classes": [],
            "description": "",
            "_model_name": "HTMLModel",
            "placeholder": "​",
            "_view_module": "@jupyter-widgets/controls",
            "_model_module_version": "1.5.0",
            "value": " 633/633 [02:05&lt;00:00,  5.03it/s, loss=0.158, train_acc=0.922, val_acc=0.907, val_loss=0.285]",
            "_view_count": null,
            "_view_module_version": "1.5.0",
            "description_tooltip": null,
            "_model_module": "@jupyter-widgets/controls",
            "layout": "IPY_MODEL_8ad0854a7b654f2c864d230e34534b5c"
          }
        },
        "79939e443c6c4161a4e288b55b036f64": {
          "model_module": "@jupyter-widgets/controls",
          "model_name": "ProgressStyleModel",
          "state": {
            "_view_name": "StyleView",
            "_model_name": "ProgressStyleModel",
            "description_width": "initial",
            "_view_module": "@jupyter-widgets/base",
            "_model_module_version": "1.5.0",
            "_view_count": null,
            "_view_module_version": "1.2.0",
            "bar_color": null,
            "_model_module": "@jupyter-widgets/controls"
          }
        },
        "58bfdb28eb6b4981b6bebfb2a99804b4": {
          "model_module": "@jupyter-widgets/base",
          "model_name": "LayoutModel",
          "state": {
            "_view_name": "LayoutView",
            "grid_template_rows": null,
            "right": null,
            "justify_content": null,
            "_view_module": "@jupyter-widgets/base",
            "overflow": null,
            "_model_module_version": "1.2.0",
            "_view_count": null,
            "flex_flow": null,
            "width": null,
            "min_width": null,
            "border": null,
            "align_items": null,
            "bottom": null,
            "_model_module": "@jupyter-widgets/base",
            "top": null,
            "grid_column": null,
            "overflow_y": null,
            "overflow_x": null,
            "grid_auto_flow": null,
            "grid_area": null,
            "grid_template_columns": null,
            "flex": null,
            "_model_name": "LayoutModel",
            "justify_items": null,
            "grid_row": null,
            "max_height": null,
            "align_content": null,
            "visibility": null,
            "align_self": null,
            "height": null,
            "min_height": null,
            "padding": null,
            "grid_auto_rows": null,
            "grid_gap": null,
            "max_width": null,
            "order": null,
            "_view_module_version": "1.2.0",
            "grid_template_areas": null,
            "object_position": null,
            "object_fit": null,
            "grid_auto_columns": null,
            "margin": null,
            "display": null,
            "left": null
          }
        },
        "ba050868f34f4dbf8ada0106c0dc662c": {
          "model_module": "@jupyter-widgets/controls",
          "model_name": "DescriptionStyleModel",
          "state": {
            "_view_name": "StyleView",
            "_model_name": "DescriptionStyleModel",
            "description_width": "",
            "_view_module": "@jupyter-widgets/base",
            "_model_module_version": "1.5.0",
            "_view_count": null,
            "_view_module_version": "1.2.0",
            "_model_module": "@jupyter-widgets/controls"
          }
        },
        "8ad0854a7b654f2c864d230e34534b5c": {
          "model_module": "@jupyter-widgets/base",
          "model_name": "LayoutModel",
          "state": {
            "_view_name": "LayoutView",
            "grid_template_rows": null,
            "right": null,
            "justify_content": null,
            "_view_module": "@jupyter-widgets/base",
            "overflow": null,
            "_model_module_version": "1.2.0",
            "_view_count": null,
            "flex_flow": null,
            "width": null,
            "min_width": null,
            "border": null,
            "align_items": null,
            "bottom": null,
            "_model_module": "@jupyter-widgets/base",
            "top": null,
            "grid_column": null,
            "overflow_y": null,
            "overflow_x": null,
            "grid_auto_flow": null,
            "grid_area": null,
            "grid_template_columns": null,
            "flex": null,
            "_model_name": "LayoutModel",
            "justify_items": null,
            "grid_row": null,
            "max_height": null,
            "align_content": null,
            "visibility": null,
            "align_self": null,
            "height": null,
            "min_height": null,
            "padding": null,
            "grid_auto_rows": null,
            "grid_gap": null,
            "max_width": null,
            "order": null,
            "_view_module_version": "1.2.0",
            "grid_template_areas": null,
            "object_position": null,
            "object_fit": null,
            "grid_auto_columns": null,
            "margin": null,
            "display": null,
            "left": null
          }
        },
        "bd5cec7fc7384bccba0071bdaf556e1c": {
          "model_module": "@jupyter-widgets/controls",
          "model_name": "HBoxModel",
          "state": {
            "_view_name": "HBoxView",
            "_dom_classes": [],
            "_model_name": "HBoxModel",
            "_view_module": "@jupyter-widgets/controls",
            "_model_module_version": "1.5.0",
            "_view_count": null,
            "_view_module_version": "1.5.0",
            "box_style": "",
            "layout": "IPY_MODEL_2419b952b9394715a2cd9041437f4582",
            "_model_module": "@jupyter-widgets/controls",
            "children": [
              "IPY_MODEL_94b9960b093e450aa7b6fd15a96bd288",
              "IPY_MODEL_6b9be0cdbfc2406ebb4cf547fc921aba"
            ]
          }
        },
        "2419b952b9394715a2cd9041437f4582": {
          "model_module": "@jupyter-widgets/base",
          "model_name": "LayoutModel",
          "state": {
            "_view_name": "LayoutView",
            "grid_template_rows": null,
            "right": null,
            "justify_content": null,
            "_view_module": "@jupyter-widgets/base",
            "overflow": null,
            "_model_module_version": "1.2.0",
            "_view_count": null,
            "flex_flow": null,
            "width": null,
            "min_width": null,
            "border": null,
            "align_items": null,
            "bottom": null,
            "_model_module": "@jupyter-widgets/base",
            "top": null,
            "grid_column": null,
            "overflow_y": null,
            "overflow_x": null,
            "grid_auto_flow": null,
            "grid_area": null,
            "grid_template_columns": null,
            "flex": null,
            "_model_name": "LayoutModel",
            "justify_items": null,
            "grid_row": null,
            "max_height": null,
            "align_content": null,
            "visibility": null,
            "align_self": null,
            "height": null,
            "min_height": null,
            "padding": null,
            "grid_auto_rows": null,
            "grid_gap": null,
            "max_width": null,
            "order": null,
            "_view_module_version": "1.2.0",
            "grid_template_areas": null,
            "object_position": null,
            "object_fit": null,
            "grid_auto_columns": null,
            "margin": null,
            "display": null,
            "left": null
          }
        },
        "94b9960b093e450aa7b6fd15a96bd288": {
          "model_module": "@jupyter-widgets/controls",
          "model_name": "FloatProgressModel",
          "state": {
            "_view_name": "ProgressView",
            "style": "IPY_MODEL_14b264106dba4e6b82c28a8a2224ff70",
            "_dom_classes": [],
            "description": "Epoch [5/5]: 100%",
            "_model_name": "FloatProgressModel",
            "bar_style": "success",
            "max": 633,
            "_view_module": "@jupyter-widgets/controls",
            "_model_module_version": "1.5.0",
            "value": 633,
            "_view_count": null,
            "_view_module_version": "1.5.0",
            "orientation": "horizontal",
            "min": 0,
            "description_tooltip": null,
            "_model_module": "@jupyter-widgets/controls",
            "layout": "IPY_MODEL_b2f3ffa6c6dc41db801f250998cdde00"
          }
        },
        "6b9be0cdbfc2406ebb4cf547fc921aba": {
          "model_module": "@jupyter-widgets/controls",
          "model_name": "HTMLModel",
          "state": {
            "_view_name": "HTMLView",
            "style": "IPY_MODEL_26ffb99ff897404a9b548df835381510",
            "_dom_classes": [],
            "description": "",
            "_model_name": "HTMLModel",
            "placeholder": "​",
            "_view_module": "@jupyter-widgets/controls",
            "_model_module_version": "1.5.0",
            "value": " 633/633 [00:11&lt;00:00, 53.22it/s, loss=0.0369, train_acc=0.984, val_acc=0, val_loss=0]",
            "_view_count": null,
            "_view_module_version": "1.5.0",
            "description_tooltip": null,
            "_model_module": "@jupyter-widgets/controls",
            "layout": "IPY_MODEL_78e4f3769b8b4ea7b180f3a870f314c4"
          }
        },
        "14b264106dba4e6b82c28a8a2224ff70": {
          "model_module": "@jupyter-widgets/controls",
          "model_name": "ProgressStyleModel",
          "state": {
            "_view_name": "StyleView",
            "_model_name": "ProgressStyleModel",
            "description_width": "initial",
            "_view_module": "@jupyter-widgets/base",
            "_model_module_version": "1.5.0",
            "_view_count": null,
            "_view_module_version": "1.2.0",
            "bar_color": null,
            "_model_module": "@jupyter-widgets/controls"
          }
        },
        "b2f3ffa6c6dc41db801f250998cdde00": {
          "model_module": "@jupyter-widgets/base",
          "model_name": "LayoutModel",
          "state": {
            "_view_name": "LayoutView",
            "grid_template_rows": null,
            "right": null,
            "justify_content": null,
            "_view_module": "@jupyter-widgets/base",
            "overflow": null,
            "_model_module_version": "1.2.0",
            "_view_count": null,
            "flex_flow": null,
            "width": null,
            "min_width": null,
            "border": null,
            "align_items": null,
            "bottom": null,
            "_model_module": "@jupyter-widgets/base",
            "top": null,
            "grid_column": null,
            "overflow_y": null,
            "overflow_x": null,
            "grid_auto_flow": null,
            "grid_area": null,
            "grid_template_columns": null,
            "flex": null,
            "_model_name": "LayoutModel",
            "justify_items": null,
            "grid_row": null,
            "max_height": null,
            "align_content": null,
            "visibility": null,
            "align_self": null,
            "height": null,
            "min_height": null,
            "padding": null,
            "grid_auto_rows": null,
            "grid_gap": null,
            "max_width": null,
            "order": null,
            "_view_module_version": "1.2.0",
            "grid_template_areas": null,
            "object_position": null,
            "object_fit": null,
            "grid_auto_columns": null,
            "margin": null,
            "display": null,
            "left": null
          }
        },
        "26ffb99ff897404a9b548df835381510": {
          "model_module": "@jupyter-widgets/controls",
          "model_name": "DescriptionStyleModel",
          "state": {
            "_view_name": "StyleView",
            "_model_name": "DescriptionStyleModel",
            "description_width": "",
            "_view_module": "@jupyter-widgets/base",
            "_model_module_version": "1.5.0",
            "_view_count": null,
            "_view_module_version": "1.2.0",
            "_model_module": "@jupyter-widgets/controls"
          }
        },
        "78e4f3769b8b4ea7b180f3a870f314c4": {
          "model_module": "@jupyter-widgets/base",
          "model_name": "LayoutModel",
          "state": {
            "_view_name": "LayoutView",
            "grid_template_rows": null,
            "right": null,
            "justify_content": null,
            "_view_module": "@jupyter-widgets/base",
            "overflow": null,
            "_model_module_version": "1.2.0",
            "_view_count": null,
            "flex_flow": null,
            "width": null,
            "min_width": null,
            "border": null,
            "align_items": null,
            "bottom": null,
            "_model_module": "@jupyter-widgets/base",
            "top": null,
            "grid_column": null,
            "overflow_y": null,
            "overflow_x": null,
            "grid_auto_flow": null,
            "grid_area": null,
            "grid_template_columns": null,
            "flex": null,
            "_model_name": "LayoutModel",
            "justify_items": null,
            "grid_row": null,
            "max_height": null,
            "align_content": null,
            "visibility": null,
            "align_self": null,
            "height": null,
            "min_height": null,
            "padding": null,
            "grid_auto_rows": null,
            "grid_gap": null,
            "max_width": null,
            "order": null,
            "_view_module_version": "1.2.0",
            "grid_template_areas": null,
            "object_position": null,
            "object_fit": null,
            "grid_auto_columns": null,
            "margin": null,
            "display": null,
            "left": null
          }
        }
      }
    }
  },
  "cells": [
    {
      "cell_type": "code",
      "metadata": {
        "colab": {
          "base_uri": "https://localhost:8080/"
        },
        "id": "BCTWMCRySOuv",
        "outputId": "286e945c-c9ad-46c5-ade8-bb230a5d48e2"
      },
      "source": [
        "!nvidia-smi"
      ],
      "execution_count": 2,
      "outputs": [
        {
          "output_type": "stream",
          "text": [
            "Sat Jun 12 03:34:28 2021       \n",
            "+-----------------------------------------------------------------------------+\n",
            "| NVIDIA-SMI 465.27       Driver Version: 460.32.03    CUDA Version: 11.2     |\n",
            "|-------------------------------+----------------------+----------------------+\n",
            "| GPU  Name        Persistence-M| Bus-Id        Disp.A | Volatile Uncorr. ECC |\n",
            "| Fan  Temp  Perf  Pwr:Usage/Cap|         Memory-Usage | GPU-Util  Compute M. |\n",
            "|                               |                      |               MIG M. |\n",
            "|===============================+======================+======================|\n",
            "|   0  Tesla T4            Off  | 00000000:00:04.0 Off |                    0 |\n",
            "| N/A   46C    P8    10W /  70W |      0MiB / 15109MiB |      0%      Default |\n",
            "|                               |                      |                  N/A |\n",
            "+-------------------------------+----------------------+----------------------+\n",
            "                                                                               \n",
            "+-----------------------------------------------------------------------------+\n",
            "| Processes:                                                                  |\n",
            "|  GPU   GI   CI        PID   Type   Process name                  GPU Memory |\n",
            "|        ID   ID                                                   Usage      |\n",
            "|=============================================================================|\n",
            "|  No running processes found                                                 |\n",
            "+-----------------------------------------------------------------------------+\n"
          ],
          "name": "stdout"
        }
      ]
    },
    {
      "cell_type": "code",
      "metadata": {
        "id": "NG-y60YmT8lp",
        "colab": {
          "base_uri": "https://localhost:8080/",
          "height": 35
        },
        "outputId": "ca2b3a70-0d89-4c7a-b6cf-a67b19ee4bbd"
      },
      "source": [
        "import torch\n",
        "import torchtext\n",
        "from torchtext.legacy import data\n",
        "from torch.utils.data import DataLoader, random_split\n",
        "import pandas as pd\n",
        "import random\n",
        "from tqdm import tqdm\n",
        "import torch.nn.functional as F\n",
        "from torch import nn\n",
        "\n",
        "torchtext.__version__\n",
        "# torchtext.__version__"
      ],
      "execution_count": 3,
      "outputs": [
        {
          "output_type": "execute_result",
          "data": {
            "application/vnd.google.colaboratory.intrinsic+json": {
              "type": "string"
            },
            "text/plain": [
              "'0.9.1'"
            ]
          },
          "metadata": {
            "tags": []
          },
          "execution_count": 3
        }
      ]
    },
    {
      "cell_type": "markdown",
      "metadata": {
        "id": "AzKePaVMlL8z"
      },
      "source": [
        "## Learning N-grams"
      ]
    },
    {
      "cell_type": "code",
      "metadata": {
        "colab": {
          "base_uri": "https://localhost:8080/"
        },
        "id": "wyPKMa1hlQsL",
        "outputId": "ee8a29b2-9238-4909-e178-8fcc5ddc510b"
      },
      "source": [
        "sentence = \"The cow jumps over the moon\"\n",
        "sentence_list = sentence.split(\" \")\n",
        "sentence_list"
      ],
      "execution_count": 4,
      "outputs": [
        {
          "output_type": "execute_result",
          "data": {
            "text/plain": [
              "['The', 'cow', 'jumps', 'over', 'the', 'moon']"
            ]
          },
          "metadata": {
            "tags": []
          },
          "execution_count": 4
        }
      ]
    },
    {
      "cell_type": "code",
      "metadata": {
        "colab": {
          "base_uri": "https://localhost:8080/"
        },
        "id": "dtmEJ6oFlb4V",
        "outputId": "73fd2c52-7aba-4a5f-8642-2a2d1679c44d"
      },
      "source": [
        "for x,y,z in (zip(*[sentence_list[i:] for i in range(3)])):\n",
        "    # zip maps the list elements entered from the for loop together\n",
        "    print(x, y, z)\n",
        "    # print(y)m"
      ],
      "execution_count": 5,
      "outputs": [
        {
          "output_type": "stream",
          "text": [
            "The cow jumps\n",
            "cow jumps over\n",
            "jumps over the\n",
            "over the moon\n"
          ],
          "name": "stdout"
        }
      ]
    },
    {
      "cell_type": "code",
      "metadata": {
        "colab": {
          "base_uri": "https://localhost:8080/"
        },
        "id": "NuAIOFPcpjjx",
        "outputId": "dd2972f2-df58-4df2-c49d-42a840ddfa86"
      },
      "source": [
        "def generate_ngrams(tokenized_sentence, n=2):\n",
        "    # sentence_list = sentence.split(\" \")\n",
        "    n_grams = set(zip(*[tokenized_sentence[i:] for i in range(n)]))\n",
        "    # zip maps the list elements entered from the for loop together\n",
        "    # x = []\n",
        "    for n_gram in n_grams:\n",
        "        # print(n_gram)\n",
        "        tokenized_sentence.append(' '.join(n_gram))\n",
        "    return tokenized_sentence\n",
        "\n",
        "t_sentence = ['This', 'film', 'is', 'terrible']\n",
        "x = generate_ngrams(t_sentence)\n",
        "x"
      ],
      "execution_count": 1,
      "outputs": [
        {
          "output_type": "execute_result",
          "data": {
            "text/plain": [
              "['This', 'film', 'is', 'terrible', 'film is', 'is terrible', 'This film']"
            ]
          },
          "metadata": {
            "tags": []
          },
          "execution_count": 1
        }
      ]
    },
    {
      "cell_type": "code",
      "metadata": {
        "colab": {
          "base_uri": "https://localhost:8080/"
        },
        "id": "FzXPHtceV4h_",
        "outputId": "23ea3e20-a89c-481c-c41a-31d29a16e749"
      },
      "source": [
        "!wget https://github.com/rasbt/python-machine-learning-book-3rd-edition/raw/master/ch08/movie_data.csv.gz"
      ],
      "execution_count": 6,
      "outputs": [
        {
          "output_type": "stream",
          "text": [
            "--2021-06-12 03:34:56--  https://github.com/rasbt/python-machine-learning-book-3rd-edition/raw/master/ch08/movie_data.csv.gz\n",
            "Resolving github.com (github.com)... 140.82.114.4\n",
            "Connecting to github.com (github.com)|140.82.114.4|:443... connected.\n",
            "HTTP request sent, awaiting response... 302 Found\n",
            "Location: https://raw.githubusercontent.com/rasbt/python-machine-learning-book-3rd-edition/master/ch08/movie_data.csv.gz [following]\n",
            "--2021-06-12 03:34:57--  https://raw.githubusercontent.com/rasbt/python-machine-learning-book-3rd-edition/master/ch08/movie_data.csv.gz\n",
            "Resolving raw.githubusercontent.com (raw.githubusercontent.com)... 185.199.108.133, 185.199.109.133, 185.199.110.133, ...\n",
            "Connecting to raw.githubusercontent.com (raw.githubusercontent.com)|185.199.108.133|:443... connected.\n",
            "HTTP request sent, awaiting response... 200 OK\n",
            "Length: 26521894 (25M) [application/octet-stream]\n",
            "Saving to: ‘movie_data.csv.gz’\n",
            "\n",
            "movie_data.csv.gz   100%[===================>]  25.29M   166MB/s    in 0.2s    \n",
            "\n",
            "2021-06-12 03:34:57 (166 MB/s) - ‘movie_data.csv.gz’ saved [26521894/26521894]\n",
            "\n"
          ],
          "name": "stdout"
        }
      ]
    },
    {
      "cell_type": "code",
      "metadata": {
        "id": "tqsxf23zV4qg"
      },
      "source": [
        "!gunzip -f movie_data.csv.gz"
      ],
      "execution_count": 7,
      "outputs": []
    },
    {
      "cell_type": "code",
      "metadata": {
        "id": "_0YGz-qjT8l-"
      },
      "source": [
        "SEED = 42  # The answer to life, the universe, and everything\n",
        "\n",
        "torch.manual_seed(SEED)\n",
        "torch.backends.cudnn.deterministic = True"
      ],
      "execution_count": 8,
      "outputs": []
    },
    {
      "cell_type": "code",
      "metadata": {
        "colab": {
          "base_uri": "https://localhost:8080/"
        },
        "id": "MfF6jGOMT8l_",
        "outputId": "9854db96-0bae-4fa0-a83c-70e1b168a395"
      },
      "source": [
        "available_device= \"cuda\" if torch.cuda.is_available() else \"cpu\"\n",
        "# available_device= \"cpu\"\n",
        "device = torch.device(available_device)\n",
        "print(device)\n",
        "# device"
      ],
      "execution_count": 9,
      "outputs": [
        {
          "output_type": "stream",
          "text": [
            "cuda\n"
          ],
          "name": "stdout"
        }
      ]
    },
    {
      "cell_type": "markdown",
      "metadata": {
        "id": "01W2D1ZiT8mC"
      },
      "source": [
        "## Creating the dataset and iterator"
      ]
    },
    {
      "cell_type": "markdown",
      "metadata": {
        "id": "fm5MJ7VNT8mD"
      },
      "source": [
        "### Dataset "
      ]
    },
    {
      "cell_type": "code",
      "metadata": {
        "id": "VAm8xFeKT8l8"
      },
      "source": [
        "\"\"\"\n",
        "TorchText Fields have a preprocessing argument. \n",
        "A function passed here will be applied to a sentence after it has been tokenized,\n",
        "but before it has been numericalized(transformed from a list of tokens to a list of indexes). \n",
        "This is where we'll pass our generate_ngrams function.\n",
        "\n",
        "\"\"\"\n",
        "\n",
        "TEXT = data.Field(tokenize='spacy',  # tokenizer\n",
        "              tokenizer_language='en_core_web_sm',  # none\n",
        "              preprocessing=generate_ngrams\n",
        "              )\n",
        "\n",
        "LABEL = data.LabelField(dtype=torch.float)\n",
        "\n",
        "FIELDS = [('TEXT', TEXT), ('LABEL', LABEL)]\n",
        "\n",
        "dataset = data.TabularDataset(path='movie_data.csv',\n",
        "                                  format='csv',\n",
        "                                  fields=FIELDS,\n",
        "                                  skip_header=True)"
      ],
      "execution_count": 10,
      "outputs": []
    },
    {
      "cell_type": "code",
      "metadata": {
        "id": "RbscZax3sNuo"
      },
      "source": [
        "train_set, test_set = dataset.split(split_ratio=[0.9, 0.1],\n",
        "                                    random_state=random.seed(SEED))\n",
        "\n",
        "train_set, val_set = train_set.split(split_ratio=[0.9, 0.1],\n",
        "                                        random_state=random.seed(SEED))"
      ],
      "execution_count": 11,
      "outputs": []
    },
    {
      "cell_type": "markdown",
      "metadata": {
        "id": "5hdG2a-RsbnU"
      },
      "source": [
        "### Build Vocab using the glove 100d "
      ]
    },
    {
      "cell_type": "code",
      "metadata": {
        "colab": {
          "base_uri": "https://localhost:8080/"
        },
        "id": "SLuYkanYT8mF",
        "outputId": "42df1e6b-0b87-4033-a533-9b8298594869"
      },
      "source": [
        "MAX_VOCAB_SIZE = 25000\n",
        "\n",
        "TEXT.build_vocab(train_set,\n",
        "                max_size=MAX_VOCAB_SIZE,\n",
        "                vectors=\"glove.6B.100d\",\n",
        "                unk_init = torch.Tensor.normal_)"
      ],
      "execution_count": 12,
      "outputs": [
        {
          "output_type": "stream",
          "text": [
            ".vector_cache/glove.6B.zip: 862MB [02:41, 5.34MB/s]                           \n",
            " 99%|█████████▉| 397222/400000 [00:13<00:00, 29562.08it/s]"
          ],
          "name": "stderr"
        }
      ]
    },
    {
      "cell_type": "code",
      "metadata": {
        "id": "43gLPay8T8mG"
      },
      "source": [
        "LABEL.build_vocab(train_set)"
      ],
      "execution_count": 13,
      "outputs": []
    },
    {
      "cell_type": "code",
      "metadata": {
        "colab": {
          "base_uri": "https://localhost:8080/"
        },
        "id": "G9uZupbVT8mH",
        "outputId": "cd3c0c0f-9c3d-4b08-ad40-863a2b89abd5"
      },
      "source": [
        "### 10 common word train_set\n",
        "top_commom_words = TEXT.vocab.freqs.most_common(10)\n",
        "top_commom_words"
      ],
      "execution_count": 14,
      "outputs": [
        {
          "output_type": "execute_result",
          "data": {
            "text/plain": [
              "[('the', 464964),\n",
              " (',', 441024),\n",
              " ('.', 378804),\n",
              " ('a', 250866),\n",
              " ('and', 250750),\n",
              " ('of', 231373),\n",
              " ('to', 214406),\n",
              " ('is', 173465),\n",
              " ('in', 141132),\n",
              " ('I', 125873)]"
            ]
          },
          "metadata": {
            "tags": []
          },
          "execution_count": 14
        }
      ]
    },
    {
      "cell_type": "code",
      "metadata": {
        "id": "6Bk1mqOHT8mJ",
        "colab": {
          "base_uri": "https://localhost:8080/"
        },
        "outputId": "2a3b3802-0252-4474-b29b-c129a1e3ed55"
      },
      "source": [
        "TEXT.vocab.vectors"
      ],
      "execution_count": 15,
      "outputs": [
        {
          "output_type": "execute_result",
          "data": {
            "text/plain": [
              "tensor([[ 1.9269,  1.4873,  0.9007,  ...,  0.1233,  0.3499,  0.6173],\n",
              "        [ 0.7262,  0.0912, -0.3891,  ...,  0.0821,  0.4440, -0.7240],\n",
              "        [-0.0382, -0.2449,  0.7281,  ..., -0.1459,  0.8278,  0.2706],\n",
              "        ...,\n",
              "        [ 0.2478,  0.0297,  0.3133,  ..., -0.5366,  0.0615,  0.2137],\n",
              "        [ 0.6144,  1.0666,  0.9477,  ..., -0.2019,  0.1443, -0.3882],\n",
              "        [ 0.6160,  0.1285,  0.4471,  ...,  0.5756,  0.9194, -0.2133]])"
            ]
          },
          "metadata": {
            "tags": []
          },
          "execution_count": 15
        }
      ]
    },
    {
      "cell_type": "code",
      "metadata": {
        "id": "01jYyEmmT8mL",
        "colab": {
          "base_uri": "https://localhost:8080/"
        },
        "outputId": "66b87fee-0ee3-483f-e3cc-43c7cdf117e0"
      },
      "source": [
        "TEXT.vocab.vectors.shape"
      ],
      "execution_count": 16,
      "outputs": [
        {
          "output_type": "execute_result",
          "data": {
            "text/plain": [
              "torch.Size([25002, 100])"
            ]
          },
          "metadata": {
            "tags": []
          },
          "execution_count": 16
        }
      ]
    },
    {
      "cell_type": "code",
      "metadata": {
        "id": "e5NexudRT8mL",
        "colab": {
          "base_uri": "https://localhost:8080/"
        },
        "outputId": "287bde33-0327-4e7c-e65e-0e1ac848130d"
      },
      "source": [
        "LABEL.vocab.freqs"
      ],
      "execution_count": 17,
      "outputs": [
        {
          "output_type": "execute_result",
          "data": {
            "text/plain": [
              "Counter({'0': 20265, '1': 20235})"
            ]
          },
          "metadata": {
            "tags": []
          },
          "execution_count": 17
        }
      ]
    },
    {
      "cell_type": "code",
      "metadata": {
        "colab": {
          "base_uri": "https://localhost:8080/"
        },
        "id": "NT0_pa1HT8mN",
        "outputId": "353c6612-001a-4a59-9020-4e6cb182e87a"
      },
      "source": [
        "LABEL.vocab.stoi"
      ],
      "execution_count": 18,
      "outputs": [
        {
          "output_type": "execute_result",
          "data": {
            "text/plain": [
              "defaultdict(None, {'0': 0, '1': 1})"
            ]
          },
          "metadata": {
            "tags": []
          },
          "execution_count": 18
        }
      ]
    },
    {
      "cell_type": "markdown",
      "metadata": {
        "id": "NTtbZZ_uT8mN"
      },
      "source": [
        "### Data iterator"
      ]
    },
    {
      "cell_type": "code",
      "metadata": {
        "id": "Stdf0JXtT8mN"
      },
      "source": [
        "BATCH_SIZE = 64\n",
        "\n",
        "# https://torchtext.readthedocs.io/en/latest/data.html#bucketiterator\n",
        "train_iterator, val_iterator, test_iterator = data.BucketIterator.splits(\n",
        "                                              (train_set, val_set, test_set),\n",
        "                                              batch_size=BATCH_SIZE,\n",
        "                                              sort_within_batch=True,          #\n",
        "                                              sort_key=lambda x: len(x.TEXT))"
      ],
      "execution_count": 19,
      "outputs": []
    },
    {
      "cell_type": "code",
      "metadata": {
        "colab": {
          "base_uri": "https://localhost:8080/"
        },
        "id": "fsoHul5vT8mO",
        "outputId": "40570490-5642-4e01-d9ad-72f86487415a"
      },
      "source": [
        "print(len(train_iterator))\n",
        "for t_i in train_iterator:\n",
        "    print(t_i.TEXT.size())\n",
        "    print(t_i.LABEL.size())\n",
        "    break\n",
        "\n",
        "for v_i in val_iterator:\n",
        "    print(v_i.TEXT.size())\n",
        "    print(v_i.LABEL.size())\n",
        "    break"
      ],
      "execution_count": 21,
      "outputs": [
        {
          "output_type": "stream",
          "text": [
            "633\n",
            "torch.Size([117, 64])\n",
            "torch.Size([64])\n",
            "torch.Size([103, 64])\n",
            "torch.Size([64])\n"
          ],
          "name": "stdout"
        }
      ]
    },
    {
      "cell_type": "markdown",
      "metadata": {
        "id": "47I-3rJFT8mP"
      },
      "source": [
        "## Defining the model"
      ]
    },
    {
      "cell_type": "markdown",
      "metadata": {
        "id": "ikLdrh6hT8mV"
      },
      "source": [
        "### Model architecture"
      ]
    },
    {
      "cell_type": "code",
      "metadata": {
        "id": "lBXB2yGXT8mW"
      },
      "source": [
        "\"\"\"\n",
        "Instead, it first calculates the word embedding for each word using the Embedding layer (blue), \n",
        "then calculates the average of all of the word embeddings (pink)\n",
        "and feeds this through the Linear layer (silver), and that's it!\n",
        "\"\"\"\n",
        "class AvgPoolFastText(nn.Module):\n",
        "    def __init__(self, vocab_size, embedding_dim, \n",
        "                 out_dim, pad_idx):\n",
        "        super().__init__()\n",
        "        \n",
        "        self.embedding = nn.Embedding(vocab_size, embedding_dim, padding_idx=pad_idx)\n",
        "        \n",
        "        self.fc = nn.Linear(embedding_dim, out_dim)\n",
        "            \n",
        "    def forward(self, text):\n",
        "        # text =  [sent_len, batch_size]\n",
        "        embeds = self.embedding(text)\n",
        "        # embeds = [sent_len, batch_size, embed_dim]\n",
        "        embeds = embeds.permute(1,0,2)\n",
        "        # embeds = [batch_size, sent_len, embed_dim]\n",
        "\n",
        "        \"\"\"\n",
        "        We implement the averaging with the avg_pool2d (average pool 2-dimensions) function.\n",
        "        you can think of the word embeddings as a 2-dimensional grid, \n",
        "        where the words are along one axis `[1]`\n",
        "        and the dimensions of the word embeddings are along the other `[3]`\n",
        "        The avg_pool2d uses a filter of size embeds.shape[1] (i.e. the length of the sentence) by 1.\n",
        "\n",
        "        We calculate the average value of all elements covered by the filter,\n",
        "        Our filter covers each column \n",
        "        then the filter then slides to the right, along the embedings dimension\n",
        "        \n",
        "        n filter covers all embedding dimensions we get a [1xembed_dim] tensor\n",
        "        \"\"\"\n",
        "        avg_pooled = F.avg_pool2d(embeds, (embeds.shape[1], 1))        \n",
        "        #avg_pooled = [batch size, 1 , embed_dim]\n",
        "\n",
        "        avg_pooled_squeeze = avg_pooled.squeeze(1)\n",
        "        #avg_pooled = [batch size , embed_dim]\n",
        "\n",
        "        return self.fc(avg_pooled_squeeze)"
      ],
      "execution_count": 22,
      "outputs": []
    },
    {
      "cell_type": "markdown",
      "metadata": {
        "id": "njX4x5EeT8mW"
      },
      "source": [
        "### Initialize the model"
      ]
    },
    {
      "cell_type": "code",
      "metadata": {
        "colab": {
          "base_uri": "https://localhost:8080/",
          "height": 70
        },
        "id": "YmoaCG2TT8mX",
        "outputId": "88157a47-62d9-43d4-cce0-61f5aaeed15f"
      },
      "source": [
        "PAD_IDX  =  TEXT.vocab.stoi[TEXT.pad_token]\n",
        "UNK_IDX  =  TEXT.vocab.stoi[TEXT.unk_token]\n",
        "print(PAD_IDX)\n",
        "print(UNK_IDX)\n",
        "TEXT.pad_token"
      ],
      "execution_count": 23,
      "outputs": [
        {
          "output_type": "stream",
          "text": [
            "1\n",
            "0\n"
          ],
          "name": "stdout"
        },
        {
          "output_type": "execute_result",
          "data": {
            "application/vnd.google.colaboratory.intrinsic+json": {
              "type": "string"
            },
            "text/plain": [
              "'<pad>'"
            ]
          },
          "metadata": {
            "tags": []
          },
          "execution_count": 23
        }
      ]
    },
    {
      "cell_type": "code",
      "metadata": {
        "id": "Y6Vb2GKYT8mX"
      },
      "source": [
        "# vocab_size, embedding_dim, hidden_dim, \n",
        "# out_dim, n_layers, bidirectional, dropout, pad_idx):\n",
        "\n",
        "EMBEDDING_DIM = 100  # since glove has 100d\n",
        "\n",
        "args = {\n",
        "    \"vocab_size\" : len(TEXT.vocab),\n",
        "    \"embedding_dim\" : EMBEDDING_DIM,\n",
        "    \"out_dim\" : 1,\n",
        "    \"pad_idx\": PAD_IDX \n",
        "}\n",
        "\n",
        "model = AvgPoolFastText(**args).to(device)"
      ],
      "execution_count": 24,
      "outputs": []
    },
    {
      "cell_type": "code",
      "metadata": {
        "colab": {
          "base_uri": "https://localhost:8080/"
        },
        "id": "-ilkySHPc8Yv",
        "outputId": "ac3d4973-2399-44bf-a2cc-1c03c421cb86"
      },
      "source": [
        "def count_parameters(model):\n",
        "    return sum(p.numel() for p in model.parameters() if p.requires_grad)\n",
        "\n",
        "print(f'The model has {count_parameters(model):,} trainable parameters')"
      ],
      "execution_count": 25,
      "outputs": [
        {
          "output_type": "stream",
          "text": [
            "The model has 2,500,301 trainable parameters\n"
          ],
          "name": "stdout"
        }
      ]
    },
    {
      "cell_type": "markdown",
      "metadata": {
        "id": "kUWrn_BRT8mX"
      },
      "source": [
        "### Copy the pretrained embeds to the models embedings layers"
      ]
    },
    {
      "cell_type": "code",
      "metadata": {
        "colab": {
          "base_uri": "https://localhost:8080/"
        },
        "id": "8I77upoxT8mX",
        "outputId": "b1ab645b-d4a9-4a6f-be44-faa4c90a6501"
      },
      "source": [
        "pretrained_embeds = TEXT.vocab.vectors\n",
        "pretrained_embeds.shape"
      ],
      "execution_count": 26,
      "outputs": [
        {
          "output_type": "execute_result",
          "data": {
            "text/plain": [
              "torch.Size([25002, 100])"
            ]
          },
          "metadata": {
            "tags": []
          },
          "execution_count": 26
        }
      ]
    },
    {
      "cell_type": "code",
      "metadata": {
        "colab": {
          "base_uri": "https://localhost:8080/"
        },
        "id": "w33GU69YT8mY",
        "outputId": "4d5f1d0d-9525-42fe-cb5a-dc267fcdbcad"
      },
      "source": [
        "model.embedding.weight.data.copy_(pretrained_embeds)"
      ],
      "execution_count": 27,
      "outputs": [
        {
          "output_type": "execute_result",
          "data": {
            "text/plain": [
              "tensor([[ 1.9269,  1.4873,  0.9007,  ...,  0.1233,  0.3499,  0.6173],\n",
              "        [ 0.7262,  0.0912, -0.3891,  ...,  0.0821,  0.4440, -0.7240],\n",
              "        [-0.0382, -0.2449,  0.7281,  ..., -0.1459,  0.8278,  0.2706],\n",
              "        ...,\n",
              "        [ 0.2478,  0.0297,  0.3133,  ..., -0.5366,  0.0615,  0.2137],\n",
              "        [ 0.6144,  1.0666,  0.9477,  ..., -0.2019,  0.1443, -0.3882],\n",
              "        [ 0.6160,  0.1285,  0.4471,  ...,  0.5756,  0.9194, -0.2133]],\n",
              "       device='cuda:0')"
            ]
          },
          "metadata": {
            "tags": []
          },
          "execution_count": 27
        }
      ]
    },
    {
      "cell_type": "markdown",
      "metadata": {
        "id": "aoqmW644T8mY"
      },
      "source": [
        "#### UNK and PAD value to zeros\n",
        "\n",
        "As our <unk> and <pad> token aren't in the pre-trained vocabulary they have been initialized using unk_init (an $\\mathcal{N}(0,1)$ distribution) when building our vocab. It is preferable to initialize them both to all zeros to explicitly tell our model that, initially, they are irrelevant for determining sentiment.\n",
        "    \n",
        "We do this by manually setting their row in the embedding weights matrix to zeros. We get their row by finding the index of the tokens, which we have already done for the padding index.\n",
        "\n",
        "Note: like initializing the embeddings, this should be done on the weight.data and not the weight!"
      ]
    },
    {
      "cell_type": "code",
      "metadata": {
        "colab": {
          "base_uri": "https://localhost:8080/"
        },
        "id": "EaKXQuw1T8mY",
        "outputId": "007250ed-256e-4b0c-9690-3c73dfef3812"
      },
      "source": [
        "UNK_IDX = TEXT.vocab.stoi[TEXT.unk_token]\n",
        "\n",
        "model.embedding.weight.data[UNK_IDX] = torch.zeros(EMBEDDING_DIM)\n",
        "model.embedding.weight.data[PAD_IDX] = torch.zeros(EMBEDDING_DIM)\n",
        "\n",
        "model.embedding.weight.data"
      ],
      "execution_count": 28,
      "outputs": [
        {
          "output_type": "execute_result",
          "data": {
            "text/plain": [
              "tensor([[ 0.0000,  0.0000,  0.0000,  ...,  0.0000,  0.0000,  0.0000],\n",
              "        [ 0.0000,  0.0000,  0.0000,  ...,  0.0000,  0.0000,  0.0000],\n",
              "        [-0.0382, -0.2449,  0.7281,  ..., -0.1459,  0.8278,  0.2706],\n",
              "        ...,\n",
              "        [ 0.2478,  0.0297,  0.3133,  ..., -0.5366,  0.0615,  0.2137],\n",
              "        [ 0.6144,  1.0666,  0.9477,  ..., -0.2019,  0.1443, -0.3882],\n",
              "        [ 0.6160,  0.1285,  0.4471,  ...,  0.5756,  0.9194, -0.2133]],\n",
              "       device='cuda:0')"
            ]
          },
          "metadata": {
            "tags": []
          },
          "execution_count": 28
        }
      ]
    },
    {
      "cell_type": "markdown",
      "metadata": {
        "id": "c2O_WiqGT8mZ"
      },
      "source": [
        "### Define the criterion and optimizer"
      ]
    },
    {
      "cell_type": "code",
      "metadata": {
        "id": "18-RgSdPT8mZ"
      },
      "source": [
        "from torch.optim import Adam\n",
        "\n",
        "lr = 0.005\n",
        "optimizer = Adam(model.parameters(), lr=lr)\n",
        "\n",
        "\n",
        "\"\"\"\n",
        "Next, we'll define our loss function. In PyTorch this is commonly called a criterion.\n",
        "\n",
        "The loss function here is binary cross entropy with logits.\n",
        "\n",
        "Our model currently outputs an unbound real number. As our labels are either 0 or 1, \n",
        "we want to restrict the predictions to a number between 0 and 1. We do this using the sigmoid or logit functions.\n",
        "\"\"\"\n",
        "\n",
        "criterion = nn.BCEWithLogitsLoss()\n",
        "# The BCEWithLogitsLoss criterion carries out both the sigmoid and the binary cross entropy steps."
      ],
      "execution_count": 29,
      "outputs": []
    },
    {
      "cell_type": "markdown",
      "metadata": {
        "id": "PMEdS6l9T8mZ"
      },
      "source": [
        "### Accuracy Function"
      ]
    },
    {
      "cell_type": "code",
      "metadata": {
        "id": "6QuHfWBkT8ma"
      },
      "source": [
        "def batch_accuracy(preds, y):\n",
        "    # preds = [batch_size]\n",
        "    # y = [batch_size, 1]\n",
        "    \n",
        "    rounded_preds = torch.round(torch.sigmoid(preds))\n",
        "    correct = (rounded_preds == y).float()\n",
        "    acc  = correct.sum() / len(correct)\n",
        "    \n",
        "    return acc.item()"
      ],
      "execution_count": 30,
      "outputs": []
    },
    {
      "cell_type": "markdown",
      "metadata": {
        "id": "JdMXHSkPT8mb"
      },
      "source": [
        "### Evaluating Function"
      ]
    },
    {
      "cell_type": "code",
      "metadata": {
        "id": "bxwfSZYmT8mb"
      },
      "source": [
        "def evaluate(model, iterator, criterion):\n",
        "    total_loss = 0\n",
        "    total_acc = 0\n",
        "    \n",
        "    model.eval()\n",
        "    with torch.no_grad():\n",
        "        for batch in iterator:\n",
        "            x = batch.TEXT.to(device)\n",
        "            y = batch.LABEL\n",
        "            #  print(text_lengths.shape)\n",
        "            out = model(x)\n",
        "#           k out = model(batch.REVIEWS)\n",
        "            scores = out.squeeze(1)\n",
        "            \n",
        "            loss = criterion(scores, y.to(device))\n",
        "            acc = batch_accuracy(scores.to('cpu'),y)\n",
        "            \n",
        "            total_acc+=acc\n",
        "            total_loss+=loss.item()\n",
        "    \n",
        "    return total_loss/len(iterator), total_acc/len(iterator)"
      ],
      "execution_count": 31,
      "outputs": []
    },
    {
      "cell_type": "markdown",
      "metadata": {
        "id": "AyQsNgMpT8mb"
      },
      "source": [
        "### Training Loop"
      ]
    },
    {
      "cell_type": "code",
      "metadata": {
        "id": "5QmUNoOHT8mb"
      },
      "source": [
        "NUM_EPOCHS = 5"
      ],
      "execution_count": 32,
      "outputs": []
    },
    {
      "cell_type": "code",
      "metadata": {
        "colab": {
          "base_uri": "https://localhost:8080/"
        },
        "id": "pdrQt_VAT8mc",
        "outputId": "2d9ec5e2-35b6-40d5-d6a5-82fec2878ef2"
      },
      "source": [
        "!nvidia-smi"
      ],
      "execution_count": null,
      "outputs": [
        {
          "output_type": "stream",
          "text": [
            "Sat May  8 12:03:00 2021       \n",
            "+-----------------------------------------------------------------------------+\n",
            "| NVIDIA-SMI 465.19.01    Driver Version: 460.32.03    CUDA Version: 11.2     |\n",
            "|-------------------------------+----------------------+----------------------+\n",
            "| GPU  Name        Persistence-M| Bus-Id        Disp.A | Volatile Uncorr. ECC |\n",
            "| Fan  Temp  Perf  Pwr:Usage/Cap|         Memory-Usage | GPU-Util  Compute M. |\n",
            "|                               |                      |               MIG M. |\n",
            "|===============================+======================+======================|\n",
            "|   0  Tesla T4            Off  | 00000000:00:04.0 Off |                    0 |\n",
            "| N/A   53C    P0    27W /  70W |   1082MiB / 15109MiB |      0%      Default |\n",
            "|                               |                      |                  N/A |\n",
            "+-------------------------------+----------------------+----------------------+\n",
            "                                                                               \n",
            "+-----------------------------------------------------------------------------+\n",
            "| Processes:                                                                  |\n",
            "|  GPU   GI   CI        PID   Type   Process name                  GPU Memory |\n",
            "|        ID   ID                                                   Usage      |\n",
            "|=============================================================================|\n",
            "+-----------------------------------------------------------------------------+\n"
          ],
          "name": "stdout"
        }
      ]
    },
    {
      "cell_type": "code",
      "metadata": {
        "id": "p2oeLoaHb06N"
      },
      "source": [
        "from tqdm import notebook"
      ],
      "execution_count": 33,
      "outputs": []
    },
    {
      "cell_type": "code",
      "metadata": {
        "colab": {
          "base_uri": "https://localhost:8080/",
          "height": 281,
          "referenced_widgets": [
            "a6f7cd6a88504c4cb8cdaae0efe6f748",
            "f922e150b20542e4b524971e95ed6409",
            "c88107bf353442b492d453340940579d",
            "e2f5cf03fb3d438d89d4e27872e18821",
            "4d5eec2eba834c9f90ff35cff5e8d7c5",
            "7f9088c75c1b4cbe96a6c219dd8cb63f",
            "587e7a69b0984b1ca1f22f5977c0ac36",
            "646f0747dd5c40848013fed8f090bb11",
            "73e4714c0efd468085481b6022e7ef60",
            "5320c20334454cedb32c6aa8e5a329bb",
            "8004fd69de31458d84fb53833aa16d79",
            "c28415ee26244e07b5aa86b1ae0b196f",
            "268a7b679d0748feb348c07ca4b57ffc",
            "f6c6adf1c9b14870841fb243a7c7e4e6",
            "8666bbfbd2e442a485dba790280692da",
            "10c2c64ab6d441eb98a1011fd2dc0594",
            "c370271c5af4436db511def6fa5ce460",
            "0d43245d6d4b4940a66189080f48686b",
            "46bdf6fcc18043e38f26bf442582d8b6",
            "c07fce7dd69247d49c6427288a12eae8",
            "d4a2d1d25bc14687b3d71bcee9c456e2",
            "9387048085c340e18836bca276be8dd9",
            "1355f9595d0541dcacbf957391886d68",
            "e6c03eaf9cdc47f8ab1a64e1dca47e94",
            "c8248881ea124993bbf0e80cc3a6cab2",
            "786032a74a3846039df7171d06862922",
            "0673e5b9268a446c8fee7b91f4708cd9",
            "6697c3259be74846b7e777261f41912b",
            "79939e443c6c4161a4e288b55b036f64",
            "58bfdb28eb6b4981b6bebfb2a99804b4",
            "ba050868f34f4dbf8ada0106c0dc662c",
            "8ad0854a7b654f2c864d230e34534b5c",
            "bd5cec7fc7384bccba0071bdaf556e1c",
            "2419b952b9394715a2cd9041437f4582",
            "94b9960b093e450aa7b6fd15a96bd288",
            "6b9be0cdbfc2406ebb4cf547fc921aba",
            "14b264106dba4e6b82c28a8a2224ff70",
            "b2f3ffa6c6dc41db801f250998cdde00",
            "26ffb99ff897404a9b548df835381510",
            "78e4f3769b8b4ea7b180f3a870f314c4"
          ]
        },
        "id": "k6qDOWSoT8mc",
        "outputId": "b441ba9d-181d-4f93-8979-c0da52ca0e5c"
      },
      "source": [
        "for epoch in range(NUM_EPOCHS):\n",
        "    loop = notebook.tqdm(train_iterator,\n",
        "                total=len(train_iterator),\n",
        "                leave=True)\n",
        "    val_loss = 0\n",
        "    val_acc = 0\n",
        "    model.train()\n",
        "    for batch in loop:\n",
        "        x = batch.TEXT.to(device)\n",
        "        y = batch.LABEL\n",
        "#         print(text_lengths.shape)\n",
        "        out = model(x)\n",
        "        scores = out.squeeze(1)\n",
        "        \n",
        "        optimizer.zero_grad()\n",
        "        \n",
        "        loss = criterion(scores, y.to(device))\n",
        "        loss.backward()\n",
        "        \n",
        "        optimizer.step()\n",
        "        \n",
        "        train_acc = batch_accuracy(scores.to('cpu'), batch.LABEL)\n",
        "        \n",
        "        loop.set_description(f\"Epoch [{epoch + 1}/{NUM_EPOCHS}]\")\n",
        "        loop.set_postfix(loss=loss.item(), train_acc=train_acc, val_loss=val_loss, val_acc=val_acc)\n",
        "                             \n",
        "        # break\n",
        "    \n",
        "    val_loss, val_acc  = evaluate(model, val_iterator, criterion)\n",
        "        \n",
        "    loop.set_postfix(loss=loss.item(), train_acc=train_acc, val_loss=val_loss, val_acc=val_acc)\n",
        " \n",
        "print(\"Done training\")"
      ],
      "execution_count": 34,
      "outputs": [
        {
          "output_type": "display_data",
          "data": {
            "application/vnd.jupyter.widget-view+json": {
              "model_id": "a6f7cd6a88504c4cb8cdaae0efe6f748",
              "version_minor": 0,
              "version_major": 2
            },
            "text/plain": [
              "HBox(children=(FloatProgress(value=0.0, max=633.0), HTML(value='')))"
            ]
          },
          "metadata": {
            "tags": []
          }
        },
        {
          "output_type": "stream",
          "text": [
            "\n"
          ],
          "name": "stdout"
        },
        {
          "output_type": "display_data",
          "data": {
            "application/vnd.jupyter.widget-view+json": {
              "model_id": "73e4714c0efd468085481b6022e7ef60",
              "version_minor": 0,
              "version_major": 2
            },
            "text/plain": [
              "HBox(children=(FloatProgress(value=0.0, max=633.0), HTML(value='')))"
            ]
          },
          "metadata": {
            "tags": []
          }
        },
        {
          "output_type": "stream",
          "text": [
            "\n"
          ],
          "name": "stdout"
        },
        {
          "output_type": "display_data",
          "data": {
            "application/vnd.jupyter.widget-view+json": {
              "model_id": "c370271c5af4436db511def6fa5ce460",
              "version_minor": 0,
              "version_major": 2
            },
            "text/plain": [
              "HBox(children=(FloatProgress(value=0.0, max=633.0), HTML(value='')))"
            ]
          },
          "metadata": {
            "tags": []
          }
        },
        {
          "output_type": "stream",
          "text": [
            "\n"
          ],
          "name": "stdout"
        },
        {
          "output_type": "display_data",
          "data": {
            "application/vnd.jupyter.widget-view+json": {
              "model_id": "c8248881ea124993bbf0e80cc3a6cab2",
              "version_minor": 0,
              "version_major": 2
            },
            "text/plain": [
              "HBox(children=(FloatProgress(value=0.0, max=633.0), HTML(value='')))"
            ]
          },
          "metadata": {
            "tags": []
          }
        },
        {
          "output_type": "stream",
          "text": [
            "\n"
          ],
          "name": "stdout"
        },
        {
          "output_type": "display_data",
          "data": {
            "application/vnd.jupyter.widget-view+json": {
              "model_id": "bd5cec7fc7384bccba0071bdaf556e1c",
              "version_minor": 0,
              "version_major": 2
            },
            "text/plain": [
              "HBox(children=(FloatProgress(value=0.0, max=633.0), HTML(value='')))"
            ]
          },
          "metadata": {
            "tags": []
          }
        },
        {
          "output_type": "stream",
          "text": [
            "\n",
            "Done training\n"
          ],
          "name": "stdout"
        }
      ]
    },
    {
      "cell_type": "code",
      "metadata": {
        "colab": {
          "base_uri": "https://localhost:8080/"
        },
        "id": "34L52BGTT8mc",
        "outputId": "9d5cfed5-a34a-4fde-ee37-9f44d9497684"
      },
      "source": [
        "print(val_loss)\n",
        "print(val_acc)"
      ],
      "execution_count": 35,
      "outputs": [
        {
          "output_type": "stream",
          "text": [
            "0.3204576610259607\n",
            "0.9045774651245332\n"
          ],
          "name": "stdout"
        }
      ]
    },
    {
      "cell_type": "markdown",
      "metadata": {
        "id": "CgVJwP7eT8mc"
      },
      "source": [
        "#### Test Evaluation"
      ]
    },
    {
      "cell_type": "code",
      "metadata": {
        "colab": {
          "base_uri": "https://localhost:8080/"
        },
        "id": "Rta-S6X4T8mc",
        "outputId": "02bed651-530f-47d9-bf5b-7969de5ca9eb"
      },
      "source": [
        "test_loss, test_acc = evaluate(model, test_iterator, criterion)\n",
        "\n",
        "print(f'Test Loss: {test_loss:.3f} | Test Acc: {test_acc*100:.2f}%')"
      ],
      "execution_count": 36,
      "outputs": [
        {
          "output_type": "stream",
          "text": [
            "Test Loss: 0.297 | Test Acc: 90.57%\n"
          ],
          "name": "stdout"
        }
      ]
    },
    {
      "cell_type": "markdown",
      "metadata": {
        "id": "KaOG6A6HT8me"
      },
      "source": [
        "### Results"
      ]
    },
    {
      "cell_type": "code",
      "metadata": {
        "id": "B2_46YOmT8me"
      },
      "source": [
        "import spacy\n",
        "spacy_en = spacy.load('en_core_web_sm')"
      ],
      "execution_count": 37,
      "outputs": []
    },
    {
      "cell_type": "code",
      "metadata": {
        "colab": {
          "base_uri": "https://localhost:8080/"
        },
        "id": "UhX0EajbT8me",
        "outputId": "ee936f69-e1c2-442a-ade8-0d0c529f860d"
      },
      "source": [
        "def tokenizer(text): # create a tokenizer function\n",
        "    return [tok.text for tok in spacy_en.tokenizer(text)]\n",
        "tokenizer(\"The quick fox can't jump over a lazy dog.\")"
      ],
      "execution_count": 38,
      "outputs": [
        {
          "output_type": "execute_result",
          "data": {
            "text/plain": [
              "['The', 'quick', 'fox', 'ca', \"n't\", 'jump', 'over', 'a', 'lazy', 'dog', '.']"
            ]
          },
          "metadata": {
            "tags": []
          },
          "execution_count": 38
        }
      ]
    },
    {
      "cell_type": "code",
      "metadata": {
        "id": "vAd36-8UT8me"
      },
      "source": [
        "def predict_sentiment(model, review):\n",
        "    model.eval()\n",
        "    tokens = tokenizer(review)\n",
        "    ngram_tokens = generate_ngrams(tokens)\n",
        "\n",
        "    # numericalized\n",
        "    indexed = [TEXT.vocab.stoi[t] for t in ngram_tokens]\n",
        "    # length = [len(indexed)]\n",
        "    print(ngram_tokens)\n",
        "    print(indexed)\n",
        "    in_tensor = torch.LongTensor(indexed).to(device)\n",
        "    in_tensor = in_tensor.unsqueeze(1)\n",
        "    # length_tensor = torch.LongTensor(length)\n",
        "\n",
        "    pred = torch.sigmoid(model(in_tensor))\n",
        "    return pred.item()"
      ],
      "execution_count": 53,
      "outputs": []
    },
    {
      "cell_type": "code",
      "metadata": {
        "colab": {
          "base_uri": "https://localhost:8080/"
        },
        "id": "9A7e4UKWT8mf",
        "outputId": "bb440d24-e7f8-471f-e6df-f8e8a93c91a2"
      },
      "source": [
        "predict_sentiment(model, \"A Okay movie, plot is simple\")"
      ],
      "execution_count": 52,
      "outputs": [
        {
          "output_type": "stream",
          "text": [
            "[175, 4292, 20, 3, 148, 9, 1071, 1311, 283, 15182, 10374, 0, 0]\n"
          ],
          "name": "stdout"
        },
        {
          "output_type": "execute_result",
          "data": {
            "text/plain": [
              "1.0"
            ]
          },
          "metadata": {
            "tags": []
          },
          "execution_count": 52
        }
      ]
    },
    {
      "cell_type": "code",
      "metadata": {
        "colab": {
          "base_uri": "https://localhost:8080/"
        },
        "id": "OsnbZTAm3t2H",
        "outputId": "1e45668f-2b7d-4581-bae8-31b6313e824f"
      },
      "source": [
        "predict_sentiment(model, \"An awesome movie, Must watch\")"
      ],
      "execution_count": 55,
      "outputs": [
        {
          "output_type": "stream",
          "text": [
            "['An', 'awesome', 'movie', ',', 'Must', 'watch', ', Must', 'movie ,', 'awesome movie', 'Must watch', 'An awesome']\n",
            "[1661, 2483, 20, 3, 20490, 142, 0, 283, 0, 0, 0]\n"
          ],
          "name": "stdout"
        },
        {
          "output_type": "execute_result",
          "data": {
            "text/plain": [
              "1.0"
            ]
          },
          "metadata": {
            "tags": []
          },
          "execution_count": 55
        }
      ]
    },
    {
      "cell_type": "code",
      "metadata": {
        "colab": {
          "base_uri": "https://localhost:8080/"
        },
        "id": "4ETT8hmx4EHE",
        "outputId": "2d146834-c8f7-49e6-9499-17050dd02048"
      },
      "source": [
        "predict_sentiment(model, \"This film is terrible\")"
      ],
      "execution_count": 56,
      "outputs": [
        {
          "output_type": "stream",
          "text": [
            "['This', 'film', 'is', 'terrible', 'film is', 'is terrible', 'This film']\n",
            "[70, 24, 9, 654, 291, 6526, 804]\n"
          ],
          "name": "stdout"
        },
        {
          "output_type": "execute_result",
          "data": {
            "text/plain": [
              "1.0248406475937834e-28"
            ]
          },
          "metadata": {
            "tags": []
          },
          "execution_count": 56
        }
      ]
    }
  ]
}