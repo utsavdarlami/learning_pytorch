{
 "cells": [
  {
   "cell_type": "markdown",
   "metadata": {},
   "source": [
    "# LeNet 5"
   ]
  },
  {
   "cell_type": "markdown",
   "metadata": {},
   "source": [
    "### From Paper\n",
    "- http://yann.lecun.com/exdb/publis/pdf/lecun-98.pdf"
   ]
  },
  {
   "cell_type": "markdown",
   "metadata": {},
   "source": [
    "## LeNet-5 Architecture\n",
    "\n",
    "![](./LeNet-5.png)"
   ]
  },
  {
   "cell_type": "markdown",
   "metadata": {},
   "source": [
    "### Base Imports"
   ]
  },
  {
   "cell_type": "code",
   "execution_count": 349,
   "metadata": {},
   "outputs": [],
   "source": [
    "import torch\n",
    "from torch import nn, optim\n",
    "\n",
    "from torchvision import datasets, transforms\n",
    "from torch.utils.data import DataLoader"
   ]
  },
  {
   "cell_type": "markdown",
   "metadata": {},
   "source": [
    "### Setting the device"
   ]
  },
  {
   "cell_type": "code",
   "execution_count": 15,
   "metadata": {},
   "outputs": [
    {
     "name": "stdout",
     "output_type": "stream",
     "text": [
      "cuda is available\n"
     ]
    },
    {
     "data": {
      "text/plain": [
       "device(type='cuda')"
      ]
     },
     "execution_count": 15,
     "metadata": {},
     "output_type": "execute_result"
    }
   ],
   "source": [
    "available_device = \"cuda\" if torch.cuda.is_available() else \"cpu\"\n",
    "print(f\"{available_device} is available\")\n",
    "device = torch.device(device=available_device)\n",
    "device"
   ]
  },
  {
   "cell_type": "markdown",
   "metadata": {},
   "source": [
    "### Let's Load the Dataset for MNIST"
   ]
  },
  {
   "cell_type": "markdown",
   "metadata": {},
   "source": [
    "Note : \n",
    "    \n",
    " - The MNIST dataset consists of image of dimensions 1 * 28 * 28, but LeNet-5 takes 32*32,\n",
    "so we need to pad the image by 2 in every side\n",
    "    \n",
    " - Padding in pytorch https://pytorch.org/vision/0.8/transforms.html#torchvision.transforms.Pad"
   ]
  },
  {
   "cell_type": "code",
   "execution_count": 37,
   "metadata": {},
   "outputs": [],
   "source": [
    "transform = transforms.Compose([\n",
    "                                transforms.ToTensor(),\n",
    "                                transforms.Pad(2),\n",
    "#                                 transforms.Resize((32,32))\n",
    "                        ])\n",
    "\n",
    "train_set = datasets.MNIST(root=\"../pytorch_dataset/\", \n",
    "                          download=True,\n",
    "                          transform=transform)\n",
    "\n",
    "test_set = datasets.MNIST(root=\"../pytorch_dataset/\", \n",
    "                          train=False,\n",
    "                          download=True,\n",
    "                          transform=transform)"
   ]
  },
  {
   "cell_type": "markdown",
   "metadata": {},
   "source": [
    "## Creating the Dataloader"
   ]
  },
  {
   "cell_type": "markdown",
   "metadata": {},
   "source": [
    "#### [Later Removed] Creating Collate class to remove the extra 1 channel in the input,\n",
    "- I could done in the trainning loop but i wanted to learn to use collate_fn parameter of the Dataloader\n",
    "class\n",
    "- Note I didn't use collate because we need to passs 1 * 32 * 32 image"
   ]
  },
  {
   "cell_type": "code",
   "execution_count": 38,
   "metadata": {},
   "outputs": [],
   "source": [
    "batch_size = 64"
   ]
  },
  {
   "cell_type": "code",
   "execution_count": 36,
   "metadata": {},
   "outputs": [],
   "source": [
    "# class SequeezeChannel:\n",
    "#     def __init__(self):\n",
    "# #         self.dim = dim\n",
    "#         pass\n",
    "#     def __call__(self,batch):\n",
    "#         images = [item[0].squeeze() for item in batch]\n",
    "# #         print(images[0].shape)\n",
    "#         images = torch.stack(images)\n",
    "# #         print(images.shape)\n",
    "#         labels = [item[1] for item in batch]\n",
    "#         labels = torch.tensor(labels)\n",
    "\n",
    "#         return images, labels\n",
    "        "
   ]
  },
  {
   "cell_type": "code",
   "execution_count": 281,
   "metadata": {},
   "outputs": [
    {
     "name": "stdout",
     "output_type": "stream",
     "text": [
      "torch.Size([64, 1, 32, 32])\n",
      "torch.Size([64])\n"
     ]
    }
   ],
   "source": [
    "train_loader = DataLoader(train_set, shuffle=True, batch_size=batch_size,\n",
    "                          pin_memory=True,)\n",
    "\n",
    "# collate_fn=SequeezeChannel(),   \n",
    "test_loader = DataLoader(test_set, shuffle=True, batch_size=batch_size,             \n",
    "                         pin_memory=True,)\n",
    "for x,y in train_loader:\n",
    "    print(x.shape)\n",
    "    print(y.shape)\n",
    "    break"
   ]
  },
  {
   "cell_type": "markdown",
   "metadata": {},
   "source": [
    "## Looking into the loaders"
   ]
  },
  {
   "cell_type": "code",
   "execution_count": 342,
   "metadata": {},
   "outputs": [
    {
     "data": {
      "image/png": "[encoded data removed]",
      "text/plain": [
       "<Figure size 432x288 with 1 Axes>"
      ]
     },
     "metadata": {
      "needs_background": "light"
     },
     "output_type": "display_data"
    },
    {
     "name": "stdout",
     "output_type": "stream",
     "text": [
      "        1         0         9         3\n"
     ]
    }
   ],
   "source": [
    "import matplotlib.pyplot as plt\n",
    "import numpy as np\n",
    "import torchvision\n",
    "# functions to show an image\n",
    "classes = ('0', '1', '2', '3', '4', \n",
    "           '5', '6', '7', '8', '9')\n",
    "\n",
    "def imshow(img):\n",
    "    img = img / 2 + 0.5     # unnormalize\n",
    "    npimg = img.numpy()\n",
    "    plt.imshow(np.transpose(npimg, (1, 2, 0)))\n",
    "    plt.show()\n",
    "\n",
    "\n",
    "# get some random test images\n",
    "images, labels = next(iter(test_loader))\n",
    "\n",
    "# show images\n",
    "imshow(torchvision.utils.make_grid(images[:4]))\n",
    "\n",
    "# print labels\n",
    "print(' '.join('%9s' % classes[labels[j]] for j in range(4)))\n"
   ]
  },
  {
   "cell_type": "markdown",
   "metadata": {},
   "source": [
    "## Showing a single batch"
   ]
  },
  {
   "cell_type": "code",
   "execution_count": 343,
   "metadata": {},
   "outputs": [
    {
     "data": {
      "image/png": "[encoded data removed]",
      "text/plain": [
       "<Figure size 432x288 with 1 Axes>"
      ]
     },
     "metadata": {
      "needs_background": "light"
     },
     "output_type": "display_data"
    }
   ],
   "source": [
    "imshow(torchvision.utils.make_grid(images))"
   ]
  },
  {
   "cell_type": "markdown",
   "metadata": {},
   "source": [
    "## Creating LeNet-5 Architecture"
   ]
  },
  {
   "cell_type": "markdown",
   "metadata": {},
   "source": [
    "### Convolution Layer Pytorch Documentation\n",
    "\n",
    "$$ Input: (N, C_{in}, H_{in}, W_{in}) $$\n",
    "\n",
    "$$ Output: (N, C_{out}, H_{out}, W_{out}) $$\n",
    "\n",
    "$$where,$$\n",
    "\n",
    "$$H_{out} = \\left\\lfloor\\frac{H_{in} + 2 \\times \\text{padding}[0] - \\text{dilation}[0] \\times (\\text{kernel_size}[0] - 1) - 1}{\\text{stride}[0]} + 1\\right\\rfloor$$\n",
    "\n",
    "$$W_{out} = \\left\\lfloor\\frac{W_{in} + 2 \\times \\text{padding}[1] - \\text{dilation}[1] \\times (\\text{kernel_size}[1] - 1) - 1}{\\text{stride}[1]} + 1\\right\\rfloor$$\n",
    "\n"
   ]
  },
  {
   "cell_type": "markdown",
   "metadata": {},
   "source": [
    "#### Finding the kernel size and padding\n",
    "- input : 32 * 32 image with channel 1 \n",
    "- conv1 : \n",
    "    - in channel : 1\n",
    "    - out channel : 6\n",
    "    - output_size : 28 * 28\n",
    "    - kernel size : 5 * 5\n",
    "- conv2 :\n",
    "    - in channel : 6\n",
    "    - out channel : 16\n",
    "    - output_size : 14 * 14\n",
    "    - kernel size : 5 * 5\n",
    "- conv3 :\n",
    "    - in channel : 1\n",
    "    - out channel : 6\n",
    "    - output_size : 28 * 28\n",
    "    - kernel size : 5 * 5\n",
    "- avgpooling :\n",
    "    - kernel size : 2 * 2"
   ]
  },
  {
   "cell_type": "code",
   "execution_count": 40,
   "metadata": {},
   "outputs": [],
   "source": [
    "class LeNet_5(nn.Module):\n",
    "    \n",
    "    def __init__(self, num_channels=1, num_classes=10):\n",
    "        super(LeNet_5, self).__init__()\n",
    "        self.relu = nn.ReLU()\n",
    "        self.conv1 = nn.Conv2d(num_channels, out_channels=6, kernel_size=5)\n",
    "        self.avgpool = nn.AvgPool2d(kernel_size=2)\n",
    "        self.conv2 = nn.Conv2d(in_channels=6, out_channels=16, kernel_size=5)\n",
    "        self.conv3 = nn.Conv2d(in_channels=16, out_channels=120, kernel_size=5)\n",
    "        self.fc1 = nn.Linear(120, 84)\n",
    "        self.fc2 = nn.Linear(84, 10)\n",
    "\n",
    "        \n",
    "    def forward(self,x):\n",
    "        \n",
    "#         print(x.shape)\n",
    "        x = self.relu(self.conv1(x))\n",
    "#         print(x.shape)\n",
    "        x = self.avgpool(x)\n",
    "#         print(x.shape)\n",
    "\n",
    "        x = self.relu(self.conv2(x))\n",
    "#         print(x.shape)\n",
    "\n",
    "        x = self.avgpool(x)\n",
    "#         print(x.shape)\n",
    "\n",
    "        x = self.relu(self.conv3(x))\n",
    "#         print(x.shape)\n",
    "\n",
    "        x = x.reshape(x.shape[0], -1)\n",
    "        x = self.relu(self.fc1(x))\n",
    "#         print(x.shape)\n",
    "\n",
    "        x = self.fc2(x)\n",
    "#         print(x.shape)\n",
    "\n",
    "        return x\n",
    "\n",
    "        "
   ]
  },
  {
   "cell_type": "code",
   "execution_count": 9,
   "metadata": {},
   "outputs": [
    {
     "name": "stdout",
     "output_type": "stream",
     "text": [
      "torch.Size([1, 1, 32, 32])\n",
      "initializing the model\n",
      "\n",
      "torch.Size([1, 1, 32, 32])\n",
      "torch.Size([1, 6, 28, 28])\n",
      "torch.Size([1, 6, 14, 14])\n",
      "torch.Size([1, 16, 10, 10])\n",
      "torch.Size([1, 16, 5, 5])\n",
      "torch.Size([1, 120, 1, 1])\n",
      "torch.Size([1, 84])\n",
      "torch.Size([1, 10])\n"
     ]
    },
    {
     "data": {
      "text/plain": [
       "tensor([[-0.0890,  0.0574, -0.1394, -0.1267, -0.0262, -0.0276,  0.0527, -0.0608,\n",
       "          0.1047,  0.0693]], grad_fn=<AddmmBackward>)"
      ]
     },
     "execution_count": 9,
     "metadata": {},
     "output_type": "execute_result"
    }
   ],
   "source": [
    "# x = torch.rand(1, 1, 32, 32)\n",
    "# print(x.shape)\n",
    "# print(\"initializing the model\")\n",
    "# print()\n",
    "# model = LeNet_5()\n",
    "# model(x)"
   ]
  },
  {
   "cell_type": "markdown",
   "metadata": {},
   "source": [
    "### Testing MSELoss"
   ]
  },
  {
   "cell_type": "code",
   "execution_count": 201,
   "metadata": {},
   "outputs": [
    {
     "name": "stdout",
     "output_type": "stream",
     "text": [
      "torch.Size([64, 1, 32, 32])\n",
      "initializing the model\n",
      "\n"
     ]
    }
   ],
   "source": [
    "x, target = next(iter(test_loader))\n",
    "# x_t.shape\n",
    "print(x.shape)\n",
    "print(\"initializing the model\")\n",
    "print()\n",
    "model = LeNet_5()\n",
    "y = model(x)"
   ]
  },
  {
   "cell_type": "code",
   "execution_count": 218,
   "metadata": {},
   "outputs": [
    {
     "name": "stdout",
     "output_type": "stream",
     "text": [
      "torch.Size([64, 10])\n"
     ]
    },
    {
     "data": {
      "text/plain": [
       "torch.float32"
      ]
     },
     "execution_count": 218,
     "metadata": {},
     "output_type": "execute_result"
    }
   ],
   "source": [
    "print(y.shape)\n",
    "y.dtype"
   ]
  },
  {
   "cell_type": "code",
   "execution_count": 219,
   "metadata": {},
   "outputs": [
    {
     "data": {
      "text/plain": [
       "torch.Size([640])"
      ]
     },
     "execution_count": 219,
     "metadata": {},
     "output_type": "execute_result"
    }
   ],
   "source": [
    "y.flatten().shape"
   ]
  },
  {
   "cell_type": "code",
   "execution_count": 203,
   "metadata": {},
   "outputs": [
    {
     "name": "stdout",
     "output_type": "stream",
     "text": [
      "torch.Size([64])\n"
     ]
    },
    {
     "data": {
      "text/plain": [
       "torch.int64"
      ]
     },
     "execution_count": 203,
     "metadata": {},
     "output_type": "execute_result"
    }
   ],
   "source": [
    "print(target.shape)\n",
    "target.dtype"
   ]
  },
  {
   "cell_type": "code",
   "execution_count": 204,
   "metadata": {},
   "outputs": [
    {
     "name": "stdout",
     "output_type": "stream",
     "text": [
      "torch.Size([64])\n"
     ]
    },
    {
     "data": {
      "text/plain": [
       "torch.float32"
      ]
     },
     "execution_count": 204,
     "metadata": {},
     "output_type": "execute_result"
    }
   ],
   "source": [
    "f_target = target.float()\n",
    "print(f_target.shape)\n",
    "f_target.dtype"
   ]
  },
  {
   "cell_type": "code",
   "execution_count": 205,
   "metadata": {},
   "outputs": [
    {
     "data": {
      "text/plain": [
       "torch.Size([64, 1])"
      ]
     },
     "execution_count": 205,
     "metadata": {},
     "output_type": "execute_result"
    }
   ],
   "source": [
    "f_target.unsqueeze(dim=1).shape"
   ]
  },
  {
   "cell_type": "code",
   "execution_count": 206,
   "metadata": {},
   "outputs": [
    {
     "data": {
      "text/plain": [
       "torch.float32"
      ]
     },
     "execution_count": 206,
     "metadata": {},
     "output_type": "execute_result"
    }
   ],
   "source": [
    "u_f_target = f_target.unsqueeze(dim=1)\n",
    "u_f_target.dtype"
   ]
  },
  {
   "cell_type": "code",
   "execution_count": 207,
   "metadata": {},
   "outputs": [],
   "source": [
    "loss_test = nn.MSELoss()\n",
    "output_x = loss_test(y, u_f_target)\n",
    "# output.item()\n",
    "output_x.backward()"
   ]
  },
  {
   "cell_type": "code",
   "execution_count": 194,
   "metadata": {},
   "outputs": [
    {
     "data": {
      "text/plain": [
       "torch.float32"
      ]
     },
     "execution_count": 194,
     "metadata": {},
     "output_type": "execute_result"
    }
   ],
   "source": [
    "output_x.dtype"
   ]
  },
  {
   "cell_type": "code",
   "execution_count": 208,
   "metadata": {},
   "outputs": [
    {
     "data": {
      "text/plain": [
       "tensor(23.7532, grad_fn=<MseLossBackward>)"
      ]
     },
     "execution_count": 208,
     "metadata": {},
     "output_type": "execute_result"
    }
   ],
   "source": [
    "output_x"
   ]
  },
  {
   "cell_type": "code",
   "execution_count": 197,
   "metadata": {},
   "outputs": [
    {
     "name": "stdout",
     "output_type": "stream",
     "text": [
      "torch.Size([64, 1, 32, 32])\n",
      "initializing the model\n",
      "\n"
     ]
    }
   ],
   "source": [
    "x, target = next(iter(test_loader))\n",
    "# x_t.shape\n",
    "print(x.shape)\n",
    "print(\"initializing the model\")\n",
    "print()\n",
    "model = LeNet_5()\n",
    "y = model(x)"
   ]
  },
  {
   "cell_type": "markdown",
   "metadata": {},
   "source": [
    "### Testing CrossEntropyLoss()"
   ]
  },
  {
   "cell_type": "code",
   "execution_count": 198,
   "metadata": {},
   "outputs": [],
   "source": [
    "new_loss = nn.CrossEntropyLoss()\n",
    "output_n = new_loss(y, target)\n",
    "# output.item()\n",
    "output_n.backward()"
   ]
  },
  {
   "cell_type": "code",
   "execution_count": 199,
   "metadata": {},
   "outputs": [
    {
     "data": {
      "text/plain": [
       "tensor(2.2922, grad_fn=<NllLossBackward>)"
      ]
     },
     "execution_count": 199,
     "metadata": {},
     "output_type": "execute_result"
    }
   ],
   "source": [
    "output_n"
   ]
  },
  {
   "cell_type": "markdown",
   "metadata": {},
   "source": [
    "## Initialize the model"
   ]
  },
  {
   "cell_type": "code",
   "execution_count": 220,
   "metadata": {},
   "outputs": [],
   "source": [
    "lenet5_model = LeNet_5(num_channels=1, num_classes=10).to(device)"
   ]
  },
  {
   "cell_type": "markdown",
   "metadata": {},
   "source": [
    "## Defining Criterion and Optimizer"
   ]
  },
  {
   "cell_type": "code",
   "execution_count": 221,
   "metadata": {},
   "outputs": [],
   "source": [
    "lr = 0.02  # learning rate"
   ]
  },
  {
   "cell_type": "code",
   "execution_count": 222,
   "metadata": {},
   "outputs": [],
   "source": [
    "criterion = nn.CrossEntropyLoss()\n",
    "# criterion = nn.MSELoss(reduction='mean') #nn.MSELoss()\n",
    "\n",
    "optimizer = optim.SGD(lenet5_model.parameters(), lr=lr)"
   ]
  },
  {
   "cell_type": "markdown",
   "metadata": {},
   "source": [
    "### Defining the accuracy in a batch for the model"
   ]
  },
  {
   "cell_type": "code",
   "execution_count": 238,
   "metadata": {},
   "outputs": [],
   "source": [
    "def accuracy_batch(x_test, y_test, model,cuda=True):\n",
    "    n_correct = 0\n",
    "    n_total = 0\n",
    "    model.eval()\n",
    "    \n",
    "    with torch.no_grad():\n",
    "        if cuda:\n",
    "            x_test = x_test.to(device)\n",
    "            y_test = y_test.to(device=device)\n",
    "#         x_test = x_test.float()/255\n",
    "\n",
    "        preds = model(x_test)\n",
    "        _, preds_idx = preds.max(1)\n",
    "        n_correct += (preds_idx==y_test).sum().item()\n",
    "        n_total += x_test.size(0)\n",
    "        \n",
    "    model.train()\n",
    "\n",
    "#     print(f\"Out of {n_total} images {n_correct} where correctly classified\")\n",
    "    acc = (n_correct/n_total) * 100\n",
    "#     print(f\"Accuracy of the model is {acc:.2f}\") \n",
    "    return acc, preds_idx"
   ]
  },
  {
   "cell_type": "markdown",
   "metadata": {},
   "source": [
    "## Training the lenet-5 in MNIST Data"
   ]
  },
  {
   "cell_type": "code",
   "execution_count": 214,
   "metadata": {},
   "outputs": [],
   "source": [
    "from tqdm import tqdm  # for progress bar"
   ]
  },
  {
   "cell_type": "code",
   "execution_count": 223,
   "metadata": {},
   "outputs": [],
   "source": [
    "num_epochs = 5"
   ]
  },
  {
   "cell_type": "code",
   "execution_count": 224,
   "metadata": {},
   "outputs": [
    {
     "name": "stderr",
     "output_type": "stream",
     "text": [
      "Epoch [0/5]: 100%|██████████| 938/938 [00:10<00:00, 87.28it/s, acc=42.2, loss=2.14]\n",
      "Epoch [1/5]: 100%|██████████| 938/938 [00:10<00:00, 87.43it/s, acc=93.8, loss=0.555]\n",
      "Epoch [2/5]: 100%|██████████| 938/938 [00:10<00:00, 86.94it/s, acc=93.8, loss=0.157] \n",
      "Epoch [3/5]: 100%|██████████| 938/938 [00:10<00:00, 86.67it/s, acc=96.9, loss=0.0836]\n",
      "Epoch [4/5]: 100%|██████████| 938/938 [00:10<00:00, 86.51it/s, acc=100, loss=0.252]  "
     ]
    },
    {
     "name": "stdout",
     "output_type": "stream",
     "text": [
      "training done\n"
     ]
    },
    {
     "name": "stderr",
     "output_type": "stream",
     "text": [
      "\n"
     ]
    }
   ],
   "source": [
    "for epoch in range(num_epochs):\n",
    "    losses = []\n",
    "    loop = tqdm(enumerate(train_loader), total=len(train_loader), leave=True)\n",
    "    for batch_idx, (x_train, y_train) in loop:\n",
    "        x_train = x_train.to(device)\n",
    "        y_train = y_train.to(device)\n",
    "#         x_train = x_train.float()/255\n",
    "        \n",
    "        # zero the parameter gradients\n",
    "        optimizer.zero_grad()\n",
    "        \n",
    "        output = lenet5_model(x_train) # shape: batch * num_classes\n",
    "        \n",
    "#         y_pred, index = output.max(dim=1)  # take the max value ,shape=batch\n",
    "#         f_target = y_train.float()\n",
    "#         u_f_target = f_target.unsqueeze(dim=1)\n",
    "        \n",
    "#         loss = criterion(output, u_f_target)\n",
    "        loss = criterion(output, y_train)\n",
    "\n",
    "#         loss = loss.float()\n",
    "        losses.append(loss.item())\n",
    "        \n",
    "        loss.backward()\n",
    "        \n",
    "        optimizer.step()\n",
    "        \n",
    "        if batch_idx%15 == 0:\n",
    "            accuracy, _ = accuracy_batch(x_train, y_train, lenet5_model, cuda=True)\n",
    "        \n",
    "        loop.set_description(f\"Epoch [{epoch}/{num_epochs}]\")\n",
    "        loop.set_postfix(loss=loss.item(), acc=accuracy)\n",
    "#     print(f\" loss at the end of {epoch} epoch is {loss}\")\n",
    "\n",
    "print(\"training done\")"
   ]
  },
  {
   "cell_type": "markdown",
   "metadata": {},
   "source": [
    "## Accuracy in the test loader "
   ]
  },
  {
   "cell_type": "code",
   "execution_count": 116,
   "metadata": {},
   "outputs": [],
   "source": [
    "def accuracy_loader(test_loader, model,cuda=True):\n",
    "    n_correct = 0\n",
    "    n_total = 0\n",
    "    model.eval()\n",
    "    with torch.no_grad():\n",
    "        for x_test, y_test in test_loader:\n",
    "            if cuda:\n",
    "                x_test = x_test.to(device)\n",
    "                y_test = y_test.to(device=device)\n",
    "#             x_test = x_test.float()/255\n",
    "            preds = model(x_test)\n",
    "            _, preds_idx = preds.max(1)\n",
    "            n_correct += (preds_idx==y_test).sum().item()\n",
    "            n_total += x_test.size(0)\n",
    "    model.train()\n",
    "\n",
    "    print(f\"Out of {n_total} images {n_correct} where correctly classified\")\n",
    "    acc = (n_correct/n_total) * 100\n",
    "    print(f\"Accuracy of the model is {acc:.2f}\") \n",
    "#     return accc"
   ]
  },
  {
   "cell_type": "code",
   "execution_count": 225,
   "metadata": {},
   "outputs": [
    {
     "name": "stdout",
     "output_type": "stream",
     "text": [
      "Out of 10000 images 9561 where correctly classified\n",
      "Accuracy of the model is 95.61\n"
     ]
    }
   ],
   "source": [
    "accuracy_loader(test_loader, lenet5_model,cuda=True)"
   ]
  },
  {
   "cell_type": "markdown",
   "metadata": {},
   "source": [
    "##  Show input and the predictions made by the model"
   ]
  },
  {
   "cell_type": "code",
   "execution_count": 340,
   "metadata": {},
   "outputs": [
    {
     "data": {
      "image/png": "[encoded data removed]",
      "text/plain": [
       "<Figure size 432x288 with 1 Axes>"
      ]
     },
     "metadata": {
      "needs_background": "light"
     },
     "output_type": "display_data"
    },
    {
     "name": "stdout",
     "output_type": "stream",
     "text": [
      "Actual\n",
      "       3        3        6        2        7\n",
      "Predictions\n",
      "       3        5        6        2        7\n"
     ]
    }
   ],
   "source": [
    "# get some random training images\n",
    "images, labels = next(iter(test_loader))\n",
    "\n",
    "f_images = images[:5]\n",
    "f_labels = labels[:5]\n",
    "\n",
    "# show images\n",
    "imshow(torchvision.utils.make_grid(f_images))\n",
    "\n",
    "# print labels\n",
    "print(\"Actual\")\n",
    "print(' '.join('%8s' % classes[l.item()] for l in f_labels)) #for j in range(4)))\n",
    "            \n",
    "_, preds = accuracy_batch(images[:5], labels[:5], lenet5_model, cuda=True)\n",
    "\n",
    "print(\"Predictions\")\n",
    "print(' '.join('%8s' % classes[pred_idx] for pred_idx in preds))\n"
   ]
  }
 ],
 "metadata": {
  "kernelspec": {
   "display_name": "Python 3",
   "language": "python",
   "name": "python3"
  },
  "language_info": {
   "codemirror_mode": {
    "name": "ipython",
    "version": 3
   },
   "file_extension": ".py",
   "mimetype": "text/x-python",
   "name": "python",
   "nbconvert_exporter": "python",
   "pygments_lexer": "ipython3",
   "version": "3.8.5"
  }
 },
 "nbformat": 4,
 "nbformat_minor": 4
}
