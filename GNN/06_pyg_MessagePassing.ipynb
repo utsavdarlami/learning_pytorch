{
 "cells": [
  {
   "cell_type": "markdown",
   "id": "b23ffbe0",
   "metadata": {},
   "source": [
    "# Understanding MessagePassing in Pytorch Geometric"
   ]
  },
  {
   "cell_type": "markdown",
   "id": "79844621",
   "metadata": {},
   "source": [
    "## Resources\n",
    "- https://pytorch-geometric.readthedocs.io/en/latest/notes/create_gnn.html\n",
    "- http://pages.di.unipi.it/citraro/files/slides/Landolfi_tutorial.pdf\n",
    "- https://towardsdatascience.com/hands-on-graph-neural-networks-with-pytorch-pytorch-geometric-359487e221a8\n",
    "- https://www.notion.so/Graph-Neural-Networks-for-Novice-Math-Fanatics-fbd3e24de151412eb8915be11d4525d5"
   ]
  },
  {
   "cell_type": "code",
   "execution_count": 18,
   "id": "bf7c848b",
   "metadata": {},
   "outputs": [],
   "source": [
    "import networkx as nx\n",
    "import numpy as np\n",
    "import matplotlib.pyplot as plt\n",
    "from loguru import logger"
   ]
  },
  {
   "cell_type": "code",
   "execution_count": 159,
   "id": "48a97104",
   "metadata": {},
   "outputs": [],
   "source": [
    "import torch\n",
    "from torch_geometric.data import Data\n",
    "from torch_geometric.nn import MessagePassing\n",
    "from torch_geometric.utils import add_self_loops, degree\n",
    "from torch_scatter import scatter"
   ]
  },
  {
   "cell_type": "code",
   "execution_count": 2,
   "id": "3d49c300",
   "metadata": {},
   "outputs": [],
   "source": [
    "edge_index = torch.tensor([[0, 1],\n",
    "                           [1, 0],\n",
    "                           [1, 2],\n",
    "                           [2, 1]], dtype=torch.long)\n",
    "x = torch.tensor([[-1], [0], [1]], dtype=torch.float)"
   ]
  },
  {
   "cell_type": "code",
   "execution_count": 4,
   "id": "d0466dde",
   "metadata": {},
   "outputs": [
    {
     "data": {
      "text/plain": [
       "tensor([[0, 1],\n",
       "        [1, 0],\n",
       "        [1, 2],\n",
       "        [2, 1]])"
      ]
     },
     "execution_count": 4,
     "metadata": {},
     "output_type": "execute_result"
    }
   ],
   "source": [
    "edge_index"
   ]
  },
  {
   "cell_type": "code",
   "execution_count": 9,
   "id": "2f906730",
   "metadata": {},
   "outputs": [
    {
     "data": {
      "text/plain": [
       "array([[0, 1],\n",
       "       [1, 0],\n",
       "       [1, 2],\n",
       "       [2, 1]])"
      ]
     },
     "execution_count": 9,
     "metadata": {},
     "output_type": "execute_result"
    }
   ],
   "source": [
    "edges = edge_index.numpy()\n",
    "edges"
   ]
  },
  {
   "cell_type": "code",
   "execution_count": 13,
   "id": "e38a2262",
   "metadata": {},
   "outputs": [
    {
     "data": {
      "image/png": "[encoded data removed]",
      "text/plain": [
       "<Figure size 432x288 with 1 Axes>"
      ]
     },
     "metadata": {},
     "output_type": "display_data"
    }
   ],
   "source": [
    "G = nx.Graph()\n",
    "G.add_edges_from(edges)\n",
    "nx.draw_networkx(G, with_labels=False, node_size=20)"
   ]
  },
  {
   "cell_type": "code",
   "execution_count": 14,
   "id": "a00f6c9d",
   "metadata": {},
   "outputs": [],
   "source": [
    "data = Data(x=x, edge_index=edge_index.t().contiguous())"
   ]
  },
  {
   "cell_type": "code",
   "execution_count": 15,
   "id": "41e842c3",
   "metadata": {},
   "outputs": [
    {
     "data": {
      "text/plain": [
       "Data(x=[3, 1], edge_index=[2, 4])"
      ]
     },
     "execution_count": 15,
     "metadata": {},
     "output_type": "execute_result"
    }
   ],
   "source": [
    "data"
   ]
  },
  {
   "cell_type": "code",
   "execution_count": 203,
   "id": "e384b78b",
   "metadata": {},
   "outputs": [],
   "source": [
    "\"\"\"\n",
    "- What information does row and col hold?\n",
    "- What does degree() do?\n",
    "- Why do we use degree(col, ...) rather than degree(row, ...)?\n",
    "- What does deg_inv_sqrt[col] and deg_inv_sqrt[row] do?\n",
    "- What information does x_j hold in the message() function? If self.lin denotes the identity function, what is the exact content of x_j?\n",
    "- Add an update() function to GCNConv that adds transformed central node features to the aggregated output.\n",
    "\"\"\"\n",
    "class DummyGConv(MessagePassing):\n",
    "    def __init__(self, in_dim=1, out_dim=2):\n",
    "        super().__init__(aggr='add')\n",
    "        self.linear = torch.nn.Linear(in_dim, out_dim)\n",
    "    \n",
    "    def forward(self, x, edge_index):\n",
    "        edge_index, _ = add_self_loops(edge_index, num_nodes=x.shape[0])\n",
    "#         logger.info(edge_index.shape)\n",
    "        row, col = edge_index\n",
    "        deg = degree(col, x.shape[0], dtype=x.dtype) # we can use both row and col\n",
    "        logger.info(deg)\n",
    "        deg_inv_sqrt = deg.pow(0.5)\n",
    "        deg_inv_sqrt[deg_inv_sqrt == float(\"inf\")] = 0\n",
    "#         logger.info(deg_inv_sqrt)\n",
    "#         logger.info(deg_inv_sqrt[row])\n",
    "#         logger.info(deg_inv_sqrt[col])\n",
    "        norm  = deg_inv_sqrt[row] * deg_inv_sqrt[col]\n",
    "#         logger.info(norm)\n",
    "        logger.info(f\"|before linear layer {x.shape}|\") \n",
    "        x = self.linear(x)\n",
    "        logger.info(x)\n",
    "        logger.info(f\"|after linear layer {x.shape}|\") \n",
    "        \n",
    "        out = self.propagate(edge_index, x=x, norm=norm)  \n",
    "        # the propagate calls \n",
    "           # - message\n",
    "           # - aggregate\n",
    "           # - update\n",
    "        return out\n",
    "    \n",
    "    \n",
    "    def my_exp(self, msg, edge_index):\n",
    "        row, col = edge_index\n",
    "        re = scatter(msg, col, dim=0, reduce='sum') # Scatter can be used to aggreg\n",
    "        logger.info(re)\n",
    "        \n",
    "    def message(self, x_i, x_j, norm, edge_index):\n",
    "        # x_i and  x_j is the node feature of nodes in source and nodes in destination respectively\n",
    "        logger.info(f\"{x_i.shape}\")\n",
    "        logger.info(f\"{x_j.shape}\")\n",
    "        # x_j has shape [E, Out channels]\n",
    "        logger.info(f\"{norm.shape}\")\n",
    "        logger.info(f\"{norm.view(-1, 1).shape}\")\n",
    "        msg = norm.view(-1, 1) * x_j # element wise product\n",
    "        logger.info(f\"{msg.shape}\")\n",
    "        logger.info(f\"{msg}\")\n",
    "        # now this msg goes to aggregation part\n",
    "        \n",
    "        self.my_exp(msg, edge_index)\n",
    "        \n",
    "        return msg \n",
    "    \n",
    "    def update(self, aggr_out, x):\n",
    "        logger.info(x)\n",
    "        logger.info(aggr_out)\n",
    "        return aggr_out"
   ]
  },
  {
   "cell_type": "code",
   "execution_count": 204,
   "id": "e5bb0ead",
   "metadata": {},
   "outputs": [],
   "source": [
    "dummy_gconv = DummyGConv(in_dim=1, out_dim=2)"
   ]
  },
  {
   "cell_type": "code",
   "execution_count": 205,
   "id": "1c421eef",
   "metadata": {},
   "outputs": [
    {
     "name": "stderr",
     "output_type": "stream",
     "text": [
      "2022-03-05 23:46:49.332 | INFO     | __main__:forward:22 - tensor([2., 3., 2.])\n",
      "2022-03-05 23:46:49.334 | INFO     | __main__:forward:30 - |before linear layer torch.Size([3, 1])|\n",
      "2022-03-05 23:46:49.335 | INFO     | __main__:forward:32 - tensor([[-0.7692, -0.1593],\n",
      "        [-0.8021, -0.1963],\n",
      "        [-0.8350, -0.2333]], grad_fn=<AddmmBackward>)\n",
      "2022-03-05 23:46:49.337 | INFO     | __main__:forward:33 - |after linear layer torch.Size([3, 2])|\n",
      "2022-03-05 23:46:49.338 | INFO     | __main__:message:50 - torch.Size([7, 2])\n",
      "2022-03-05 23:46:49.338 | INFO     | __main__:message:51 - torch.Size([7, 2])\n",
      "2022-03-05 23:46:49.339 | INFO     | __main__:message:53 - torch.Size([7])\n",
      "2022-03-05 23:46:49.340 | INFO     | __main__:message:54 - torch.Size([7, 1])\n",
      "2022-03-05 23:46:49.340 | INFO     | __main__:message:56 - torch.Size([7, 2])\n",
      "2022-03-05 23:46:49.342 | INFO     | __main__:message:57 - tensor([[-1.8841, -0.3901],\n",
      "        [-1.9647, -0.4808],\n",
      "        [-1.9647, -0.4808],\n",
      "        [-2.0453, -0.5715],\n",
      "        [-1.5384, -0.3185],\n",
      "        [-2.4062, -0.5888],\n",
      "        [-1.6700, -0.4666]], grad_fn=<MulBackward0>)\n",
      "2022-03-05 23:46:49.342 | INFO     | __main__:my_exp:46 - tensor([[-3.5030, -0.7993],\n",
      "        [-6.3356, -1.5504],\n",
      "        [-3.6347, -0.9474]], grad_fn=<ScatterAddBackward>)\n",
      "2022-03-05 23:46:49.344 | INFO     | __main__:update:65 - tensor([[-0.7692, -0.1593],\n",
      "        [-0.8021, -0.1963],\n",
      "        [-0.8350, -0.2333]], grad_fn=<AddmmBackward>)\n",
      "2022-03-05 23:46:49.345 | INFO     | __main__:update:66 - tensor([[-3.5030, -0.7993],\n",
      "        [-6.3356, -1.5504],\n",
      "        [-3.6347, -0.9474]], grad_fn=<ScatterAddBackward>)\n"
     ]
    },
    {
     "data": {
      "text/plain": [
       "tensor([[-3.5030, -0.7993],\n",
       "        [-6.3356, -1.5504],\n",
       "        [-3.6347, -0.9474]], grad_fn=<ScatterAddBackward>)"
      ]
     },
     "execution_count": 205,
     "metadata": {},
     "output_type": "execute_result"
    }
   ],
   "source": [
    "dummy_gconv(data.x, data.edge_index)"
   ]
  }
 ],
 "metadata": {
  "kernelspec": {
   "display_name": "Python 3 (ipykernel)",
   "language": "python",
   "name": "python3"
  },
  "language_info": {
   "codemirror_mode": {
    "name": "ipython",
    "version": 3
   },
   "file_extension": ".py",
   "mimetype": "text/x-python",
   "name": "python",
   "nbconvert_exporter": "python",
   "pygments_lexer": "ipython3",
   "version": "3.8.5"
  }
 },
 "nbformat": 4,
 "nbformat_minor": 5
}
