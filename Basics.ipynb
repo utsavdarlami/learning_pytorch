{
 "cells": [
  {
   "cell_type": "markdown",
   "id": "inside-variation",
   "metadata": {},
   "source": [
    "# All About Pytorch and Pytorch Tensor "
   ]
  },
  {
   "cell_type": "markdown",
   "id": "floating-gothic",
   "metadata": {},
   "source": [
    "## Resources\n",
    "\n",
    "## Reading List\n",
    "- [PyTorch .detach() method](http://www.bnikolic.co.uk/blog/pytorch-detach.html)\n",
    "\n",
    "- [PyTorch Architecture](http://www.bnikolic.co.uk/blog/pytorch/2019/09/20/pytorch-arch-pt1.html)"
   ]
  }
 ],
 "metadata": {
  "kernelspec": {
   "display_name": "Python 3",
   "language": "python",
   "name": "python3"
  },
  "language_info": {
   "codemirror_mode": {
    "name": "ipython",
    "version": 3
   },
   "file_extension": ".py",
   "mimetype": "text/x-python",
   "name": "python",
   "nbconvert_exporter": "python",
   "pygments_lexer": "ipython3",
   "version": "3.8.5"
  }
 },
 "nbformat": 4,
 "nbformat_minor": 5
}
