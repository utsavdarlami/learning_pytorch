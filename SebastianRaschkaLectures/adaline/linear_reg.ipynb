{
 "cells": [
  {
   "cell_type": "markdown",
   "id": "killing-editing",
   "metadata": {},
   "source": [
    "# Linear Regression"
   ]
  },
  {
   "cell_type": "markdown",
   "id": "unusual-tuesday",
   "metadata": {},
   "source": [
    "![x](https://github.com/rasbt/stat453-deep-learning-ss21/blob/main/L05/code/figures/adaline-concept.png?raw=true)\n",
    "\n",
    "[stat453-deep-learning-ss21](https://github.com/rasbt/stat453-deep-learning-ss21/tree/main/L05/code)"
   ]
  },
  {
   "cell_type": "markdown",
   "id": "acoustic-slovak",
   "metadata": {},
   "source": [
    "## Imports"
   ]
  },
  {
   "cell_type": "code",
   "execution_count": 18,
   "id": "organic-maintenance",
   "metadata": {},
   "outputs": [
    {
     "data": {
      "text/plain": [
       "'1.7.1'"
      ]
     },
     "execution_count": 18,
     "metadata": {},
     "output_type": "execute_result"
    }
   ],
   "source": [
    "import torch \n",
    "import pandas as pd\n",
    "import numpy as np\n",
    "import random\n",
    "from tqdm import tqdm\n",
    "from torch.autograd import grad\n",
    "# import seaborn as sns\n",
    "\n",
    "torch.__version__"
   ]
  },
  {
   "cell_type": "markdown",
   "id": "environmental-camping",
   "metadata": {},
   "source": [
    "## Loading dataset"
   ]
  },
  {
   "cell_type": "code",
   "execution_count": 3,
   "id": "skilled-idaho",
   "metadata": {},
   "outputs": [
    {
     "data": {
      "text/html": [
       "<div>\n",
       "<style scoped>\n",
       "    .dataframe tbody tr th:only-of-type {\n",
       "        vertical-align: middle;\n",
       "    }\n",
       "\n",
       "    .dataframe tbody tr th {\n",
       "        vertical-align: top;\n",
       "    }\n",
       "\n",
       "    .dataframe thead th {\n",
       "        text-align: right;\n",
       "    }\n",
       "</style>\n",
       "<table border=\"1\" class=\"dataframe\">\n",
       "  <thead>\n",
       "    <tr style=\"text-align: right;\">\n",
       "      <th></th>\n",
       "      <th>x1</th>\n",
       "      <th>x2</th>\n",
       "      <th>y</th>\n",
       "    </tr>\n",
       "  </thead>\n",
       "  <tbody>\n",
       "    <tr>\n",
       "      <th>0</th>\n",
       "      <td>-2.201441</td>\n",
       "      <td>-0.468864</td>\n",
       "      <td>-30.355617</td>\n",
       "    </tr>\n",
       "    <tr>\n",
       "      <th>1</th>\n",
       "      <td>-0.291041</td>\n",
       "      <td>0.777277</td>\n",
       "      <td>25.560334</td>\n",
       "    </tr>\n",
       "    <tr>\n",
       "      <th>2</th>\n",
       "      <td>-0.327755</td>\n",
       "      <td>0.040071</td>\n",
       "      <td>32.797526</td>\n",
       "    </tr>\n",
       "    <tr>\n",
       "      <th>3</th>\n",
       "      <td>-0.075650</td>\n",
       "      <td>1.821915</td>\n",
       "      <td>72.734577</td>\n",
       "    </tr>\n",
       "    <tr>\n",
       "      <th>4</th>\n",
       "      <td>-0.862493</td>\n",
       "      <td>-0.467493</td>\n",
       "      <td>-48.072356</td>\n",
       "    </tr>\n",
       "  </tbody>\n",
       "</table>\n",
       "</div>"
      ],
      "text/plain": [
       "         x1        x2          y\n",
       "0 -2.201441 -0.468864 -30.355617\n",
       "1 -0.291041  0.777277  25.560334\n",
       "2 -0.327755  0.040071  32.797526\n",
       "3 -0.075650  1.821915  72.734577\n",
       "4 -0.862493 -0.467493 -48.072356"
      ]
     },
     "execution_count": 3,
     "metadata": {},
     "output_type": "execute_result"
    }
   ],
   "source": [
    "dataset_name = \"./lin_reg.csv\"\n",
    "dataset = pd.read_csv(dataset_name)\n",
    "dataset = dataset[[\"x1\", \"x2\", \"y\"]]\n",
    "dataset.head()"
   ]
  },
  {
   "cell_type": "markdown",
   "id": "southwest-lodge",
   "metadata": {},
   "source": [
    "### X and Y from dataset"
   ]
  },
  {
   "cell_type": "code",
   "execution_count": 4,
   "id": "adverse-equipment",
   "metadata": {},
   "outputs": [
    {
     "name": "stdout",
     "output_type": "stream",
     "text": [
      "torch.Size([1000, 2])\n",
      "torch.Size([1000, 1])\n"
     ]
    }
   ],
   "source": [
    "X = torch.tensor(np.array(dataset[[\"x1\", \"x2\"]]))\n",
    "Y = torch.tensor(np.array(dataset[[\"y\"]]))\n",
    "print(X.shape)\n",
    "print(Y.shape)"
   ]
  },
  {
   "cell_type": "markdown",
   "id": "bored-lyric",
   "metadata": {},
   "source": [
    "### 70% split"
   ]
  },
  {
   "cell_type": "code",
   "execution_count": 5,
   "id": "interracial-therapy",
   "metadata": {},
   "outputs": [
    {
     "data": {
      "text/plain": [
       "tensor([542, 618, 816,  68,  94, 215,  60, 585, 942, 165])"
      ]
     },
     "execution_count": 5,
     "metadata": {},
     "output_type": "execute_result"
    }
   ],
   "source": [
    "# random.seed(123)\n",
    "torch.manual_seed(42)\n",
    "shuffle_idx = torch.randperm(Y.shape[0])\n",
    "shuffle_idx[:10]"
   ]
  },
  {
   "cell_type": "code",
   "execution_count": 6,
   "id": "impressed-effectiveness",
   "metadata": {},
   "outputs": [
    {
     "data": {
      "text/plain": [
       "700"
      ]
     },
     "execution_count": 6,
     "metadata": {},
     "output_type": "execute_result"
    }
   ],
   "source": [
    "split_idx = int(0.7 * (Y.shape[0]))\n",
    "split_idx"
   ]
  },
  {
   "cell_type": "code",
   "execution_count": 7,
   "id": "national-hotel",
   "metadata": {},
   "outputs": [],
   "source": [
    "x_train, x_test = X[shuffle_idx[:split_idx]], X[shuffle_idx[split_idx:]]\n",
    "y_train, y_test = Y[shuffle_idx[:split_idx]], Y[shuffle_idx[split_idx:]]"
   ]
  },
  {
   "cell_type": "markdown",
   "id": "impossible-tokyo",
   "metadata": {},
   "source": [
    "### Normalize the data"
   ]
  },
  {
   "cell_type": "code",
   "execution_count": 8,
   "id": "square-contact",
   "metadata": {},
   "outputs": [],
   "source": [
    "\n",
    "# Normalize (mean zero, unit variance)\n",
    "\n",
    "mu, sigma = x_train.mean(dim=0), x_train.std(dim=0)\n",
    "x_train = (x_train - mu) / sigma\n",
    "x_test = (x_test - mu) / sigma"
   ]
  },
  {
   "cell_type": "markdown",
   "id": "corporate-steps",
   "metadata": {},
   "source": [
    "### Plotting the data points"
   ]
  },
  {
   "cell_type": "code",
   "execution_count": 9,
   "id": "hybrid-israel",
   "metadata": {},
   "outputs": [
    {
     "data": {
      "text/plain": [
       "(700, 1)"
      ]
     },
     "execution_count": 9,
     "metadata": {},
     "output_type": "execute_result"
    }
   ],
   "source": [
    "y_train.numpy().shape"
   ]
  },
  {
   "cell_type": "code",
   "execution_count": 57,
   "id": "swiss-exemption",
   "metadata": {},
   "outputs": [
    {
     "data": {
      "image/png": "[encoded data removed]",
      "text/plain": [
       "<Figure size 576x288 with 2 Axes>"
      ]
     },
     "metadata": {
      "needs_background": "light"
     },
     "output_type": "display_data"
    }
   ],
   "source": [
    "%matplotlib inline \n",
    "# for interactive plot use widget\n",
    "#%matplotlib widget\n",
    "\n",
    "\n",
    "# sns.set_style(\"whitegrid\", {'axes.grid' : False})\n",
    "\n",
    "colors=['b', 'c', 'y', 'm', 'r']\n",
    "\n",
    "fig, axs = plt.subplots(1,2,figsize=(8,4), subplot_kw={'projection': '3d'})\n",
    "\n",
    "axs[0].plot(x_train[:,0].numpy(), x_train[:,1].numpy(),y_train[:,0].numpy(), 'o', color='b')\n",
    "\n",
    "axs[0].set_xlabel('x1')\n",
    "axs[0].set_ylabel('x2')\n",
    "axs[0].set_zlabel('y')\n",
    "\n",
    "axs[1].plot(x_test[:,0].numpy(), x_test[:,1].numpy(),y_test[:,0].numpy(), 'o', color='c')\n",
    "\n",
    "axs[1].set_xlabel('x1')\n",
    "axs[1].set_ylabel('x2')\n",
    "axs[1].set_zlabel('y')\n",
    "\n",
    "\n",
    "plt.show()"
   ]
  },
  {
   "cell_type": "markdown",
   "id": "patient-light",
   "metadata": {},
   "source": [
    "## Linear Regression Model"
   ]
  },
  {
   "cell_type": "code",
   "execution_count": 36,
   "id": "accredited-saint",
   "metadata": {},
   "outputs": [],
   "source": [
    "from linear_regression_model import LinearRegression, LinearRegression1\n",
    "# LinearRegression -> manual backward propagation\n",
    "# LinearRegression1 -> semi manual backward propagation"
   ]
  },
  {
   "cell_type": "markdown",
   "id": "transsexual-barrel",
   "metadata": {},
   "source": [
    "### Creating the mse_loss function"
   ]
  },
  {
   "cell_type": "code",
   "execution_count": 25,
   "id": "virtual-valley",
   "metadata": {},
   "outputs": [],
   "source": [
    "def mse_loss(y, yhat):\n",
    "    return torch.mean((y - yhat)**2)"
   ]
  },
  {
   "cell_type": "markdown",
   "id": "documentary-blind",
   "metadata": {},
   "source": [
    "### Creating the instance of the model"
   ]
  },
  {
   "cell_type": "code",
   "execution_count": 43,
   "id": "earned-argument",
   "metadata": {},
   "outputs": [
    {
     "name": "stdout",
     "output_type": "stream",
     "text": [
      "tensor([[0.],\n",
      "        [0.]], dtype=torch.float64, requires_grad=True)\n"
     ]
    },
    {
     "data": {
      "text/plain": [
       "tensor([1.], dtype=torch.float64, requires_grad=True)"
      ]
     },
     "execution_count": 43,
     "metadata": {},
     "output_type": "execute_result"
    }
   ],
   "source": [
    "lr1 = LinearRegression1(2, 1e-2)\n",
    "# lr1 = LinearRegression(2, 1e-2)\n",
    "print(lr1.w)\n",
    "lr1.b"
   ]
  },
  {
   "cell_type": "code",
   "execution_count": 44,
   "id": "authentic-spider",
   "metadata": {},
   "outputs": [
    {
     "name": "stdout",
     "output_type": "stream",
     "text": [
      "torch.Size([32, 2])\n",
      "torch.Size([32, 1])\n",
      "torch.Size([32, 1])\n",
      "torch.Size([32, 1])\n"
     ]
    }
   ],
   "source": [
    "x = torch.rand((32,2) , dtype=torch.float64)\n",
    "print(x.shape)\n",
    "yh = x @ lr1.w + lr1.b\n",
    "# yh = y.view(-1)\n",
    "print(yh.shape)\n",
    "# yh.shape\n",
    "y = torch.rand((32,1) , dtype=torch.float64)\n",
    "print(y.shape)\n",
    "print((y - yh).shape)"
   ]
  },
  {
   "cell_type": "markdown",
   "id": "curious-consciousness",
   "metadata": {},
   "source": [
    "### Creating m batch "
   ]
  },
  {
   "cell_type": "code",
   "execution_count": 45,
   "id": "consecutive-venice",
   "metadata": {},
   "outputs": [
    {
     "name": "stdout",
     "output_type": "stream",
     "text": [
      "torch.Size([32, 2]) / torch.Size([32, 1])\n"
     ]
    }
   ],
   "source": [
    "m = 32\n",
    "batch_x = torch.split(x_train, m)\n",
    "batch_y = torch.split(y_train, m)\n",
    "for x,y in zip(batch_x,batch_y):\n",
    "    print(f\"{x.shape} / {y.shape}\")\n",
    "    break"
   ]
  },
  {
   "cell_type": "code",
   "execution_count": 16,
   "id": "nearby-annotation",
   "metadata": {},
   "outputs": [
    {
     "data": {
      "text/plain": [
       "700"
      ]
     },
     "execution_count": 16,
     "metadata": {},
     "output_type": "execute_result"
    }
   ],
   "source": [
    "len(x_train)"
   ]
  },
  {
   "cell_type": "markdown",
   "id": "hybrid-contamination",
   "metadata": {},
   "source": [
    "### Training the model"
   ]
  },
  {
   "cell_type": "code",
   "execution_count": 46,
   "id": "yellow-optimum",
   "metadata": {},
   "outputs": [
    {
     "name": "stderr",
     "output_type": "stream",
     "text": [
      "Epoch [0/100]: 100%|██████████| 22/22 [00:00<00:00, 534.73it/s, loss=1.74e+3]\n",
      "Epoch [1/100]: 100%|██████████| 22/22 [00:00<00:00, 495.04it/s, loss=1.09e+3]\n",
      "Epoch [2/100]: 100%|██████████| 22/22 [00:00<00:00, 530.93it/s, loss=799]\n",
      "Epoch [3/100]: 100%|██████████| 22/22 [00:00<00:00, 550.78it/s, loss=658]\n",
      "Epoch [4/100]: 100%|██████████| 22/22 [00:00<00:00, 601.75it/s, loss=588]\n",
      "Epoch [5/100]: 100%|██████████| 22/22 [00:00<00:00, 474.81it/s, loss=551]\n",
      "Epoch [6/100]: 100%|██████████| 22/22 [00:00<00:00, 480.62it/s, loss=530]\n",
      "Epoch [7/100]: 100%|██████████| 22/22 [00:00<00:00, 566.40it/s, loss=518]\n",
      "Epoch [8/100]: 100%|██████████| 22/22 [00:00<00:00, 575.99it/s, loss=512]\n",
      "Epoch [9/100]: 100%|██████████| 22/22 [00:00<00:00, 534.63it/s, loss=507]\n",
      "Epoch [10/100]: 100%|██████████| 22/22 [00:00<00:00, 467.49it/s, loss=505]\n",
      "Epoch [11/100]: 100%|██████████| 22/22 [00:00<00:00, 459.24it/s, loss=503]\n",
      "Epoch [12/100]: 100%|██████████| 22/22 [00:00<00:00, 448.56it/s, loss=502]\n",
      "Epoch [13/100]: 100%|██████████| 22/22 [00:00<00:00, 425.67it/s, loss=501]\n",
      "Epoch [14/100]: 100%|██████████| 22/22 [00:00<00:00, 396.80it/s, loss=501]\n",
      "Epoch [15/100]: 100%|██████████| 22/22 [00:00<00:00, 425.25it/s, loss=501]\n",
      "Epoch [16/100]: 100%|██████████| 22/22 [00:00<00:00, 522.21it/s, loss=501]\n",
      "Epoch [17/100]: 100%|██████████| 22/22 [00:00<00:00, 517.08it/s, loss=500]\n",
      "Epoch [18/100]: 100%|██████████| 22/22 [00:00<00:00, 414.34it/s, loss=500]\n",
      "Epoch [19/100]: 100%|██████████| 22/22 [00:00<00:00, 403.09it/s, loss=500]\n",
      "Epoch [20/100]: 100%|██████████| 22/22 [00:00<00:00, 358.23it/s, loss=500]\n",
      "Epoch [21/100]: 100%|██████████| 22/22 [00:00<00:00, 362.31it/s, loss=500]\n",
      "Epoch [22/100]: 100%|██████████| 22/22 [00:00<00:00, 384.62it/s, loss=500]\n",
      "Epoch [23/100]: 100%|██████████| 22/22 [00:00<00:00, 337.71it/s, loss=500]\n",
      "Epoch [24/100]: 100%|██████████| 22/22 [00:00<00:00, 307.49it/s, loss=500]\n",
      "Epoch [25/100]: 100%|██████████| 22/22 [00:00<00:00, 308.64it/s, loss=500]\n",
      "Epoch [26/100]: 100%|██████████| 22/22 [00:00<00:00, 404.51it/s, loss=500]\n",
      "Epoch [27/100]: 100%|██████████| 22/22 [00:00<00:00, 389.87it/s, loss=500]\n",
      "Epoch [28/100]: 100%|██████████| 22/22 [00:00<00:00, 379.09it/s, loss=500]\n",
      "Epoch [29/100]: 100%|██████████| 22/22 [00:00<00:00, 350.14it/s, loss=500]\n",
      "Epoch [30/100]: 100%|██████████| 22/22 [00:00<00:00, 354.10it/s, loss=500]\n",
      "Epoch [31/100]: 100%|██████████| 22/22 [00:00<00:00, 292.67it/s, loss=500]\n",
      "Epoch [32/100]: 100%|██████████| 22/22 [00:00<00:00, 276.33it/s, loss=500]\n",
      "Epoch [33/100]: 100%|██████████| 22/22 [00:00<00:00, 278.34it/s, loss=500]\n",
      "Epoch [34/100]: 100%|██████████| 22/22 [00:00<00:00, 318.25it/s, loss=500]\n",
      "Epoch [35/100]: 100%|██████████| 22/22 [00:00<00:00, 301.74it/s, loss=500]\n",
      "Epoch [36/100]: 100%|██████████| 22/22 [00:00<00:00, 272.91it/s, loss=500]\n",
      "Epoch [37/100]: 100%|██████████| 22/22 [00:00<00:00, 280.51it/s, loss=500]\n",
      "Epoch [38/100]: 100%|██████████| 22/22 [00:00<00:00, 308.49it/s, loss=500]\n",
      "Epoch [39/100]: 100%|██████████| 22/22 [00:00<00:00, 266.05it/s, loss=500]\n",
      "Epoch [40/100]: 100%|██████████| 22/22 [00:00<00:00, 285.56it/s, loss=500]\n",
      "Epoch [41/100]: 100%|██████████| 22/22 [00:00<00:00, 269.10it/s, loss=500]\n",
      "Epoch [42/100]: 100%|██████████| 22/22 [00:00<00:00, 266.34it/s, loss=500]\n",
      "Epoch [43/100]: 100%|██████████| 22/22 [00:00<00:00, 263.67it/s, loss=500]\n",
      "Epoch [44/100]: 100%|██████████| 22/22 [00:00<00:00, 272.02it/s, loss=500]\n",
      "Epoch [45/100]: 100%|██████████| 22/22 [00:00<00:00, 251.25it/s, loss=500]\n",
      "Epoch [46/100]: 100%|██████████| 22/22 [00:00<00:00, 272.19it/s, loss=500]\n",
      "Epoch [47/100]: 100%|██████████| 22/22 [00:00<00:00, 227.49it/s, loss=500]\n",
      "Epoch [48/100]: 100%|██████████| 22/22 [00:00<00:00, 237.77it/s, loss=500]\n",
      "Epoch [49/100]: 100%|██████████| 22/22 [00:00<00:00, 250.70it/s, loss=500]\n",
      "Epoch [50/100]: 100%|██████████| 22/22 [00:00<00:00, 231.56it/s, loss=500]\n",
      "Epoch [51/100]: 100%|██████████| 22/22 [00:00<00:00, 232.73it/s, loss=500]\n",
      "Epoch [52/100]: 100%|██████████| 22/22 [00:00<00:00, 245.23it/s, loss=500]\n",
      "Epoch [53/100]: 100%|██████████| 22/22 [00:00<00:00, 256.25it/s, loss=500]\n",
      "Epoch [54/100]: 100%|██████████| 22/22 [00:00<00:00, 229.94it/s, loss=500]\n",
      "Epoch [55/100]: 100%|██████████| 22/22 [00:00<00:00, 223.79it/s, loss=500]\n",
      "Epoch [56/100]: 100%|██████████| 22/22 [00:00<00:00, 242.76it/s, loss=500]\n",
      "Epoch [57/100]: 100%|██████████| 22/22 [00:00<00:00, 231.07it/s, loss=500]\n",
      "Epoch [58/100]: 100%|██████████| 22/22 [00:00<00:00, 228.73it/s, loss=500]\n",
      "Epoch [59/100]: 100%|██████████| 22/22 [00:00<00:00, 216.89it/s, loss=500]\n",
      "Epoch [60/100]: 100%|██████████| 22/22 [00:00<00:00, 216.99it/s, loss=500]\n",
      "Epoch [61/100]: 100%|██████████| 22/22 [00:00<00:00, 233.19it/s, loss=500]\n",
      "Epoch [62/100]: 100%|██████████| 22/22 [00:00<00:00, 198.27it/s, loss=500]\n",
      "Epoch [63/100]: 100%|██████████| 22/22 [00:00<00:00, 206.75it/s, loss=500]\n",
      "Epoch [64/100]: 100%|██████████| 22/22 [00:00<00:00, 233.69it/s, loss=500]\n",
      "Epoch [65/100]: 100%|██████████| 22/22 [00:00<00:00, 211.99it/s, loss=500]\n",
      "Epoch [66/100]: 100%|██████████| 22/22 [00:00<00:00, 210.80it/s, loss=500]\n",
      "Epoch [67/100]: 100%|██████████| 22/22 [00:00<00:00, 201.26it/s, loss=500]\n",
      "Epoch [68/100]: 100%|██████████| 22/22 [00:00<00:00, 193.58it/s, loss=500]\n",
      "Epoch [69/100]: 100%|██████████| 22/22 [00:00<00:00, 211.69it/s, loss=500]\n",
      "Epoch [70/100]: 100%|██████████| 22/22 [00:00<00:00, 209.85it/s, loss=500]\n",
      "Epoch [71/100]: 100%|██████████| 22/22 [00:00<00:00, 196.60it/s, loss=500]\n",
      "Epoch [72/100]: 100%|██████████| 22/22 [00:00<00:00, 206.84it/s, loss=500]\n",
      "Epoch [73/100]: 100%|██████████| 22/22 [00:00<00:00, 189.75it/s, loss=500]\n",
      "Epoch [74/100]: 100%|██████████| 22/22 [00:00<00:00, 193.44it/s, loss=500]\n",
      "Epoch [75/100]: 100%|██████████| 22/22 [00:00<00:00, 197.45it/s, loss=500]\n",
      "Epoch [76/100]: 100%|██████████| 22/22 [00:00<00:00, 159.67it/s, loss=500]\n",
      "Epoch [77/100]: 100%|██████████| 22/22 [00:00<00:00, 186.23it/s, loss=500]\n",
      "Epoch [78/100]: 100%|██████████| 22/22 [00:00<00:00, 158.83it/s, loss=500]\n",
      "Epoch [79/100]: 100%|██████████| 22/22 [00:00<00:00, 164.66it/s, loss=500]\n",
      "Epoch [80/100]: 100%|██████████| 22/22 [00:00<00:00, 180.24it/s, loss=500]\n",
      "Epoch [81/100]: 100%|██████████| 22/22 [00:00<00:00, 183.70it/s, loss=500]\n",
      "Epoch [82/100]: 100%|██████████| 22/22 [00:00<00:00, 182.97it/s, loss=500]\n",
      "Epoch [83/100]: 100%|██████████| 22/22 [00:00<00:00, 184.00it/s, loss=500]\n",
      "Epoch [84/100]: 100%|██████████| 22/22 [00:00<00:00, 160.29it/s, loss=500]\n",
      "Epoch [85/100]: 100%|██████████| 22/22 [00:00<00:00, 161.27it/s, loss=500]\n",
      "Epoch [86/100]: 100%|██████████| 22/22 [00:00<00:00, 142.40it/s, loss=500]\n",
      "Epoch [87/100]: 100%|██████████| 22/22 [00:00<00:00, 154.25it/s, loss=500]\n",
      "Epoch [88/100]: 100%|██████████| 22/22 [00:00<00:00, 146.55it/s, loss=500]\n",
      "Epoch [89/100]: 100%|██████████| 22/22 [00:00<00:00, 153.42it/s, loss=500]\n",
      "Epoch [90/100]: 100%|██████████| 22/22 [00:00<00:00, 158.59it/s, loss=500]\n",
      "Epoch [91/100]: 100%|██████████| 22/22 [00:00<00:00, 152.94it/s, loss=500]\n",
      "Epoch [92/100]: 100%|██████████| 22/22 [00:00<00:00, 157.20it/s, loss=500]\n",
      "Epoch [93/100]: 100%|██████████| 22/22 [00:00<00:00, 156.53it/s, loss=500]\n",
      "Epoch [94/100]: 100%|██████████| 22/22 [00:00<00:00, 147.92it/s, loss=500]\n",
      "Epoch [95/100]: 100%|██████████| 22/22 [00:00<00:00, 138.31it/s, loss=500]\n",
      "Epoch [96/100]: 100%|██████████| 22/22 [00:00<00:00, 138.59it/s, loss=500]\n",
      "Epoch [97/100]: 100%|██████████| 22/22 [00:00<00:00, 147.72it/s, loss=500]\n",
      "Epoch [98/100]: 100%|██████████| 22/22 [00:00<00:00, 139.35it/s, loss=500]\n",
      "Epoch [99/100]: 100%|██████████| 22/22 [00:00<00:00, 147.85it/s, loss=500]\n"
     ]
    }
   ],
   "source": [
    "num_epochs = 100\n",
    "for epoch in range(num_epochs):\n",
    "    loop = tqdm(enumerate(zip(batch_x, batch_y)), total=len(batch_x), leave=True, position=0)\n",
    "    for batch_idx, (x, y) in loop:\n",
    "#         print(f\"{x.shape} -- {y.shape}\")\n",
    "        yhat = lr1.forward(x)\n",
    "    \n",
    "        loss = mse_loss(y, yhat)\n",
    "        \n",
    "#       semi manual backward propagation\n",
    "        g_w, g_b = lr1.backward(loss)\n",
    "        \n",
    "#       for manual backward propagation\n",
    "#         g_w, g_b = lr1.backward(x, y, yhat)\n",
    "\n",
    "        lr1.optimize(g_w, g_b)\n",
    "    \n",
    "        loop.set_description(f\"Epoch [{epoch}/{num_epochs}]\")\n",
    "        loop.set_postfix(loss=loss.item())"
   ]
  },
  {
   "cell_type": "code",
   "execution_count": 47,
   "id": "centered-garden",
   "metadata": {},
   "outputs": [
    {
     "data": {
      "text/plain": [
       "tensor([[-0.3122],\n",
       "        [39.0516]], dtype=torch.float64, grad_fn=<AddBackward0>)"
      ]
     },
     "execution_count": 47,
     "metadata": {},
     "output_type": "execute_result"
    }
   ],
   "source": [
    "lr1.w"
   ]
  },
  {
   "cell_type": "code",
   "execution_count": 48,
   "id": "classical-homeless",
   "metadata": {},
   "outputs": [
    {
     "data": {
      "text/plain": [
       "tensor([-1.7469], dtype=torch.float64, grad_fn=<AddBackward0>)"
      ]
     },
     "execution_count": 48,
     "metadata": {},
     "output_type": "execute_result"
    }
   ],
   "source": [
    "lr1.b"
   ]
  },
  {
   "cell_type": "markdown",
   "id": "green-longitude",
   "metadata": {},
   "source": [
    "### Testing the model"
   ]
  },
  {
   "cell_type": "code",
   "execution_count": 49,
   "id": "unable-actor",
   "metadata": {},
   "outputs": [
    {
     "name": "stdout",
     "output_type": "stream",
     "text": [
      "384.0133962860595\n"
     ]
    }
   ],
   "source": [
    "m = 32\n",
    "Y_test_preds = lr1.forward(x_test)\n",
    "loss = mse_loss(y_test, Y_test_preds)\n",
    "print(loss.item())"
   ]
  },
  {
   "cell_type": "markdown",
   "id": "generous-sunday",
   "metadata": {},
   "source": [
    "## Plotting the regression plane "
   ]
  },
  {
   "cell_type": "code",
   "execution_count": 53,
   "id": "similar-termination",
   "metadata": {},
   "outputs": [
    {
     "name": "stdout",
     "output_type": "stream",
     "text": [
      "torch.Size([4, 2])\n",
      "torch.Size([4, 1])\n",
      "[[-119.83845561]\n",
      " [-117.9650866 ]\n",
      " [ 116.34474839]\n",
      " [ 114.47137938]]\n"
     ]
    }
   ],
   "source": [
    "data_points = np.array([[3, -3],\n",
    "               [-3,-3],\n",
    "               [-3, 3],\n",
    "               [3,3]])\n",
    "data_points_tensor = torch.tensor(data_points, dtype=torch.float64)\n",
    "print(data_points_tensor.shape)\n",
    "# lr1.eval()\n",
    "with torch.no_grad():\n",
    "    y_data = lr1.forward(data_points_tensor)\n",
    "    print(y_data.shape)\n",
    "    y_data = y_data.numpy()\n",
    "print(y_data)"
   ]
  },
  {
   "cell_type": "code",
   "execution_count": 54,
   "id": "civil-lesson",
   "metadata": {},
   "outputs": [
    {
     "data": {
      "text/plain": [
       "array([[ 3, -3, -3,  3],\n",
       "       [ 3, -3, -3,  3],\n",
       "       [ 3, -3, -3,  3],\n",
       "       [ 3, -3, -3,  3]])"
      ]
     },
     "execution_count": 54,
     "metadata": {},
     "output_type": "execute_result"
    }
   ],
   "source": [
    "xx, yy = np.meshgrid(data_points[:,0], data_points[:,1])\n",
    "xx\n"
   ]
  },
  {
   "cell_type": "code",
   "execution_count": 58,
   "id": "sunset-browser",
   "metadata": {},
   "outputs": [
    {
     "data": {
      "image/png": "[encoded data removed]",
      "text/plain": [
       "<Figure size 576x288 with 2 Axes>"
      ]
     },
     "metadata": {
      "needs_background": "light"
     },
     "output_type": "display_data"
    }
   ],
   "source": [
    "%matplotlib inline\n",
    "\n",
    "# for interactive plot use widget\n",
    "#%matplotlib widget\n",
    "\n",
    "# sns.set_style(\"whitegrid\", {'axes.grid' : False})\n",
    "\n",
    "colors=['b', 'c', 'y', 'm', 'r']\n",
    "\n",
    "fig, axs = plt.subplots(1,2,figsize=(8,4), subplot_kw={'projection': '3d'})\n",
    "\n",
    "# train plot\n",
    "axs[0].plot(x_train[:,0].numpy(), x_train[:,1].numpy(),y_train[:,0].numpy(), 'o', color='b')\n",
    "\n",
    "axs[0].set_xlabel('x1')\n",
    "axs[0].set_ylabel('x2')\n",
    "axs[0].set_zlabel('y')\n",
    "\n",
    "# regression plane\n",
    "# xx,yy = np.meshgrid(data_points[:,0], data_points[:,1])\n",
    "axs[0].plot(data_points[:,0], data_points[:,1], y_data[:,0], 'x', color='r')\n",
    "axs[0].plot_surface(xx, yy, y_data, alpha=0.4)\n",
    "\n",
    "\n",
    "# test plot\n",
    "axs[1].plot(x_test[:,0].numpy(), x_test[:,1].numpy(),y_test[:,0].numpy(), 'o', color='c')\n",
    "\n",
    "axs[1].set_xlabel('x1')\n",
    "axs[1].set_ylabel('x2')\n",
    "axs[1].set_zlabel('y')\n",
    "\n",
    "# regression plane\n",
    "axs[1].plot(data_points[:,0], data_points[:,1], y_data[:,0], 'x', color='r')\n",
    "axs[1].plot_surface(xx, yy, y_data, alpha=0.4)\n",
    "\n",
    "\n",
    "plt.show()"
   ]
  }
 ],
 "metadata": {
  "kernelspec": {
   "display_name": "Python 3",
   "language": "python",
   "name": "python3"
  },
  "language_info": {
   "codemirror_mode": {
    "name": "ipython",
    "version": 3
   },
   "file_extension": ".py",
   "mimetype": "text/x-python",
   "name": "python",
   "nbconvert_exporter": "python",
   "pygments_lexer": "ipython3",
   "version": "3.8.5"
  }
 },
 "nbformat": 4,
 "nbformat_minor": 5
}
