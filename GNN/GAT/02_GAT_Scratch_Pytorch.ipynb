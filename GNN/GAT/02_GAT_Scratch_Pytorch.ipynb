{
 "cells": [
  {
   "cell_type": "markdown",
   "id": "96f9ba7e",
   "metadata": {},
   "source": [
    "#  Graph attention networks (GAT) implementation\n",
    "- https://www.youtube.com/watch?v=A-yKQamf2Fc [Understanding Graph Attention Networks]\n",
    "- https://www.youtube.com/watch?v=CwsPoa7z2c8 [Pytorch Geometric tutorial: Graph attention networks (GAT) implementation]\n",
    "- https://github.com/AntonioLonga/PytorchGeometricTutorial/blob/main/Tutorial3/Tutorial3.ipynb\n",
    "- https://github.com/rish-16/pytorch-graphdl/blob/main/gat/layers.py\n",
    "- https://github.com/rish-16/gin-attn-conv-pytorch/blob/main/gin_attn_pytorch/gin_attn_conv.py\n",
    "- https://arxiv.org/abs/1710.10903"
   ]
  },
  {
   "cell_type": "markdown",
   "id": "57eeaf14",
   "metadata": {},
   "source": [
    "## How to reshape the embeds to pass the attention $a$"
   ]
  },
  {
   "cell_type": "markdown",
   "id": "d595f06f",
   "metadata": {},
   "source": [
    "![Image](./Graph_Attention_Network/2022-03-02_23-05-53_screenshot.png)"
   ]
  },
  {
   "cell_type": "code",
   "execution_count": 105,
   "id": "c10f3202",
   "metadata": {},
   "outputs": [],
   "source": [
    "import numpy as np\n",
    "import torch"
   ]
  },
  {
   "cell_type": "code",
   "execution_count": 109,
   "id": "2978a6c5",
   "metadata": {},
   "outputs": [
    {
     "name": "stdout",
     "output_type": "stream",
     "text": [
      "--------------------\n",
      "tensor([[ 0, 11, 11, 12],\n",
      "        [12, 11,  2,  2],\n",
      "        [ 0,  5, 17,  7]])\n",
      "torch.Size([3, 4])\n",
      "--------------------\n",
      "tensor([[ 0, 11, 11, 12,  0, 11, 11, 12,  0, 11, 11, 12],\n",
      "        [12, 11,  2,  2, 12, 11,  2,  2, 12, 11,  2,  2],\n",
      "        [ 0,  5, 17,  7,  0,  5, 17,  7,  0,  5, 17,  7]])\n",
      "torch.Size([3, 12])\n",
      "--------------------\n",
      "tensor([[ 0, 11, 11, 12],\n",
      "        [ 0, 11, 11, 12],\n",
      "        [ 0, 11, 11, 12],\n",
      "        [12, 11,  2,  2],\n",
      "        [12, 11,  2,  2],\n",
      "        [12, 11,  2,  2],\n",
      "        [ 0,  5, 17,  7],\n",
      "        [ 0,  5, 17,  7],\n",
      "        [ 0,  5, 17,  7]])\n",
      "torch.Size([9, 4])\n",
      "--------------------\n",
      "tensor([[ 0, 11, 11, 12],\n",
      "        [12, 11,  2,  2],\n",
      "        [ 0,  5, 17,  7],\n",
      "        [ 0, 11, 11, 12],\n",
      "        [12, 11,  2,  2],\n",
      "        [ 0,  5, 17,  7],\n",
      "        [ 0, 11, 11, 12],\n",
      "        [12, 11,  2,  2],\n",
      "        [ 0,  5, 17,  7]])\n",
      "torch.Size([9, 4])\n",
      "--------------------\n",
      "tensor([[ 0, 11, 11, 12,  0, 11, 11, 12],\n",
      "        [ 0, 11, 11, 12, 12, 11,  2,  2],\n",
      "        [ 0, 11, 11, 12,  0,  5, 17,  7],\n",
      "        [12, 11,  2,  2,  0, 11, 11, 12],\n",
      "        [12, 11,  2,  2, 12, 11,  2,  2],\n",
      "        [12, 11,  2,  2,  0,  5, 17,  7],\n",
      "        [ 0,  5, 17,  7,  0, 11, 11, 12],\n",
      "        [ 0,  5, 17,  7, 12, 11,  2,  2],\n",
      "        [ 0,  5, 17,  7,  0,  5, 17,  7]])\n",
      "torch.Size([9, 8])\n",
      "--------------------\n",
      "torch.Size([3, 3, 8])\n",
      "tensor([[[ 0, 11, 11, 12,  0, 11, 11, 12],\n",
      "         [ 0, 11, 11, 12, 12, 11,  2,  2],\n",
      "         [ 0, 11, 11, 12,  0,  5, 17,  7]],\n",
      "\n",
      "        [[12, 11,  2,  2,  0, 11, 11, 12],\n",
      "         [12, 11,  2,  2, 12, 11,  2,  2],\n",
      "         [12, 11,  2,  2,  0,  5, 17,  7]],\n",
      "\n",
      "        [[ 0,  5, 17,  7,  0, 11, 11, 12],\n",
      "         [ 0,  5, 17,  7, 12, 11,  2,  2],\n",
      "         [ 0,  5, 17,  7,  0,  5, 17,  7]]])\n"
     ]
    }
   ],
   "source": [
    "h = torch.randint(low=0, high=20, size=(N, embed_size))\n",
    "print(20*\"-\")\n",
    "print(h)\n",
    "print(h.shape)\n",
    "\n",
    "print(20*\"-\")\n",
    "print(h.repeat(1, N))\n",
    "print(h.repeat(1, N).shape)\n",
    "\n",
    "print(20*\"-\")\n",
    "print(h.repeat(1, N).view(N * N, -1))\n",
    "print(h.repeat(1, N).view(N * N, -1).shape)\n",
    "\n",
    "print(20*\"-\")\n",
    "print(h.repeat(N, 1))\n",
    "print(h.repeat(N, 1).shape)\n",
    "\n",
    "print(20*\"-\")\n",
    "print(torch.cat([h.repeat(1, N).view(N * N, -1), h.repeat(N, 1)], dim=1))\n",
    "print(torch.cat([h.repeat(1, N).view(N * N, -1), h.repeat(N, 1)], dim=1).shape)\n",
    "\n",
    "print(20*\"-\")\n",
    "a_input = torch.cat([h.repeat(1, N).view(N * N, -1), h.repeat(N, 1)], dim=1).view(N, -1, 2 * embed_size)\n",
    "print(a_input.shape)\n",
    "print(a_input)"
   ]
  },
  {
   "cell_type": "code",
   "execution_count": 180,
   "id": "bb6419f7",
   "metadata": {},
   "outputs": [
    {
     "name": "stdout",
     "output_type": "stream",
     "text": [
      "(3, 4)\n"
     ]
    },
    {
     "data": {
      "text/plain": [
       "array([[ 1,  5,  7, 13],\n",
       "       [19, 18,  5,  2],\n",
       "       [ 7, 16,  0, 16]])"
      ]
     },
     "execution_count": 180,
     "metadata": {},
     "output_type": "execute_result"
    }
   ],
   "source": [
    "N = 3\n",
    "embed_size = 4\n",
    "h = np.random.randint(low=0, high=20, size=(N, embed_size))\n",
    "print(h.shape)\n",
    "h"
   ]
  },
  {
   "cell_type": "code",
   "execution_count": 183,
   "id": "21f6fbc7",
   "metadata": {},
   "outputs": [
    {
     "name": "stdout",
     "output_type": "stream",
     "text": [
      "(9, 4)\n"
     ]
    },
    {
     "data": {
      "text/plain": [
       "array([[ 1,  5,  7, 13],\n",
       "       [ 1,  5,  7, 13],\n",
       "       [ 1,  5,  7, 13],\n",
       "       [19, 18,  5,  2],\n",
       "       [19, 18,  5,  2],\n",
       "       [19, 18,  5,  2],\n",
       "       [ 7, 16,  0, 16],\n",
       "       [ 7, 16,  0, 16],\n",
       "       [ 7, 16,  0, 16]])"
      ]
     },
     "execution_count": 183,
     "metadata": {},
     "output_type": "execute_result"
    }
   ],
   "source": [
    "a =  np.hstack(N*[h]).reshape(N*N, -1)\n",
    "print(a.shape)\n",
    "a"
   ]
  },
  {
   "cell_type": "code",
   "execution_count": 184,
   "id": "7cdba2c1",
   "metadata": {},
   "outputs": [
    {
     "name": "stdout",
     "output_type": "stream",
     "text": [
      "(9, 4)\n"
     ]
    },
    {
     "data": {
      "text/plain": [
       "array([[ 1,  5,  7, 13],\n",
       "       [19, 18,  5,  2],\n",
       "       [ 7, 16,  0, 16],\n",
       "       [ 1,  5,  7, 13],\n",
       "       [19, 18,  5,  2],\n",
       "       [ 7, 16,  0, 16],\n",
       "       [ 1,  5,  7, 13],\n",
       "       [19, 18,  5,  2],\n",
       "       [ 7, 16,  0, 16]])"
      ]
     },
     "execution_count": 184,
     "metadata": {},
     "output_type": "execute_result"
    }
   ],
   "source": [
    "b =  np.vstack(N*[h])\n",
    "print(b.shape)\n",
    "b"
   ]
  },
  {
   "cell_type": "code",
   "execution_count": 188,
   "id": "9a0447ec",
   "metadata": {},
   "outputs": [
    {
     "data": {
      "text/plain": [
       "array([[ 1,  5,  7, 13,  1,  5,  7, 13],\n",
       "       [ 1,  5,  7, 13, 19, 18,  5,  2],\n",
       "       [ 1,  5,  7, 13,  7, 16,  0, 16],\n",
       "       [19, 18,  5,  2,  1,  5,  7, 13],\n",
       "       [19, 18,  5,  2, 19, 18,  5,  2],\n",
       "       [19, 18,  5,  2,  7, 16,  0, 16],\n",
       "       [ 7, 16,  0, 16,  1,  5,  7, 13],\n",
       "       [ 7, 16,  0, 16, 19, 18,  5,  2],\n",
       "       [ 7, 16,  0, 16,  7, 16,  0, 16]])"
      ]
     },
     "execution_count": 188,
     "metadata": {},
     "output_type": "execute_result"
    }
   ],
   "source": [
    "concat_whi_whj  = np.concatenate([a, b], axis=1)\n",
    "concat_whi_whj  "
   ]
  },
  {
   "cell_type": "code",
   "execution_count": 196,
   "id": "5f575ea3",
   "metadata": {},
   "outputs": [
    {
     "data": {
      "text/plain": [
       "array([[[ 1,  5,  7, 13,  1,  5,  7, 13],\n",
       "        [ 1,  5,  7, 13, 19, 18,  5,  2],\n",
       "        [ 1,  5,  7, 13,  7, 16,  0, 16]],\n",
       "\n",
       "       [[19, 18,  5,  2,  1,  5,  7, 13],\n",
       "        [19, 18,  5,  2, 19, 18,  5,  2],\n",
       "        [19, 18,  5,  2,  7, 16,  0, 16]],\n",
       "\n",
       "       [[ 7, 16,  0, 16,  1,  5,  7, 13],\n",
       "        [ 7, 16,  0, 16, 19, 18,  5,  2],\n",
       "        [ 7, 16,  0, 16,  7, 16,  0, 16]]])"
      ]
     },
     "execution_count": 196,
     "metadata": {},
     "output_type": "execute_result"
    }
   ],
   "source": [
    "concat_whi_whj.reshape((N, -1, 2 * embed_size))"
   ]
  }
 ],
 "metadata": {
  "kernelspec": {
   "display_name": "Python 3 (ipykernel)",
   "language": "python",
   "name": "python3"
  },
  "language_info": {
   "codemirror_mode": {
    "name": "ipython",
    "version": 3
   },
   "file_extension": ".py",
   "mimetype": "text/x-python",
   "name": "python",
   "nbconvert_exporter": "python",
   "pygments_lexer": "ipython3",
   "version": "3.8.5"
  }
 },
 "nbformat": 4,
 "nbformat_minor": 5
}
