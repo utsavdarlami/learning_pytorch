{
 "cells": [
  {
   "cell_type": "markdown",
   "id": "expired-directive",
   "metadata": {},
   "source": [
    "# Non Max Suppression Explained and PyTorch Implementation\n",
    "- https://www.youtube.com/watch?v=YDkjWEN8jNA"
   ]
  },
  {
   "cell_type": "markdown",
   "id": "touched-principle",
   "metadata": {},
   "source": [
    "## Cleaning up bounding boxes"
   ]
  },
  {
   "cell_type": "markdown",
   "id": "careful-workshop",
   "metadata": {},
   "source": [
    "### Notes\n",
    "- IoU threshold\n",
    "- Do NMS seperately for different class\n",
    "\n",
    "- Discarding all the bounding boxes with probability < probability threshold\n",
    "- While there are any remaining boxes :\n",
    "\n",
    "   - Pick the box with the largest probability\n",
    "   - Discard any remaining box with IOU > the IoU threshold with the box output in the previous step \n",
    "\n",
    "- And this is done for each class"
   ]
  },
  {
   "cell_type": "code",
   "execution_count": 3,
   "id": "miniature-alignment",
   "metadata": {},
   "outputs": [],
   "source": [
    "import torch\n",
    "from iou import intersection_over_union"
   ]
  },
  {
   "cell_type": "code",
   "execution_count": 9,
   "id": "bright-relation",
   "metadata": {},
   "outputs": [],
   "source": [
    "def nms(bboxes, iou_threshold, threshold, box_format=\"corners\"):\n",
    "\n",
    "    \"\"\"\n",
    "        predictions = [\n",
    "                        [1, 0.7, x1, y1, x2, y2], \n",
    "                        [c_label, pc, x1, y1, x2, y2], \n",
    "                        [...]\n",
    "                    ]\n",
    "    \"\"\"\n",
    "    assert type(bboxes) == list\n",
    "    bboxes = [box for box in bboxes if box[1] > threshold]\n",
    "    bboxes = sorted(bboxes, key=lambda x: x[1], reverse=True)\n",
    "    bboxes_after_nms = []\n",
    "    \n",
    "    while bboxes:\n",
    "        choosen_one = bboxes.pop(0)\n",
    "        bboxes = [\n",
    "            box \n",
    "            for box in bboxes \n",
    "            if box[0]!=choosen_one[0]\n",
    "            or intersection_over_union(torch.tensor(choosen_one[2:]),\n",
    "                                       torch.tensor(box[2:]),\n",
    "                                      box_format=box_format) < iou_threshold\n",
    "        ]\n",
    "        bboxes_after_nms.append(choosen_one)\n",
    "        \n",
    "    return bboxes_after_nms"
   ]
  },
  {
   "cell_type": "code",
   "execution_count": 11,
   "id": "analyzed-realtor",
   "metadata": {},
   "outputs": [],
   "source": [
    "import sys\n",
    "import unittest\n",
    "import torch\n",
    "\n",
    "class TestNonMaxSuppression(unittest.TestCase):\n",
    "    def setUp(self):\n",
    "        # test cases we want to run\n",
    "        self.t1_boxes = [\n",
    "            [1, 1, 0.5, 0.45, 0.4, 0.5],\n",
    "            [1, 0.8, 0.5, 0.5, 0.2, 0.4],\n",
    "            [1, 0.7, 0.25, 0.35, 0.3, 0.1],\n",
    "            [1, 0.05, 0.1, 0.1, 0.1, 0.1],\n",
    "        ]\n",
    "\n",
    "        self.c1_boxes = [[1, 1, 0.5, 0.45, 0.4, 0.5], [1, 0.7, 0.25, 0.35, 0.3, 0.1]]\n",
    "\n",
    "        self.t2_boxes = [\n",
    "            [1, 1, 0.5, 0.45, 0.4, 0.5],\n",
    "            [2, 0.9, 0.5, 0.5, 0.2, 0.4],\n",
    "            [1, 0.8, 0.25, 0.35, 0.3, 0.1],\n",
    "            [1, 0.05, 0.1, 0.1, 0.1, 0.1],\n",
    "        ]\n",
    "\n",
    "        self.c2_boxes = [\n",
    "            [1, 1, 0.5, 0.45, 0.4, 0.5],\n",
    "            [2, 0.9, 0.5, 0.5, 0.2, 0.4],\n",
    "            [1, 0.8, 0.25, 0.35, 0.3, 0.1],\n",
    "        ]\n",
    "\n",
    "        self.t3_boxes = [\n",
    "            [1, 0.9, 0.5, 0.45, 0.4, 0.5],\n",
    "            [1, 1, 0.5, 0.5, 0.2, 0.4],\n",
    "            [2, 0.8, 0.25, 0.35, 0.3, 0.1],\n",
    "            [1, 0.05, 0.1, 0.1, 0.1, 0.1],\n",
    "        ]\n",
    "\n",
    "        self.c3_boxes = [[1, 1, 0.5, 0.5, 0.2, 0.4], [2, 0.8, 0.25, 0.35, 0.3, 0.1]]\n",
    "\n",
    "        self.t4_boxes = [\n",
    "            [1, 0.9, 0.5, 0.45, 0.4, 0.5],\n",
    "            [1, 1, 0.5, 0.5, 0.2, 0.4],\n",
    "            [1, 0.8, 0.25, 0.35, 0.3, 0.1],\n",
    "            [1, 0.05, 0.1, 0.1, 0.1, 0.1],\n",
    "        ]\n",
    "\n",
    "        self.c4_boxes = [\n",
    "            [1, 0.9, 0.5, 0.45, 0.4, 0.5],\n",
    "            [1, 1, 0.5, 0.5, 0.2, 0.4],\n",
    "            [1, 0.8, 0.25, 0.35, 0.3, 0.1],\n",
    "        ]\n",
    "\n",
    "    def test_remove_on_iou(self):\n",
    "        bboxes = nms(\n",
    "            self.t1_boxes,\n",
    "            threshold=0.2,\n",
    "            iou_threshold=7 / 20,\n",
    "            box_format=\"midpoint\",\n",
    "        )\n",
    "        self.assertTrue(sorted(bboxes) == sorted(self.c1_boxes))\n",
    "\n",
    "    def test_keep_on_class(self):\n",
    "        bboxes = nms(\n",
    "            self.t2_boxes,\n",
    "            threshold=0.2,\n",
    "            iou_threshold=7 / 20,\n",
    "            box_format=\"midpoint\",\n",
    "        )\n",
    "        self.assertTrue(sorted(bboxes) == sorted(self.c2_boxes))\n",
    "\n",
    "    def test_remove_on_iou_and_class(self):\n",
    "        bboxes = nms(\n",
    "            self.t3_boxes,\n",
    "            threshold=0.2,\n",
    "            iou_threshold=7 / 20,\n",
    "            box_format=\"midpoint\",\n",
    "        )\n",
    "        self.assertTrue(sorted(bboxes) == sorted(self.c3_boxes))\n",
    "\n",
    "    def test_keep_on_iou(self):\n",
    "        bboxes = nms(\n",
    "            self.t4_boxes,\n",
    "            threshold=0.2,\n",
    "            iou_threshold=9 / 20,\n",
    "            box_format=\"midpoint\",\n",
    "        )\n",
    "        self.assertTrue(sorted(bboxes) == sorted(self.c4_boxes))\n",
    "\n",
    "\n",
    "\n"
   ]
  },
  {
   "cell_type": "code",
   "execution_count": 12,
   "id": "skilled-nebraska",
   "metadata": {},
   "outputs": [
    {
     "name": "stderr",
     "output_type": "stream",
     "text": [
      "test_keep_on_class (__main__.TestNonMaxSuppression) ... ok\n",
      "test_keep_on_iou (__main__.TestNonMaxSuppression) ... ok\n",
      "test_remove_on_iou (__main__.TestNonMaxSuppression) ... ok\n",
      "test_remove_on_iou_and_class (__main__.TestNonMaxSuppression) ... ok\n",
      "\n",
      "----------------------------------------------------------------------\n",
      "Ran 4 tests in 0.019s\n",
      "\n",
      "OK\n"
     ]
    },
    {
     "data": {
      "text/plain": [
       "<unittest.main.TestProgram at 0x7fccf57e2610>"
      ]
     },
     "execution_count": 12,
     "metadata": {},
     "output_type": "execute_result"
    }
   ],
   "source": [
    "unittest.main(argv=[''], verbosity=2, exit=False)"
   ]
  }
 ],
 "metadata": {
  "kernelspec": {
   "display_name": "Python 3",
   "language": "python",
   "name": "python3"
  },
  "language_info": {
   "codemirror_mode": {
    "name": "ipython",
    "version": 3
   },
   "file_extension": ".py",
   "mimetype": "text/x-python",
   "name": "python",
   "nbconvert_exporter": "python",
   "pygments_lexer": "ipython3",
   "version": "3.8.5"
  }
 },
 "nbformat": 4,
 "nbformat_minor": 5
}
