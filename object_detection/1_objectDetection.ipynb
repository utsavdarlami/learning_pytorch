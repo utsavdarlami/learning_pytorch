{
 "cells": [
  {
   "cell_type": "markdown",
   "id": "specialized-commitment",
   "metadata": {},
   "source": [
    "# Object Detection \n",
    "\n",
    "## Object Localization"
   ]
  },
  {
   "cell_type": "markdown",
   "id": "minor-graph",
   "metadata": {},
   "source": [
    "## Sliding window\n",
    "\n",
    "### Potential Problems \n",
    "\n",
    "- Lot of computation\n",
    "- Many bounding boxes for same object\n",
    "\n",
    "### Solutions for Above Problems\n",
    "- For 1, Regional based networks \n",
    "    - R-CNN\n",
    "    - Fast rCNN\n",
    "    - Faster rCNN"
   ]
  },
  {
   "cell_type": "markdown",
   "id": "regular-brief",
   "metadata": {},
   "source": [
    "## Papers\n",
    "- http://yann.lecun.com/exdb/publis/pdf/sermanet-iclr-14.pdf \n",
    "    - We show how a multiscale and sliding windowapproach can be efficiently implemented within a ConvNet."
   ]
  }
 ],
 "metadata": {
  "kernelspec": {
   "display_name": "Python 3",
   "language": "python",
   "name": "python3"
  },
  "language_info": {
   "codemirror_mode": {
    "name": "ipython",
    "version": 3
   },
   "file_extension": ".py",
   "mimetype": "text/x-python",
   "name": "python",
   "nbconvert_exporter": "python",
   "pygments_lexer": "ipython3",
   "version": "3.8.5"
  }
 },
 "nbformat": 4,
 "nbformat_minor": 5
}
