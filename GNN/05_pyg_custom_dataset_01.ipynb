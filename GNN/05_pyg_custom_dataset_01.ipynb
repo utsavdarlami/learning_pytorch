{
  "nbformat": 4,
  "nbformat_minor": 0,
  "metadata": {
    "colab": {
      "name": "pyg_custom_dataset_01",
      "provenance": [],
      "collapsed_sections": [],
      "toc_visible": true
    },
    "kernelspec": {
      "name": "python3",
      "display_name": "Python 3"
    },
    "language_info": {
      "name": "python"
    }
  },
  "cells": [
    {
      "cell_type": "markdown",
      "source": [
        "# Resources\n",
        "This notebook was possible due to \n",
        "- https://github.com/deepfindr/gnn-project\n",
        "- https://www.youtube.com/watch?v=QLIkOtKS4os"
      ],
      "metadata": {
        "id": "5nBtHrEVdI2z"
      }
    },
    {
      "cell_type": "markdown",
      "source": [
        "# Installation"
      ],
      "metadata": {
        "id": "Bhil9vB2Z7Tb"
      }
    },
    {
      "cell_type": "code",
      "execution_count": 1,
      "metadata": {
        "colab": {
          "base_uri": "https://localhost:8080/"
        },
        "id": "Kj7s01NDYRwk",
        "outputId": "2532d60c-fb76-4ba7-dbc7-8fa690895b3a"
      },
      "outputs": [
        {
          "output_type": "stream",
          "name": "stdout",
          "text": [
            "\u001b[K     |████████████████████████████████| 7.9 MB 32.5 MB/s \n",
            "\u001b[K     |████████████████████████████████| 3.5 MB 26.6 MB/s \n",
            "\u001b[K     |████████████████████████████████| 145 kB 15.8 MB/s \n",
            "\u001b[K     |████████████████████████████████| 74 kB 1.6 MB/s \n",
            "\u001b[K     |████████████████████████████████| 112 kB 43.8 MB/s \n",
            "\u001b[K     |████████████████████████████████| 596 kB 41.5 MB/s \n",
            "\u001b[?25h  Building wheel for torch-geometric (setup.py) ... \u001b[?25l\u001b[?25hdone\n",
            "  Building wheel for antlr4-python3-runtime (setup.py) ... \u001b[?25l\u001b[?25hdone\n",
            "Collecting loguru\n",
            "  Downloading loguru-0.6.0-py3-none-any.whl (58 kB)\n",
            "\u001b[K     |████████████████████████████████| 58 kB 4.8 MB/s \n",
            "\u001b[?25hInstalling collected packages: loguru\n",
            "Successfully installed loguru-0.6.0\n"
          ]
        }
      ],
      "source": [
        "!pip install -q torch-scatter -f https://data.pyg.org/whl/torch-1.10.0+cu113.html\n",
        "!pip install -q torch-sparse -f https://data.pyg.org/whl/torch-1.10.0+cu113.html\n",
        "!pip install -q git+https://github.com/pyg-team/pytorch_geometric.git\n",
        "!pip install loguru"
      ]
    },
    {
      "cell_type": "markdown",
      "source": [
        "## RDKit installation"
      ],
      "metadata": {
        "id": "o0hpKMUNaDQu"
      }
    },
    {
      "cell_type": "code",
      "source": [
        "# Install rdkit\n",
        "import sys\n",
        "import os\n",
        "import requests\n",
        "import subprocess\n",
        "import shutil\n",
        "from loguru import logger\n",
        " \n",
        "def install(\n",
        "        chunk_size=4096,\n",
        "        file_name=\"Miniconda3-latest-Linux-x86_64.sh\",\n",
        "        url_base=\"https://repo.continuum.io/miniconda/\",\n",
        "        conda_path=os.path.expanduser(os.path.join(\"~\", \"miniconda\")),\n",
        "        rdkit_version=None,\n",
        "        add_python_path=True,\n",
        "        force=False):\n",
        "    \"\"\"install rdkit from miniconda\n",
        "    ```\n",
        "    import rdkit_installer\n",
        "    rdkit_installer.install()\n",
        "    ```\n",
        "    \"\"\"\n",
        " \n",
        "    python_path = os.path.join(\n",
        "        conda_path,\n",
        "        \"lib\",\n",
        "        \"python{0}.{1}\".format(*sys.version_info),\n",
        "        \"site-packages\",\n",
        "    )\n",
        " \n",
        "    if add_python_path and python_path not in sys.path:\n",
        "        logger.info(\"add {} to PYTHONPATH\".format(python_path))\n",
        "        sys.path.append(python_path)\n",
        " \n",
        "    if os.path.isdir(os.path.join(python_path, \"rdkit\")):\n",
        "        logger.info(\"rdkit is already installed\")\n",
        "        if not force:\n",
        "            return\n",
        " \n",
        "        logger.info(\"force re-install\")\n",
        " \n",
        "    url = url_base + file_name\n",
        "    python_version = \"{0}.{1}.{2}\".format(*sys.version_info)\n",
        " \n",
        "    logger.info(\"python version: {}\".format(python_version))\n",
        " \n",
        "    if os.path.isdir(conda_path):\n",
        "        logger.warning(\"remove current miniconda\")\n",
        "        shutil.rmtree(conda_path)\n",
        "    elif os.path.isfile(conda_path):\n",
        "        logger.warning(\"remove {}\".format(conda_path))\n",
        "        os.remove(conda_path)\n",
        " \n",
        "    logger.info('fetching installer from {}'.format(url))\n",
        "    res = requests.get(url, stream=True)\n",
        "    res.raise_for_status()\n",
        "    with open(file_name, 'wb') as f:\n",
        "        for chunk in res.iter_content(chunk_size):\n",
        "            f.write(chunk)\n",
        "    logger.info('done')\n",
        " \n",
        "    logger.info('installing miniconda to {}'.format(conda_path))\n",
        "    subprocess.check_call([\"bash\", file_name, \"-b\", \"-p\", conda_path])\n",
        "    logger.info('done')\n",
        " \n",
        "    logger.info(\"installing rdkit\")\n",
        "    subprocess.check_call([\n",
        "        os.path.join(conda_path, \"bin\", \"conda\"),\n",
        "        \"install\",\n",
        "        \"--yes\",\n",
        "        \"-c\", \"rdkit\",\n",
        "        \"python==3.7.3\",\n",
        "        \"rdkit\" if rdkit_version is None else \"rdkit=={}\".format(rdkit_version)])\n",
        "    logger.info(\"done\")\n",
        " \n",
        "    import rdkit\n",
        "    logger.info(\"rdkit-{} installation finished!\".format(rdkit.__version__))\n",
        " \n",
        " \n",
        "if __name__ == \"__main__\":\n",
        "    install()"
      ],
      "metadata": {
        "colab": {
          "base_uri": "https://localhost:8080/"
        },
        "id": "67R2YMTOaJFM",
        "outputId": "bf8c27cb-4a75-42e7-fc61-333c40cf9001"
      },
      "execution_count": 2,
      "outputs": [
        {
          "output_type": "stream",
          "name": "stderr",
          "text": [
            "add /root/miniconda/lib/python3.7/site-packages to PYTHONPATH\n",
            "python version: 3.7.12\n",
            "fetching installer from https://repo.continuum.io/miniconda/Miniconda3-latest-Linux-x86_64.sh\n",
            "done\n",
            "installing miniconda to /root/miniconda\n",
            "done\n",
            "installing rdkit\n",
            "done\n",
            "rdkit-2020.09.1 installation finished!\n"
          ]
        }
      ]
    },
    {
      "cell_type": "markdown",
      "source": [
        "# Imports"
      ],
      "metadata": {
        "id": "nes8ZyzAZ62j"
      }
    },
    {
      "cell_type": "code",
      "source": [
        "import torch\n",
        "import networkx as nx\n",
        "import rdkit"
      ],
      "metadata": {
        "id": "jS3e__FSbJgS"
      },
      "execution_count": 22,
      "outputs": []
    },
    {
      "cell_type": "code",
      "source": [
        "import pandas as pd\n",
        "import numpy as np\n",
        "import os\n",
        "import sys\n",
        "import matplotlib.pyplot as plt\n",
        "from loguru import logger"
      ],
      "metadata": {
        "id": "XqiXmFDncNZE"
      },
      "execution_count": 76,
      "outputs": []
    },
    {
      "cell_type": "markdown",
      "source": [
        "## Setting up device"
      ],
      "metadata": {
        "id": "p2tGWg4Gbkn0"
      }
    },
    {
      "cell_type": "code",
      "source": [
        "available_device= \"cuda\" if torch.cuda.is_available() else \"cpu\"\n",
        "device = torch.device(available_device)"
      ],
      "metadata": {
        "id": "YYeAOplkbmAw"
      },
      "execution_count": 5,
      "outputs": []
    },
    {
      "cell_type": "markdown",
      "source": [
        "# Working on Custom Dataset\n",
        "\n",
        "Data can be found in\n",
        "- https://github.com/deepfindr/gnn-project "
      ],
      "metadata": {
        "id": "p20bFJYxaAvH"
      }
    },
    {
      "cell_type": "code",
      "source": [
        "!git clone https://github.com/deepfindr/gnn-project \n",
        "!mkdir data\n",
        "!mkdir data/raw\n",
        "!cp gnn-project/data/raw/* ./data/raw/"
      ],
      "metadata": {
        "colab": {
          "base_uri": "https://localhost:8080/"
        },
        "id": "yZpHozFxcF7W",
        "outputId": "2e3aef85-5908-477b-ff69-a1b480301a91"
      },
      "execution_count": 6,
      "outputs": [
        {
          "output_type": "stream",
          "name": "stdout",
          "text": [
            "Cloning into 'gnn-project'...\n",
            "remote: Enumerating objects: 71, done.\u001b[K\n",
            "remote: Counting objects: 100% (71/71), done.\u001b[K\n",
            "remote: Compressing objects: 100% (47/47), done.\u001b[K\n",
            "remote: Total 71 (delta 35), reused 56 (delta 20), pack-reused 0\u001b[K\n",
            "Unpacking objects: 100% (71/71), done.\n"
          ]
        }
      ]
    },
    {
      "cell_type": "code",
      "source": [
        "hiv_df = pd.read_csv(\"data/raw/HIV_train.csv\")\n",
        "hiv_df.head()"
      ],
      "metadata": {
        "id": "npZxQ419cMDW",
        "colab": {
          "base_uri": "https://localhost:8080/",
          "height": 206
        },
        "outputId": "13243ec4-f12d-4d4f-df72-6cb6a7f67fb6"
      },
      "execution_count": 7,
      "outputs": [
        {
          "output_type": "execute_result",
          "data": {
            "text/html": [
              "\n",
              "  <div id=\"df-219c6d27-bbf0-402d-818d-da796f77832e\">\n",
              "    <div class=\"colab-df-container\">\n",
              "      <div>\n",
              "<style scoped>\n",
              "    .dataframe tbody tr th:only-of-type {\n",
              "        vertical-align: middle;\n",
              "    }\n",
              "\n",
              "    .dataframe tbody tr th {\n",
              "        vertical-align: top;\n",
              "    }\n",
              "\n",
              "    .dataframe thead th {\n",
              "        text-align: right;\n",
              "    }\n",
              "</style>\n",
              "<table border=\"1\" class=\"dataframe\">\n",
              "  <thead>\n",
              "    <tr style=\"text-align: right;\">\n",
              "      <th></th>\n",
              "      <th>index</th>\n",
              "      <th>smiles</th>\n",
              "      <th>activity</th>\n",
              "      <th>HIV_active</th>\n",
              "    </tr>\n",
              "  </thead>\n",
              "  <tbody>\n",
              "    <tr>\n",
              "      <th>0</th>\n",
              "      <td>3999</td>\n",
              "      <td>CC1c2nc(N)nc(N)c2CN1C(=O)c1ccccc1</td>\n",
              "      <td>CI</td>\n",
              "      <td>0</td>\n",
              "    </tr>\n",
              "    <tr>\n",
              "      <th>1</th>\n",
              "      <td>4000</td>\n",
              "      <td>Cc1nc(N)c2c(n1)C(C)N(C(=O)c1ccccc1)C2</td>\n",
              "      <td>CI</td>\n",
              "      <td>0</td>\n",
              "    </tr>\n",
              "    <tr>\n",
              "      <th>2</th>\n",
              "      <td>4001</td>\n",
              "      <td>NC(=S)NN=Cc1ccc(O)cn1</td>\n",
              "      <td>CI</td>\n",
              "      <td>0</td>\n",
              "    </tr>\n",
              "    <tr>\n",
              "      <th>3</th>\n",
              "      <td>4002</td>\n",
              "      <td>COC1C(OC(=O)c2ccc(C)[nH]2)C(O)C(Oc2ccc3c(O)c(N...</td>\n",
              "      <td>CM</td>\n",
              "      <td>1</td>\n",
              "    </tr>\n",
              "    <tr>\n",
              "      <th>4</th>\n",
              "      <td>4003</td>\n",
              "      <td>O=C1C=C2C=CC3CC2(O1)C1CCCCN31</td>\n",
              "      <td>CI</td>\n",
              "      <td>0</td>\n",
              "    </tr>\n",
              "  </tbody>\n",
              "</table>\n",
              "</div>\n",
              "      <button class=\"colab-df-convert\" onclick=\"convertToInteractive('df-219c6d27-bbf0-402d-818d-da796f77832e')\"\n",
              "              title=\"Convert this dataframe to an interactive table.\"\n",
              "              style=\"display:none;\">\n",
              "        \n",
              "  <svg xmlns=\"http://www.w3.org/2000/svg\" height=\"24px\"viewBox=\"0 0 24 24\"\n",
              "       width=\"24px\">\n",
              "    <path d=\"M0 0h24v24H0V0z\" fill=\"none\"/>\n",
              "    <path d=\"M18.56 5.44l.94 2.06.94-2.06 2.06-.94-2.06-.94-.94-2.06-.94 2.06-2.06.94zm-11 1L8.5 8.5l.94-2.06 2.06-.94-2.06-.94L8.5 2.5l-.94 2.06-2.06.94zm10 10l.94 2.06.94-2.06 2.06-.94-2.06-.94-.94-2.06-.94 2.06-2.06.94z\"/><path d=\"M17.41 7.96l-1.37-1.37c-.4-.4-.92-.59-1.43-.59-.52 0-1.04.2-1.43.59L10.3 9.45l-7.72 7.72c-.78.78-.78 2.05 0 2.83L4 21.41c.39.39.9.59 1.41.59.51 0 1.02-.2 1.41-.59l7.78-7.78 2.81-2.81c.8-.78.8-2.07 0-2.86zM5.41 20L4 18.59l7.72-7.72 1.47 1.35L5.41 20z\"/>\n",
              "  </svg>\n",
              "      </button>\n",
              "      \n",
              "  <style>\n",
              "    .colab-df-container {\n",
              "      display:flex;\n",
              "      flex-wrap:wrap;\n",
              "      gap: 12px;\n",
              "    }\n",
              "\n",
              "    .colab-df-convert {\n",
              "      background-color: #E8F0FE;\n",
              "      border: none;\n",
              "      border-radius: 50%;\n",
              "      cursor: pointer;\n",
              "      display: none;\n",
              "      fill: #1967D2;\n",
              "      height: 32px;\n",
              "      padding: 0 0 0 0;\n",
              "      width: 32px;\n",
              "    }\n",
              "\n",
              "    .colab-df-convert:hover {\n",
              "      background-color: #E2EBFA;\n",
              "      box-shadow: 0px 1px 2px rgba(60, 64, 67, 0.3), 0px 1px 3px 1px rgba(60, 64, 67, 0.15);\n",
              "      fill: #174EA6;\n",
              "    }\n",
              "\n",
              "    [theme=dark] .colab-df-convert {\n",
              "      background-color: #3B4455;\n",
              "      fill: #D2E3FC;\n",
              "    }\n",
              "\n",
              "    [theme=dark] .colab-df-convert:hover {\n",
              "      background-color: #434B5C;\n",
              "      box-shadow: 0px 1px 3px 1px rgba(0, 0, 0, 0.15);\n",
              "      filter: drop-shadow(0px 1px 2px rgba(0, 0, 0, 0.3));\n",
              "      fill: #FFFFFF;\n",
              "    }\n",
              "  </style>\n",
              "\n",
              "      <script>\n",
              "        const buttonEl =\n",
              "          document.querySelector('#df-219c6d27-bbf0-402d-818d-da796f77832e button.colab-df-convert');\n",
              "        buttonEl.style.display =\n",
              "          google.colab.kernel.accessAllowed ? 'block' : 'none';\n",
              "\n",
              "        async function convertToInteractive(key) {\n",
              "          const element = document.querySelector('#df-219c6d27-bbf0-402d-818d-da796f77832e');\n",
              "          const dataTable =\n",
              "            await google.colab.kernel.invokeFunction('convertToInteractive',\n",
              "                                                     [key], {});\n",
              "          if (!dataTable) return;\n",
              "\n",
              "          const docLinkHtml = 'Like what you see? Visit the ' +\n",
              "            '<a target=\"_blank\" href=https://colab.research.google.com/notebooks/data_table.ipynb>data table notebook</a>'\n",
              "            + ' to learn more about interactive tables.';\n",
              "          element.innerHTML = '';\n",
              "          dataTable['output_type'] = 'display_data';\n",
              "          await google.colab.output.renderOutput(dataTable, element);\n",
              "          const docLink = document.createElement('div');\n",
              "          docLink.innerHTML = docLinkHtml;\n",
              "          element.appendChild(docLink);\n",
              "        }\n",
              "      </script>\n",
              "    </div>\n",
              "  </div>\n",
              "  "
            ],
            "text/plain": [
              "   index  ... HIV_active\n",
              "0   3999  ...          0\n",
              "1   4000  ...          0\n",
              "2   4001  ...          0\n",
              "3   4002  ...          1\n",
              "4   4003  ...          0\n",
              "\n",
              "[5 rows x 4 columns]"
            ]
          },
          "metadata": {},
          "execution_count": 7
        }
      ]
    },
    {
      "cell_type": "markdown",
      "source": [
        "## Molecule Visualization"
      ],
      "metadata": {
        "id": "TxvNHf2zacGJ"
      }
    },
    {
      "cell_type": "code",
      "source": [
        "from rdkit import Chem\n",
        "from rdkit.Chem import Draw\n",
        "from rdkit.Chem.Draw import IPythonConsole"
      ],
      "metadata": {
        "id": "0n_uBUGaTEIw"
      },
      "execution_count": 9,
      "outputs": []
    },
    {
      "cell_type": "code",
      "source": [
        "smiles = hiv_df[:9][\"smiles\"].values\n",
        "len(smiles)"
      ],
      "metadata": {
        "colab": {
          "base_uri": "https://localhost:8080/"
        },
        "id": "qlsfsq9YSHWJ",
        "outputId": "825336d2-05ff-4a94-8b9a-3037fecac5b8"
      },
      "execution_count": 31,
      "outputs": [
        {
          "output_type": "execute_result",
          "data": {
            "text/plain": [
              "9"
            ]
          },
          "metadata": {},
          "execution_count": 31
        }
      ]
    },
    {
      "cell_type": "code",
      "source": [
        "smile_mol = [Chem.MolFromSmiles(smile) for smile in smiles]\n",
        "print(len(smile_mol))\n",
        "smile_mol[0] "
      ],
      "metadata": {
        "colab": {
          "base_uri": "https://localhost:8080/",
          "height": 184
        },
        "id": "kaC05KLoS0eg",
        "outputId": "f52f3fdc-ec26-43bc-8b3b-d26a562db5e5"
      },
      "execution_count": 32,
      "outputs": [
        {
          "output_type": "stream",
          "name": "stdout",
          "text": [
            "9\n"
          ]
        },
        {
          "output_type": "execute_result",
          "data": {
            "image/png": "[encoded data removed]",
            "text/plain": [
              "<rdkit.Chem.rdchem.Mol at 0x7fab17866da0>"
            ]
          },
          "metadata": {},
          "execution_count": 32
        }
      ]
    },
    {
      "cell_type": "code",
      "source": [
        "grid = Draw.MolsToGridImage(smile_mol,\n",
        "                            molsPerRow=3,\n",
        "                            subImgSize=(300,300))    \n",
        "grid"
      ],
      "metadata": {
        "colab": {
          "base_uri": "https://localhost:8080/",
          "height": 917
        },
        "id": "94EQ2V2WUyB6",
        "outputId": "42b976e6-fb41-4002-ad08-45e7e4106b1b"
      },
      "execution_count": 33,
      "outputs": [
        {
          "output_type": "execute_result",
          "data": {
            "image/png": "[encoded data removed]",
            "text/plain": [
              "<IPython.core.display.Image object>"
            ]
          },
          "metadata": {},
          "execution_count": 33
        }
      ]
    },
    {
      "cell_type": "markdown",
      "source": [
        "## Let's explore a single molecule"
      ],
      "metadata": {
        "id": "ZNpBrpeNFHtd"
      }
    },
    {
      "cell_type": "code",
      "source": [
        "molecule = smile_mol[0]\n",
        "molecule"
      ],
      "metadata": {
        "colab": {
          "base_uri": "https://localhost:8080/",
          "height": 167
        },
        "id": "GhLq0hYrFMTO",
        "outputId": "642ac9af-bea2-4709-8d1d-79e1c1ec3266"
      },
      "execution_count": 13,
      "outputs": [
        {
          "output_type": "execute_result",
          "data": {
            "image/png": "[encoded data removed]",
            "text/plain": [
              "<rdkit.Chem.rdchem.Mol at 0x7fab1b651cb0>"
            ]
          },
          "metadata": {},
          "execution_count": 13
        }
      ]
    },
    {
      "cell_type": "code",
      "source": [
        "len(molecule.GetAtoms()) # no. of nodes"
      ],
      "metadata": {
        "colab": {
          "base_uri": "https://localhost:8080/"
        },
        "id": "7NJUeNnaFwV6",
        "outputId": "384c443b-76cf-45bd-8cbe-ca1cff9b0f16"
      },
      "execution_count": 14,
      "outputs": [
        {
          "output_type": "execute_result",
          "data": {
            "text/plain": [
              "20"
            ]
          },
          "metadata": {},
          "execution_count": 14
        }
      ]
    },
    {
      "cell_type": "markdown",
      "source": [
        "### Node features"
      ],
      "metadata": {
        "id": "tZRZPUDpI10j"
      }
    },
    {
      "cell_type": "code",
      "source": [
        "node_features = []\n",
        "nodes = []\n",
        "for atom in molecule.GetAtoms():\n",
        "    node_feats = []\n",
        "    # Feature 1: Atomic number        \n",
        "    node_feats.append(atom.GetAtomicNum())\n",
        "    # Feature 2: Atom degree\n",
        "    node_feats.append(atom.GetDegree())\n",
        "    # Feature 3: Formal charge\n",
        "    node_feats.append(atom.GetFormalCharge())\n",
        "    # Feature 4: Hybridization\n",
        "    node_feats.append(atom.GetHybridization())\n",
        "    # Feature 5: Aromaticity\n",
        "    node_feats.append(atom.GetIsAromatic())\n",
        "    # Feature 6: Total Num Hs\n",
        "    node_feats.append(atom.GetTotalNumHs())\n",
        "    # Feature 7: Radical Electrons\n",
        "    node_feats.append(atom.GetNumRadicalElectrons())\n",
        "    # Feature 8: In Ring\n",
        "    node_feats.append(atom.IsInRing())\n",
        "    # Feature 9: Chirality\n",
        "    node_feats.append(atom.GetChiralTag())\n",
        "    node_features.append(node_feats)\n",
        "\n",
        "    nodes.append(atom.GetIdx()) \n",
        "\n",
        "node_features = np.asarray(node_features, dtype=np.float)"
      ],
      "metadata": {
        "id": "YnJCLSWwF3zR",
        "colab": {
          "base_uri": "https://localhost:8080/"
        },
        "outputId": "4a9246a0-5d83-4959-d6eb-f92f7b4de126"
      },
      "execution_count": 15,
      "outputs": [
        {
          "output_type": "stream",
          "name": "stderr",
          "text": [
            "/usr/local/lib/python3.7/dist-packages/ipykernel_launcher.py:27: DeprecationWarning: `np.float` is a deprecated alias for the builtin `float`. To silence this warning, use `float` by itself. Doing this will not modify any behavior and is safe. If you specifically wanted the numpy scalar type, use `np.float64` here.\n",
            "Deprecated in NumPy 1.20; for more details and guidance: https://numpy.org/devdocs/release/1.20.0-notes.html#deprecations\n"
          ]
        }
      ]
    },
    {
      "cell_type": "code",
      "source": [
        "node_features.shape"
      ],
      "metadata": {
        "colab": {
          "base_uri": "https://localhost:8080/"
        },
        "id": "noKLJ3Y7HBie",
        "outputId": "c08377f6-72ad-43e6-b63a-05bd6c89808f"
      },
      "execution_count": 16,
      "outputs": [
        {
          "output_type": "execute_result",
          "data": {
            "text/plain": [
              "(20, 9)"
            ]
          },
          "metadata": {},
          "execution_count": 16
        }
      ]
    },
    {
      "cell_type": "markdown",
      "source": [
        "### Edges and its features "
      ],
      "metadata": {
        "id": "VCSo6lHFI4oe"
      }
    },
    {
      "cell_type": "code",
      "source": [
        "len(molecule.GetBonds())"
      ],
      "metadata": {
        "colab": {
          "base_uri": "https://localhost:8080/"
        },
        "id": "pbpBgnrcJIrj",
        "outputId": "eef0547f-d40c-4a55-c68e-234779ad4a9f"
      },
      "execution_count": 17,
      "outputs": [
        {
          "output_type": "execute_result",
          "data": {
            "text/plain": [
              "22"
            ]
          },
          "metadata": {},
          "execution_count": 17
        }
      ]
    },
    {
      "cell_type": "code",
      "source": [
        "edge_features = []\n",
        "edges_in_coo = []\n",
        "for bond in molecule.GetBonds():\n",
        "    edge_feats = []\n",
        "    # Feature 1: Bond type (as double)\n",
        "    edge_feats.append(bond.GetBondTypeAsDouble())\n",
        "    # Feature 2: Rings\n",
        "    edge_feats.append(bond.IsInRing())\n",
        "\n",
        "    i_atom_idx = bond.GetBeginAtomIdx() # n_i\n",
        "    j_atom_idx = bond.GetEndAtomIdx() # n_j\n",
        "\n",
        "    edge_features += [edge_feats, edge_feats]\n",
        "\n",
        "    edges_in_coo += [\n",
        "                     [i_atom_idx, j_atom_idx], \n",
        "                     [j_atom_idx, i_atom_idx]\n",
        "                     ]"
      ],
      "metadata": {
        "id": "D76e_nVUJBuu"
      },
      "execution_count": 18,
      "outputs": []
    },
    {
      "cell_type": "code",
      "source": [
        "edge_features = np.asarray(edge_features, dtype=np.float)\n",
        "edge_features.shape"
      ],
      "metadata": {
        "colab": {
          "base_uri": "https://localhost:8080/"
        },
        "id": "Cqx0KuOYIYHQ",
        "outputId": "daf0887f-1027-4396-ba17-35d546c1deea"
      },
      "execution_count": 19,
      "outputs": [
        {
          "output_type": "stream",
          "name": "stderr",
          "text": [
            "/usr/local/lib/python3.7/dist-packages/ipykernel_launcher.py:1: DeprecationWarning: `np.float` is a deprecated alias for the builtin `float`. To silence this warning, use `float` by itself. Doing this will not modify any behavior and is safe. If you specifically wanted the numpy scalar type, use `np.float64` here.\n",
            "Deprecated in NumPy 1.20; for more details and guidance: https://numpy.org/devdocs/release/1.20.0-notes.html#deprecations\n",
            "  \"\"\"Entry point for launching an IPython kernel.\n"
          ]
        },
        {
          "output_type": "execute_result",
          "data": {
            "text/plain": [
              "(44, 2)"
            ]
          },
          "metadata": {},
          "execution_count": 19
        }
      ]
    },
    {
      "cell_type": "code",
      "source": [
        "edges_in_coo = np.asarray(edges_in_coo, dtype=np.long).T.reshape(2, -1)\n",
        "edges_in_coo.shape"
      ],
      "metadata": {
        "colab": {
          "base_uri": "https://localhost:8080/"
        },
        "id": "C6_xhVMjQga3",
        "outputId": "b87ebb43-8c4a-4e8c-9861-6a5bb0493058"
      },
      "execution_count": 46,
      "outputs": [
        {
          "output_type": "stream",
          "name": "stderr",
          "text": [
            "/usr/local/lib/python3.7/dist-packages/ipykernel_launcher.py:1: DeprecationWarning: `np.long` is a deprecated alias for `np.compat.long`. To silence this warning, use `np.compat.long` by itself. In the likely event your code does not need to work on Python 2 you can use the builtin `int` for which `np.compat.long` is itself an alias. Doing this will not modify any behaviour and is safe. When replacing `np.long`, you may wish to use e.g. `np.int64` or `np.int32` to specify the precision. If you wish to review your current use, check the release note link for additional information.\n",
            "Deprecated in NumPy 1.20; for more details and guidance: https://numpy.org/devdocs/release/1.20.0-notes.html#deprecations\n",
            "  \"\"\"Entry point for launching an IPython kernel.\n"
          ]
        },
        {
          "output_type": "execute_result",
          "data": {
            "text/plain": [
              "(2, 44)"
            ]
          },
          "metadata": {},
          "execution_count": 46
        }
      ]
    },
    {
      "cell_type": "code",
      "source": [
        "G = nx.Graph()\n",
        "G.add_edges_from(edges_in_coo.T)\n",
        "G.add_nodes_from(nodes)\n",
        "nx.draw(G, with_labels=True)\n",
        "plt.show()"
      ],
      "metadata": {
        "colab": {
          "base_uri": "https://localhost:8080/",
          "height": 319
        },
        "id": "opbaHjxaRh6p",
        "outputId": "571fc74c-6a50-4a6b-9285-ab13436ceb30"
      },
      "execution_count": 25,
      "outputs": [
        {
          "output_type": "display_data",
          "data": {
            "image/png": "[encoded data removed]",
            "text/plain": [
              "<Figure size 432x288 with 1 Axes>"
            ]
          },
          "metadata": {}
        }
      ]
    },
    {
      "cell_type": "code",
      "source": [
        "molecule"
      ],
      "metadata": {
        "colab": {
          "base_uri": "https://localhost:8080/",
          "height": 167
        },
        "id": "rTK06fqmzqK0",
        "outputId": "2bc8365f-ce18-42d2-8b1e-2b45614b0107"
      },
      "execution_count": 24,
      "outputs": [
        {
          "output_type": "execute_result",
          "data": {
            "image/png": "[encoded data removed]",
            "text/plain": [
              "<rdkit.Chem.rdchem.Mol at 0x7fab1b651cb0>"
            ]
          },
          "metadata": {},
          "execution_count": 24
        }
      ]
    },
    {
      "cell_type": "markdown",
      "source": [
        "# Dataset\n",
        "- https://pytorch-geometric.readthedocs.io/en/latest/notes/create_dataset.html\n",
        "- https://pytorch-geometric.readthedocs.io/en/latest/_modules/torch_geometric/data/dataset.html#Dataset\n"
      ],
      "metadata": {
        "id": "iJi6Y28AaZ2Z"
      }
    },
    {
      "cell_type": "code",
      "source": [
        "from torch_geometric.data import Dataset, download_url\n",
        "from torch_geometric.data import Data\n",
        "from torch_geometric.loader import DataLoader\n",
        "from tqdm import tqdm\n",
        "import os"
      ],
      "metadata": {
        "id": "yKXfXXeVIag-"
      },
      "execution_count": 48,
      "outputs": []
    },
    {
      "cell_type": "code",
      "source": [
        "os.listdir(\"./data/raw\")"
      ],
      "metadata": {
        "colab": {
          "base_uri": "https://localhost:8080/"
        },
        "id": "PmYqQDQXJ8PY",
        "outputId": "43f599d9-fb02-4d58-8c13-ddfd6c9418a7"
      },
      "execution_count": 39,
      "outputs": [
        {
          "output_type": "execute_result",
          "data": {
            "text/plain": [
              "['HIV_test.csv', 'HIV_train_oversampled.csv', 'HIV_train.csv']"
            ]
          },
          "metadata": {},
          "execution_count": 39
        }
      ]
    },
    {
      "cell_type": "code",
      "source": [
        "class MoleculeDataset(Dataset):\n",
        "    def __init__(self, root, transform=None, pre_transform=None, pre_filter=None):\n",
        "        super().__init__(root, transform, pre_transform, pre_filter)\n",
        "    \n",
        "    @property\n",
        "    def raw_file_names(self):\n",
        "        raw_files = [\"HIV_train.csv\"] \n",
        "        return raw_files\n",
        "\n",
        "    @property\n",
        "    def processed_file_names(self):\n",
        "        return os.listdir(self.processed_dir)\n",
        "\n",
        "    def download(self):\n",
        "        pass\n",
        "\n",
        "    def get_node_features(self, molecule_obj=None):\n",
        "        \"\"\"\n",
        "        \"\"\"\n",
        "        node_features = []\n",
        "        for atom in molecule_obj.GetAtoms():\n",
        "            node_feats = []\n",
        "            # Feature 1: Atomic number        \n",
        "            node_feats.append(atom.GetAtomicNum())\n",
        "            # Feature 2: Atom degree\n",
        "            node_feats.append(atom.GetDegree())\n",
        "            # Feature 3: Formal charge\n",
        "            node_feats.append(atom.GetFormalCharge())\n",
        "            # Feature 4: Hybridization\n",
        "            node_feats.append(atom.GetHybridization())\n",
        "            # Feature 5: Aromaticity\n",
        "            node_feats.append(atom.GetIsAromatic())\n",
        "            # Feature 6: Total Num Hs\n",
        "            node_feats.append(atom.GetTotalNumHs())\n",
        "            # Feature 7: Radical Electrons\n",
        "            node_feats.append(atom.GetNumRadicalElectrons())\n",
        "            # Feature 8: In Ring\n",
        "            node_feats.append(atom.IsInRing())\n",
        "            # Feature 9: Chirality\n",
        "            node_feats.append(atom.GetChiralTag())\n",
        "            node_features.append(node_feats)\n",
        "\n",
        "        node_features = np.asarray(node_features)\n",
        "        return torch.tensor(node_features, dtype=torch.float)\n",
        "\n",
        "    def get_edge_idx_and_features(self, molecule_obj=None):\n",
        "        \"\"\"\n",
        "            Get Edge index in COO format \n",
        "            and \n",
        "            Edge Feature from the molecule object.\n",
        "        \"\"\"\n",
        "        edge_features, edge_index = [], []\n",
        "        for bond in molecule_obj.GetBonds():\n",
        "            edge_feats = []\n",
        "            # Feature 1: Bond type (as double)\n",
        "            edge_feats.append(bond.GetBondTypeAsDouble())\n",
        "            # Feature 2: Rings\n",
        "            edge_feats.append(bond.IsInRing())\n",
        "\n",
        "            i_atom_idx = bond.GetBeginAtomIdx() # n_i\n",
        "            j_atom_idx = bond.GetEndAtomIdx() # n_j\n",
        "\n",
        "            edge_features += [edge_feats, edge_feats]\n",
        "\n",
        "            edge_index += [\n",
        "                           [i_atom_idx, j_atom_idx], \n",
        "                           [j_atom_idx, i_atom_idx]\n",
        "                        ]\n",
        "        edge_index_np = np.asarray(edge_index, np.long).T.reshape(2, -1)\n",
        "        edge_features_np = np.asarray(edge_features, np.float)\n",
        "\n",
        "        return torch.tensor(edge_features_np), torch.tensor(edge_index_np)\n",
        "\n",
        "    def get_graph_label(self, label=None):\n",
        "        \"\"\"\"\"\"\n",
        "        label_np = np.asarray([label])\n",
        "        return torch.tensor(label_np, dtype=torch.int64))        \n",
        "\n",
        "    def process(self):\n",
        "        raw_path = self.raw_paths[0]\n",
        "        df = pd.read_csv(raw_path)\n",
        "        smiles = df[\"smiles\"].values\n",
        "        labels = df[\"HIV_active\"].values\n",
        "        total_len = df.shape[0]\n",
        "        idx = 0\n",
        "        loop = tqdm(enumerate(zip(smiles, labels)), total=total_len)\n",
        "        for idx, (smile, label) in loop:\n",
        "            smile_mol = Chem.MolFromSmiles(smile)\n",
        "            node_features = self.get_node_features(smile_mol)\n",
        "            edge_features, adj_coo = self.get_edge_idx_and_features(smile_mol)\n",
        "            molecule_label = self.get_graph_label(label)\n",
        "\n",
        "            data = Data(x=node_features, \n",
        "                        edge_index=adj_coo, \n",
        "                        edge_attr=edge_features, \n",
        "                        y=molecule_label,\n",
        "                        smiles=smile\n",
        "                        )\n",
        "\n",
        "            if self.pre_filter is not None and not self.pre_filter(data):\n",
        "                continue\n",
        "\n",
        "            if self.pre_transform is not None:\n",
        "                data = self.pre_transform(data)\n",
        "\n",
        "            torch.save(data, os.path.join(self.processed_dir, f'data_{idx}.pt'))\n",
        "            idx += 1\n",
        "\n",
        "    def len(self):\n",
        "        return len(self.processed_file_names)\n",
        "\n",
        "    def get(self, idx):\n",
        "        data = torch.load(os.path.join(self.processed_dir, f'data_{idx}.pt'))\n",
        "        return data"
      ],
      "metadata": {
        "id": "NnSQ2aJ-Iiu5"
      },
      "execution_count": 58,
      "outputs": []
    },
    {
      "cell_type": "code",
      "source": [
        "mol_dataset = MoleculeDataset(root=\"./data\")"
      ],
      "metadata": {
        "colab": {
          "base_uri": "https://localhost:8080/"
        },
        "id": "8-ERGTiDXi8O",
        "outputId": "310e0ebb-3441-4653-c92b-492d2f6d51e1"
      },
      "execution_count": 59,
      "outputs": [
        {
          "output_type": "stream",
          "name": "stderr",
          "text": [
            "Processing...\n",
            "  0%|          | 0/37128 [00:00<?, ?it/s]/usr/local/lib/python3.7/dist-packages/ipykernel_launcher.py:43: DeprecationWarning: `np.float` is a deprecated alias for the builtin `float`. To silence this warning, use `float` by itself. Doing this will not modify any behavior and is safe. If you specifically wanted the numpy scalar type, use `np.float64` here.\n",
            "Deprecated in NumPy 1.20; for more details and guidance: https://numpy.org/devdocs/release/1.20.0-notes.html#deprecations\n",
            "/usr/local/lib/python3.7/dist-packages/ipykernel_launcher.py:69: DeprecationWarning: `np.long` is a deprecated alias for `np.compat.long`. To silence this warning, use `np.compat.long` by itself. In the likely event your code does not need to work on Python 2 you can use the builtin `int` for which `np.compat.long` is itself an alias. Doing this will not modify any behaviour and is safe. When replacing `np.long`, you may wish to use e.g. `np.int64` or `np.int32` to specify the precision. If you wish to review your current use, check the release note link for additional information.\n",
            "Deprecated in NumPy 1.20; for more details and guidance: https://numpy.org/devdocs/release/1.20.0-notes.html#deprecations\n",
            "/usr/local/lib/python3.7/dist-packages/ipykernel_launcher.py:70: DeprecationWarning: `np.float` is a deprecated alias for the builtin `float`. To silence this warning, use `float` by itself. Doing this will not modify any behavior and is safe. If you specifically wanted the numpy scalar type, use `np.float64` here.\n",
            "Deprecated in NumPy 1.20; for more details and guidance: https://numpy.org/devdocs/release/1.20.0-notes.html#deprecations\n",
            "/usr/local/lib/python3.7/dist-packages/ipykernel_launcher.py:75: DeprecationWarning: `np.long` is a deprecated alias for `np.compat.long`. To silence this warning, use `np.compat.long` by itself. In the likely event your code does not need to work on Python 2 you can use the builtin `int` for which `np.compat.long` is itself an alias. Doing this will not modify any behaviour and is safe. When replacing `np.long`, you may wish to use e.g. `np.int64` or `np.int32` to specify the precision. If you wish to review your current use, check the release note link for additional information.\n",
            "Deprecated in NumPy 1.20; for more details and guidance: https://numpy.org/devdocs/release/1.20.0-notes.html#deprecations\n",
            " 84%|████████▍ | 31116/37128 [01:27<00:13, 442.23it/s]RDKit WARNING: [16:31:32] WARNING: not removing hydrogen atom without neighbors\n",
            "RDKit WARNING: [16:31:32] WARNING: not removing hydrogen atom without neighbors\n",
            "100%|██████████| 37128/37128 [01:41<00:00, 366.11it/s]\n",
            "Done!\n"
          ]
        }
      ]
    },
    {
      "cell_type": "code",
      "source": [
        "mol_dataset[0]"
      ],
      "metadata": {
        "colab": {
          "base_uri": "https://localhost:8080/"
        },
        "id": "fB9ltmTbYE_1",
        "outputId": "c1fbfdb1-2710-4531-e387-907d91fd8511"
      },
      "execution_count": 61,
      "outputs": [
        {
          "output_type": "execute_result",
          "data": {
            "text/plain": [
              "Data(x=[20, 9], edge_index=[2, 44], edge_attr=[44, 2], y=[1], smiles='CC1c2nc(N)nc(N)c2CN1C(=O)c1ccccc1')"
            ]
          },
          "metadata": {},
          "execution_count": 61
        }
      ]
    },
    {
      "cell_type": "code",
      "source": [
        "len(os.listdir(\"./data/processed\"))"
      ],
      "metadata": {
        "colab": {
          "base_uri": "https://localhost:8080/"
        },
        "id": "J-1TFsnbYLmc",
        "outputId": "3f2dd70c-22b2-4486-a097-2da97f694a99"
      },
      "execution_count": 63,
      "outputs": [
        {
          "output_type": "execute_result",
          "data": {
            "text/plain": [
              "37130"
            ]
          },
          "metadata": {},
          "execution_count": 63
        }
      ]
    },
    {
      "cell_type": "markdown",
      "source": [
        "## Train and Test Split"
      ],
      "metadata": {
        "id": "Ed9WJ5Bhbnv1"
      }
    },
    {
      "cell_type": "code",
      "source": [
        "train_size = int(len(mol_dataset) * 0.8)\n",
        "train_set = mol_dataset[:train_size]\n",
        "test_set = mol_dataset[train_size:]"
      ],
      "metadata": {
        "id": "tr4gB4TVbpl7"
      },
      "execution_count": 67,
      "outputs": []
    },
    {
      "cell_type": "markdown",
      "source": [
        "# Dataloader"
      ],
      "metadata": {
        "id": "zOhPoBrUbIyT"
      }
    },
    {
      "cell_type": "code",
      "source": [
        "from torch_geometric.loader import DataLoader"
      ],
      "metadata": {
        "id": "3iDo76UIbMkM"
      },
      "execution_count": 64,
      "outputs": []
    },
    {
      "cell_type": "code",
      "source": [
        "BATCH_SIZE = 64 # no. of graphs in a batch\n",
        "train_loader = DataLoader(train_set, batch_size=BATCH_SIZE, shuffle=True)\n",
        "test_loader = DataLoader(test_set, batch_size=BATCH_SIZE, shuffle=True)"
      ],
      "metadata": {
        "id": "YPacT7dUbPrL"
      },
      "execution_count": 69,
      "outputs": []
    },
    {
      "cell_type": "code",
      "source": [
        "for a_batch in train_loader:\n",
        "    print(a_batch)\n",
        "    # print(y)\n",
        "    break"
      ],
      "metadata": {
        "colab": {
          "base_uri": "https://localhost:8080/"
        },
        "id": "9keD0g_BcPVd",
        "outputId": "e136e12f-c433-4797-dcaa-9cd530b0ec10"
      },
      "execution_count": 78,
      "outputs": [
        {
          "output_type": "stream",
          "name": "stdout",
          "text": [
            "DataBatch(x=[1540, 9], edge_index=[2, 3302], edge_attr=[3302, 2], y=[64], smiles=[64], batch=[1540], ptr=[65])\n"
          ]
        }
      ]
    },
    {
      "cell_type": "code",
      "source": [
        "logger.info(train_size)\n",
        "logger.info(f\"{train_size/BATCH_SIZE}\")\n",
        "logger.info(len(train_loader))"
      ],
      "metadata": {
        "colab": {
          "base_uri": "https://localhost:8080/"
        },
        "id": "JnmpxbPwcVoe",
        "outputId": "3a7ffe93-e5b8-44ae-cbbf-dc7156b5390b"
      },
      "execution_count": 77,
      "outputs": [
        {
          "output_type": "stream",
          "name": "stderr",
          "text": [
            "2022-02-16 16:52:59.580 | INFO     | __main__:<module>:1 - 29704\n",
            "2022-02-16 16:52:59.584 | INFO     | __main__:<module>:2 - 464.125\n",
            "2022-02-16 16:52:59.586 | INFO     | __main__:<module>:3 - 465\n"
          ]
        }
      ]
    }
  ]
}