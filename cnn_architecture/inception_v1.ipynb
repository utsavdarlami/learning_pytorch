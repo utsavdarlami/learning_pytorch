{
 "cells": [
  {
   "cell_type": "markdown",
   "metadata": {
    "id": "dOQ_MKS775uw"
   },
   "source": [
    "# Inception/GoogleNet\n",
    "\n",
    "### From Paper\n",
    "- https://arxiv.org/pdf/1409.4842.pdf\n",
    "\n",
    "\n",
    "## Points from Paper\n",
    "- *“we need to go deeper”*\n",
    "- In inception module, 1×1convolutions are used to compute reductions before the expensive 3×3 and 5×5 convolutions.\n"
   ]
  },
  {
   "cell_type": "markdown",
   "metadata": {
    "id": "HbQUPpAI9rkT"
   },
   "source": [
    "## Inception Module"
   ]
  },
  {
   "cell_type": "markdown",
   "metadata": {},
   "source": [
    "![](./inception_arch.png)"
   ]
  },
  {
   "cell_type": "code",
   "execution_count": 1,
   "metadata": {
    "id": "L9n_LL1q-Pnc"
   },
   "outputs": [],
   "source": [
    "import torch\n",
    "from torch import nn, optim\n",
    "from torchvision import datasets, transforms\n",
    "from torch.utils.data import DataLoader\n",
    "import torchvision"
   ]
  },
  {
   "cell_type": "markdown",
   "metadata": {
    "id": "sPF0MbZw-QPL"
   },
   "source": [
    "## Setting Device"
   ]
  },
  {
   "cell_type": "code",
   "execution_count": 2,
   "metadata": {
    "colab": {
     "base_uri": "https://localhost:8080/"
    },
    "id": "NRa_7iJ_-Ssr",
    "outputId": "3b56cea8-b775-41c8-a7c3-592d35f94eb6"
   },
   "outputs": [
    {
     "name": "stdout",
     "output_type": "stream",
     "text": [
      "cuda is available\n"
     ]
    },
    {
     "data": {
      "text/plain": [
       "device(type='cuda')"
      ]
     },
     "execution_count": 2,
     "metadata": {},
     "output_type": "execute_result"
    }
   ],
   "source": [
    "available_device = \"cuda\" if torch.cuda.is_available() else \"cpu\"\n",
    "print(f\"{available_device} is available\")\n",
    "device = torch.device(device=available_device)\n",
    "device\n"
   ]
  },
  {
   "cell_type": "code",
   "execution_count": 101,
   "metadata": {
    "id": "8Hf2-naF-Mjf"
   },
   "outputs": [],
   "source": [
    "class ConvBlock(nn.Module):\n",
    "    def __init__(self, in_channel, out_channel, **kwargs):\n",
    "        super(ConvBlock, self).__init__()\n",
    "        self.conv = nn.Conv2d(in_channel, out_channel, **kwargs )\n",
    "        self.relu = nn.ReLU()\n",
    "        self.localRespNorm = nn.LocalResponseNorm(out_channel)\n",
    "    def forward(self, x):\n",
    "        x = self.relu(self.conv(x))\n",
    "        return x"
   ]
  },
  {
   "cell_type": "code",
   "execution_count": 44,
   "metadata": {},
   "outputs": [
    {
     "data": {
      "text/plain": [
       "torch.Size([2, 192, 28, 28])"
      ]
     },
     "execution_count": 44,
     "metadata": {},
     "output_type": "execute_result"
    }
   ],
   "source": [
    "x = torch.randn(2,192,28,28)\n",
    "x.shape"
   ]
  },
  {
   "cell_type": "code",
   "execution_count": 46,
   "metadata": {},
   "outputs": [
    {
     "data": {
      "text/plain": [
       "torch.Size([2, 64, 28, 28])"
      ]
     },
     "execution_count": 46,
     "metadata": {},
     "output_type": "execute_result"
    }
   ],
   "source": [
    "conv1 = ConvBlock(192,64,kernel_size=1)\n",
    "y = conv1(x)\n",
    "y.shape"
   ]
  },
  {
   "cell_type": "code",
   "execution_count": 102,
   "metadata": {},
   "outputs": [],
   "source": [
    "class Inception_Module(nn.Module):\n",
    "    def __init__(self, in_channel, out1x1, re_out3x3, out3x3, re_out5x5, out5x5,  out_pool):\n",
    "        super(Inception_Module, self).__init__()\n",
    "        self.branch_1 = nn.Sequential(\n",
    "                            ConvBlock(in_channel, out1x1, kernel_size=1)\n",
    "                        )\n",
    "        self.branch_2 =  nn.Sequential(\n",
    "                            ConvBlock(in_channel, re_out3x3, kernel_size=1),\n",
    "                            ConvBlock(re_out3x3, out3x3, kernel_size=3, padding=1)\n",
    "                        )\n",
    "        self.branch_3 =  nn.Sequential(\n",
    "                            ConvBlock(in_channel, re_out5x5, kernel_size=1, ),\n",
    "                            ConvBlock(re_out5x5, out5x5, kernel_size=5, padding=2)\n",
    "                        )\n",
    "        self.branch_4 = nn.Sequential(\n",
    "                            nn.MaxPool2d(kernel_size=3, stride=1, padding=1),\n",
    "                            ConvBlock(in_channel, out_pool, kernel_size=1)\n",
    "                        )\n",
    "        self.relu = nn.ReLU()\n",
    "        \n",
    "    def forward(self,x):\n",
    "        \n",
    "#         b1 = self.branch_1(x)\n",
    "#         print(b1.shape)\n",
    "        \n",
    "#         b2 = self.branch_2(x)\n",
    "#         print(b2.shape)\n",
    "\n",
    "#         b3 =  self.branch_3(x)\n",
    "#         print(b3.shape)\n",
    "\n",
    "#         b4 =  self.branch_4(x) \n",
    "#         print(b4.shape)\n",
    "\n",
    "        x = torch.cat([self.branch_1(x),\n",
    "                       self.branch_2(x),\n",
    "                       self.branch_3(x),\n",
    "                       self.branch_4(x)\n",
    "                       ], dim=1)\n",
    "\n",
    "        return x\n",
    "\n",
    "        "
   ]
  },
  {
   "cell_type": "code",
   "execution_count": 75,
   "metadata": {
    "id": "tB7VbvdM7qHi"
   },
   "outputs": [
    {
     "data": {
      "text/plain": [
       "torch.Size([2, 256, 28, 28])"
      ]
     },
     "execution_count": 75,
     "metadata": {},
     "output_type": "execute_result"
    }
   ],
   "source": [
    "inception_3a = Inception_Module(192, 64, 96, 128, 16, 32, 32)\n",
    "# conv1 = ConvBlock(192,64,kernel_size=1)\n",
    "y = inception_3a(x)\n",
    "y.shape"
   ]
  },
  {
   "cell_type": "code",
   "execution_count": 76,
   "metadata": {},
   "outputs": [
    {
     "data": {
      "text/plain": [
       "256"
      ]
     },
     "execution_count": 76,
     "metadata": {},
     "output_type": "execute_result"
    }
   ],
   "source": [
    "64 + 128 + 32 + 32"
   ]
  },
  {
   "cell_type": "code",
   "execution_count": 110,
   "metadata": {},
   "outputs": [],
   "source": [
    "class InceptionV1(nn.Module):\n",
    "    def __init__(self, in_channels=3, num_classes=1000):\n",
    "        super(InceptionV1, self).__init__()\n",
    "        self.conv1 = ConvBlock(in_channels, 64, kernel_size=7, stride=2, padding=3)\n",
    "        self.maxpool = nn.MaxPool2d(kernel_size=3, stride=2, padding=1)\n",
    "        self.conv2 = ConvBlock(64, 192, kernel_size=3, stride=1, padding=1)\n",
    "        self.inception_3a = Inception_Module(192, 64, 96, 128, 16, 32, 32)\n",
    "        self.inception_3b = Inception_Module(256, 128, 128, 192, 32, 96, 64)\n",
    "        \n",
    "        self.inception_4a = Inception_Module(480, 192, 96, 208, 16, 48, 64)\n",
    "        self.inception_4b = Inception_Module(512, 160, 112, 224, 24, 64, 64)\n",
    "        self.inception_4c = Inception_Module(512, 128, 128, 256, 24, 64, 64)\n",
    "        self.inception_4d = Inception_Module(512, 112, 144, 288, 32, 64, 64)\n",
    "        self.inception_4e = Inception_Module(528, 256, 160, 320, 32, 128, 128)\n",
    "\n",
    "        self.inception_5a = Inception_Module(832, 256, 160, 320, 32, 128, 128)\n",
    "        self.inception_5b = Inception_Module(832, 384, 192, 384, 48, 128, 128)\n",
    "\n",
    "        self.avgpool = nn.AvgPool2d(kernel_size=7, stride=1) #, padding=1)\n",
    "        \n",
    "        self.dropout = nn.Dropout(0.4)\n",
    "        \n",
    "        self.linear = nn.Linear(1024, num_classes)\n",
    "        \n",
    "    def forward(self, x):\n",
    "        x = self.conv1(x)\n",
    "        x = self.maxpool(x)\n",
    "        x = self.conv2(x)\n",
    "        x = self.maxpool(x)\n",
    "        \n",
    "        x = self.inception_3a(x)\n",
    "        x = self.inception_3b(x)\n",
    "        \n",
    "        x = self.maxpool(x)\n",
    "        \n",
    "        x = self.inception_4a(x)\n",
    "        x = self.inception_4b(x)\n",
    "        x = self.inception_4c(x)\n",
    "        x = self.inception_4d(x)\n",
    "        x = self.inception_4e(x)\n",
    "        \n",
    "        x = self.maxpool(x)\n",
    "        \n",
    "        x = self.inception_5a(x)\n",
    "        x = self.inception_5b(x)\n",
    "\n",
    "        x = self.avgpool(x)\n",
    "        x = self.dropout(x)\n",
    "        \n",
    "        x = x.reshape(x.shape[0], -1)\n",
    "        x = self.linear(x)\n",
    "        \n",
    "        return x\n",
    "        \n"
   ]
  },
  {
   "cell_type": "code",
   "execution_count": 111,
   "metadata": {},
   "outputs": [
    {
     "data": {
      "text/plain": [
       "torch.Size([2, 3, 224, 224])"
      ]
     },
     "execution_count": 111,
     "metadata": {},
     "output_type": "execute_result"
    }
   ],
   "source": [
    "img_dummy = torch.randn(2, 3, 224, 224)\n",
    "img_dummy.shape"
   ]
  },
  {
   "cell_type": "code",
   "execution_count": 112,
   "metadata": {},
   "outputs": [
    {
     "data": {
      "text/plain": [
       "torch.Size([2, 1000])"
      ]
     },
     "execution_count": 112,
     "metadata": {},
     "output_type": "execute_result"
    }
   ],
   "source": [
    "inception_net = InceptionV1(in_channels=3, num_classes=1000)\n",
    "y = inception_net(img_dummy)\n",
    "y.shape"
   ]
  }
 ],
 "metadata": {
  "accelerator": "GPU",
  "colab": {
   "collapsed_sections": [],
   "name": "inception_v1.ipynb",
   "provenance": []
  },
  "kernelspec": {
   "display_name": "Python 3",
   "language": "python",
   "name": "python3"
  },
  "language_info": {
   "codemirror_mode": {
    "name": "ipython",
    "version": 3
   },
   "file_extension": ".py",
   "mimetype": "text/x-python",
   "name": "python",
   "nbconvert_exporter": "python",
   "pygments_lexer": "ipython3",
   "version": "3.8.5"
  }
 },
 "nbformat": 4,
 "nbformat_minor": 4
}
