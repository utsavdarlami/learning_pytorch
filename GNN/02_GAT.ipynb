{
 "cells": [
  {
   "cell_type": "markdown",
   "id": "ec4af681",
   "metadata": {},
   "source": [
    "#  Graph attention networks (GAT) implementation\n",
    "- https://www.youtube.com/watch?v=A-yKQamf2Fc\n",
    "- https://www.youtube.com/watch?v=CwsPoa7z2c8"
   ]
  },
  {
   "cell_type": "code",
   "execution_count": null,
   "id": "58dfe4fd",
   "metadata": {},
   "outputs": [],
   "source": []
  },
  {
   "cell_type": "code",
   "execution_count": null,
   "id": "ec10c5ae",
   "metadata": {},
   "outputs": [],
   "source": []
  }
 ],
 "metadata": {
  "kernelspec": {
   "display_name": "Python 3 (ipykernel)",
   "language": "python",
   "name": "python3"
  },
  "language_info": {
   "codemirror_mode": {
    "name": "ipython",
    "version": 3
   },
   "file_extension": ".py",
   "mimetype": "text/x-python",
   "name": "python",
   "nbconvert_exporter": "python",
   "pygments_lexer": "ipython3",
   "version": "3.8.5"
  }
 },
 "nbformat": 4,
 "nbformat_minor": 5
}
