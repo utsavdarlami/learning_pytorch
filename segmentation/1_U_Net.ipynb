{
 "cells": [
  {
   "cell_type": "markdown",
   "id": "forced-journey",
   "metadata": {},
   "source": [
    "# [U-Net: Convolutional Networks for Biomedical Image Segmentation](https://arxiv.org/pdf/1505.04597.pdf)\n"
   ]
  },
  {
   "cell_type": "markdown",
   "id": "opponent-enhancement",
   "metadata": {},
   "source": [
    "## Resources\n",
    "### Video\n",
    "- [*Paper Review*: U-Net: Convolutional Networks for Biomedical Image Segmentation](https://www.youtube.com/watch?v=oLvmLJkmXuc)"
   ]
  },
  {
   "cell_type": "markdown",
   "id": "narrow-decade",
   "metadata": {},
   "source": [
    "![](./unet_archi.png)"
   ]
  },
  {
   "cell_type": "code",
   "execution_count": 2,
   "id": "mediterranean-springfield",
   "metadata": {},
   "outputs": [
    {
     "name": "stdout",
     "output_type": "stream",
     "text": [
      "Warning: Your Kaggle API key is readable by other users on this system! To fix this, you can run 'chmod 600 /home/felladog/.kaggle/kaggle.json'\n"
     ]
    }
   ],
   "source": [
    "import kaggle"
   ]
  },
  {
   "cell_type": "code",
   "execution_count": 25,
   "id": "numerical-engagement",
   "metadata": {},
   "outputs": [
    {
     "name": "stdout",
     "output_type": "stream",
     "text": [
      "train.zip\n",
      "train_hq.zip\n",
      "train_masks.zip\n",
      "train_masks.csv.zip\n"
     ]
    }
   ],
   "source": [
    "!bash load_dataset.sh"
   ]
  },
  {
   "cell_type": "code",
   "execution_count": 7,
   "id": "french-wisdom",
   "metadata": {},
   "outputs": [
    {
     "name": "stdout",
     "output_type": "stream",
     "text": [
      "Warning: Your Kaggle API key is readable by other users on this system! To fix this, you can run 'chmod 600 /home/felladog/.kaggle/kaggle.json'\n",
      "Downloading train.zip to /home/felladog/Desktop/ML/pytorch_tutorials/segmentation\n",
      "100%|████████████████████████████████████████| 405M/405M [03:11<00:00, 2.66MB/s]\n",
      "100%|████████████████████████████████████████| 405M/405M [03:11<00:00, 2.22MB/s]\n"
     ]
    }
   ],
   "source": [
    "!kaggle competitions download -c carvana-image-masking-challenge -f train.zip\n",
    "!kaggle competitions download -c carvana-image-masking-challenge -f train_hq.zip\n",
    "!kaggle competitions download -c carvana-image-masking-challenge -f train_masks.csv.zip \n",
    "!kaggle competitions download -c carvana-image-masking-challenge -f train_masks.zip "
   ]
  },
  {
   "cell_type": "code",
   "execution_count": null,
   "id": "outer-hamburg",
   "metadata": {},
   "outputs": [],
   "source": []
  }
 ],
 "metadata": {
  "kernelspec": {
   "display_name": "Python 3",
   "language": "python",
   "name": "python3"
  },
  "language_info": {
   "codemirror_mode": {
    "name": "ipython",
    "version": 3
   },
   "file_extension": ".py",
   "mimetype": "text/x-python",
   "name": "python",
   "nbconvert_exporter": "python",
   "pygments_lexer": "ipython3",
   "version": "3.8.5"
  }
 },
 "nbformat": 4,
 "nbformat_minor": 5
}
