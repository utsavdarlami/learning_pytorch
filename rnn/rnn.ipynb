{
 "cells": [
  {
   "cell_type": "markdown",
   "metadata": {},
   "source": [
    "# Recurrent Neural Network"
   ]
  },
  {
   "cell_type": "markdown",
   "metadata": {},
   "source": [
    "### References\n",
    "- https://github.com/fastai/fastbook/blob/master/12_nlp_dive.ipynb\n",
    "- https://stanford.edu/~shervine/teaching/cs-230/cheatsheet-recurrent-neural-networks\n",
    "- https://colah.github.io/posts/2015-08-Understanding-LSTMs/  [Mainly LSTM]\n",
    "- https://deeplearning.cs.cmu.edu/S20/document/recitation/recitation-7.pdf\n",
    "- http://cs231n.stanford.edu/slides/2017/cs231n_2017_lecture10.pdf\n",
    "\n",
    "## Resources\n",
    "#### Video\n",
    "- https://www.youtube.com/watch?v=6niqTuYFZLQ\n",
    "\n",
    "#### Article\n",
    "- http://ethen8181.github.io/machine-learning/deep_learning/rnn/1_pytorch_rnn.html#Recurrent-Neural-Network-(RNN) [Main reference]\n",
    "- https://medium.com/ecovisioneth/building-deep-multi-layer-recurrent-neural-networks-with-star-cell-2f01acdb73a7 [Multi Layer]\n",
    "- https://towardsdatascience.com/pytorch-basics-how-to-train-your-neural-net-intro-to-rnn-cb6ebc594677\n",
    "- https://www.jeremyjordan.me/introduction-to-recurrent-neural-networks/\n",
    "- https://towardsdatascience.com/pytorch-basics-how-to-train-your-neural-net-intro-to-rnn-cb6ebc594677\n"
   ]
  },
  {
   "cell_type": "markdown",
   "metadata": {},
   "source": [
    "![](./rnn.png)"
   ]
  },
  {
   "cell_type": "markdown",
   "metadata": {},
   "source": [
    "- hidden state: The activations that are updated at each step of a recurrent neural network"
   ]
  },
  {
   "cell_type": "markdown",
   "metadata": {},
   "source": [
    "![](./rnn2.png)"
   ]
  },
  {
   "cell_type": "markdown",
   "metadata": {},
   "source": [
    "![Internal](./rnn_internal.png)"
   ]
  },
  {
   "cell_type": "markdown",
   "metadata": {},
   "source": [
    "### My Simplified version of this internal"
   ]
  },
  {
   "cell_type": "markdown",
   "metadata": {},
   "source": [
    "![](./rnn_my_internal.png)"
   ]
  },
  {
   "cell_type": "markdown",
   "metadata": {},
   "source": [
    "## Multilayer RNN\n",
    "\n",
    "When stacking multiple RNN cells on top of each other, the hidden state of the lower-level is passed on as input to the next-higher level $l$\n",
    "\n",
    "![](./mRNN.png)"
   ]
  },
  {
   "cell_type": "code",
   "execution_count": 1,
   "metadata": {},
   "outputs": [
    {
     "data": {
      "text/plain": [
       "'1.7.1'"
      ]
     },
     "execution_count": 1,
     "metadata": {},
     "output_type": "execute_result"
    }
   ],
   "source": [
    "import torch \n",
    "from torch import nn, autograd\n",
    "import torch.nn.functional as F\n",
    "torch.__version__"
   ]
  },
  {
   "cell_type": "code",
   "execution_count": 2,
   "metadata": {},
   "outputs": [
    {
     "name": "stdout",
     "output_type": "stream",
     "text": [
      "cuda\n"
     ]
    },
    {
     "data": {
      "text/plain": [
       "device(type='cuda')"
      ]
     },
     "execution_count": 2,
     "metadata": {},
     "output_type": "execute_result"
    }
   ],
   "source": [
    "a_device = \"cuda\" if torch.cuda.is_available else \"cpu\"\n",
    "print(a_device)\n",
    "device = torch.device(a_device)\n",
    "device"
   ]
  },
  {
   "cell_type": "markdown",
   "metadata": {},
   "source": [
    "## Pytorch Docs for RNN class : \n",
    "- https://pytorch.org/docs/stable/generated/torch.nn.RNN.html#torch.nn.RNN\n",
    "\n",
    "#### init args\n",
    "- input_size – The number of expected features in the input x\n",
    "\n",
    "- hidden_size – The number of features in the hidden state h\n",
    "\n",
    "- num_layers – Number of recurrent layers. E.g., setting num_layers=2 would mean stacking two RNNs together to form a stacked RNN, with the second RNN taking in outputs of the first RNN and computing the final results. Default: 1\n",
    "- batch_first – If True, then the input and output tensors are provided as (batch, seq, feature). Default: False\n",
    "\n",
    "#### Inputs: input, h_0\n",
    "`input` of shape (seq_len, batch, input_size): \n",
    "- tensor containing the features of the input sequence. The input can also be a packed variable length sequence. See torch.nn.utils.rnn.pack_padded_sequence() or torch.nn.utils.rnn.pack_sequence() for details.\n",
    "\n",
    "`h_0` of shape (num_layers * num_directions, batch, hidden_size): \n",
    "- tensor containing the initial hidden state for each element in the batch. Defaults to zero if not provided. If the RNN is bidirectional, num_directions should be 2, else it should be 1.\n",
    "\n",
    "\n",
    "#### Outputs: output, h_n\n",
    "`output` of shape (seq_len, batch, num_directions * hidden_size): \n",
    "- tensor containing the output features (h_t) from the last layer of the RNN, for each t. If a torch.nn.utils.rnn.PackedSequence has been given as the input, the output will also be a packed sequence. \n",
    "\n",
    "- For the unpacked case, the directions can be separated using output.view(seq_len, batch, num_directions, hidden_size), with forward and backward being direction 0 and 1 respectively. Similarly, the directions can be separated in the packed case.\n",
    "\n",
    "`h_n` of shape (num_layers * num_directions, batch, hidden_size): \n",
    "- tensor containing the hidden state for t = seq_len. Like output, the layers can be separated using h_n.view(num_layers, num_directions, batch, hidden_size).\n"
   ]
  },
  {
   "cell_type": "markdown",
   "metadata": {},
   "source": [
    "### Shapes\n",
    "\n",
    "\n",
    "`Input1`:\n",
    "- $(L, N, H_{in})$ tensor containing input features where $H_{in}=\\text{input_size}$ and L represents a sequence length.\n",
    "    N represents batch size\n",
    "- if batch_first is True, then the input and output tensors are provided as (batch, seq, feature).\n",
    "\n",
    "`Input2`: \n",
    "- $(S, N, H_{out})$ tensor containing the initial hidden state for each element in the batch. $H_{out}=\\text{hidden_size}$ Defaults to zero if not provided. where $S=\\text{num_layers} * \\text{num_directions}$ If the RNN is bidirectional, num_directions should be 2, else it should be 1.\n",
    "\n",
    "`Output1` --> `output` : \n",
    "- $(L, N, H_{all})$ where $H_{all}=\\text{num_directions} * \\text{hidden_size}$\n",
    "- if batch_first is True, then the input and output tensors are provided as (batch, seq, feature).\n",
    "\n",
    "`Output2` --> `hn`: \n",
    "- $(S, N, H_{out})$ tensor containing the next hidden state for each element in the batch\n",
    "\n"
   ]
  },
  {
   "cell_type": "code",
   "execution_count": 3,
   "metadata": {},
   "outputs": [],
   "source": [
    "rnn = nn.RNN(input_size=5, hidden_size=3, num_layers=1, batch_first=True)\n",
    "inputs_ = torch.rand(1, 6, 5) # (batch, sequence, input_size)\n",
    "\n",
    "# if batch_first false\n",
    "#     (seq_len, batch, input_size)\n",
    "\n",
    "hidden = torch.rand(1, 1, 3)  #  (num_layers * num_directions, batch, hidden_size)\n",
    "out, h = rnn(inputs_, hidden)"
   ]
  },
  {
   "cell_type": "code",
   "execution_count": 4,
   "metadata": {},
   "outputs": [
    {
     "data": {
      "text/plain": [
       "torch.Size([1, 6, 3])"
      ]
     },
     "execution_count": 4,
     "metadata": {},
     "output_type": "execute_result"
    }
   ],
   "source": [
    "out.shape  #  (seq_len, batch, num_directions * hidden_size): \n",
    "# if batch first == True :\n",
    "#  (batch , seq_len, num_directions * hidden_size):"
   ]
  },
  {
   "cell_type": "code",
   "execution_count": 5,
   "metadata": {},
   "outputs": [
    {
     "data": {
      "text/plain": [
       "tensor([[[ 0.1536, -0.6420, -0.9776],\n",
       "         [ 0.4521, -0.3503, -0.6143],\n",
       "         [ 0.4006, -0.6025, -0.8698],\n",
       "         [ 0.4774, -0.5537, -0.7637],\n",
       "         [ 0.3686, -0.3401, -0.5982],\n",
       "         [ 0.4397, -0.2146, -0.6809]]], grad_fn=<TransposeBackward1>)"
      ]
     },
     "execution_count": 5,
     "metadata": {},
     "output_type": "execute_result"
    }
   ],
   "source": [
    "out"
   ]
  },
  {
   "cell_type": "code",
   "execution_count": 38,
   "metadata": {},
   "outputs": [
    {
     "data": {
      "text/plain": [
       "tensor([[ 0.1536, -0.6420, -0.9776,  0.4521, -0.3503, -0.6143,  0.4006, -0.6025,\n",
       "         -0.8698,  0.4774, -0.5537, -0.7637,  0.3686, -0.3401, -0.5982,  0.4397,\n",
       "         -0.2146, -0.6809]], grad_fn=<ViewBackward>)"
      ]
     },
     "execution_count": 38,
     "metadata": {},
     "output_type": "execute_result"
    }
   ],
   "source": [
    "out.view(out.shape[0], -1)"
   ]
  },
  {
   "cell_type": "code",
   "execution_count": 35,
   "metadata": {},
   "outputs": [
    {
     "data": {
      "text/plain": [
       "torch.Size([1, 18])"
      ]
     },
     "execution_count": 35,
     "metadata": {},
     "output_type": "execute_result"
    }
   ],
   "source": [
    "out.reshape(out.shape[0], -1).shape"
   ]
  },
  {
   "cell_type": "code",
   "execution_count": 13,
   "metadata": {},
   "outputs": [
    {
     "data": {
      "text/plain": [
       "torch.Size([18])"
      ]
     },
     "execution_count": 13,
     "metadata": {},
     "output_type": "execute_result"
    }
   ],
   "source": [
    "flatout = out.data.view(-1).div(0.85).exp()\n",
    "flatout.shape"
   ]
  },
  {
   "cell_type": "code",
   "execution_count": 30,
   "metadata": {},
   "outputs": [
    {
     "data": {
      "text/plain": [
       "tensor([1.1980, 0.4699, 0.3166, 1.7021, 0.6623, 0.4854, 1.6022, 0.4922, 0.3594,\n",
       "        1.7536, 0.5213, 0.4072, 1.5428, 0.6702, 0.4947, 1.6775, 0.7769, 0.4489])"
      ]
     },
     "execution_count": 30,
     "metadata": {},
     "output_type": "execute_result"
    }
   ],
   "source": [
    "flatout"
   ]
  },
  {
   "cell_type": "code",
   "execution_count": 32,
   "metadata": {},
   "outputs": [
    {
     "data": {
      "text/plain": [
       "tensor(8)"
      ]
     },
     "execution_count": 32,
     "metadata": {},
     "output_type": "execute_result"
    }
   ],
   "source": [
    "torch.multinomial(flatout, 1)[0]"
   ]
  },
  {
   "cell_type": "code",
   "execution_count": 7,
   "metadata": {},
   "outputs": [
    {
     "data": {
      "text/plain": [
       "torch.Size([1, 1, 3])"
      ]
     },
     "execution_count": 7,
     "metadata": {},
     "output_type": "execute_result"
    }
   ],
   "source": [
    "h.shape # (num_layers * num_directions, batch, hidden_size)"
   ]
  },
  {
   "cell_type": "markdown",
   "metadata": {},
   "source": [
    "#### Lets try on char\n",
    "## Teach RNN `hihell` to `ihello`"
   ]
  },
  {
   "cell_type": "code",
   "execution_count": 46,
   "metadata": {},
   "outputs": [],
   "source": [
    "idx2char = [\"h\", \"i\", \"e\", \"l\", \"o\"]\n",
    "\n",
    "x_data = [0, 1, 0, 2, 3, 3] # hihell\n",
    "\n",
    "one_hot_lookup = [\n",
    "        [1, 0, 0, 0, 0], # h 0\n",
    "        [0, 1, 0, 0, 0], # i 1\n",
    "        [0, 0, 1, 0, 0], # e 2\n",
    "        [0, 0, 0, 1, 0], # l 3\n",
    "        [0, 0, 0, 0, 1], # o 4\n",
    "]\n",
    "\n",
    "y_data = [1, 0, 2, 3, 3, 4]  #ihello"
   ]
  },
  {
   "cell_type": "code",
   "execution_count": 47,
   "metadata": {},
   "outputs": [
    {
     "name": "stdout",
     "output_type": "stream",
     "text": [
      "torch.Size([6, 5])\n"
     ]
    },
    {
     "data": {
      "text/plain": [
       "tensor([[1, 0, 0, 0, 0],\n",
       "        [0, 1, 0, 0, 0],\n",
       "        [1, 0, 0, 0, 0],\n",
       "        [0, 0, 1, 0, 0],\n",
       "        [0, 0, 0, 1, 0],\n",
       "        [0, 0, 0, 1, 0]])"
      ]
     },
     "execution_count": 47,
     "metadata": {},
     "output_type": "execute_result"
    }
   ],
   "source": [
    "hihell = torch.tensor([one_hot_lookup[x] for x in x_data])\n",
    "print(hihell.shape)\n",
    "hihell"
   ]
  },
  {
   "cell_type": "code",
   "execution_count": 48,
   "metadata": {},
   "outputs": [
    {
     "data": {
      "text/plain": [
       "torch.Size([1, 6, 5])"
      ]
     },
     "execution_count": 48,
     "metadata": {},
     "output_type": "execute_result"
    }
   ],
   "source": [
    "input_ = hihell.float().unsqueeze(0)\n",
    "# input_.requires_grad = True\n",
    "input_.shape  # (batch, sequence, input_size)"
   ]
  },
  {
   "cell_type": "code",
   "execution_count": 49,
   "metadata": {},
   "outputs": [
    {
     "name": "stdout",
     "output_type": "stream",
     "text": [
      "torch.Size([6])\n"
     ]
    },
    {
     "data": {
      "text/plain": [
       "tensor([1, 0, 2, 3, 3, 4])"
      ]
     },
     "execution_count": 49,
     "metadata": {},
     "output_type": "execute_result"
    }
   ],
   "source": [
    "labels = torch.tensor(y_data)  # ihello\n",
    "print(labels.shape)\n",
    "labels"
   ]
  },
  {
   "cell_type": "code",
   "execution_count": 382,
   "metadata": {},
   "outputs": [],
   "source": [
    "# ihello = torch.tensor([one_hot_lookup[y] for y in labels])\n",
    "# print(ihello.shape)\n",
    "# ihello"
   ]
  },
  {
   "cell_type": "markdown",
   "metadata": {},
   "source": [
    "#### Trying the simple rnn using `input_` no."
   ]
  },
  {
   "cell_type": "code",
   "execution_count": 12,
   "metadata": {},
   "outputs": [
    {
     "data": {
      "text/plain": [
       "torch.Size([1, 1, 5])"
      ]
     },
     "execution_count": 12,
     "metadata": {},
     "output_type": "execute_result"
    }
   ],
   "source": [
    "# initialize the hidden state\n",
    "# (num_layers * num_directions, batch, hidden_size)\n",
    "py_hidden_ = torch.zeros(1, 1, 5, requires_grad=True)\n",
    "py_hidden_.shape"
   ]
  },
  {
   "cell_type": "code",
   "execution_count": 14,
   "metadata": {},
   "outputs": [
    {
     "data": {
      "text/plain": [
       "tensor([[ 0.5184, -0.2448, -0.4246, -0.4477,  0.2838],\n",
       "        [ 0.5648, -0.4026,  0.0068, -0.4953,  0.4788],\n",
       "        [ 0.5070, -0.5535, -0.0761, -0.2318,  0.3634],\n",
       "        [ 0.2870, -0.3875, -0.2583, -0.6370,  0.7112],\n",
       "        [ 0.3077, -0.4010, -0.4126, -0.5527,  0.7536],\n",
       "        [ 0.3060, -0.4228, -0.4507, -0.5139,  0.7937]], grad_fn=<ViewBackward>)"
      ]
     },
     "execution_count": 14,
     "metadata": {},
     "output_type": "execute_result"
    }
   ],
   "source": [
    "py_cell = nn.RNN(input_size=5, hidden_size=5, batch_first=True) # batch first has some affects\n",
    "py_out, py_hidden = py_cell(input_, py_hidden_)\n",
    "py_out = py_out.view(-1, 5) #.shape\n",
    "py_out"
   ]
  },
  {
   "cell_type": "code",
   "execution_count": 15,
   "metadata": {},
   "outputs": [
    {
     "data": {
      "text/plain": [
       "torch.Size([6, 5])"
      ]
     },
     "execution_count": 15,
     "metadata": {},
     "output_type": "execute_result"
    }
   ],
   "source": [
    "py_out.shape \n",
    "# In the out, we get values from all 1 batches where number of time-steps (seq_len) is 6 and the number of predictions are 3. \n",
    "# For each batch, we're predicting 3 outputs.\n",
    "# if batch first == True :\n",
    "#  (batch , seq_len, num_directions * hidden_size):"
   ]
  },
  {
   "cell_type": "code",
   "execution_count": 16,
   "metadata": {},
   "outputs": [
    {
     "data": {
      "text/plain": [
       "tensor([0, 0, 0, 4, 4, 4])"
      ]
     },
     "execution_count": 16,
     "metadata": {},
     "output_type": "execute_result"
    }
   ],
   "source": [
    "py_max, idx = py_out.max(1)\n",
    "idx.squeeze()"
   ]
  },
  {
   "cell_type": "code",
   "execution_count": 17,
   "metadata": {},
   "outputs": [
    {
     "data": {
      "text/plain": [
       "tensor([0.5184, 0.5648, 0.5070, 0.7112, 0.7536, 0.7937],\n",
       "       grad_fn=<MaxBackward0>)"
      ]
     },
     "execution_count": 17,
     "metadata": {},
     "output_type": "execute_result"
    }
   ],
   "source": [
    "py_max"
   ]
  },
  {
   "cell_type": "code",
   "execution_count": 18,
   "metadata": {},
   "outputs": [
    {
     "data": {
      "text/plain": [
       "['h', 'h', 'h', 'o', 'o', 'o']"
      ]
     },
     "execution_count": 18,
     "metadata": {},
     "output_type": "execute_result"
    }
   ],
   "source": [
    "out_w = [idx2char[y.item()] for y in idx.squeeze()]\n",
    "out_w"
   ]
  },
  {
   "cell_type": "code",
   "execution_count": 19,
   "metadata": {},
   "outputs": [
    {
     "data": {
      "text/plain": [
       "['h', 'i', 'e', 'l', 'o']"
      ]
     },
     "execution_count": 19,
     "metadata": {},
     "output_type": "execute_result"
    }
   ],
   "source": [
    "idx2char"
   ]
  },
  {
   "cell_type": "code",
   "execution_count": 20,
   "metadata": {},
   "outputs": [
    {
     "data": {
      "text/plain": [
       "torch.Size([1, 1, 5])"
      ]
     },
     "execution_count": 20,
     "metadata": {},
     "output_type": "execute_result"
    }
   ],
   "source": [
    "py_hidden.shape"
   ]
  },
  {
   "cell_type": "code",
   "execution_count": 21,
   "metadata": {},
   "outputs": [
    {
     "data": {
      "text/plain": [
       "torch.Size([6, 5])"
      ]
     },
     "execution_count": 21,
     "metadata": {},
     "output_type": "execute_result"
    }
   ],
   "source": [
    "py_out.shape"
   ]
  },
  {
   "cell_type": "markdown",
   "metadata": {},
   "source": [
    "### Parameters"
   ]
  },
  {
   "cell_type": "code",
   "execution_count": 55,
   "metadata": {},
   "outputs": [],
   "source": [
    "class Model(nn.Module):\n",
    "    \n",
    "    def __init__(self, sequence_length, input_size, hidden_size, num_layers, num_classes, batch_size):\n",
    "        super(Model, self).__init__()\n",
    "        \n",
    "        self.sequence_length = sequence_length\n",
    "        self.num_layers = num_layers\n",
    "        self.hidden_size = hidden_size\n",
    "        self.input_size = input_size\n",
    "        self.num_classes = num_classes\n",
    "        self.batch_size = batch_size\n",
    "        self.h = self.__init_hidden__()\n",
    "    \n",
    "        self.rnn = nn.RNN(input_size=self.input_size, \n",
    "                          hidden_size=self.hidden_size,\n",
    "                          num_layers=self.num_layers,\n",
    "                          batch_first=True)\n",
    "        \"\"\"\n",
    "            this rnn will be followed by a linear layer so,\n",
    "            that the output from rnn matches our final required num of classes.\n",
    "        \"\"\" \n",
    "        self.fc1 = nn.Linear(self.hidden_size, self.num_classes)\n",
    "        \n",
    "    def forward(self, x):\n",
    "        x = x.view(self.batch_size, self.sequence_length, self.input_size)\n",
    "        \n",
    "#         (batch, sequence, input_size)\n",
    "#         torch.Size([1, 6, 5])\n",
    "#         py_cell = nn.RNN(input_size=5, hidden_size=5, batch_first=True) # batch first has some affects\n",
    "#         py_out, py_hidden = py_cell(input_, hidden_)\n",
    "\n",
    "        out, hidden = self.rnn(x, self.h)\n",
    "        out = self.fc1(out.view(-1,self.hidden_size)) # making the out to have x*hidden size for the linear layer\n",
    "        self.h = hidden.detach()\n",
    "        return out\n",
    "    \n",
    "    def __init_hidden__(self):\n",
    "        return torch.zeros(self.num_layers, self.batch_size, self.hidden_size) #, requires_grad=True)"
   ]
  },
  {
   "cell_type": "markdown",
   "metadata": {},
   "source": [
    "## Creating the model"
   ]
  },
  {
   "cell_type": "code",
   "execution_count": 56,
   "metadata": {},
   "outputs": [],
   "source": [
    "num_classes = 5\n",
    "input_size = 5  # one-hot size\n",
    "hidden_size = 3  # output from LSTM. 5 to directly predict one hot\n",
    "batch_size = 1  # one sentence\n",
    "sequence_length = 6  # let's do one by one\n",
    "num_layers = 1  # one layer rnn"
   ]
  },
  {
   "cell_type": "code",
   "execution_count": 57,
   "metadata": {},
   "outputs": [],
   "source": [
    "model = Model(sequence_length=sequence_length,\n",
    "              input_size=input_size,\n",
    "              hidden_size=hidden_size,\n",
    "              num_layers=num_layers,\n",
    "              num_classes=num_classes,\n",
    "              batch_size=batch_size\n",
    "             )"
   ]
  },
  {
   "cell_type": "markdown",
   "metadata": {},
   "source": [
    "## Training"
   ]
  },
  {
   "cell_type": "code",
   "execution_count": 53,
   "metadata": {},
   "outputs": [],
   "source": [
    "criterion = nn.CrossEntropyLoss()\n",
    "optimizer = torch.optim.Adam(model.parameters(), lr=0.1)\n",
    "loss = 0"
   ]
  },
  {
   "cell_type": "code",
   "execution_count": 58,
   "metadata": {},
   "outputs": [
    {
     "name": "stdout",
     "output_type": "stream",
     "text": [
      "eoeoee\n",
      "epochs 1, loss 1.7449554204940796\n",
      "eeeeee\n",
      "epochs 2, loss 1.7873259782791138\n"
     ]
    }
   ],
   "source": [
    "for epoch in range(2):\n",
    "#     model.train()\n",
    "    optimizer.zero_grad()\n",
    "    \n",
    "#     outputs, hidden = model(input_)\n",
    "#     hidden = hidden.detach()\n",
    "\n",
    "    outputs = model(input_)\n",
    "#     hidden = hidden.detach()   \n",
    "\n",
    "#     print(outputs.shape)\n",
    "#     print(labels.shape)\n",
    "\n",
    "    loss = criterion(outputs, labels)\n",
    "    \n",
    "    val, idx = outputs.max(1)\n",
    "    result_str = [idx2char[c] for c in idx.detach().squeeze()]\n",
    "    print(''.join(result_str))\n",
    "\n",
    "    print(f\"epochs {epoch+1}, loss {loss.item()}\")\n",
    "    \n",
    "    loss.backward()\n",
    "    \n",
    "    optimizer.step()"
   ]
  },
  {
   "cell_type": "code",
   "execution_count": 90,
   "metadata": {},
   "outputs": [],
   "source": [
    "# hidden = model.init_hidden()\n",
    "# outputs, hidden = model(input_, hidden)\n",
    "outputs = model(input_)"
   ]
  },
  {
   "cell_type": "code",
   "execution_count": 91,
   "metadata": {},
   "outputs": [
    {
     "data": {
      "text/plain": [
       "torch.Size([6, 5])"
      ]
     },
     "execution_count": 91,
     "metadata": {},
     "output_type": "execute_result"
    }
   ],
   "source": [
    "outputs.shape"
   ]
  },
  {
   "cell_type": "code",
   "execution_count": 92,
   "metadata": {},
   "outputs": [
    {
     "data": {
      "text/plain": [
       "tensor([1, 0, 1, 3, 3, 0])"
      ]
     },
     "execution_count": 92,
     "metadata": {},
     "output_type": "execute_result"
    }
   ],
   "source": [
    "y_max, idx = outputs.max(1)\n",
    "idx.squeeze()"
   ]
  },
  {
   "cell_type": "code",
   "execution_count": 93,
   "metadata": {},
   "outputs": [
    {
     "data": {
      "text/plain": [
       "['i', 'h', 'i', 'l', 'l', 'h']"
      ]
     },
     "execution_count": 93,
     "metadata": {},
     "output_type": "execute_result"
    }
   ],
   "source": [
    "out_w = [idx2char[y.item()] for y in idx.squeeze()]\n",
    "out_w"
   ]
  },
  {
   "cell_type": "markdown",
   "metadata": {},
   "source": [
    "## LSTM"
   ]
  },
  {
   "cell_type": "markdown",
   "metadata": {},
   "source": [
    "### `torch.nn.LSTM`\n",
    "#### Parameters\n",
    "- input_size – The number of expected features in the input x\n",
    "\n",
    "- hidden_size – The number of features in the hidden state h\n",
    "\n",
    "- num_layers – Number of recurrent layers. E.g., setting num_layers=2 would mean stacking two LSTMs together to form a stacked LSTM, with the second LSTM taking in outputs of the first LSTM and computing the final results. Default: 1\n",
    "\n",
    "#### `Inputs: input, (h_0, c_0)`\n",
    "- `input and h_0` is same \n",
    "- `c_0` has same shape as of h_0, this is tensor containing the initial cell state for each element is the batch\n",
    "    - (num_layers * num_directions, batch, hidden_size)\n",
    "    \n",
    "#### `Outputs: output, (h_n, c_n)`\n",
    "- `output` \n",
    "    -  (seq_len, batch, num_directions * hidden_size)\n",
    "    \n",
    "- same as ths shapes of input and the states"
   ]
  },
  {
   "cell_type": "code",
   "execution_count": 6,
   "metadata": {},
   "outputs": [
    {
     "data": {
      "text/plain": [
       "torch.Size([6, 1, 3])"
      ]
     },
     "execution_count": 6,
     "metadata": {},
     "output_type": "execute_result"
    }
   ],
   "source": [
    "lstm_false = nn.LSTM(input_size=5, hidden_size=3, num_layers=1, batch_first=False)\n",
    "in_false = torch.rand(6,1,5)\n",
    "h0_false = torch.rand(1, 1, 3)\n",
    "c0_false = torch.rand(1, 1, 3)\n",
    "\n",
    "output_f, (hn_f, cn_f) = lstm_false(in_false, (h0_false, c0_false))\n",
    "output_f.shape"
   ]
  },
  {
   "cell_type": "markdown",
   "metadata": {},
   "source": [
    "# More complex text dataset"
   ]
  },
  {
   "cell_type": "markdown",
   "metadata": {},
   "source": [
    "## Embedding Layer\n",
    "- https://towardsdatascience.com/deep-learning-4-embedding-layers-f9a02d55ac12"
   ]
  },
  {
   "cell_type": "code",
   "execution_count": 65,
   "metadata": {},
   "outputs": [],
   "source": [
    "training_data = [\n",
    "    (\"The dog ate the apple\".split(), [\"DET\", \"NN\", \"V\", \"DET\", \"NN\"]),\n",
    "    (\"Everybody read that book\".split(), [\"NN\", \"V\", \"DET\", \"NN\"])\n",
    "]\n",
    "\n",
    "idx_to_tag = ['DET', 'NN', \"V\"]\n",
    "tag_to_idx = {\"DET\":0, \"NN\":1, \"V\":2}"
   ]
  },
  {
   "cell_type": "code",
   "execution_count": 66,
   "metadata": {},
   "outputs": [
    {
     "data": {
      "text/plain": [
       "{'The': 0,\n",
       " 'dog': 1,\n",
       " 'ate': 2,\n",
       " 'the': 3,\n",
       " 'apple': 4,\n",
       " 'Everybody': 5,\n",
       " 'read': 6,\n",
       " 'that': 7,\n",
       " 'book': 8}"
      ]
     },
     "execution_count": 66,
     "metadata": {},
     "output_type": "execute_result"
    }
   ],
   "source": [
    "word_to_idx = {}\n",
    "for sentence, tags in training_data:\n",
    "    for word in sentence:\n",
    "        if word not in word_to_idx:\n",
    "            word_to_idx[word] = len(word_to_idx)\n",
    "word_to_idx"
   ]
  },
  {
   "cell_type": "code",
   "execution_count": 69,
   "metadata": {},
   "outputs": [
    {
     "data": {
      "text/plain": [
       "tensor([0, 1, 2, 3, 4])"
      ]
     },
     "execution_count": 69,
     "metadata": {},
     "output_type": "execute_result"
    }
   ],
   "source": [
    "def prepare_sequence(seq, to_idx):\n",
    "    idxs = [to_idx[s] for s in seq]\n",
    "#     print(idxs)\n",
    "    return torch.tensor(idxs)\n",
    "\n",
    "seq = training_data[0][0]\n",
    "inputs = prepare_sequence(seq, word_to_idx)\n",
    "inputs"
   ]
  },
  {
   "cell_type": "code",
   "execution_count": 86,
   "metadata": {},
   "outputs": [],
   "source": [
    "class LSTMTagger(nn.Module):\n",
    "    def __init__(self, embedding_size, vocab_size, hidden_size, batch_size, num_layers, num_tags):\n",
    "        super(LSTMTagger, self).__init__()\n",
    "        self.embedding_size = embedding_size\n",
    "        self.vocab_size = vocab_size\n",
    "        self.hidden_size = hidden_size\n",
    "        \n",
    "        self.batch_size = batch_size\n",
    "        self.num_layers = num_layers\n",
    "        self.num_tags = num_tags\n",
    "        \n",
    "        self.h, self.c = self.__init_h0_c0__()\n",
    "        \n",
    "        self.embedding_layer = nn.Embedding(vocab_size, self.embedding_size)\n",
    "        self.lstm = nn.LSTM(self.embedding_size, self.hidden_size, self.num_layers, batch_first=True)\n",
    "        # out to tag\n",
    "        self.linear = nn.Linear(self.hidden_size, self.num_tags)\n",
    "        \n",
    "        \n",
    "    def forward(self,x):\n",
    "        emb_x = self.embedding_layer(x)   \n",
    "#         print(emb_x.shape)\n",
    "        out, (hn, cn) = self.lstm(emb_x.view(self.batch_size, len(x), -1),\n",
    "                                  (self.h, self.c))\n",
    "        self.h = hn.detach()\n",
    "        self.c = cn.detach()\n",
    "        \n",
    "        out = self.linear(out.view(-1, self.hidden_size))\n",
    "        \n",
    "        return out\n",
    "#         pass\n",
    "        \n",
    "    \n",
    "    def __init_h0_c0__(self):\n",
    "        return (\n",
    "            torch.zeros(self.num_layers, self.batch_size, self.hidden_size),\n",
    "            torch.zeros(self.num_layers, self.batch_size, self.hidden_size)\n",
    "        )\n"
   ]
  },
  {
   "cell_type": "markdown",
   "metadata": {},
   "source": [
    "### Initializing the lstm model"
   ]
  },
  {
   "cell_type": "code",
   "execution_count": 87,
   "metadata": {},
   "outputs": [],
   "source": [
    "vocab_size = len(word_to_idx)\n",
    "num_layers = 1\n",
    "num_tags = len(tag_to_idx)\n",
    "batch_size = 1\n",
    "EMBEDDING_SIZE = 6\n",
    "HIDDEN_SIZE = 3\n",
    "\n",
    "lstm_net = LSTMTagger(EMBEDDING_SIZE, \n",
    "                      vocab_size, \n",
    "                      HIDDEN_SIZE, \n",
    "                      batch_size, \n",
    "                      num_layers, \n",
    "                      num_tags\n",
    ")"
   ]
  },
  {
   "cell_type": "code",
   "execution_count": 88,
   "metadata": {},
   "outputs": [],
   "source": [
    "### Optimizer and loss function\n",
    "\n",
    "criterion = nn.CrossEntropyLoss()\n",
    "optimizer = torch.optim.Adam(lstm_net.parameters(), lr=0.1)\n",
    "loss = 0"
   ]
  },
  {
   "cell_type": "markdown",
   "metadata": {},
   "source": [
    "### Training the tag generator"
   ]
  },
  {
   "cell_type": "code",
   "execution_count": 89,
   "metadata": {},
   "outputs": [
    {
     "name": "stdout",
     "output_type": "stream",
     "text": [
      "epochs 1, loss 1.083335518836975\n",
      "epochs 2, loss 1.0105509757995605\n"
     ]
    }
   ],
   "source": [
    "for epoch in range(2):\n",
    "    for sequence, tags in training_data:\n",
    "        optimizer.zero_grad()\n",
    "        inputs_ = prepare_sequence(sequence, word_to_idx)\n",
    "        labels_ = prepare_sequence(tags, tag_to_idx)\n",
    "        \n",
    "        out = lstm_net(inputs_)\n",
    "        loss = criterion(out, labels_)\n",
    "        loss.backward()\n",
    "        optimizer.step()\n",
    "        \n",
    "    print(f\"epochs {epoch+1}, loss {loss.item()}\")\n",
    "\n",
    "#         break"
   ]
  },
  {
   "cell_type": "code",
   "execution_count": 90,
   "metadata": {},
   "outputs": [
    {
     "data": {
      "text/plain": [
       "torch.Size([4, 3])"
      ]
     },
     "execution_count": 90,
     "metadata": {},
     "output_type": "execute_result"
    }
   ],
   "source": [
    "out.shape"
   ]
  },
  {
   "cell_type": "code",
   "execution_count": 72,
   "metadata": {},
   "outputs": [
    {
     "data": {
      "text/plain": [
       "tensor([1, 2, 0, 1])"
      ]
     },
     "execution_count": 72,
     "metadata": {},
     "output_type": "execute_result"
    }
   ],
   "source": [
    "val, idxs = out.max(1)\n",
    "idxs"
   ]
  },
  {
   "cell_type": "code",
   "execution_count": 73,
   "metadata": {},
   "outputs": [
    {
     "data": {
      "text/plain": [
       "'NN V DET NN'"
      ]
     },
     "execution_count": 73,
     "metadata": {},
     "output_type": "execute_result"
    }
   ],
   "source": [
    "' '.join(idx_to_tag[idx] for idx in idxs)"
   ]
  },
  {
   "cell_type": "markdown",
   "metadata": {},
   "source": [
    "# On image  dataset\n",
    "### Loading MNIST Dataset"
   ]
  },
  {
   "cell_type": "code",
   "execution_count": 16,
   "metadata": {},
   "outputs": [],
   "source": [
    "from torchvision import datasets\n",
    "from torchvision import transforms\n",
    "from torch.utils.data import DataLoader"
   ]
  },
  {
   "cell_type": "code",
   "execution_count": 51,
   "metadata": {},
   "outputs": [],
   "source": [
    "train_set = datasets.MNIST(root=\"pytorch_dataset/\", \n",
    "                             train=True,\n",
    "                             download=True,\n",
    "                             transform=transforms.ToTensor()\n",
    "                            )\n",
    "test_set = datasets.MNIST(root=\"pytorch_dataset/\", \n",
    "                            train=False, \n",
    "                            download=True,\n",
    "                            transform=transforms.ToTensor()\n",
    "                           )\n"
   ]
  },
  {
   "cell_type": "code",
   "execution_count": 52,
   "metadata": {},
   "outputs": [],
   "source": [
    "train_loader = DataLoader(dataset=train_set,\n",
    "                          batch_size=batch_size,\n",
    "                         shuffle=True)\n",
    "test_loader = DataLoader(dataset=test_set,\n",
    "                          batch_size=batch_size,\n",
    "                         shuffle=True)"
   ]
  },
  {
   "cell_type": "markdown",
   "metadata": {},
   "source": [
    "### Initializing the model"
   ]
  },
  {
   "cell_type": "code",
   "execution_count": 59,
   "metadata": {},
   "outputs": [],
   "source": [
    "rnn_model = RNN(input_size, hidden_size, num_layers, num_classes).to(device)"
   ]
  },
  {
   "cell_type": "markdown",
   "metadata": {},
   "source": [
    "### Loss and Optimizer"
   ]
  },
  {
   "cell_type": "code",
   "execution_count": 60,
   "metadata": {},
   "outputs": [],
   "source": [
    "# from torch.functional import\n",
    "from torch import optim\n",
    "\n",
    "criterion = nn.CrossEntropyLoss()\n",
    "optimizer = optim.Adam(rnn_model.parameters(), lr=lr)\n"
   ]
  },
  {
   "cell_type": "markdown",
   "metadata": {},
   "source": [
    "## Traning the model"
   ]
  },
  {
   "cell_type": "code",
   "execution_count": 61,
   "metadata": {},
   "outputs": [
    {
     "name": "stdout",
     "output_type": "stream",
     "text": [
      " loss at the end of 0 epoch is 0.1431623101234436\n",
      " loss at the end of 1 epoch is 0.3201900124549866\n",
      "Done Training\n"
     ]
    }
   ],
   "source": [
    "for epoch in range(num_epochs) :\n",
    "    for x_train, y_train in train_loader:\n",
    "        x_train = x_train.to(device)\n",
    "        y_train = y_train.to(device)\n",
    "        \n",
    "#         print(x_train.shape)\n",
    "        x_train = x_train.squeeze(1)\n",
    "#         print(x_train.shape)\n",
    "        \n",
    "        optimizer.zero_grad()\n",
    " \n",
    "        out = rnn_model(x_train)\n",
    "        \n",
    "        loss = criterion(out, y_train)\n",
    "        \n",
    "        loss.backward()\n",
    "        \n",
    "        optimizer.step()\n",
    "        \n",
    "    print(f\" loss at the end of {epoch} epoch is {loss}\")\n",
    "\n",
    "print(\"Done Training\")"
   ]
  },
  {
   "cell_type": "code",
   "execution_count": 63,
   "metadata": {},
   "outputs": [],
   "source": [
    "def accuracy(test_loader, model,cuda=True):\n",
    "    n_correct = 0\n",
    "    n_total = 0\n",
    "    with torch.no_grad():\n",
    "        for x_test, y_test in test_loader:\n",
    "            if cuda:\n",
    "                x_test = x_test.to(device)\n",
    "                y_test = y_test.to(device=device)\n",
    "            x_test = x_test.squeeze(1)\n",
    "            preds = model(x_test)\n",
    "            _, preds_idx = preds.max(1)\n",
    "            n_correct += (preds_idx==y_test).sum().item()\n",
    "            n_total += x_test.size(0)\n",
    "    print(f\"Out of {n_total} images {n_correct} where correctly classified\")\n",
    "    acc = (n_correct/n_total) * 100\n",
    "    print(f\"Accuracy of the model is {acc:.2f}\")            "
   ]
  },
  {
   "cell_type": "code",
   "execution_count": 64,
   "metadata": {},
   "outputs": [
    {
     "name": "stdout",
     "output_type": "stream",
     "text": [
      "Out of 10000 images 9525 where correctly classified\n",
      "Accuracy of the model is 95.25\n"
     ]
    }
   ],
   "source": [
    "accuracy(test_loader, rnn_model,cuda=True)"
   ]
  }
 ],
 "metadata": {
  "kernelspec": {
   "display_name": "Python 3",
   "language": "python",
   "name": "python3"
  },
  "language_info": {
   "codemirror_mode": {
    "name": "ipython",
    "version": 3
   },
   "file_extension": ".py",
   "mimetype": "text/x-python",
   "name": "python",
   "nbconvert_exporter": "python",
   "pygments_lexer": "ipython3",
   "version": "3.8.5"
  }
 },
 "nbformat": 4,
 "nbformat_minor": 4
}
