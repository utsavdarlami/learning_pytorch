{
 "cells": [
  {
   "cell_type": "markdown",
   "id": "4587e86d",
   "metadata": {},
   "source": [
    "# Learning pytorch geometric \n",
    "- https://www.youtube.com/watch?v=JtDgmmQ60x8\n",
    "- Tutorial 1"
   ]
  },
  {
   "cell_type": "code",
   "execution_count": 3,
   "id": "a440682e",
   "metadata": {},
   "outputs": [
    {
     "data": {
      "text/plain": [
       "'2.0.1'"
      ]
     },
     "execution_count": 3,
     "metadata": {},
     "output_type": "execute_result"
    }
   ],
   "source": [
    "import torch\n",
    "import torch_geometric\n",
    "from torch_geometric.datasets import Planetoid\n",
    "torch_geometric.__version__"
   ]
  },
  {
   "cell_type": "code",
   "execution_count": 56,
   "id": "1814828b",
   "metadata": {},
   "outputs": [],
   "source": [
    "import networkx as nx\n",
    "import numpy as np\n",
    "import matplotlib.pyplot as plt"
   ]
  },
  {
   "cell_type": "markdown",
   "id": "47034636",
   "metadata": {},
   "source": [
    "### Setting the device"
   ]
  },
  {
   "cell_type": "code",
   "execution_count": 122,
   "id": "e4b33f5b",
   "metadata": {},
   "outputs": [
    {
     "data": {
      "text/plain": [
       "device(type='cpu')"
      ]
     },
     "execution_count": 122,
     "metadata": {},
     "output_type": "execute_result"
    }
   ],
   "source": [
    "device = torch.device('cuda' if torch.cuda.is_available()  else 'cpu')\n",
    "device  = torch.device('cpu')\n",
    "device"
   ]
  },
  {
   "cell_type": "markdown",
   "id": "2d0063f5",
   "metadata": {},
   "source": [
    "## Load the dataset"
   ]
  },
  {
   "cell_type": "code",
   "execution_count": 23,
   "id": "852889aa",
   "metadata": {},
   "outputs": [],
   "source": [
    "dataset = Planetoid(root=\"../pytorch_dataset/\", name=\"Cora\")\n",
    "# - https://graphsandnetworks.com/the-cora-dataset/"
   ]
  },
  {
   "cell_type": "markdown",
   "id": "cfb0e727",
   "metadata": {},
   "source": [
    "### about dataset"
   ]
  },
  {
   "cell_type": "code",
   "execution_count": 12,
   "id": "947a0bd8",
   "metadata": {},
   "outputs": [
    {
     "name": "stdout",
     "output_type": "stream",
     "text": [
      "Cora()\n",
      "No of graphs 1\n",
      "No of edge features 0\n",
      "No of node features 1433\n"
     ]
    }
   ],
   "source": [
    "print(dataset)\n",
    "print(f\"No of graphs {len(dataset)}\")\n",
    "print(f\"No of edge features {dataset.num_edge_features}\")\n",
    "print(f\"No of node features {dataset.num_node_features}\")"
   ]
  },
  {
   "cell_type": "markdown",
   "id": "fac12a72",
   "metadata": {},
   "source": [
    "### Data attribute"
   ]
  },
  {
   "cell_type": "code",
   "execution_count": 14,
   "id": "f3408a5f",
   "metadata": {},
   "outputs": [
    {
     "data": {
      "text/plain": [
       "Data(x=[2708, 1433], edge_index=[2, 10556], y=[2708], train_mask=[2708], val_mask=[2708], test_mask=[2708])"
      ]
     },
     "execution_count": 14,
     "metadata": {},
     "output_type": "execute_result"
    }
   ],
   "source": [
    "dataset.data"
   ]
  },
  {
   "cell_type": "code",
   "execution_count": 22,
   "id": "5a2619ad",
   "metadata": {},
   "outputs": [
    {
     "data": {
      "text/plain": [
       "'https://github.com/kimiyoung/planetoid/raw/master/data'"
      ]
     },
     "execution_count": 22,
     "metadata": {},
     "output_type": "execute_result"
    }
   ],
   "source": [
    "dataset.url"
   ]
  },
  {
   "cell_type": "markdown",
   "id": "9b3e1717",
   "metadata": {},
   "source": [
    "#### edges"
   ]
  },
  {
   "cell_type": "code",
   "execution_count": 16,
   "id": "6b5ff08d",
   "metadata": {},
   "outputs": [
    {
     "data": {
      "text/plain": [
       "tensor([[   0,    0,    0,  ..., 2707, 2707, 2707],\n",
       "        [ 633, 1862, 2582,  ...,  598, 1473, 2706]])"
      ]
     },
     "execution_count": 16,
     "metadata": {},
     "output_type": "execute_result"
    }
   ],
   "source": [
    "dataset.data.edge_index"
   ]
  },
  {
   "cell_type": "code",
   "execution_count": 18,
   "id": "305188f4",
   "metadata": {},
   "outputs": [
    {
     "data": {
      "text/plain": [
       "torch.Size([2, 10556])"
      ]
     },
     "execution_count": 18,
     "metadata": {},
     "output_type": "execute_result"
    }
   ],
   "source": [
    "dataset.data.edge_index.shape\n",
    "# 10556 is the no of edges"
   ]
  },
  {
   "cell_type": "markdown",
   "id": "8454c097",
   "metadata": {},
   "source": [
    "Notes\n",
    "- the is tensor represents the edges between two nodes\n",
    "- 0 in the first row and 633 in the second row, represents that \n",
    "    - there exists a edge from node 0 to node 633, 0 <---> 633"
   ]
  },
  {
   "cell_type": "markdown",
   "id": "68034c45",
   "metadata": {},
   "source": [
    "#### feature matrix"
   ]
  },
  {
   "cell_type": "code",
   "execution_count": 19,
   "id": "4b63ae62",
   "metadata": {},
   "outputs": [
    {
     "data": {
      "text/plain": [
       "torch.Size([2708, 1433])"
      ]
     },
     "execution_count": 19,
     "metadata": {},
     "output_type": "execute_result"
    }
   ],
   "source": [
    "dataset.data.x.shape"
   ]
  },
  {
   "cell_type": "code",
   "execution_count": 20,
   "id": "aeb7c958",
   "metadata": {},
   "outputs": [
    {
     "data": {
      "text/plain": [
       "tensor([[0., 0., 0.,  ..., 0., 0., 0.],\n",
       "        [0., 0., 0.,  ..., 0., 0., 0.],\n",
       "        [0., 0., 0.,  ..., 0., 0., 0.],\n",
       "        ...,\n",
       "        [0., 0., 0.,  ..., 0., 0., 0.],\n",
       "        [0., 0., 0.,  ..., 0., 0., 0.],\n",
       "        [0., 0., 0.,  ..., 0., 0., 0.]])"
      ]
     },
     "execution_count": 20,
     "metadata": {},
     "output_type": "execute_result"
    }
   ],
   "source": [
    "dataset.data.x"
   ]
  },
  {
   "cell_type": "markdown",
   "id": "8e0d3ec9",
   "metadata": {},
   "source": [
    "#### y_labels"
   ]
  },
  {
   "cell_type": "code",
   "execution_count": 109,
   "id": "69714608",
   "metadata": {},
   "outputs": [
    {
     "data": {
      "text/plain": [
       "tensor([3, 4, 4,  ..., 3, 3, 3])"
      ]
     },
     "execution_count": 109,
     "metadata": {},
     "output_type": "execute_result"
    }
   ],
   "source": [
    "dataset.data.y"
   ]
  },
  {
   "cell_type": "markdown",
   "id": "a88bac52",
   "metadata": {},
   "source": [
    "## Creating graph from the edge index"
   ]
  },
  {
   "cell_type": "code",
   "execution_count": 104,
   "id": "35736668",
   "metadata": {},
   "outputs": [
    {
     "data": {
      "text/plain": [
       "torch.Size([300])"
      ]
     },
     "execution_count": 104,
     "metadata": {},
     "output_type": "execute_result"
    }
   ],
   "source": [
    "number_of_samples = 300\n",
    "number_of_nodes = dataset.data.x.shape[0]\n",
    "idx_random_sample_of_edge_index = torch.randint(high=number_of_nodes-1 , size=(number_of_samples,))\n",
    "\n",
    "idx_random_sample_of_edge_index.shape"
   ]
  },
  {
   "cell_type": "code",
   "execution_count": 105,
   "id": "d69cf008",
   "metadata": {},
   "outputs": [
    {
     "data": {
      "text/plain": [
       "(300, 2)"
      ]
     },
     "execution_count": 105,
     "metadata": {},
     "output_type": "execute_result"
    }
   ],
   "source": [
    "random_edge_index = dataset.data.edge_index[:, :number_of_samples].T # taking inital N edges\n",
    "# random_edge_index = dataset.data.edge_index[:, idx_random_sample_of_edge_index].T\n",
    "\n",
    "random_edge_index = random_edge_index.numpy()\n",
    "random_edge_index.shape"
   ]
  },
  {
   "cell_type": "code",
   "execution_count": 106,
   "id": "e32d9974",
   "metadata": {},
   "outputs": [],
   "source": [
    "G = nx.Graph()\n",
    "G.add_edges_from(random_edge_index)"
   ]
  },
  {
   "cell_type": "code",
   "execution_count": 108,
   "id": "e68e9e44",
   "metadata": {},
   "outputs": [
    {
     "data": {
      "image/png": "[encoded data removed]",
      "text/plain": [
       "<Figure size 1296x1080 with 1 Axes>"
      ]
     },
     "metadata": {},
     "output_type": "display_data"
    }
   ],
   "source": [
    "plt.figure(figsize=(18,15))\n",
    "nx.draw_networkx(G, with_labels=False, node_size=10)\n",
    "# plt.show()"
   ]
  },
  {
   "cell_type": "code",
   "execution_count": 123,
   "id": "e358e384",
   "metadata": {},
   "outputs": [],
   "source": [
    "data = dataset[0]"
   ]
  },
  {
   "cell_type": "markdown",
   "id": "ed57a00e",
   "metadata": {},
   "source": [
    "## A simple graph neural net"
   ]
  },
  {
   "cell_type": "code",
   "execution_count": 133,
   "id": "93c12387",
   "metadata": {},
   "outputs": [],
   "source": [
    "import torch.nn.functional as F\n",
    "from torch_geometric.nn import SAGEConv\n",
    "from torch import nn\n",
    "from loguru import logger"
   ]
  },
  {
   "cell_type": "code",
   "execution_count": 117,
   "id": "c66c1755",
   "metadata": {},
   "outputs": [],
   "source": [
    "N_FEATURES = dataset.num_node_features\n",
    "N_CLASSES = dataset.num_classes"
   ]
  },
  {
   "cell_type": "code",
   "execution_count": 119,
   "id": "2e571496",
   "metadata": {},
   "outputs": [],
   "source": [
    "class Net(nn.Module):\n",
    "    def __init__(self):\n",
    "        super(Net, self).__init__()\n",
    "        self.conv = SAGEConv(in_channels=N_FEATURES,\n",
    "                             out_channels=N_CLASSES,\n",
    "                             aggr=\"max\"\n",
    "                            )\n",
    "    def forward(self, x, edge_index):\n",
    "        x = self.conv(x, edge_index)\n",
    "        return F.log_softmax(x, dim=1)"
   ]
  },
  {
   "cell_type": "markdown",
   "id": "c18422b4",
   "metadata": {},
   "source": [
    "### How does SAGEConv Work?\n",
    "- https://pytorch-geometric.readthedocs.io/en/latest/modules/nn.html#torch_geometric.nn.conv.SAGEConv"
   ]
  },
  {
   "cell_type": "markdown",
   "id": "9ce7b17d",
   "metadata": {},
   "source": [
    "### Model instance"
   ]
  },
  {
   "cell_type": "code",
   "execution_count": 124,
   "id": "3e08e4fa",
   "metadata": {},
   "outputs": [],
   "source": [
    "model = Net().to(device)\n",
    "data = data.to(device)\n",
    "optimizer = torch.optim.Adam(model.parameters(), lr=0.01, weight_decay=5e-4)"
   ]
  },
  {
   "cell_type": "code",
   "execution_count": 128,
   "id": "6263438b",
   "metadata": {},
   "outputs": [],
   "source": [
    "def train():\n",
    "    model.train()\n",
    "    optimizer.zero_grad()\n",
    "    h = model(data.x, data.edge_index)\n",
    "    loss = F.nll_loss(h[data.train_mask], data.y[data.train_mask])\n",
    "    loss.backward()\n",
    "    optimizer.step()"
   ]
  },
  {
   "cell_type": "code",
   "execution_count": 129,
   "id": "93c480b6",
   "metadata": {},
   "outputs": [],
   "source": [
    "def test():\n",
    "    model.eval()\n",
    "    logits =  model(data.x, data.edge_index)\n",
    "    accs = []\n",
    "    for _, mask in data('train_mask', 'val_mask', 'test_mask'):\n",
    "        pred = logits[mask].max(1)[1]\n",
    "        acc = pred.eq(data.y[mask]).sum().item() / mask.sum().item()\n",
    "        accs.append(acc)\n",
    "    return accs"
   ]
  },
  {
   "cell_type": "markdown",
   "id": "9a86f3fc",
   "metadata": {},
   "source": [
    "### Training"
   ]
  },
  {
   "cell_type": "code",
   "execution_count": 136,
   "id": "689d568c",
   "metadata": {},
   "outputs": [
    {
     "name": "stderr",
     "output_type": "stream",
     "text": [
      "2022-01-16 16:56:15.224 | INFO     | __main__:<module>:11 - Epoch: 10, Val: 0.7200, Test: 0.7260\n",
      "2022-01-16 16:56:17.166 | INFO     | __main__:<module>:11 - Epoch: 20, Val: 0.7200, Test: 0.7260\n",
      "2022-01-16 16:56:19.143 | INFO     | __main__:<module>:11 - Epoch: 30, Val: 0.7200, Test: 0.7260\n",
      "2022-01-16 16:56:21.061 | INFO     | __main__:<module>:11 - Epoch: 40, Val: 0.7200, Test: 0.7260\n",
      "2022-01-16 16:56:22.971 | INFO     | __main__:<module>:11 - Epoch: 50, Val: 0.7200, Test: 0.7260\n",
      "2022-01-16 16:56:24.884 | INFO     | __main__:<module>:11 - Epoch: 60, Val: 0.7200, Test: 0.7260\n",
      "2022-01-16 16:56:26.818 | INFO     | __main__:<module>:11 - Epoch: 70, Val: 0.7220, Test: 0.7300\n",
      "2022-01-16 16:56:28.728 | INFO     | __main__:<module>:11 - Epoch: 80, Val: 0.7220, Test: 0.7300\n",
      "2022-01-16 16:56:30.631 | INFO     | __main__:<module>:11 - Epoch: 90, Val: 0.7220, Test: 0.7300\n"
     ]
    }
   ],
   "source": [
    "best_val_acc = test_acc = 0\n",
    "for epoch in range(1,100):\n",
    "    train()\n",
    "    _, val_acc, tmp_test_acc = test()\n",
    "    if val_acc > best_val_acc:\n",
    "        best_val_acc = val_acc\n",
    "        test_acc = tmp_test_acc\n",
    "    \n",
    "    if epoch % 10 == 0:\n",
    "        logger.info(f\"Epoch: {epoch}, Val: {best_val_acc:.4f}, Test: {test_acc:.4f}\")"
   ]
  }
 ],
 "metadata": {
  "kernelspec": {
   "display_name": "Python 3 (ipykernel)",
   "language": "python",
   "name": "python3"
  },
  "language_info": {
   "codemirror_mode": {
    "name": "ipython",
    "version": 3
   },
   "file_extension": ".py",
   "mimetype": "text/x-python",
   "name": "python",
   "nbconvert_exporter": "python",
   "pygments_lexer": "ipython3",
   "version": "3.8.5"
  }
 },
 "nbformat": 4,
 "nbformat_minor": 5
}
