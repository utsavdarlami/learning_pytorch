{
 "cells": [
  {
   "cell_type": "markdown",
   "id": "composite-texture",
   "metadata": {},
   "source": [
    "# Lecture 6, Automatic Differentiation in pytorch"
   ]
  },
  {
   "cell_type": "markdown",
   "id": "beginning-happening",
   "metadata": {},
   "source": [
    "## L6.1 Learning More About PyTorch\n",
    "- https://www.youtube.com/watch?v=LjdiVPQ45GE&list=PLTKMiZHVd_2KJtIXOW0zFhFfBaJJilH51&index=44"
   ]
  },
  {
   "cell_type": "markdown",
   "id": "special-allergy",
   "metadata": {},
   "source": [
    "## L6.2 Understanding Automatic Differentiation via Computation Graphs\n",
    "- https://www.youtube.com/watch?v=oY6-i2Ybin4&list=PLTKMiZHVd_2KJtIXOW0zFhFfBaJJilH51&index=45"
   ]
  },
  {
   "cell_type": "markdown",
   "id": "tender-diabetes",
   "metadata": {},
   "source": [
    "## L6.3 Automatic Differentiation in PyTorch\n",
    "- https://www.youtube.com/watch?v=VvUz0Q9e09g&list=PLTKMiZHVd_2KJtIXOW0zFhFfBaJJilH51&index=46"
   ]
  },
  {
   "cell_type": "code",
   "execution_count": 2,
   "id": "published-local",
   "metadata": {},
   "outputs": [],
   "source": [
    "import torch \n",
    "from torch.autograd import grad\n",
    "import torch.nn.functional as F"
   ]
  },
  {
   "cell_type": "code",
   "execution_count": 15,
   "id": "clear-convertible",
   "metadata": {},
   "outputs": [],
   "source": [
    "x = torch.tensor([3.0])\n",
    "w = torch.tensor([2.0], requires_grad=True)\n",
    "b = torch.tensor([1.0], requires_grad=True)\n",
    "a = F.relu(w*x + b)"
   ]
  },
  {
   "cell_type": "code",
   "execution_count": 16,
   "id": "identical-webcam",
   "metadata": {},
   "outputs": [
    {
     "data": {
      "text/plain": [
       "(tensor([3.]),)"
      ]
     },
     "execution_count": 16,
     "metadata": {},
     "output_type": "execute_result"
    }
   ],
   "source": [
    "grad(a, w, retain_graph=True)"
   ]
  },
  {
   "cell_type": "code",
   "execution_count": 17,
   "id": "fifteen-lunch",
   "metadata": {},
   "outputs": [
    {
     "data": {
      "text/plain": [
       "(tensor([1.]),)"
      ]
     },
     "execution_count": 17,
     "metadata": {},
     "output_type": "execute_result"
    }
   ],
   "source": [
    "grad(a, b)"
   ]
  }
 ],
 "metadata": {
  "kernelspec": {
   "display_name": "Python 3",
   "language": "python",
   "name": "python3"
  },
  "language_info": {
   "codemirror_mode": {
    "name": "ipython",
    "version": 3
   },
   "file_extension": ".py",
   "mimetype": "text/x-python",
   "name": "python",
   "nbconvert_exporter": "python",
   "pygments_lexer": "ipython3",
   "version": "3.8.5"
  }
 },
 "nbformat": 4,
 "nbformat_minor": 5
}
