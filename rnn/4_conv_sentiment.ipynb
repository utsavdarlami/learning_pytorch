{
 "cells": [
  {
   "cell_type": "markdown",
   "metadata": {
    "id": "c_XlUwYRKu2R"
   },
   "source": [
    "- https://github.com/bentrevett/pytorch-sentiment-analysis/blob/master/4%20-%20Convolutional%20Sentiment%20Analysis.ipynb"
   ]
  },
  {
   "cell_type": "code",
   "execution_count": 1,
   "metadata": {
    "colab": {
     "base_uri": "https://localhost:8080/",
     "height": 35
    },
    "executionInfo": {
     "elapsed": 4519,
     "status": "ok",
     "timestamp": 1620528414988,
     "user": {
      "displayName": "utsav darlami",
      "photoUrl": "https://lh3.googleusercontent.com/a-/AOh14GgLuaEax1-JpzOvamZJ3_hHNqRVf3em6_OvrIrsNA=s64",
      "userId": "09809536614605504925"
     },
     "user_tz": -345
    },
    "id": "NG-y60YmT8lp",
    "outputId": "17e92760-2e8b-4116-91c9-5438dda3dff8"
   },
   "outputs": [
    {
     "data": {
      "application/vnd.google.colaboratory.intrinsic+json": {
       "type": "string"
      },
      "text/plain": [
       "'0.9.1'"
      ]
     },
     "execution_count": 1,
     "metadata": {
      "tags": []
     },
     "output_type": "execute_result"
    }
   ],
   "source": [
    "import torch\n",
    "import torchtext\n",
    "from torchtext.legacy import data\n",
    "from torch.utils.data import DataLoader, random_split\n",
    "import pandas as pd\n",
    "import random\n",
    "from tqdm import tqdm\n",
    "import torch.nn.functional as F\n",
    "from torch import nn\n",
    "\n",
    "torchtext.__version__\n",
    "# torchtext.__version__"
   ]
  },
  {
   "cell_type": "code",
   "execution_count": 6,
   "metadata": {
    "colab": {
     "base_uri": "https://localhost:8080/"
    },
    "executionInfo": {
     "elapsed": 1160,
     "status": "ok",
     "timestamp": 1620528536482,
     "user": {
      "displayName": "utsav darlami",
      "photoUrl": "https://lh3.googleusercontent.com/a-/AOh14GgLuaEax1-JpzOvamZJ3_hHNqRVf3em6_OvrIrsNA=s64",
      "userId": "09809536614605504925"
     },
     "user_tz": -345
    },
    "id": "FzXPHtceV4h_",
    "outputId": "e086abbd-7fbf-47d6-e982-022f6903e509"
   },
   "outputs": [
    {
     "name": "stdout",
     "output_type": "stream",
     "text": [
      "--2021-05-09 02:48:55--  https://github.com/rasbt/python-machine-learning-book-3rd-edition/raw/master/ch08/movie_data.csv.gz\n",
      "Resolving github.com (github.com)... 140.82.114.3\n",
      "Connecting to github.com (github.com)|140.82.114.3|:443... connected.\n",
      "HTTP request sent, awaiting response... 302 Found\n",
      "Location: https://raw.githubusercontent.com/rasbt/python-machine-learning-book-3rd-edition/master/ch08/movie_data.csv.gz [following]\n",
      "--2021-05-09 02:48:55--  https://raw.githubusercontent.com/rasbt/python-machine-learning-book-3rd-edition/master/ch08/movie_data.csv.gz\n",
      "Resolving raw.githubusercontent.com (raw.githubusercontent.com)... 185.199.108.133, 185.199.109.133, 185.199.110.133, ...\n",
      "Connecting to raw.githubusercontent.com (raw.githubusercontent.com)|185.199.108.133|:443... connected.\n",
      "HTTP request sent, awaiting response... 200 OK\n",
      "Length: 26521894 (25M) [application/octet-stream]\n",
      "Saving to: ‘movie_data.csv.gz.1’\n",
      "\n",
      "movie_data.csv.gz.1 100%[===================>]  25.29M  --.-KB/s    in 0.09s   \n",
      "\n",
      "2021-05-09 02:48:56 (274 MB/s) - ‘movie_data.csv.gz.1’ saved [26521894/26521894]\n",
      "\n"
     ]
    }
   ],
   "source": [
    "!wget https://github.com/rasbt/python-machine-learning-book-3rd-edition/raw/master/ch08/movie_data.csv.gz"
   ]
  },
  {
   "cell_type": "code",
   "execution_count": 7,
   "metadata": {
    "executionInfo": {
     "elapsed": 1642,
     "status": "ok",
     "timestamp": 1620528542330,
     "user": {
      "displayName": "utsav darlami",
      "photoUrl": "https://lh3.googleusercontent.com/a-/AOh14GgLuaEax1-JpzOvamZJ3_hHNqRVf3em6_OvrIrsNA=s64",
      "userId": "09809536614605504925"
     },
     "user_tz": -345
    },
    "id": "tqsxf23zV4qg"
   },
   "outputs": [],
   "source": [
    "!gunzip -f movie_data.csv.gz"
   ]
  },
  {
   "cell_type": "code",
   "execution_count": 3,
   "metadata": {
    "executionInfo": {
     "elapsed": 1212,
     "status": "ok",
     "timestamp": 1620528500726,
     "user": {
      "displayName": "utsav darlami",
      "photoUrl": "https://lh3.googleusercontent.com/a-/AOh14GgLuaEax1-JpzOvamZJ3_hHNqRVf3em6_OvrIrsNA=s64",
      "userId": "09809536614605504925"
     },
     "user_tz": -345
    },
    "id": "_0YGz-qjT8l-"
   },
   "outputs": [],
   "source": [
    "SEED = 42  # The answer to life, the universe, and everything\n",
    "\n",
    "torch.manual_seed(SEED)\n",
    "torch.backends.cudnn.deterministic = True"
   ]
  },
  {
   "cell_type": "code",
   "execution_count": 4,
   "metadata": {
    "colab": {
     "base_uri": "https://localhost:8080/"
    },
    "executionInfo": {
     "elapsed": 1099,
     "status": "ok",
     "timestamp": 1620528507789,
     "user": {
      "displayName": "utsav darlami",
      "photoUrl": "https://lh3.googleusercontent.com/a-/AOh14GgLuaEax1-JpzOvamZJ3_hHNqRVf3em6_OvrIrsNA=s64",
      "userId": "09809536614605504925"
     },
     "user_tz": -345
    },
    "id": "MfF6jGOMT8l_",
    "outputId": "119730ec-4de2-46c8-dee3-11198b92ee3a"
   },
   "outputs": [
    {
     "name": "stdout",
     "output_type": "stream",
     "text": [
      "cuda\n"
     ]
    }
   ],
   "source": [
    "available_device= \"cuda\" if torch.cuda.is_available() else \"cpu\"\n",
    "# available_device= \"cpu\"\n",
    "device = torch.device(available_device)\n",
    "print(device)\n",
    "# device"
   ]
  },
  {
   "cell_type": "markdown",
   "metadata": {
    "id": "01W2D1ZiT8mC"
   },
   "source": [
    "## Creating the dataset and iterator"
   ]
  },
  {
   "cell_type": "markdown",
   "metadata": {
    "id": "fm5MJ7VNT8mD"
   },
   "source": [
    "### Dataset "
   ]
  },
  {
   "cell_type": "code",
   "execution_count": 8,
   "metadata": {
    "executionInfo": {
     "elapsed": 800137,
     "status": "ok",
     "timestamp": 1620529353204,
     "user": {
      "displayName": "utsav darlami",
      "photoUrl": "https://lh3.googleusercontent.com/a-/AOh14GgLuaEax1-JpzOvamZJ3_hHNqRVf3em6_OvrIrsNA=s64",
      "userId": "09809536614605504925"
     },
     "user_tz": -345
    },
    "id": "VAm8xFeKT8l8"
   },
   "outputs": [],
   "source": [
    "\"\"\"\n",
    "TorchText Fields have a preprocessing argument. \n",
    "A function passed here will be applied to a sentence after it has been tokenized,\n",
    "but before it has been numericalized(transformed from a list of tokens to a list of indexes). \n",
    "This is where we'll pass our generate_ngrams function.\n",
    "\n",
    "\"\"\"\n",
    "\n",
    "TEXT = data.Field(tokenize='spacy',  # tokenizer\n",
    "              tokenizer_language='en_core_web_sm',  # none\n",
    "              batch_first=True\n",
    "              )\n",
    "\n",
    "LABEL = data.LabelField(dtype=torch.float)\n",
    "\n",
    "FIELDS = [('TEXT', TEXT), ('LABEL', LABEL)]\n",
    "\n",
    "dataset = data.TabularDataset(path='movie_data.csv',\n",
    "                                  format='csv',\n",
    "                                  fields=FIELDS,\n",
    "                                  skip_header=True)"
   ]
  },
  {
   "cell_type": "code",
   "execution_count": 9,
   "metadata": {
    "executionInfo": {
     "elapsed": 1190,
     "status": "ok",
     "timestamp": 1620529725494,
     "user": {
      "displayName": "utsav darlami",
      "photoUrl": "https://lh3.googleusercontent.com/a-/AOh14GgLuaEax1-JpzOvamZJ3_hHNqRVf3em6_OvrIrsNA=s64",
      "userId": "09809536614605504925"
     },
     "user_tz": -345
    },
    "id": "RbscZax3sNuo"
   },
   "outputs": [],
   "source": [
    "train_set, test_set = dataset.split(split_ratio=[0.9, 0.1],\n",
    "                                    random_state=random.seed(SEED))\n",
    "\n",
    "train_set, val_set = train_set.split(split_ratio=[0.9, 0.1],\n",
    "                                        random_state=random.seed(SEED))"
   ]
  },
  {
   "cell_type": "markdown",
   "metadata": {
    "id": "5hdG2a-RsbnU"
   },
   "source": [
    "### Build Vocab using the glove 100d "
   ]
  },
  {
   "cell_type": "code",
   "execution_count": 10,
   "metadata": {
    "colab": {
     "base_uri": "https://localhost:8080/"
    },
    "executionInfo": {
     "elapsed": 210654,
     "status": "ok",
     "timestamp": 1620529938521,
     "user": {
      "displayName": "utsav darlami",
      "photoUrl": "https://lh3.googleusercontent.com/a-/AOh14GgLuaEax1-JpzOvamZJ3_hHNqRVf3em6_OvrIrsNA=s64",
      "userId": "09809536614605504925"
     },
     "user_tz": -345
    },
    "id": "SLuYkanYT8mF",
    "outputId": "83d3e95a-5739-436a-a016-c7a90e4f863e"
   },
   "outputs": [
    {
     "name": "stderr",
     "output_type": "stream",
     "text": [
      ".vector_cache/glove.6B.zip: 862MB [02:40, 5.36MB/s]                           \n",
      "100%|█████████▉| 398162/400000 [00:14<00:00, 27720.92it/s]"
     ]
    }
   ],
   "source": [
    "MAX_VOCAB_SIZE = 25000\n",
    "\n",
    "TEXT.build_vocab(train_set,\n",
    "                max_size=MAX_VOCAB_SIZE,\n",
    "                vectors=\"glove.6B.100d\",\n",
    "                unk_init = torch.Tensor.normal_)"
   ]
  },
  {
   "cell_type": "code",
   "execution_count": 11,
   "metadata": {
    "executionInfo": {
     "elapsed": 1040,
     "status": "ok",
     "timestamp": 1620530027830,
     "user": {
      "displayName": "utsav darlami",
      "photoUrl": "https://lh3.googleusercontent.com/a-/AOh14GgLuaEax1-JpzOvamZJ3_hHNqRVf3em6_OvrIrsNA=s64",
      "userId": "09809536614605504925"
     },
     "user_tz": -345
    },
    "id": "43gLPay8T8mG"
   },
   "outputs": [],
   "source": [
    "LABEL.build_vocab(train_set)"
   ]
  },
  {
   "cell_type": "code",
   "execution_count": null,
   "metadata": {
    "colab": {
     "base_uri": "https://localhost:8080/"
    },
    "executionInfo": {
     "elapsed": 1379,
     "status": "ok",
     "timestamp": 1620489363851,
     "user": {
      "displayName": "utsav darlami",
      "photoUrl": "https://lh3.googleusercontent.com/a-/AOh14GgLuaEax1-JpzOvamZJ3_hHNqRVf3em6_OvrIrsNA=s64",
      "userId": "09809536614605504925"
     },
     "user_tz": -345
    },
    "id": "G9uZupbVT8mH",
    "outputId": "a7a3f098-2636-4607-b917-80ff4c403d33"
   },
   "outputs": [
    {
     "data": {
      "text/plain": [
       "[('the', 464964),\n",
       " (',', 441024),\n",
       " ('.', 378804),\n",
       " ('a', 250866),\n",
       " ('and', 250750),\n",
       " ('of', 231373),\n",
       " ('to', 214406),\n",
       " ('is', 173465),\n",
       " ('in', 141132),\n",
       " ('I', 125873)]"
      ]
     },
     "execution_count": 11,
     "metadata": {
      "tags": []
     },
     "output_type": "execute_result"
    }
   ],
   "source": [
    "### 10 common word train_set\n",
    "top_commom_words = TEXT.vocab.freqs.most_common(10)\n",
    "top_commom_words"
   ]
  },
  {
   "cell_type": "code",
   "execution_count": 12,
   "metadata": {
    "colab": {
     "base_uri": "https://localhost:8080/"
    },
    "executionInfo": {
     "elapsed": 1003,
     "status": "ok",
     "timestamp": 1620530033996,
     "user": {
      "displayName": "utsav darlami",
      "photoUrl": "https://lh3.googleusercontent.com/a-/AOh14GgLuaEax1-JpzOvamZJ3_hHNqRVf3em6_OvrIrsNA=s64",
      "userId": "09809536614605504925"
     },
     "user_tz": -345
    },
    "id": "6Bk1mqOHT8mJ",
    "outputId": "a0850d6d-8c8d-4e1f-9380-7641fcb8ec9f"
   },
   "outputs": [
    {
     "data": {
      "text/plain": [
       "tensor([[ 1.9269,  1.4873,  0.9007,  ...,  0.1233,  0.3499,  0.6173],\n",
       "        [ 0.7262,  0.0912, -0.3891,  ...,  0.0821,  0.4440, -0.7240],\n",
       "        [-0.0382, -0.2449,  0.7281,  ..., -0.1459,  0.8278,  0.2706],\n",
       "        ...,\n",
       "        [-0.1385,  0.2386,  0.1118,  ..., -0.2863, -0.2599,  0.1893],\n",
       "        [-0.4029,  0.1755, -0.5962,  ..., -0.7070,  0.3583,  0.0524],\n",
       "        [-1.9296,  0.0574,  0.5448,  ..., -0.0727, -0.1165, -0.3921]])"
      ]
     },
     "execution_count": 12,
     "metadata": {
      "tags": []
     },
     "output_type": "execute_result"
    }
   ],
   "source": [
    "TEXT.vocab.vectors"
   ]
  },
  {
   "cell_type": "code",
   "execution_count": null,
   "metadata": {
    "colab": {
     "base_uri": "https://localhost:8080/"
    },
    "executionInfo": {
     "elapsed": 676,
     "status": "ok",
     "timestamp": 1620489369254,
     "user": {
      "displayName": "utsav darlami",
      "photoUrl": "https://lh3.googleusercontent.com/a-/AOh14GgLuaEax1-JpzOvamZJ3_hHNqRVf3em6_OvrIrsNA=s64",
      "userId": "09809536614605504925"
     },
     "user_tz": -345
    },
    "id": "01jYyEmmT8mL",
    "outputId": "8e77cd08-8a55-41c4-8148-bd6f7328fbe9"
   },
   "outputs": [
    {
     "data": {
      "text/plain": [
       "torch.Size([25002, 100])"
      ]
     },
     "execution_count": 13,
     "metadata": {
      "tags": []
     },
     "output_type": "execute_result"
    }
   ],
   "source": [
    "TEXT.vocab.vectors.shape"
   ]
  },
  {
   "cell_type": "code",
   "execution_count": 14,
   "metadata": {
    "colab": {
     "base_uri": "https://localhost:8080/"
    },
    "executionInfo": {
     "elapsed": 1004,
     "status": "ok",
     "timestamp": 1620530039750,
     "user": {
      "displayName": "utsav darlami",
      "photoUrl": "https://lh3.googleusercontent.com/a-/AOh14GgLuaEax1-JpzOvamZJ3_hHNqRVf3em6_OvrIrsNA=s64",
      "userId": "09809536614605504925"
     },
     "user_tz": -345
    },
    "id": "e5NexudRT8mL",
    "outputId": "3c5307e7-279a-4f99-cdda-239664175d04"
   },
   "outputs": [
    {
     "data": {
      "text/plain": [
       "Counter({'0': 20265, '1': 20235})"
      ]
     },
     "execution_count": 14,
     "metadata": {
      "tags": []
     },
     "output_type": "execute_result"
    }
   ],
   "source": [
    "LABEL.vocab.freqs"
   ]
  },
  {
   "cell_type": "code",
   "execution_count": 13,
   "metadata": {
    "colab": {
     "base_uri": "https://localhost:8080/"
    },
    "executionInfo": {
     "elapsed": 803,
     "status": "ok",
     "timestamp": 1620530036962,
     "user": {
      "displayName": "utsav darlami",
      "photoUrl": "https://lh3.googleusercontent.com/a-/AOh14GgLuaEax1-JpzOvamZJ3_hHNqRVf3em6_OvrIrsNA=s64",
      "userId": "09809536614605504925"
     },
     "user_tz": -345
    },
    "id": "NT0_pa1HT8mN",
    "outputId": "d1203307-3d45-4e6b-a8f7-8e9bfedf8732"
   },
   "outputs": [
    {
     "data": {
      "text/plain": [
       "defaultdict(None, {'0': 0, '1': 1})"
      ]
     },
     "execution_count": 13,
     "metadata": {
      "tags": []
     },
     "output_type": "execute_result"
    }
   ],
   "source": [
    "LABEL.vocab.stoi"
   ]
  },
  {
   "cell_type": "markdown",
   "metadata": {
    "id": "NTtbZZ_uT8mN"
   },
   "source": [
    "### Data iterator"
   ]
  },
  {
   "cell_type": "code",
   "execution_count": 15,
   "metadata": {
    "executionInfo": {
     "elapsed": 638,
     "status": "ok",
     "timestamp": 1620530043514,
     "user": {
      "displayName": "utsav darlami",
      "photoUrl": "https://lh3.googleusercontent.com/a-/AOh14GgLuaEax1-JpzOvamZJ3_hHNqRVf3em6_OvrIrsNA=s64",
      "userId": "09809536614605504925"
     },
     "user_tz": -345
    },
    "id": "Stdf0JXtT8mN"
   },
   "outputs": [],
   "source": [
    "BATCH_SIZE = 64\n",
    "\n",
    "# https://torchtext.readthedocs.io/en/latest/data.html#bucketiterator\n",
    "train_iterator, val_iterator, test_iterator = data.BucketIterator.splits(\n",
    "                                              (train_set, val_set, test_set),\n",
    "                                              batch_size=BATCH_SIZE,\n",
    "                                              sort_within_batch=True,          #\n",
    "                                              sort_key=lambda x: len(x.TEXT))"
   ]
  },
  {
   "cell_type": "code",
   "execution_count": 16,
   "metadata": {
    "colab": {
     "base_uri": "https://localhost:8080/"
    },
    "executionInfo": {
     "elapsed": 919,
     "status": "ok",
     "timestamp": 1620530046879,
     "user": {
      "displayName": "utsav darlami",
      "photoUrl": "https://lh3.googleusercontent.com/a-/AOh14GgLuaEax1-JpzOvamZJ3_hHNqRVf3em6_OvrIrsNA=s64",
      "userId": "09809536614605504925"
     },
     "user_tz": -345
    },
    "id": "fsoHul5vT8mO",
    "outputId": "78b11cbc-9c6c-4b16-90bf-45e8312c5e8f"
   },
   "outputs": [
    {
     "name": "stdout",
     "output_type": "stream",
     "text": [
      "633\n",
      "torch.Size([64, 223])\n",
      "torch.Size([64])\n",
      "torch.Size([64, 52])\n",
      "torch.Size([64])\n"
     ]
    }
   ],
   "source": [
    "print(len(train_iterator))\n",
    "for t_i in train_iterator:\n",
    "    print(t_i.TEXT.size())\n",
    "    print(t_i.LABEL.size())\n",
    "    break\n",
    "\n",
    "for v_i in val_iterator:\n",
    "    print(v_i.TEXT.size())\n",
    "    print(v_i.LABEL.size())\n",
    "    break"
   ]
  },
  {
   "cell_type": "markdown",
   "metadata": {
    "id": "47I-3rJFT8mP"
   },
   "source": [
    "## Defining the model"
   ]
  },
  {
   "cell_type": "markdown",
   "metadata": {
    "id": "ikLdrh6hT8mV"
   },
   "source": [
    "### Model architecture"
   ]
  },
  {
   "cell_type": "code",
   "execution_count": 31,
   "metadata": {
    "executionInfo": {
     "elapsed": 1187,
     "status": "ok",
     "timestamp": 1620531619268,
     "user": {
      "displayName": "utsav darlami",
      "photoUrl": "https://lh3.googleusercontent.com/a-/AOh14GgLuaEax1-JpzOvamZJ3_hHNqRVf3em6_OvrIrsNA=s64",
      "userId": "09809536614605504925"
     },
     "user_tz": -345
    },
    "id": "TJNTMG0As01Z"
   },
   "outputs": [],
   "source": [
    "class ConvMaxEmbeds(nn.Module):\n",
    "    def __init__(self, in_channel, n_filters, filter_size, embed_dim):\n",
    "        super().__init__()\n",
    "        \"\"\"\n",
    "        use a filter that is [n x emb_dim]. \n",
    "        This will cover $n$ sequential words entirely, as their width will be emb_dim dimensions. \n",
    "        \"\"\"\n",
    "        self.conv  = nn.Conv2d(in_channels=1, \n",
    "                               out_channels=n_filters,\n",
    "                               kernel_size=(filter_size, embed_dim))\n",
    "    \n",
    "    def forward(self, x):\n",
    "        # x [batch, 1, seq_len, embeds_dim]\n",
    "        x = self.conv(x)\n",
    "        # x [batch, n_filters, seq_len - filter_size + 1, 1]\n",
    "        x = x.squeeze(3)\n",
    "        \"\"\"\n",
    "        our output will be a vector with number of elements equal to the height \n",
    "        of the image (or lenth of the word) minus the height of the filter plus one, \n",
    "        `seq_len - filter_size + 1`\n",
    "        \"\"\"\n",
    "        # x  = [batch, n_filters, seq_len - filter_size + 1]\n",
    "        pooled = F.max_pool1d(x, x.shape[2])\n",
    "        # [batch, n_filters, 1]\n",
    "        return pooled.squeeze(2)\n",
    "        # [batch, n_filters]"
   ]
  },
  {
   "cell_type": "code",
   "execution_count": 32,
   "metadata": {
    "executionInfo": {
     "elapsed": 832,
     "status": "ok",
     "timestamp": 1620531623225,
     "user": {
      "displayName": "utsav darlami",
      "photoUrl": "https://lh3.googleusercontent.com/a-/AOh14GgLuaEax1-JpzOvamZJ3_hHNqRVf3em6_OvrIrsNA=s64",
      "userId": "09809536614605504925"
     },
     "user_tz": -345
    },
    "id": "lBXB2yGXT8mW"
   },
   "outputs": [],
   "source": [
    "\"\"\"\n",
    "Note: there an exception to this if your sentence(s) are shorter than the largest filter used. \n",
    "You will then have to pad your sentences to the length of the largest filter.\n",
    "In the IMDb data there are no reviews only 5 words long so we don't have to worry about that,\\\n",
    "but you will if you are using your own data.\n",
    "\"\"\"\n",
    "class ConvSentimentAnalyzer(nn.Module):\n",
    "    def __init__(self, vocab_size, embedding_dim, n_filters,\n",
    "                 out_dim, dropout, pad_idx):\n",
    "        super().__init__()\n",
    "        \n",
    "        self.embedding = nn.Embedding(vocab_size, embedding_dim, padding_idx=pad_idx)\n",
    "       \n",
    "        \"\"\"\n",
    "        In our model, we will also have different sizes of filters, \n",
    "        heights of 3, 4 and 5, with 100 of each of them. \n",
    "        The intuition is that we will be looking for the occurence of different tri-grams, \n",
    "        4-grams and 5-grams that are relevant for analysing sentiment of movie reviews.\n",
    "        \"\"\"\n",
    "        self.conv_max_1 = ConvMaxEmbeds(1, n_filters, 3, embedding_dim)\n",
    "        self.conv_max_2 = ConvMaxEmbeds(1, n_filters, 4, embedding_dim)\n",
    "        self.conv_max_3 = ConvMaxEmbeds(1, n_filters, 5, embedding_dim)\n",
    "        \n",
    "        self.fc = nn.Linear(3*n_filters, out_dim)\n",
    "        \"\"\"\n",
    "        We can think of the weights of this linear layer as \"weighting up the evidence\" \n",
    "        from each of the 3 * n-filters n-grams and making a final decision.\n",
    "        \"\"\"\n",
    "        \n",
    "        self.dropout = nn.Dropout(dropout)\n",
    "\n",
    "    def forward(self, text):\n",
    "        # text =  [batch_size, sent_len]\n",
    "        embeds = self.embedding(text)\n",
    "        # embeds = [batch_size, sent_len, embed_dim]\n",
    "        \"\"\"\n",
    "        unsqeeuze for making channel dim=1\n",
    "        \"\"\"\n",
    "        embeds = embeds.unsqueeze(1)\n",
    "        # embeds = [batch_size, 1, sent_len, embed_dim]\n",
    "\n",
    "        conv_pooled_squeeze_1 =  self.conv_max_1(embeds)        \n",
    "        conv_pooled_squeeze_2 =  self.conv_max_2(embeds)        \n",
    "        conv_pooled_squeeze_3 =  self.conv_max_3(embeds)          \n",
    "        #conv_pooled_squeeze_n = [batch, n_filters]\n",
    "        \n",
    "        \"\"\"\n",
    "        As our model has n_filters of 3 different sizes, that means we have n*3\n",
    "        different n-grams the model thinks are important. \n",
    "        We concatenate these together into a single vector and pass them through \n",
    "        a linear layer to predict the sentiment.\n",
    "        \"\"\"\n",
    "        concat_pooled = torch.cat((conv_pooled_squeeze_1, \n",
    "                                   conv_pooled_squeeze_2,\n",
    "                                   conv_pooled_squeeze_3),\n",
    "                                  dim=1)\n",
    "        \n",
    "        concat_pooled = self.dropout(concat_pooled)\n",
    "        #concat_pooled = [batch size, n_filters * 3]\n",
    "\n",
    "        return self.fc(concat_pooled)"
   ]
  },
  {
   "cell_type": "markdown",
   "metadata": {
    "id": "njX4x5EeT8mW"
   },
   "source": [
    "### Initialize the model"
   ]
  },
  {
   "cell_type": "code",
   "execution_count": 25,
   "metadata": {
    "colab": {
     "base_uri": "https://localhost:8080/",
     "height": 69
    },
    "executionInfo": {
     "elapsed": 1020,
     "status": "ok",
     "timestamp": 1620531452674,
     "user": {
      "displayName": "utsav darlami",
      "photoUrl": "https://lh3.googleusercontent.com/a-/AOh14GgLuaEax1-JpzOvamZJ3_hHNqRVf3em6_OvrIrsNA=s64",
      "userId": "09809536614605504925"
     },
     "user_tz": -345
    },
    "id": "YmoaCG2TT8mX",
    "outputId": "04a748d9-2557-4544-8774-b454c486a9f5"
   },
   "outputs": [
    {
     "name": "stdout",
     "output_type": "stream",
     "text": [
      "1\n",
      "0\n"
     ]
    },
    {
     "data": {
      "application/vnd.google.colaboratory.intrinsic+json": {
       "type": "string"
      },
      "text/plain": [
       "'<pad>'"
      ]
     },
     "execution_count": 25,
     "metadata": {
      "tags": []
     },
     "output_type": "execute_result"
    }
   ],
   "source": [
    "PAD_IDX  =  TEXT.vocab.stoi[TEXT.pad_token]\n",
    "UNK_IDX  =  TEXT.vocab.stoi[TEXT.unk_token]\n",
    "print(PAD_IDX)\n",
    "print(UNK_IDX)\n",
    "TEXT.pad_token"
   ]
  },
  {
   "cell_type": "code",
   "execution_count": 33,
   "metadata": {
    "executionInfo": {
     "elapsed": 12096,
     "status": "ok",
     "timestamp": 1620531639518,
     "user": {
      "displayName": "utsav darlami",
      "photoUrl": "https://lh3.googleusercontent.com/a-/AOh14GgLuaEax1-JpzOvamZJ3_hHNqRVf3em6_OvrIrsNA=s64",
      "userId": "09809536614605504925"
     },
     "user_tz": -345
    },
    "id": "Y6Vb2GKYT8mX"
   },
   "outputs": [],
   "source": [
    "\"\"\"\n",
    "vocab_size, embedding_dim, n_filters,\n",
    "out_dim, dropout, pad_idx\n",
    "\"\"\"\n",
    "\n",
    "EMBEDDING_DIM = 100  # since glove has 100d\n",
    "\n",
    "args = {\n",
    "    \"vocab_size\" : len(TEXT.vocab),\n",
    "    \"embedding_dim\" : EMBEDDING_DIM,\n",
    "    \"n_filters\" : 100,\n",
    "    \"out_dim\" : 1,\n",
    "    \"dropout\" : 0.5,\n",
    "    \"pad_idx\": PAD_IDX \n",
    "}\n",
    "\n",
    "model = ConvSentimentAnalyzer(**args).to(device)"
   ]
  },
  {
   "cell_type": "code",
   "execution_count": 34,
   "metadata": {
    "colab": {
     "base_uri": "https://localhost:8080/"
    },
    "executionInfo": {
     "elapsed": 1402,
     "status": "ok",
     "timestamp": 1620531643673,
     "user": {
      "displayName": "utsav darlami",
      "photoUrl": "https://lh3.googleusercontent.com/a-/AOh14GgLuaEax1-JpzOvamZJ3_hHNqRVf3em6_OvrIrsNA=s64",
      "userId": "09809536614605504925"
     },
     "user_tz": -345
    },
    "id": "-ilkySHPc8Yv",
    "outputId": "99d8a470-6c33-48f7-e9ab-4bba902acd8f"
   },
   "outputs": [
    {
     "name": "stdout",
     "output_type": "stream",
     "text": [
      "The model has 2,620,801 trainable parameters\n"
     ]
    }
   ],
   "source": [
    "def count_parameters(model):\n",
    "    return sum(p.numel() for p in model.parameters() if p.requires_grad)\n",
    "\n",
    "print(f'The model has {count_parameters(model):,} trainable parameters')"
   ]
  },
  {
   "cell_type": "markdown",
   "metadata": {
    "id": "kUWrn_BRT8mX"
   },
   "source": [
    "### Copy the pretrained embeds to the models embedings layers"
   ]
  },
  {
   "cell_type": "code",
   "execution_count": 35,
   "metadata": {
    "colab": {
     "base_uri": "https://localhost:8080/"
    },
    "executionInfo": {
     "elapsed": 1008,
     "status": "ok",
     "timestamp": 1620531648797,
     "user": {
      "displayName": "utsav darlami",
      "photoUrl": "https://lh3.googleusercontent.com/a-/AOh14GgLuaEax1-JpzOvamZJ3_hHNqRVf3em6_OvrIrsNA=s64",
      "userId": "09809536614605504925"
     },
     "user_tz": -345
    },
    "id": "8I77upoxT8mX",
    "outputId": "ef2afe1e-1fdc-425f-e00a-b77addb87237"
   },
   "outputs": [
    {
     "data": {
      "text/plain": [
       "torch.Size([25002, 100])"
      ]
     },
     "execution_count": 35,
     "metadata": {
      "tags": []
     },
     "output_type": "execute_result"
    }
   ],
   "source": [
    "pretrained_embeds = TEXT.vocab.vectors\n",
    "pretrained_embeds.shape"
   ]
  },
  {
   "cell_type": "code",
   "execution_count": 36,
   "metadata": {
    "colab": {
     "base_uri": "https://localhost:8080/"
    },
    "executionInfo": {
     "elapsed": 1243,
     "status": "ok",
     "timestamp": 1620531651689,
     "user": {
      "displayName": "utsav darlami",
      "photoUrl": "https://lh3.googleusercontent.com/a-/AOh14GgLuaEax1-JpzOvamZJ3_hHNqRVf3em6_OvrIrsNA=s64",
      "userId": "09809536614605504925"
     },
     "user_tz": -345
    },
    "id": "w33GU69YT8mY",
    "outputId": "ffc19ac0-7603-42ed-c5f9-cc981ca38675"
   },
   "outputs": [
    {
     "data": {
      "text/plain": [
       "tensor([[ 1.9269,  1.4873,  0.9007,  ...,  0.1233,  0.3499,  0.6173],\n",
       "        [ 0.7262,  0.0912, -0.3891,  ...,  0.0821,  0.4440, -0.7240],\n",
       "        [-0.0382, -0.2449,  0.7281,  ..., -0.1459,  0.8278,  0.2706],\n",
       "        ...,\n",
       "        [-0.1385,  0.2386,  0.1118,  ..., -0.2863, -0.2599,  0.1893],\n",
       "        [-0.4029,  0.1755, -0.5962,  ..., -0.7070,  0.3583,  0.0524],\n",
       "        [-1.9296,  0.0574,  0.5448,  ..., -0.0727, -0.1165, -0.3921]],\n",
       "       device='cuda:0')"
      ]
     },
     "execution_count": 36,
     "metadata": {
      "tags": []
     },
     "output_type": "execute_result"
    }
   ],
   "source": [
    "model.embedding.weight.data.copy_(pretrained_embeds)"
   ]
  },
  {
   "cell_type": "markdown",
   "metadata": {
    "id": "aoqmW644T8mY"
   },
   "source": [
    "#### UNK and PAD value to zeros\n",
    "\n",
    "As our <unk> and <pad> token aren't in the pre-trained vocabulary they have been initialized using unk_init (an $\\mathcal{N}(0,1)$ distribution) when building our vocab. It is preferable to initialize them both to all zeros to explicitly tell our model that, initially, they are irrelevant for determining sentiment.\n",
    "    \n",
    "We do this by manually setting their row in the embedding weights matrix to zeros. We get their row by finding the index of the tokens, which we have already done for the padding index.\n",
    "\n",
    "Note: like initializing the embeddings, this should be done on the weight.data and not the weight!"
   ]
  },
  {
   "cell_type": "code",
   "execution_count": 37,
   "metadata": {
    "colab": {
     "base_uri": "https://localhost:8080/"
    },
    "executionInfo": {
     "elapsed": 1309,
     "status": "ok",
     "timestamp": 1620531655856,
     "user": {
      "displayName": "utsav darlami",
      "photoUrl": "https://lh3.googleusercontent.com/a-/AOh14GgLuaEax1-JpzOvamZJ3_hHNqRVf3em6_OvrIrsNA=s64",
      "userId": "09809536614605504925"
     },
     "user_tz": -345
    },
    "id": "EaKXQuw1T8mY",
    "outputId": "4ca09552-15e0-4249-e802-94f18fa33607"
   },
   "outputs": [
    {
     "data": {
      "text/plain": [
       "tensor([[ 0.0000,  0.0000,  0.0000,  ...,  0.0000,  0.0000,  0.0000],\n",
       "        [ 0.0000,  0.0000,  0.0000,  ...,  0.0000,  0.0000,  0.0000],\n",
       "        [-0.0382, -0.2449,  0.7281,  ..., -0.1459,  0.8278,  0.2706],\n",
       "        ...,\n",
       "        [-0.1385,  0.2386,  0.1118,  ..., -0.2863, -0.2599,  0.1893],\n",
       "        [-0.4029,  0.1755, -0.5962,  ..., -0.7070,  0.3583,  0.0524],\n",
       "        [-1.9296,  0.0574,  0.5448,  ..., -0.0727, -0.1165, -0.3921]],\n",
       "       device='cuda:0')"
      ]
     },
     "execution_count": 37,
     "metadata": {
      "tags": []
     },
     "output_type": "execute_result"
    }
   ],
   "source": [
    "UNK_IDX = TEXT.vocab.stoi[TEXT.unk_token]\n",
    "\n",
    "model.embedding.weight.data[UNK_IDX] = torch.zeros(EMBEDDING_DIM)\n",
    "model.embedding.weight.data[PAD_IDX] = torch.zeros(EMBEDDING_DIM)\n",
    "\n",
    "model.embedding.weight.data"
   ]
  },
  {
   "cell_type": "markdown",
   "metadata": {
    "id": "c2O_WiqGT8mZ"
   },
   "source": [
    "### Define the criterion and optimizer"
   ]
  },
  {
   "cell_type": "code",
   "execution_count": 38,
   "metadata": {
    "executionInfo": {
     "elapsed": 1128,
     "status": "ok",
     "timestamp": 1620531665048,
     "user": {
      "displayName": "utsav darlami",
      "photoUrl": "https://lh3.googleusercontent.com/a-/AOh14GgLuaEax1-JpzOvamZJ3_hHNqRVf3em6_OvrIrsNA=s64",
      "userId": "09809536614605504925"
     },
     "user_tz": -345
    },
    "id": "18-RgSdPT8mZ"
   },
   "outputs": [],
   "source": [
    "from torch.optim import Adam\n",
    "\n",
    "lr = 0.005\n",
    "optimizer = Adam(model.parameters(), lr=lr)\n",
    "\n",
    "\n",
    "\"\"\"\n",
    "Next, we'll define our loss function. In PyTorch this is commonly called a criterion.\n",
    "\n",
    "The loss function here is binary cross entropy with logits.\n",
    "\n",
    "Our model currently outputs an unbound real number. As our labels are either 0 or 1, \n",
    "we want to restrict the predictions to a number between 0 and 1. We do this using the sigmoid or logit functions.\n",
    "\"\"\"\n",
    "\n",
    "criterion = nn.BCEWithLogitsLoss()\n",
    "# The BCEWithLogitsLoss criterion carries out both the sigmoid and the binary cross entropy steps."
   ]
  },
  {
   "cell_type": "markdown",
   "metadata": {
    "id": "PMEdS6l9T8mZ"
   },
   "source": [
    "### Accuracy Function"
   ]
  },
  {
   "cell_type": "code",
   "execution_count": 39,
   "metadata": {
    "executionInfo": {
     "elapsed": 1422,
     "status": "ok",
     "timestamp": 1620531680710,
     "user": {
      "displayName": "utsav darlami",
      "photoUrl": "https://lh3.googleusercontent.com/a-/AOh14GgLuaEax1-JpzOvamZJ3_hHNqRVf3em6_OvrIrsNA=s64",
      "userId": "09809536614605504925"
     },
     "user_tz": -345
    },
    "id": "6QuHfWBkT8ma"
   },
   "outputs": [],
   "source": [
    "def batch_accuracy(preds, y):\n",
    "    # preds = [batch_size]\n",
    "    # y = [batch_size, 1]\n",
    "    \n",
    "    rounded_preds = torch.round(torch.sigmoid(preds))\n",
    "    correct = (rounded_preds == y).float()\n",
    "    acc  = correct.sum() / len(correct)\n",
    "    \n",
    "    return acc.item()"
   ]
  },
  {
   "cell_type": "markdown",
   "metadata": {
    "id": "JdMXHSkPT8mb"
   },
   "source": [
    "### Evaluating Function"
   ]
  },
  {
   "cell_type": "code",
   "execution_count": 40,
   "metadata": {
    "executionInfo": {
     "elapsed": 1272,
     "status": "ok",
     "timestamp": 1620531683777,
     "user": {
      "displayName": "utsav darlami",
      "photoUrl": "https://lh3.googleusercontent.com/a-/AOh14GgLuaEax1-JpzOvamZJ3_hHNqRVf3em6_OvrIrsNA=s64",
      "userId": "09809536614605504925"
     },
     "user_tz": -345
    },
    "id": "bxwfSZYmT8mb"
   },
   "outputs": [],
   "source": [
    "def evaluate(model, iterator, criterion):\n",
    "    total_loss = 0\n",
    "    total_acc = 0\n",
    "    \n",
    "    model.eval()\n",
    "    with torch.no_grad():\n",
    "        for batch in iterator:\n",
    "            x = batch.TEXT.to(device)\n",
    "            y = batch.LABEL\n",
    "            #  print(text_lengths.shape)\n",
    "            out = model(x)\n",
    "#           k out = model(batch.REVIEWS)\n",
    "            scores = out.squeeze(1)\n",
    "            \n",
    "            loss = criterion(scores, y.to(device))\n",
    "            acc = batch_accuracy(scores.to('cpu'),y)\n",
    "            \n",
    "            total_acc+=acc\n",
    "            total_loss+=loss.item()\n",
    "    \n",
    "    return total_loss/len(iterator), total_acc/len(iterator)"
   ]
  },
  {
   "cell_type": "markdown",
   "metadata": {
    "id": "AyQsNgMpT8mb"
   },
   "source": [
    "### Training Loop"
   ]
  },
  {
   "cell_type": "code",
   "execution_count": 41,
   "metadata": {
    "executionInfo": {
     "elapsed": 993,
     "status": "ok",
     "timestamp": 1620531693877,
     "user": {
      "displayName": "utsav darlami",
      "photoUrl": "https://lh3.googleusercontent.com/a-/AOh14GgLuaEax1-JpzOvamZJ3_hHNqRVf3em6_OvrIrsNA=s64",
      "userId": "09809536614605504925"
     },
     "user_tz": -345
    },
    "id": "5QmUNoOHT8mb"
   },
   "outputs": [],
   "source": [
    "NUM_EPOCHS = 5"
   ]
  },
  {
   "cell_type": "code",
   "execution_count": null,
   "metadata": {
    "colab": {
     "base_uri": "https://localhost:8080/"
    },
    "executionInfo": {
     "elapsed": 1030,
     "status": "ok",
     "timestamp": 1620475380638,
     "user": {
      "displayName": "utsav darlami",
      "photoUrl": "https://lh3.googleusercontent.com/a-/AOh14GgLuaEax1-JpzOvamZJ3_hHNqRVf3em6_OvrIrsNA=s64",
      "userId": "09809536614605504925"
     },
     "user_tz": -345
    },
    "id": "pdrQt_VAT8mc",
    "outputId": "2d9ec5e2-35b6-40d5-d6a5-82fec2878ef2"
   },
   "outputs": [
    {
     "name": "stdout",
     "output_type": "stream",
     "text": [
      "Sat May  8 12:03:00 2021       \n",
      "+-----------------------------------------------------------------------------+\n",
      "| NVIDIA-SMI 465.19.01    Driver Version: 460.32.03    CUDA Version: 11.2     |\n",
      "|-------------------------------+----------------------+----------------------+\n",
      "| GPU  Name        Persistence-M| Bus-Id        Disp.A | Volatile Uncorr. ECC |\n",
      "| Fan  Temp  Perf  Pwr:Usage/Cap|         Memory-Usage | GPU-Util  Compute M. |\n",
      "|                               |                      |               MIG M. |\n",
      "|===============================+======================+======================|\n",
      "|   0  Tesla T4            Off  | 00000000:00:04.0 Off |                    0 |\n",
      "| N/A   53C    P0    27W /  70W |   1082MiB / 15109MiB |      0%      Default |\n",
      "|                               |                      |                  N/A |\n",
      "+-------------------------------+----------------------+----------------------+\n",
      "                                                                               \n",
      "+-----------------------------------------------------------------------------+\n",
      "| Processes:                                                                  |\n",
      "|  GPU   GI   CI        PID   Type   Process name                  GPU Memory |\n",
      "|        ID   ID                                                   Usage      |\n",
      "|=============================================================================|\n",
      "+-----------------------------------------------------------------------------+\n"
     ]
    }
   ],
   "source": [
    "!nvidia-smi"
   ]
  },
  {
   "cell_type": "code",
   "execution_count": 42,
   "metadata": {
    "executionInfo": {
     "elapsed": 971,
     "status": "ok",
     "timestamp": 1620531697301,
     "user": {
      "displayName": "utsav darlami",
      "photoUrl": "https://lh3.googleusercontent.com/a-/AOh14GgLuaEax1-JpzOvamZJ3_hHNqRVf3em6_OvrIrsNA=s64",
      "userId": "09809536614605504925"
     },
     "user_tz": -345
    },
    "id": "p2oeLoaHb06N"
   },
   "outputs": [],
   "source": [
    "from tqdm import notebook"
   ]
  },
  {
   "cell_type": "code",
   "execution_count": 56,
   "metadata": {
    "colab": {
     "base_uri": "https://localhost:8080/",
     "height": 281,
     "referenced_widgets": [
      "753ba5d99671494fa77845602d144948",
      "71d3dc579f4e4444916a3ff4b901a53f",
      "fcd1ea7f8434451b9eef8bfec1167f0e",
      "59eccdbb70de4a03840e687b71d2675e",
      "85aa0139bce045eca251743ac732141d",
      "abb8bc6e54ed421c9d81190e74d344b6",
      "747bf0fb0f074255af4b7dd7cbf72dd9",
      "78c15feab2274c31ab8c9b5ce20f1a59",
      "58117076597743bc89d4f32f6b20f2d2",
      "bbc632f37c6e47599e64c10b162e486a",
      "dc5d8eadb5354989a8e46f27572e7066",
      "188202ab7fd84170aeda0b3b8dafa1a3",
      "359cf0c0010d48febf2347b11b9b5b02",
      "e981bcea49c645aaa93e4e3143132986",
      "a7d180e9bcf447bba113369617cf388f",
      "c616c1a956be46b48f282309fcc9225d",
      "7cbe5fefd5ce42cdb4af00ef99bc2f00",
      "ed7f5335898946ccbc7a97131d2356ee",
      "2783d3157b4f4d8a95775f994b3ec026",
      "a5357487dc1947599582c3db0eb768de",
      "f4cb7676671240ff94a0b4a1b62ec9f0",
      "929e73dbfb5a44b8a3e47b5138f6274f",
      "17539fe2fcf34716b45e727c12f5db5d",
      "29f5be331cd3400f83a7b4a520878a0a",
      "4aa3a9fb70114633a03174acf564e802",
      "b116c235dd41463cb546bc8a82b13773",
      "cec333201dce429ea09f7b3a65b926d1",
      "79e2596b9e444b21aab9d223a5ec4da4",
      "04041ffb9bf14a438125dcc13a5bef33",
      "3c48a6374422408a915f091e64398275",
      "a9176261a3de4607a9369d8234f89fb3",
      "088e417f4fdb42f39b12f18b362d2547",
      "a61c1e5e27cc496687ade96cb7fd2a68",
      "475d1216b1e541448800c8698e1dff46",
      "5158b391423a498f9c182ac60311536f",
      "860f0262a1d149f1948c8b2831903c79",
      "24d7105b6a5b4073a04f07db777d1456",
      "8fc0998a8c384c838b118e48deeadec4",
      "0fd06183ac6041c7a876432d7a2a4d8e",
      "0aa961fafd6c4d148ece8a7f6c52b881"
     ]
    },
    "executionInfo": {
     "elapsed": 78289,
     "status": "ok",
     "timestamp": 1620531935345,
     "user": {
      "displayName": "utsav darlami",
      "photoUrl": "https://lh3.googleusercontent.com/a-/AOh14GgLuaEax1-JpzOvamZJ3_hHNqRVf3em6_OvrIrsNA=s64",
      "userId": "09809536614605504925"
     },
     "user_tz": -345
    },
    "id": "k6qDOWSoT8mc",
    "outputId": "0b95dde9-e495-4d49-afdc-421ec1673c3d"
   },
   "outputs": [
    {
     "data": {
      "application/vnd.jupyter.widget-view+json": {
       "model_id": "753ba5d99671494fa77845602d144948",
       "version_major": 2,
       "version_minor": 0
      },
      "text/plain": [
       "HBox(children=(FloatProgress(value=0.0, max=633.0), HTML(value='')))"
      ]
     },
     "metadata": {
      "tags": []
     },
     "output_type": "display_data"
    },
    {
     "name": "stdout",
     "output_type": "stream",
     "text": [
      "\n"
     ]
    },
    {
     "data": {
      "application/vnd.jupyter.widget-view+json": {
       "model_id": "58117076597743bc89d4f32f6b20f2d2",
       "version_major": 2,
       "version_minor": 0
      },
      "text/plain": [
       "HBox(children=(FloatProgress(value=0.0, max=633.0), HTML(value='')))"
      ]
     },
     "metadata": {
      "tags": []
     },
     "output_type": "display_data"
    },
    {
     "name": "stdout",
     "output_type": "stream",
     "text": [
      "\n"
     ]
    },
    {
     "data": {
      "application/vnd.jupyter.widget-view+json": {
       "model_id": "7cbe5fefd5ce42cdb4af00ef99bc2f00",
       "version_major": 2,
       "version_minor": 0
      },
      "text/plain": [
       "HBox(children=(FloatProgress(value=0.0, max=633.0), HTML(value='')))"
      ]
     },
     "metadata": {
      "tags": []
     },
     "output_type": "display_data"
    },
    {
     "name": "stdout",
     "output_type": "stream",
     "text": [
      "\n"
     ]
    },
    {
     "data": {
      "application/vnd.jupyter.widget-view+json": {
       "model_id": "4aa3a9fb70114633a03174acf564e802",
       "version_major": 2,
       "version_minor": 0
      },
      "text/plain": [
       "HBox(children=(FloatProgress(value=0.0, max=633.0), HTML(value='')))"
      ]
     },
     "metadata": {
      "tags": []
     },
     "output_type": "display_data"
    },
    {
     "name": "stdout",
     "output_type": "stream",
     "text": [
      "\n"
     ]
    },
    {
     "data": {
      "application/vnd.jupyter.widget-view+json": {
       "model_id": "a61c1e5e27cc496687ade96cb7fd2a68",
       "version_major": 2,
       "version_minor": 0
      },
      "text/plain": [
       "HBox(children=(FloatProgress(value=0.0, max=633.0), HTML(value='')))"
      ]
     },
     "metadata": {
      "tags": []
     },
     "output_type": "display_data"
    },
    {
     "name": "stdout",
     "output_type": "stream",
     "text": [
      "\n",
      "Done training\n"
     ]
    }
   ],
   "source": [
    "for epoch in range(NUM_EPOCHS):\n",
    "    loop = notebook.tqdm(train_iterator,\n",
    "                total=len(train_iterator),\n",
    "                leave=True)\n",
    "    val_loss = 0\n",
    "    val_acc = 0\n",
    "    model.train()\n",
    "    for batch in loop:\n",
    "        x = batch.TEXT.to(device)\n",
    "        y = batch.LABEL\n",
    "#         print(text_lengths.shape)\n",
    "        out = model(x)\n",
    "        scores = out.squeeze(1)\n",
    "        \n",
    "        optimizer.zero_grad()\n",
    "        \n",
    "        loss = criterion(scores, y.to(device))\n",
    "        loss.backward()\n",
    "        \n",
    "        optimizer.step()\n",
    "        \n",
    "        train_acc = batch_accuracy(scores.to('cpu'), batch.LABEL)\n",
    "        \n",
    "        loop.set_description(f\"Epoch [{epoch + 1}/{NUM_EPOCHS}]\")\n",
    "        loop.set_postfix(loss=loss.item(), train_acc=train_acc, val_loss=val_loss, val_acc=val_acc)\n",
    "                             \n",
    "        # break\n",
    "    \n",
    "    val_loss, val_acc  = evaluate(model, val_iterator, criterion)\n",
    "        \n",
    "    loop.set_postfix(loss=loss.item(), train_acc=train_acc, val_loss=val_loss, val_acc=val_acc)\n",
    " \n",
    "print(\"Done training\")"
   ]
  },
  {
   "cell_type": "code",
   "execution_count": 57,
   "metadata": {
    "colab": {
     "base_uri": "https://localhost:8080/"
    },
    "executionInfo": {
     "elapsed": 985,
     "status": "ok",
     "timestamp": 1620531984377,
     "user": {
      "displayName": "utsav darlami",
      "photoUrl": "https://lh3.googleusercontent.com/a-/AOh14GgLuaEax1-JpzOvamZJ3_hHNqRVf3em6_OvrIrsNA=s64",
      "userId": "09809536614605504925"
     },
     "user_tz": -345
    },
    "id": "34L52BGTT8mc",
    "outputId": "045f3313-e01e-4713-aff5-d752b5593277"
   },
   "outputs": [
    {
     "name": "stdout",
     "output_type": "stream",
     "text": [
      "0.5546609364764791\n",
      "0.8807658452383229\n"
     ]
    }
   ],
   "source": [
    "print(val_loss)\n",
    "print(val_acc)"
   ]
  },
  {
   "cell_type": "markdown",
   "metadata": {
    "id": "CgVJwP7eT8mc"
   },
   "source": [
    "#### Test Evaluation"
   ]
  },
  {
   "cell_type": "code",
   "execution_count": 58,
   "metadata": {
    "colab": {
     "base_uri": "https://localhost:8080/"
    },
    "executionInfo": {
     "elapsed": 1630,
     "status": "ok",
     "timestamp": 1620531989661,
     "user": {
      "displayName": "utsav darlami",
      "photoUrl": "https://lh3.googleusercontent.com/a-/AOh14GgLuaEax1-JpzOvamZJ3_hHNqRVf3em6_OvrIrsNA=s64",
      "userId": "09809536614605504925"
     },
     "user_tz": -345
    },
    "id": "Rta-S6X4T8mc",
    "outputId": "ba6b4553-374a-43af-e6b1-53f47683a61c"
   },
   "outputs": [
    {
     "name": "stdout",
     "output_type": "stream",
     "text": [
      "Test Loss: 0.503 | Test Acc: 88.79%\n"
     ]
    }
   ],
   "source": [
    "test_loss, test_acc = evaluate(model, test_iterator, criterion)\n",
    "\n",
    "print(f'Test Loss: {test_loss:.3f} | Test Acc: {test_acc*100:.2f}%')"
   ]
  },
  {
   "cell_type": "markdown",
   "metadata": {
    "id": "KaOG6A6HT8me"
   },
   "source": [
    "### Results"
   ]
  },
  {
   "cell_type": "code",
   "execution_count": 46,
   "metadata": {
    "executionInfo": {
     "elapsed": 1286,
     "status": "ok",
     "timestamp": 1620531720700,
     "user": {
      "displayName": "utsav darlami",
      "photoUrl": "https://lh3.googleusercontent.com/a-/AOh14GgLuaEax1-JpzOvamZJ3_hHNqRVf3em6_OvrIrsNA=s64",
      "userId": "09809536614605504925"
     },
     "user_tz": -345
    },
    "id": "B2_46YOmT8me"
   },
   "outputs": [],
   "source": [
    "import spacy\n",
    "spacy_en = spacy.load('en_core_web_sm')"
   ]
  },
  {
   "cell_type": "code",
   "execution_count": 47,
   "metadata": {
    "colab": {
     "base_uri": "https://localhost:8080/"
    },
    "executionInfo": {
     "elapsed": 778,
     "status": "ok",
     "timestamp": 1620531721485,
     "user": {
      "displayName": "utsav darlami",
      "photoUrl": "https://lh3.googleusercontent.com/a-/AOh14GgLuaEax1-JpzOvamZJ3_hHNqRVf3em6_OvrIrsNA=s64",
      "userId": "09809536614605504925"
     },
     "user_tz": -345
    },
    "id": "UhX0EajbT8me",
    "outputId": "eb203504-29dc-433c-a45a-92e5e7c85382"
   },
   "outputs": [
    {
     "data": {
      "text/plain": [
       "['The', 'quick', 'fox', 'ca', \"n't\", 'jump', 'over', 'a', 'lazy', 'dog', '.']"
      ]
     },
     "execution_count": 47,
     "metadata": {
      "tags": []
     },
     "output_type": "execute_result"
    }
   ],
   "source": [
    "def tokenizer(text): # create a tokenizer function\n",
    "    return [tok.text for tok in spacy_en.tokenizer(text)]\n",
    "tokenizer(\"The quick fox can't jump over a lazy dog.\")"
   ]
  },
  {
   "cell_type": "code",
   "execution_count": 53,
   "metadata": {
    "executionInfo": {
     "elapsed": 1942,
     "status": "ok",
     "timestamp": 1620531833662,
     "user": {
      "displayName": "utsav darlami",
      "photoUrl": "https://lh3.googleusercontent.com/a-/AOh14GgLuaEax1-JpzOvamZJ3_hHNqRVf3em6_OvrIrsNA=s64",
      "userId": "09809536614605504925"
     },
     "user_tz": -345
    },
    "id": "vAd36-8UT8me"
   },
   "outputs": [],
   "source": [
    "def predict_sentiment(model, review, min_len = 5):\n",
    "    model.eval()\n",
    "    tokens = tokenizer(review)\n",
    "    if len(tokens) < min_len:\n",
    "        tokens += ['<pad>'] * (min_len - len(tokens))\n",
    "    # ngram_tokens = generate_ngrams(tokens)\n",
    "\n",
    "    # numericalized\n",
    "    indexed = [TEXT.vocab.stoi[t] for t in tokens]\n",
    "    # length = [len(indexed)]\n",
    "    \n",
    "    in_tensor = torch.LongTensor(indexed).to(device)\n",
    "    in_tensor = in_tensor.unsqueeze(0)\n",
    "    # length_tensor = torch.LongTensor(length)\n",
    "\n",
    "    pred = torch.sigmoid(model(in_tensor))\n",
    "    return pred.item()"
   ]
  },
  {
   "cell_type": "code",
   "execution_count": 54,
   "metadata": {
    "colab": {
     "base_uri": "https://localhost:8080/"
    },
    "executionInfo": {
     "elapsed": 2240,
     "status": "ok",
     "timestamp": 1620531839935,
     "user": {
      "displayName": "utsav darlami",
      "photoUrl": "https://lh3.googleusercontent.com/a-/AOh14GgLuaEax1-JpzOvamZJ3_hHNqRVf3em6_OvrIrsNA=s64",
      "userId": "09809536614605504925"
     },
     "user_tz": -345
    },
    "id": "9A7e4UKWT8mf",
    "outputId": "b54199ec-c12b-40c1-ca3f-cbcee4e25acf"
   },
   "outputs": [
    {
     "data": {
      "text/plain": [
       "0.39230817556381226"
      ]
     },
     "execution_count": 54,
     "metadata": {
      "tags": []
     },
     "output_type": "execute_result"
    }
   ],
   "source": [
    "predict_sentiment(model, \"An awesome movie,no chessy scence so which makes it nice ! Must watch\")"
   ]
  },
  {
   "cell_type": "code",
   "execution_count": 59,
   "metadata": {
    "colab": {
     "base_uri": "https://localhost:8080/"
    },
    "executionInfo": {
     "elapsed": 1007,
     "status": "ok",
     "timestamp": 1620532002267,
     "user": {
      "displayName": "utsav darlami",
      "photoUrl": "https://lh3.googleusercontent.com/a-/AOh14GgLuaEax1-JpzOvamZJ3_hHNqRVf3em6_OvrIrsNA=s64",
      "userId": "09809536614605504925"
     },
     "user_tz": -345
    },
    "id": "OsnbZTAm3t2H",
    "outputId": "c24e6e97-332b-46c4-8f33-1e64e3939bb5"
   },
   "outputs": [
    {
     "data": {
      "text/plain": [
       "0.9999291896820068"
      ]
     },
     "execution_count": 59,
     "metadata": {
      "tags": []
     },
     "output_type": "execute_result"
    }
   ],
   "source": [
    "predict_sentiment(model, \"An awesome movie,no chessy scence so which makes it nice ! Must watch\")"
   ]
  },
  {
   "cell_type": "code",
   "execution_count": 60,
   "metadata": {
    "colab": {
     "base_uri": "https://localhost:8080/"
    },
    "executionInfo": {
     "elapsed": 956,
     "status": "ok",
     "timestamp": 1620532005527,
     "user": {
      "displayName": "utsav darlami",
      "photoUrl": "https://lh3.googleusercontent.com/a-/AOh14GgLuaEax1-JpzOvamZJ3_hHNqRVf3em6_OvrIrsNA=s64",
      "userId": "09809536614605504925"
     },
     "user_tz": -345
    },
    "id": "4ETT8hmx4EHE",
    "outputId": "ceae13a4-f791-460e-f1e7-567bde3c0425"
   },
   "outputs": [
    {
     "data": {
      "text/plain": [
       "2.1012567685829708e-07"
      ]
     },
     "execution_count": 60,
     "metadata": {
      "tags": []
     },
     "output_type": "execute_result"
    }
   ],
   "source": [
    "predict_sentiment(model, \"This film is terrible\")"
   ]
  },
  {
   "cell_type": "code",
   "execution_count": 61,
   "metadata": {
    "colab": {
     "base_uri": "https://localhost:8080/"
    },
    "executionInfo": {
     "elapsed": 987,
     "status": "ok",
     "timestamp": 1620532014556,
     "user": {
      "displayName": "utsav darlami",
      "photoUrl": "https://lh3.googleusercontent.com/a-/AOh14GgLuaEax1-JpzOvamZJ3_hHNqRVf3em6_OvrIrsNA=s64",
      "userId": "09809536614605504925"
     },
     "user_tz": -345
    },
    "id": "8BkCOjfZPCSH",
    "outputId": "79597af3-31cd-4b2b-d71a-7013159351f8"
   },
   "outputs": [
    {
     "data": {
      "text/plain": [
       "0.999956488609314"
      ]
     },
     "execution_count": 61,
     "metadata": {
      "tags": []
     },
     "output_type": "execute_result"
    }
   ],
   "source": [
    "predict_sentiment(model, \"This film is great\")"
   ]
  }
 ],
 "metadata": {
  "accelerator": "GPU",
  "colab": {
   "collapsed_sections": [],
   "name": "4_conv_sentiment.ipynb",
   "provenance": [
    {
     "file_id": "1enIKQ4-8RAwRVrG9BBiqTOMtAFixj_9q",
     "timestamp": 1620476182744
    },
    {
     "file_id": "1Ucy4_xKSgqlxdwxeiMtYyDfg62rUWi6X",
     "timestamp": 1620470046487
    }
   ]
  },
  "kernelspec": {
   "display_name": "Python 3",
   "language": "python",
   "name": "python3"
  },
  "language_info": {
   "codemirror_mode": {
    "name": "ipython",
    "version": 3
   },
   "file_extension": ".py",
   "mimetype": "text/x-python",
   "name": "python",
   "nbconvert_exporter": "python",
   "pygments_lexer": "ipython3",
   "version": "3.8.5"
  },
  "widgets": {
   "application/vnd.jupyter.widget-state+json": {
    "04041ffb9bf14a438125dcc13a5bef33": {
     "model_module": "@jupyter-widgets/controls",
     "model_name": "ProgressStyleModel",
     "state": {
      "_model_module": "@jupyter-widgets/controls",
      "_model_module_version": "1.5.0",
      "_model_name": "ProgressStyleModel",
      "_view_count": null,
      "_view_module": "@jupyter-widgets/base",
      "_view_module_version": "1.2.0",
      "_view_name": "StyleView",
      "bar_color": null,
      "description_width": "initial"
     }
    },
    "088e417f4fdb42f39b12f18b362d2547": {
     "model_module": "@jupyter-widgets/base",
     "model_name": "LayoutModel",
     "state": {
      "_model_module": "@jupyter-widgets/base",
      "_model_module_version": "1.2.0",
      "_model_name": "LayoutModel",
      "_view_count": null,
      "_view_module": "@jupyter-widgets/base",
      "_view_module_version": "1.2.0",
      "_view_name": "LayoutView",
      "align_content": null,
      "align_items": null,
      "align_self": null,
      "border": null,
      "bottom": null,
      "display": null,
      "flex": null,
      "flex_flow": null,
      "grid_area": null,
      "grid_auto_columns": null,
      "grid_auto_flow": null,
      "grid_auto_rows": null,
      "grid_column": null,
      "grid_gap": null,
      "grid_row": null,
      "grid_template_areas": null,
      "grid_template_columns": null,
      "grid_template_rows": null,
      "height": null,
      "justify_content": null,
      "justify_items": null,
      "left": null,
      "margin": null,
      "max_height": null,
      "max_width": null,
      "min_height": null,
      "min_width": null,
      "object_fit": null,
      "object_position": null,
      "order": null,
      "overflow": null,
      "overflow_x": null,
      "overflow_y": null,
      "padding": null,
      "right": null,
      "top": null,
      "visibility": null,
      "width": null
     }
    },
    "0aa961fafd6c4d148ece8a7f6c52b881": {
     "model_module": "@jupyter-widgets/base",
     "model_name": "LayoutModel",
     "state": {
      "_model_module": "@jupyter-widgets/base",
      "_model_module_version": "1.2.0",
      "_model_name": "LayoutModel",
      "_view_count": null,
      "_view_module": "@jupyter-widgets/base",
      "_view_module_version": "1.2.0",
      "_view_name": "LayoutView",
      "align_content": null,
      "align_items": null,
      "align_self": null,
      "border": null,
      "bottom": null,
      "display": null,
      "flex": null,
      "flex_flow": null,
      "grid_area": null,
      "grid_auto_columns": null,
      "grid_auto_flow": null,
      "grid_auto_rows": null,
      "grid_column": null,
      "grid_gap": null,
      "grid_row": null,
      "grid_template_areas": null,
      "grid_template_columns": null,
      "grid_template_rows": null,
      "height": null,
      "justify_content": null,
      "justify_items": null,
      "left": null,
      "margin": null,
      "max_height": null,
      "max_width": null,
      "min_height": null,
      "min_width": null,
      "object_fit": null,
      "object_position": null,
      "order": null,
      "overflow": null,
      "overflow_x": null,
      "overflow_y": null,
      "padding": null,
      "right": null,
      "top": null,
      "visibility": null,
      "width": null
     }
    },
    "0fd06183ac6041c7a876432d7a2a4d8e": {
     "model_module": "@jupyter-widgets/controls",
     "model_name": "DescriptionStyleModel",
     "state": {
      "_model_module": "@jupyter-widgets/controls",
      "_model_module_version": "1.5.0",
      "_model_name": "DescriptionStyleModel",
      "_view_count": null,
      "_view_module": "@jupyter-widgets/base",
      "_view_module_version": "1.2.0",
      "_view_name": "StyleView",
      "description_width": ""
     }
    },
    "17539fe2fcf34716b45e727c12f5db5d": {
     "model_module": "@jupyter-widgets/controls",
     "model_name": "DescriptionStyleModel",
     "state": {
      "_model_module": "@jupyter-widgets/controls",
      "_model_module_version": "1.5.0",
      "_model_name": "DescriptionStyleModel",
      "_view_count": null,
      "_view_module": "@jupyter-widgets/base",
      "_view_module_version": "1.2.0",
      "_view_name": "StyleView",
      "description_width": ""
     }
    },
    "188202ab7fd84170aeda0b3b8dafa1a3": {
     "model_module": "@jupyter-widgets/controls",
     "model_name": "HTMLModel",
     "state": {
      "_dom_classes": [],
      "_model_module": "@jupyter-widgets/controls",
      "_model_module_version": "1.5.0",
      "_model_name": "HTMLModel",
      "_view_count": null,
      "_view_module": "@jupyter-widgets/controls",
      "_view_module_version": "1.5.0",
      "_view_name": "HTMLView",
      "description": "",
      "description_tooltip": null,
      "layout": "IPY_MODEL_c616c1a956be46b48f282309fcc9225d",
      "placeholder": "​",
      "style": "IPY_MODEL_a7d180e9bcf447bba113369617cf388f",
      "value": " 633/633 [00:14&lt;00:00, 42.69it/s, loss=0.245, train_acc=0.859, val_acc=0, val_loss=0]"
     }
    },
    "24d7105b6a5b4073a04f07db777d1456": {
     "model_module": "@jupyter-widgets/controls",
     "model_name": "ProgressStyleModel",
     "state": {
      "_model_module": "@jupyter-widgets/controls",
      "_model_module_version": "1.5.0",
      "_model_name": "ProgressStyleModel",
      "_view_count": null,
      "_view_module": "@jupyter-widgets/base",
      "_view_module_version": "1.2.0",
      "_view_name": "StyleView",
      "bar_color": null,
      "description_width": "initial"
     }
    },
    "2783d3157b4f4d8a95775f994b3ec026": {
     "model_module": "@jupyter-widgets/controls",
     "model_name": "FloatProgressModel",
     "state": {
      "_dom_classes": [],
      "_model_module": "@jupyter-widgets/controls",
      "_model_module_version": "1.5.0",
      "_model_name": "FloatProgressModel",
      "_view_count": null,
      "_view_module": "@jupyter-widgets/controls",
      "_view_module_version": "1.5.0",
      "_view_name": "ProgressView",
      "bar_style": "success",
      "description": "Epoch [3/5]: 100%",
      "description_tooltip": null,
      "layout": "IPY_MODEL_929e73dbfb5a44b8a3e47b5138f6274f",
      "max": 633,
      "min": 0,
      "orientation": "horizontal",
      "style": "IPY_MODEL_f4cb7676671240ff94a0b4a1b62ec9f0",
      "value": 633
     }
    },
    "29f5be331cd3400f83a7b4a520878a0a": {
     "model_module": "@jupyter-widgets/base",
     "model_name": "LayoutModel",
     "state": {
      "_model_module": "@jupyter-widgets/base",
      "_model_module_version": "1.2.0",
      "_model_name": "LayoutModel",
      "_view_count": null,
      "_view_module": "@jupyter-widgets/base",
      "_view_module_version": "1.2.0",
      "_view_name": "LayoutView",
      "align_content": null,
      "align_items": null,
      "align_self": null,
      "border": null,
      "bottom": null,
      "display": null,
      "flex": null,
      "flex_flow": null,
      "grid_area": null,
      "grid_auto_columns": null,
      "grid_auto_flow": null,
      "grid_auto_rows": null,
      "grid_column": null,
      "grid_gap": null,
      "grid_row": null,
      "grid_template_areas": null,
      "grid_template_columns": null,
      "grid_template_rows": null,
      "height": null,
      "justify_content": null,
      "justify_items": null,
      "left": null,
      "margin": null,
      "max_height": null,
      "max_width": null,
      "min_height": null,
      "min_width": null,
      "object_fit": null,
      "object_position": null,
      "order": null,
      "overflow": null,
      "overflow_x": null,
      "overflow_y": null,
      "padding": null,
      "right": null,
      "top": null,
      "visibility": null,
      "width": null
     }
    },
    "359cf0c0010d48febf2347b11b9b5b02": {
     "model_module": "@jupyter-widgets/controls",
     "model_name": "ProgressStyleModel",
     "state": {
      "_model_module": "@jupyter-widgets/controls",
      "_model_module_version": "1.5.0",
      "_model_name": "ProgressStyleModel",
      "_view_count": null,
      "_view_module": "@jupyter-widgets/base",
      "_view_module_version": "1.2.0",
      "_view_name": "StyleView",
      "bar_color": null,
      "description_width": "initial"
     }
    },
    "3c48a6374422408a915f091e64398275": {
     "model_module": "@jupyter-widgets/base",
     "model_name": "LayoutModel",
     "state": {
      "_model_module": "@jupyter-widgets/base",
      "_model_module_version": "1.2.0",
      "_model_name": "LayoutModel",
      "_view_count": null,
      "_view_module": "@jupyter-widgets/base",
      "_view_module_version": "1.2.0",
      "_view_name": "LayoutView",
      "align_content": null,
      "align_items": null,
      "align_self": null,
      "border": null,
      "bottom": null,
      "display": null,
      "flex": null,
      "flex_flow": null,
      "grid_area": null,
      "grid_auto_columns": null,
      "grid_auto_flow": null,
      "grid_auto_rows": null,
      "grid_column": null,
      "grid_gap": null,
      "grid_row": null,
      "grid_template_areas": null,
      "grid_template_columns": null,
      "grid_template_rows": null,
      "height": null,
      "justify_content": null,
      "justify_items": null,
      "left": null,
      "margin": null,
      "max_height": null,
      "max_width": null,
      "min_height": null,
      "min_width": null,
      "object_fit": null,
      "object_position": null,
      "order": null,
      "overflow": null,
      "overflow_x": null,
      "overflow_y": null,
      "padding": null,
      "right": null,
      "top": null,
      "visibility": null,
      "width": null
     }
    },
    "475d1216b1e541448800c8698e1dff46": {
     "model_module": "@jupyter-widgets/base",
     "model_name": "LayoutModel",
     "state": {
      "_model_module": "@jupyter-widgets/base",
      "_model_module_version": "1.2.0",
      "_model_name": "LayoutModel",
      "_view_count": null,
      "_view_module": "@jupyter-widgets/base",
      "_view_module_version": "1.2.0",
      "_view_name": "LayoutView",
      "align_content": null,
      "align_items": null,
      "align_self": null,
      "border": null,
      "bottom": null,
      "display": null,
      "flex": null,
      "flex_flow": null,
      "grid_area": null,
      "grid_auto_columns": null,
      "grid_auto_flow": null,
      "grid_auto_rows": null,
      "grid_column": null,
      "grid_gap": null,
      "grid_row": null,
      "grid_template_areas": null,
      "grid_template_columns": null,
      "grid_template_rows": null,
      "height": null,
      "justify_content": null,
      "justify_items": null,
      "left": null,
      "margin": null,
      "max_height": null,
      "max_width": null,
      "min_height": null,
      "min_width": null,
      "object_fit": null,
      "object_position": null,
      "order": null,
      "overflow": null,
      "overflow_x": null,
      "overflow_y": null,
      "padding": null,
      "right": null,
      "top": null,
      "visibility": null,
      "width": null
     }
    },
    "4aa3a9fb70114633a03174acf564e802": {
     "model_module": "@jupyter-widgets/controls",
     "model_name": "HBoxModel",
     "state": {
      "_dom_classes": [],
      "_model_module": "@jupyter-widgets/controls",
      "_model_module_version": "1.5.0",
      "_model_name": "HBoxModel",
      "_view_count": null,
      "_view_module": "@jupyter-widgets/controls",
      "_view_module_version": "1.5.0",
      "_view_name": "HBoxView",
      "box_style": "",
      "children": [
       "IPY_MODEL_cec333201dce429ea09f7b3a65b926d1",
       "IPY_MODEL_79e2596b9e444b21aab9d223a5ec4da4"
      ],
      "layout": "IPY_MODEL_b116c235dd41463cb546bc8a82b13773"
     }
    },
    "5158b391423a498f9c182ac60311536f": {
     "model_module": "@jupyter-widgets/controls",
     "model_name": "FloatProgressModel",
     "state": {
      "_dom_classes": [],
      "_model_module": "@jupyter-widgets/controls",
      "_model_module_version": "1.5.0",
      "_model_name": "FloatProgressModel",
      "_view_count": null,
      "_view_module": "@jupyter-widgets/controls",
      "_view_module_version": "1.5.0",
      "_view_name": "ProgressView",
      "bar_style": "success",
      "description": "Epoch [5/5]: 100%",
      "description_tooltip": null,
      "layout": "IPY_MODEL_8fc0998a8c384c838b118e48deeadec4",
      "max": 633,
      "min": 0,
      "orientation": "horizontal",
      "style": "IPY_MODEL_24d7105b6a5b4073a04f07db777d1456",
      "value": 633
     }
    },
    "58117076597743bc89d4f32f6b20f2d2": {
     "model_module": "@jupyter-widgets/controls",
     "model_name": "HBoxModel",
     "state": {
      "_dom_classes": [],
      "_model_module": "@jupyter-widgets/controls",
      "_model_module_version": "1.5.0",
      "_model_name": "HBoxModel",
      "_view_count": null,
      "_view_module": "@jupyter-widgets/controls",
      "_view_module_version": "1.5.0",
      "_view_name": "HBoxView",
      "box_style": "",
      "children": [
       "IPY_MODEL_dc5d8eadb5354989a8e46f27572e7066",
       "IPY_MODEL_188202ab7fd84170aeda0b3b8dafa1a3"
      ],
      "layout": "IPY_MODEL_bbc632f37c6e47599e64c10b162e486a"
     }
    },
    "59eccdbb70de4a03840e687b71d2675e": {
     "model_module": "@jupyter-widgets/controls",
     "model_name": "HTMLModel",
     "state": {
      "_dom_classes": [],
      "_model_module": "@jupyter-widgets/controls",
      "_model_module_version": "1.5.0",
      "_model_name": "HTMLModel",
      "_view_count": null,
      "_view_module": "@jupyter-widgets/controls",
      "_view_module_version": "1.5.0",
      "_view_name": "HTMLView",
      "description": "",
      "description_tooltip": null,
      "layout": "IPY_MODEL_78c15feab2274c31ab8c9b5ce20f1a59",
      "placeholder": "​",
      "style": "IPY_MODEL_747bf0fb0f074255af4b7dd7cbf72dd9",
      "value": " 633/633 [00:14&lt;00:00, 42.53it/s, loss=0.332, train_acc=0.828, val_acc=0, val_loss=0]"
     }
    },
    "71d3dc579f4e4444916a3ff4b901a53f": {
     "model_module": "@jupyter-widgets/base",
     "model_name": "LayoutModel",
     "state": {
      "_model_module": "@jupyter-widgets/base",
      "_model_module_version": "1.2.0",
      "_model_name": "LayoutModel",
      "_view_count": null,
      "_view_module": "@jupyter-widgets/base",
      "_view_module_version": "1.2.0",
      "_view_name": "LayoutView",
      "align_content": null,
      "align_items": null,
      "align_self": null,
      "border": null,
      "bottom": null,
      "display": null,
      "flex": null,
      "flex_flow": null,
      "grid_area": null,
      "grid_auto_columns": null,
      "grid_auto_flow": null,
      "grid_auto_rows": null,
      "grid_column": null,
      "grid_gap": null,
      "grid_row": null,
      "grid_template_areas": null,
      "grid_template_columns": null,
      "grid_template_rows": null,
      "height": null,
      "justify_content": null,
      "justify_items": null,
      "left": null,
      "margin": null,
      "max_height": null,
      "max_width": null,
      "min_height": null,
      "min_width": null,
      "object_fit": null,
      "object_position": null,
      "order": null,
      "overflow": null,
      "overflow_x": null,
      "overflow_y": null,
      "padding": null,
      "right": null,
      "top": null,
      "visibility": null,
      "width": null
     }
    },
    "747bf0fb0f074255af4b7dd7cbf72dd9": {
     "model_module": "@jupyter-widgets/controls",
     "model_name": "DescriptionStyleModel",
     "state": {
      "_model_module": "@jupyter-widgets/controls",
      "_model_module_version": "1.5.0",
      "_model_name": "DescriptionStyleModel",
      "_view_count": null,
      "_view_module": "@jupyter-widgets/base",
      "_view_module_version": "1.2.0",
      "_view_name": "StyleView",
      "description_width": ""
     }
    },
    "753ba5d99671494fa77845602d144948": {
     "model_module": "@jupyter-widgets/controls",
     "model_name": "HBoxModel",
     "state": {
      "_dom_classes": [],
      "_model_module": "@jupyter-widgets/controls",
      "_model_module_version": "1.5.0",
      "_model_name": "HBoxModel",
      "_view_count": null,
      "_view_module": "@jupyter-widgets/controls",
      "_view_module_version": "1.5.0",
      "_view_name": "HBoxView",
      "box_style": "",
      "children": [
       "IPY_MODEL_fcd1ea7f8434451b9eef8bfec1167f0e",
       "IPY_MODEL_59eccdbb70de4a03840e687b71d2675e"
      ],
      "layout": "IPY_MODEL_71d3dc579f4e4444916a3ff4b901a53f"
     }
    },
    "78c15feab2274c31ab8c9b5ce20f1a59": {
     "model_module": "@jupyter-widgets/base",
     "model_name": "LayoutModel",
     "state": {
      "_model_module": "@jupyter-widgets/base",
      "_model_module_version": "1.2.0",
      "_model_name": "LayoutModel",
      "_view_count": null,
      "_view_module": "@jupyter-widgets/base",
      "_view_module_version": "1.2.0",
      "_view_name": "LayoutView",
      "align_content": null,
      "align_items": null,
      "align_self": null,
      "border": null,
      "bottom": null,
      "display": null,
      "flex": null,
      "flex_flow": null,
      "grid_area": null,
      "grid_auto_columns": null,
      "grid_auto_flow": null,
      "grid_auto_rows": null,
      "grid_column": null,
      "grid_gap": null,
      "grid_row": null,
      "grid_template_areas": null,
      "grid_template_columns": null,
      "grid_template_rows": null,
      "height": null,
      "justify_content": null,
      "justify_items": null,
      "left": null,
      "margin": null,
      "max_height": null,
      "max_width": null,
      "min_height": null,
      "min_width": null,
      "object_fit": null,
      "object_position": null,
      "order": null,
      "overflow": null,
      "overflow_x": null,
      "overflow_y": null,
      "padding": null,
      "right": null,
      "top": null,
      "visibility": null,
      "width": null
     }
    },
    "79e2596b9e444b21aab9d223a5ec4da4": {
     "model_module": "@jupyter-widgets/controls",
     "model_name": "HTMLModel",
     "state": {
      "_dom_classes": [],
      "_model_module": "@jupyter-widgets/controls",
      "_model_module_version": "1.5.0",
      "_model_name": "HTMLModel",
      "_view_count": null,
      "_view_module": "@jupyter-widgets/controls",
      "_view_module_version": "1.5.0",
      "_view_name": "HTMLView",
      "description": "",
      "description_tooltip": null,
      "layout": "IPY_MODEL_088e417f4fdb42f39b12f18b362d2547",
      "placeholder": "​",
      "style": "IPY_MODEL_a9176261a3de4607a9369d8234f89fb3",
      "value": " 633/633 [01:47&lt;00:00,  5.86it/s, loss=0.208, train_acc=0.969, val_acc=0.88, val_loss=0.447]"
     }
    },
    "7cbe5fefd5ce42cdb4af00ef99bc2f00": {
     "model_module": "@jupyter-widgets/controls",
     "model_name": "HBoxModel",
     "state": {
      "_dom_classes": [],
      "_model_module": "@jupyter-widgets/controls",
      "_model_module_version": "1.5.0",
      "_model_name": "HBoxModel",
      "_view_count": null,
      "_view_module": "@jupyter-widgets/controls",
      "_view_module_version": "1.5.0",
      "_view_name": "HBoxView",
      "box_style": "",
      "children": [
       "IPY_MODEL_2783d3157b4f4d8a95775f994b3ec026",
       "IPY_MODEL_a5357487dc1947599582c3db0eb768de"
      ],
      "layout": "IPY_MODEL_ed7f5335898946ccbc7a97131d2356ee"
     }
    },
    "85aa0139bce045eca251743ac732141d": {
     "model_module": "@jupyter-widgets/controls",
     "model_name": "ProgressStyleModel",
     "state": {
      "_model_module": "@jupyter-widgets/controls",
      "_model_module_version": "1.5.0",
      "_model_name": "ProgressStyleModel",
      "_view_count": null,
      "_view_module": "@jupyter-widgets/base",
      "_view_module_version": "1.2.0",
      "_view_name": "StyleView",
      "bar_color": null,
      "description_width": "initial"
     }
    },
    "860f0262a1d149f1948c8b2831903c79": {
     "model_module": "@jupyter-widgets/controls",
     "model_name": "HTMLModel",
     "state": {
      "_dom_classes": [],
      "_model_module": "@jupyter-widgets/controls",
      "_model_module_version": "1.5.0",
      "_model_name": "HTMLModel",
      "_view_count": null,
      "_view_module": "@jupyter-widgets/controls",
      "_view_module_version": "1.5.0",
      "_view_name": "HTMLView",
      "description": "",
      "description_tooltip": null,
      "layout": "IPY_MODEL_0aa961fafd6c4d148ece8a7f6c52b881",
      "placeholder": "​",
      "style": "IPY_MODEL_0fd06183ac6041c7a876432d7a2a4d8e",
      "value": " 633/633 [00:14&lt;00:00, 42.20it/s, loss=0.0812, train_acc=0.953, val_acc=0, val_loss=0]"
     }
    },
    "8fc0998a8c384c838b118e48deeadec4": {
     "model_module": "@jupyter-widgets/base",
     "model_name": "LayoutModel",
     "state": {
      "_model_module": "@jupyter-widgets/base",
      "_model_module_version": "1.2.0",
      "_model_name": "LayoutModel",
      "_view_count": null,
      "_view_module": "@jupyter-widgets/base",
      "_view_module_version": "1.2.0",
      "_view_name": "LayoutView",
      "align_content": null,
      "align_items": null,
      "align_self": null,
      "border": null,
      "bottom": null,
      "display": null,
      "flex": null,
      "flex_flow": null,
      "grid_area": null,
      "grid_auto_columns": null,
      "grid_auto_flow": null,
      "grid_auto_rows": null,
      "grid_column": null,
      "grid_gap": null,
      "grid_row": null,
      "grid_template_areas": null,
      "grid_template_columns": null,
      "grid_template_rows": null,
      "height": null,
      "justify_content": null,
      "justify_items": null,
      "left": null,
      "margin": null,
      "max_height": null,
      "max_width": null,
      "min_height": null,
      "min_width": null,
      "object_fit": null,
      "object_position": null,
      "order": null,
      "overflow": null,
      "overflow_x": null,
      "overflow_y": null,
      "padding": null,
      "right": null,
      "top": null,
      "visibility": null,
      "width": null
     }
    },
    "929e73dbfb5a44b8a3e47b5138f6274f": {
     "model_module": "@jupyter-widgets/base",
     "model_name": "LayoutModel",
     "state": {
      "_model_module": "@jupyter-widgets/base",
      "_model_module_version": "1.2.0",
      "_model_name": "LayoutModel",
      "_view_count": null,
      "_view_module": "@jupyter-widgets/base",
      "_view_module_version": "1.2.0",
      "_view_name": "LayoutView",
      "align_content": null,
      "align_items": null,
      "align_self": null,
      "border": null,
      "bottom": null,
      "display": null,
      "flex": null,
      "flex_flow": null,
      "grid_area": null,
      "grid_auto_columns": null,
      "grid_auto_flow": null,
      "grid_auto_rows": null,
      "grid_column": null,
      "grid_gap": null,
      "grid_row": null,
      "grid_template_areas": null,
      "grid_template_columns": null,
      "grid_template_rows": null,
      "height": null,
      "justify_content": null,
      "justify_items": null,
      "left": null,
      "margin": null,
      "max_height": null,
      "max_width": null,
      "min_height": null,
      "min_width": null,
      "object_fit": null,
      "object_position": null,
      "order": null,
      "overflow": null,
      "overflow_x": null,
      "overflow_y": null,
      "padding": null,
      "right": null,
      "top": null,
      "visibility": null,
      "width": null
     }
    },
    "a5357487dc1947599582c3db0eb768de": {
     "model_module": "@jupyter-widgets/controls",
     "model_name": "HTMLModel",
     "state": {
      "_dom_classes": [],
      "_model_module": "@jupyter-widgets/controls",
      "_model_module_version": "1.5.0",
      "_model_name": "HTMLModel",
      "_view_count": null,
      "_view_module": "@jupyter-widgets/controls",
      "_view_module_version": "1.5.0",
      "_view_name": "HTMLView",
      "description": "",
      "description_tooltip": null,
      "layout": "IPY_MODEL_29f5be331cd3400f83a7b4a520878a0a",
      "placeholder": "​",
      "style": "IPY_MODEL_17539fe2fcf34716b45e727c12f5db5d",
      "value": " 633/633 [00:14&lt;00:00, 42.46it/s, loss=0.276, train_acc=0.938, val_acc=0, val_loss=0]"
     }
    },
    "a61c1e5e27cc496687ade96cb7fd2a68": {
     "model_module": "@jupyter-widgets/controls",
     "model_name": "HBoxModel",
     "state": {
      "_dom_classes": [],
      "_model_module": "@jupyter-widgets/controls",
      "_model_module_version": "1.5.0",
      "_model_name": "HBoxModel",
      "_view_count": null,
      "_view_module": "@jupyter-widgets/controls",
      "_view_module_version": "1.5.0",
      "_view_name": "HBoxView",
      "box_style": "",
      "children": [
       "IPY_MODEL_5158b391423a498f9c182ac60311536f",
       "IPY_MODEL_860f0262a1d149f1948c8b2831903c79"
      ],
      "layout": "IPY_MODEL_475d1216b1e541448800c8698e1dff46"
     }
    },
    "a7d180e9bcf447bba113369617cf388f": {
     "model_module": "@jupyter-widgets/controls",
     "model_name": "DescriptionStyleModel",
     "state": {
      "_model_module": "@jupyter-widgets/controls",
      "_model_module_version": "1.5.0",
      "_model_name": "DescriptionStyleModel",
      "_view_count": null,
      "_view_module": "@jupyter-widgets/base",
      "_view_module_version": "1.2.0",
      "_view_name": "StyleView",
      "description_width": ""
     }
    },
    "a9176261a3de4607a9369d8234f89fb3": {
     "model_module": "@jupyter-widgets/controls",
     "model_name": "DescriptionStyleModel",
     "state": {
      "_model_module": "@jupyter-widgets/controls",
      "_model_module_version": "1.5.0",
      "_model_name": "DescriptionStyleModel",
      "_view_count": null,
      "_view_module": "@jupyter-widgets/base",
      "_view_module_version": "1.2.0",
      "_view_name": "StyleView",
      "description_width": ""
     }
    },
    "abb8bc6e54ed421c9d81190e74d344b6": {
     "model_module": "@jupyter-widgets/base",
     "model_name": "LayoutModel",
     "state": {
      "_model_module": "@jupyter-widgets/base",
      "_model_module_version": "1.2.0",
      "_model_name": "LayoutModel",
      "_view_count": null,
      "_view_module": "@jupyter-widgets/base",
      "_view_module_version": "1.2.0",
      "_view_name": "LayoutView",
      "align_content": null,
      "align_items": null,
      "align_self": null,
      "border": null,
      "bottom": null,
      "display": null,
      "flex": null,
      "flex_flow": null,
      "grid_area": null,
      "grid_auto_columns": null,
      "grid_auto_flow": null,
      "grid_auto_rows": null,
      "grid_column": null,
      "grid_gap": null,
      "grid_row": null,
      "grid_template_areas": null,
      "grid_template_columns": null,
      "grid_template_rows": null,
      "height": null,
      "justify_content": null,
      "justify_items": null,
      "left": null,
      "margin": null,
      "max_height": null,
      "max_width": null,
      "min_height": null,
      "min_width": null,
      "object_fit": null,
      "object_position": null,
      "order": null,
      "overflow": null,
      "overflow_x": null,
      "overflow_y": null,
      "padding": null,
      "right": null,
      "top": null,
      "visibility": null,
      "width": null
     }
    },
    "b116c235dd41463cb546bc8a82b13773": {
     "model_module": "@jupyter-widgets/base",
     "model_name": "LayoutModel",
     "state": {
      "_model_module": "@jupyter-widgets/base",
      "_model_module_version": "1.2.0",
      "_model_name": "LayoutModel",
      "_view_count": null,
      "_view_module": "@jupyter-widgets/base",
      "_view_module_version": "1.2.0",
      "_view_name": "LayoutView",
      "align_content": null,
      "align_items": null,
      "align_self": null,
      "border": null,
      "bottom": null,
      "display": null,
      "flex": null,
      "flex_flow": null,
      "grid_area": null,
      "grid_auto_columns": null,
      "grid_auto_flow": null,
      "grid_auto_rows": null,
      "grid_column": null,
      "grid_gap": null,
      "grid_row": null,
      "grid_template_areas": null,
      "grid_template_columns": null,
      "grid_template_rows": null,
      "height": null,
      "justify_content": null,
      "justify_items": null,
      "left": null,
      "margin": null,
      "max_height": null,
      "max_width": null,
      "min_height": null,
      "min_width": null,
      "object_fit": null,
      "object_position": null,
      "order": null,
      "overflow": null,
      "overflow_x": null,
      "overflow_y": null,
      "padding": null,
      "right": null,
      "top": null,
      "visibility": null,
      "width": null
     }
    },
    "bbc632f37c6e47599e64c10b162e486a": {
     "model_module": "@jupyter-widgets/base",
     "model_name": "LayoutModel",
     "state": {
      "_model_module": "@jupyter-widgets/base",
      "_model_module_version": "1.2.0",
      "_model_name": "LayoutModel",
      "_view_count": null,
      "_view_module": "@jupyter-widgets/base",
      "_view_module_version": "1.2.0",
      "_view_name": "LayoutView",
      "align_content": null,
      "align_items": null,
      "align_self": null,
      "border": null,
      "bottom": null,
      "display": null,
      "flex": null,
      "flex_flow": null,
      "grid_area": null,
      "grid_auto_columns": null,
      "grid_auto_flow": null,
      "grid_auto_rows": null,
      "grid_column": null,
      "grid_gap": null,
      "grid_row": null,
      "grid_template_areas": null,
      "grid_template_columns": null,
      "grid_template_rows": null,
      "height": null,
      "justify_content": null,
      "justify_items": null,
      "left": null,
      "margin": null,
      "max_height": null,
      "max_width": null,
      "min_height": null,
      "min_width": null,
      "object_fit": null,
      "object_position": null,
      "order": null,
      "overflow": null,
      "overflow_x": null,
      "overflow_y": null,
      "padding": null,
      "right": null,
      "top": null,
      "visibility": null,
      "width": null
     }
    },
    "c616c1a956be46b48f282309fcc9225d": {
     "model_module": "@jupyter-widgets/base",
     "model_name": "LayoutModel",
     "state": {
      "_model_module": "@jupyter-widgets/base",
      "_model_module_version": "1.2.0",
      "_model_name": "LayoutModel",
      "_view_count": null,
      "_view_module": "@jupyter-widgets/base",
      "_view_module_version": "1.2.0",
      "_view_name": "LayoutView",
      "align_content": null,
      "align_items": null,
      "align_self": null,
      "border": null,
      "bottom": null,
      "display": null,
      "flex": null,
      "flex_flow": null,
      "grid_area": null,
      "grid_auto_columns": null,
      "grid_auto_flow": null,
      "grid_auto_rows": null,
      "grid_column": null,
      "grid_gap": null,
      "grid_row": null,
      "grid_template_areas": null,
      "grid_template_columns": null,
      "grid_template_rows": null,
      "height": null,
      "justify_content": null,
      "justify_items": null,
      "left": null,
      "margin": null,
      "max_height": null,
      "max_width": null,
      "min_height": null,
      "min_width": null,
      "object_fit": null,
      "object_position": null,
      "order": null,
      "overflow": null,
      "overflow_x": null,
      "overflow_y": null,
      "padding": null,
      "right": null,
      "top": null,
      "visibility": null,
      "width": null
     }
    },
    "cec333201dce429ea09f7b3a65b926d1": {
     "model_module": "@jupyter-widgets/controls",
     "model_name": "FloatProgressModel",
     "state": {
      "_dom_classes": [],
      "_model_module": "@jupyter-widgets/controls",
      "_model_module_version": "1.5.0",
      "_model_name": "FloatProgressModel",
      "_view_count": null,
      "_view_module": "@jupyter-widgets/controls",
      "_view_module_version": "1.5.0",
      "_view_name": "ProgressView",
      "bar_style": "success",
      "description": "Epoch [4/5]: 100%",
      "description_tooltip": null,
      "layout": "IPY_MODEL_3c48a6374422408a915f091e64398275",
      "max": 633,
      "min": 0,
      "orientation": "horizontal",
      "style": "IPY_MODEL_04041ffb9bf14a438125dcc13a5bef33",
      "value": 633
     }
    },
    "dc5d8eadb5354989a8e46f27572e7066": {
     "model_module": "@jupyter-widgets/controls",
     "model_name": "FloatProgressModel",
     "state": {
      "_dom_classes": [],
      "_model_module": "@jupyter-widgets/controls",
      "_model_module_version": "1.5.0",
      "_model_name": "FloatProgressModel",
      "_view_count": null,
      "_view_module": "@jupyter-widgets/controls",
      "_view_module_version": "1.5.0",
      "_view_name": "ProgressView",
      "bar_style": "success",
      "description": "Epoch [2/5]: 100%",
      "description_tooltip": null,
      "layout": "IPY_MODEL_e981bcea49c645aaa93e4e3143132986",
      "max": 633,
      "min": 0,
      "orientation": "horizontal",
      "style": "IPY_MODEL_359cf0c0010d48febf2347b11b9b5b02",
      "value": 633
     }
    },
    "e981bcea49c645aaa93e4e3143132986": {
     "model_module": "@jupyter-widgets/base",
     "model_name": "LayoutModel",
     "state": {
      "_model_module": "@jupyter-widgets/base",
      "_model_module_version": "1.2.0",
      "_model_name": "LayoutModel",
      "_view_count": null,
      "_view_module": "@jupyter-widgets/base",
      "_view_module_version": "1.2.0",
      "_view_name": "LayoutView",
      "align_content": null,
      "align_items": null,
      "align_self": null,
      "border": null,
      "bottom": null,
      "display": null,
      "flex": null,
      "flex_flow": null,
      "grid_area": null,
      "grid_auto_columns": null,
      "grid_auto_flow": null,
      "grid_auto_rows": null,
      "grid_column": null,
      "grid_gap": null,
      "grid_row": null,
      "grid_template_areas": null,
      "grid_template_columns": null,
      "grid_template_rows": null,
      "height": null,
      "justify_content": null,
      "justify_items": null,
      "left": null,
      "margin": null,
      "max_height": null,
      "max_width": null,
      "min_height": null,
      "min_width": null,
      "object_fit": null,
      "object_position": null,
      "order": null,
      "overflow": null,
      "overflow_x": null,
      "overflow_y": null,
      "padding": null,
      "right": null,
      "top": null,
      "visibility": null,
      "width": null
     }
    },
    "ed7f5335898946ccbc7a97131d2356ee": {
     "model_module": "@jupyter-widgets/base",
     "model_name": "LayoutModel",
     "state": {
      "_model_module": "@jupyter-widgets/base",
      "_model_module_version": "1.2.0",
      "_model_name": "LayoutModel",
      "_view_count": null,
      "_view_module": "@jupyter-widgets/base",
      "_view_module_version": "1.2.0",
      "_view_name": "LayoutView",
      "align_content": null,
      "align_items": null,
      "align_self": null,
      "border": null,
      "bottom": null,
      "display": null,
      "flex": null,
      "flex_flow": null,
      "grid_area": null,
      "grid_auto_columns": null,
      "grid_auto_flow": null,
      "grid_auto_rows": null,
      "grid_column": null,
      "grid_gap": null,
      "grid_row": null,
      "grid_template_areas": null,
      "grid_template_columns": null,
      "grid_template_rows": null,
      "height": null,
      "justify_content": null,
      "justify_items": null,
      "left": null,
      "margin": null,
      "max_height": null,
      "max_width": null,
      "min_height": null,
      "min_width": null,
      "object_fit": null,
      "object_position": null,
      "order": null,
      "overflow": null,
      "overflow_x": null,
      "overflow_y": null,
      "padding": null,
      "right": null,
      "top": null,
      "visibility": null,
      "width": null
     }
    },
    "f4cb7676671240ff94a0b4a1b62ec9f0": {
     "model_module": "@jupyter-widgets/controls",
     "model_name": "ProgressStyleModel",
     "state": {
      "_model_module": "@jupyter-widgets/controls",
      "_model_module_version": "1.5.0",
      "_model_name": "ProgressStyleModel",
      "_view_count": null,
      "_view_module": "@jupyter-widgets/base",
      "_view_module_version": "1.2.0",
      "_view_name": "StyleView",
      "bar_color": null,
      "description_width": "initial"
     }
    },
    "fcd1ea7f8434451b9eef8bfec1167f0e": {
     "model_module": "@jupyter-widgets/controls",
     "model_name": "FloatProgressModel",
     "state": {
      "_dom_classes": [],
      "_model_module": "@jupyter-widgets/controls",
      "_model_module_version": "1.5.0",
      "_model_name": "FloatProgressModel",
      "_view_count": null,
      "_view_module": "@jupyter-widgets/controls",
      "_view_module_version": "1.5.0",
      "_view_name": "ProgressView",
      "bar_style": "success",
      "description": "Epoch [1/5]: 100%",
      "description_tooltip": null,
      "layout": "IPY_MODEL_abb8bc6e54ed421c9d81190e74d344b6",
      "max": 633,
      "min": 0,
      "orientation": "horizontal",
      "style": "IPY_MODEL_85aa0139bce045eca251743ac732141d",
      "value": 633
     }
    }
   }
  }
 },
 "nbformat": 4,
 "nbformat_minor": 4
}
